{
 "cells": [
  {
   "cell_type": "markdown",
   "metadata": {},
   "source": [
    "# CHAPTER 3\n",
    "# Built-in Data Structures, Functions, and Files"
   ]
  },
  {
   "cell_type": "markdown",
   "metadata": {},
   "source": [
    "## Data Structures and Sequences"
   ]
  },
  {
   "cell_type": "markdown",
   "metadata": {},
   "source": [
    "### Tuple\n",
    "- **Tuple** = fixed-length, immutable sequence of Python objects.\n",
    "- Simple tuples can be created as a comma-separated sequence of values.\n",
    "- More complex tuples will require to enclose the values in parentheses.\n",
    "- You can convert any sequence or iterator to a tuple by invoking the **tuple** function.\n",
    "- Elements can be accessed with square brackets [] as with most other sequence types.\n",
    "- While the objects stored in a tuple may be mutable themselves, once the tuple is created it’s not possible to modify which object is stored in each slot.\n",
    "- You can concatenate tuples using the + operator to produce longer tuples.\n",
    "- Multiplying a tuple by an integer, as with lists, has the effect of concatenating together that many copies of the tuple."
   ]
  },
  {
   "cell_type": "code",
   "execution_count": 2,
   "metadata": {
    "ExecuteTime": {
     "end_time": "2020-11-10T16:02:39.011764Z",
     "start_time": "2020-11-10T16:02:38.999801Z"
    }
   },
   "outputs": [
    {
     "data": {
      "text/plain": [
       "(4, 5, 6)"
      ]
     },
     "execution_count": 2,
     "metadata": {},
     "output_type": "execute_result"
    }
   ],
   "source": [
    "# Define a simple tuple as a comma-separated sequence of values\n",
    "\n",
    "tup = 4, 5, 6\n",
    "tup"
   ]
  },
  {
   "cell_type": "code",
   "execution_count": 3,
   "metadata": {
    "ExecuteTime": {
     "end_time": "2020-11-10T16:04:29.684758Z",
     "start_time": "2020-11-10T16:04:29.675781Z"
    }
   },
   "outputs": [
    {
     "data": {
      "text/plain": [
       "tuple"
      ]
     },
     "execution_count": 3,
     "metadata": {},
     "output_type": "execute_result"
    }
   ],
   "source": [
    "# Check the type of the above defined python object\n",
    "\n",
    "type(tup)"
   ]
  },
  {
   "cell_type": "code",
   "execution_count": 1,
   "metadata": {
    "ExecuteTime": {
     "end_time": "2020-11-10T16:07:48.686810Z",
     "start_time": "2020-11-10T16:07:48.674871Z"
    }
   },
   "outputs": [
    {
     "data": {
      "text/plain": [
       "((4, 5, 6), (7, 8))"
      ]
     },
     "execution_count": 1,
     "metadata": {},
     "output_type": "execute_result"
    }
   ],
   "source": [
    "# Define a more complex nested tuple containing 2 tuples of different sizes\n",
    "\n",
    "nested_tup = (4, 5, 6), (7, 8)\n",
    "nested_tup"
   ]
  },
  {
   "cell_type": "code",
   "execution_count": 3,
   "metadata": {
    "ExecuteTime": {
     "end_time": "2020-11-10T16:10:09.595072Z",
     "start_time": "2020-11-10T16:10:09.579115Z"
    },
    "scrolled": true
   },
   "outputs": [
    {
     "data": {
      "text/plain": [
       "list"
      ]
     },
     "execution_count": 3,
     "metadata": {},
     "output_type": "execute_result"
    }
   ],
   "source": [
    "# Define a list\n",
    "\n",
    "my_list = [4, 0, 2]\n",
    "type(my_list)"
   ]
  },
  {
   "cell_type": "code",
   "execution_count": 4,
   "metadata": {
    "ExecuteTime": {
     "end_time": "2020-11-10T16:10:48.116359Z",
     "start_time": "2020-11-10T16:10:48.106387Z"
    }
   },
   "outputs": [
    {
     "data": {
      "text/plain": [
       "(4, 0, 2)"
      ]
     },
     "execution_count": 4,
     "metadata": {},
     "output_type": "execute_result"
    }
   ],
   "source": [
    "# Convert my_list to a tuple\n",
    "\n",
    "tuple(my_list)"
   ]
  },
  {
   "cell_type": "markdown",
   "metadata": {},
   "source": [
    "**REMEMBER**: Strings are a sequence of Unicode characters and therefore can be treated like other sequences."
   ]
  },
  {
   "cell_type": "code",
   "execution_count": 1,
   "metadata": {
    "ExecuteTime": {
     "end_time": "2020-11-10T16:15:53.482481Z",
     "start_time": "2020-11-10T16:15:53.472508Z"
    }
   },
   "outputs": [
    {
     "data": {
      "text/plain": [
       "('p', 'y', 't', 'h', 'o', 'n')"
      ]
     },
     "execution_count": 1,
     "metadata": {},
     "output_type": "execute_result"
    }
   ],
   "source": [
    "# Convert a string to a tuple\n",
    "\n",
    "tup = tuple('python')\n",
    "tup"
   ]
  },
  {
   "cell_type": "markdown",
   "metadata": {},
   "source": [
    "**REMEMBER**: Sequences are 0-indexed in Python."
   ]
  },
  {
   "cell_type": "code",
   "execution_count": 2,
   "metadata": {
    "ExecuteTime": {
     "end_time": "2020-11-10T16:17:31.179975Z",
     "start_time": "2020-11-10T16:17:31.175951Z"
    }
   },
   "outputs": [
    {
     "data": {
      "text/plain": [
       "'p'"
      ]
     },
     "execution_count": 2,
     "metadata": {},
     "output_type": "execute_result"
    }
   ],
   "source": [
    "# Check the first elemnet in tup\n",
    "\n",
    "tup[0]"
   ]
  },
  {
   "cell_type": "code",
   "execution_count": 4,
   "metadata": {
    "ExecuteTime": {
     "end_time": "2020-11-10T16:26:29.496342Z",
     "start_time": "2020-11-10T16:26:29.486403Z"
    }
   },
   "outputs": [
    {
     "data": {
      "text/plain": [
       "('foo', [1, 2], True)"
      ]
     },
     "execution_count": 4,
     "metadata": {},
     "output_type": "execute_result"
    }
   ],
   "source": [
    "# Define another tuple by converting a list to a tuple\n",
    "\n",
    "tup = tuple(['foo', [1, 2], True])\n",
    "tup"
   ]
  },
  {
   "cell_type": "code",
   "execution_count": 5,
   "metadata": {
    "ExecuteTime": {
     "end_time": "2020-11-10T16:27:14.351860Z",
     "start_time": "2020-11-10T16:27:14.285012Z"
    }
   },
   "outputs": [
    {
     "ename": "TypeError",
     "evalue": "'tuple' object does not support item assignment",
     "output_type": "error",
     "traceback": [
      "\u001b[1;31m---------------------------------------------------------------------------\u001b[0m",
      "\u001b[1;31mTypeError\u001b[0m                                 Traceback (most recent call last)",
      "\u001b[1;32m<ipython-input-5-f634feee1a0c>\u001b[0m in \u001b[0;36m<module>\u001b[1;34m\u001b[0m\n\u001b[0;32m      1\u001b[0m \u001b[1;31m# Try to change the value of the tuple at tup[2]\u001b[0m\u001b[1;33m\u001b[0m\u001b[1;33m\u001b[0m\u001b[1;33m\u001b[0m\u001b[0m\n\u001b[1;32m----> 2\u001b[1;33m \u001b[0mtup\u001b[0m\u001b[1;33m[\u001b[0m\u001b[1;36m2\u001b[0m\u001b[1;33m]\u001b[0m \u001b[1;33m=\u001b[0m \u001b[1;32mFalse\u001b[0m\u001b[1;33m\u001b[0m\u001b[1;33m\u001b[0m\u001b[0m\n\u001b[0m",
      "\u001b[1;31mTypeError\u001b[0m: 'tuple' object does not support item assignment"
     ]
    }
   ],
   "source": [
    "# Try to change the value of the tuple at tup[2] - you will get an error\n",
    "\n",
    "tup[2] = False"
   ]
  },
  {
   "cell_type": "code",
   "execution_count": 6,
   "metadata": {
    "ExecuteTime": {
     "end_time": "2020-11-10T16:28:22.801023Z",
     "start_time": "2020-11-10T16:28:22.785897Z"
    }
   },
   "outputs": [
    {
     "data": {
      "text/plain": [
       "('foo', [1, 2, 3], True)"
      ]
     },
     "execution_count": 6,
     "metadata": {},
     "output_type": "execute_result"
    }
   ],
   "source": [
    "# If an object inside a tuple is mutable, such as a list, you can modify it in-place\n",
    "\n",
    "tup[1].append(3)\n",
    "tup"
   ]
  },
  {
   "cell_type": "code",
   "execution_count": 15,
   "metadata": {
    "ExecuteTime": {
     "end_time": "2020-11-10T16:34:58.767186Z",
     "start_time": "2020-11-10T16:34:58.748924Z"
    }
   },
   "outputs": [
    {
     "data": {
      "text/plain": [
       "str"
      ]
     },
     "execution_count": 15,
     "metadata": {},
     "output_type": "execute_result"
    }
   ],
   "source": [
    "# If you define a tuple that contains a single object you need to add , after it\n",
    "\n",
    "test_tuple = ('bar')\n",
    "type(test_tuple)\n",
    "\n",
    "#test_tuple = ('bar',)\n",
    "#type(test_tuple)"
   ]
  },
  {
   "cell_type": "code",
   "execution_count": 8,
   "metadata": {
    "ExecuteTime": {
     "end_time": "2020-11-10T16:31:53.211549Z",
     "start_time": "2020-11-10T16:31:53.203568Z"
    }
   },
   "outputs": [
    {
     "data": {
      "text/plain": [
       "(4, None, 'foo', 6, 0, 'bar')"
      ]
     },
     "execution_count": 8,
     "metadata": {},
     "output_type": "execute_result"
    }
   ],
   "source": [
    "# Concatenate tuples using the + operator\n",
    "(4, None, 'foo') + (6, 0) + ('bar',)"
   ]
  },
  {
   "cell_type": "code",
   "execution_count": 16,
   "metadata": {
    "ExecuteTime": {
     "end_time": "2020-11-10T16:35:19.308553Z",
     "start_time": "2020-11-10T16:35:19.286482Z"
    }
   },
   "outputs": [
    {
     "data": {
      "text/plain": [
       "('foo', 'bar', 'foo', 'bar', 'foo', 'bar', 'foo', 'bar')"
      ]
     },
     "execution_count": 16,
     "metadata": {},
     "output_type": "execute_result"
    }
   ],
   "source": [
    "# Multiplying a tuple by an integer\n",
    "\n",
    "('foo', 'bar') * 4"
   ]
  },
  {
   "cell_type": "markdown",
   "metadata": {},
   "source": [
    "#### Upacking tuples\n",
    "- If you try to assign to a tuple-like expression of variables, Python will attempt to unpack the value on the righthand side of the equals sign.\n",
    "- Even sequences with nested tuples can be unpacked.\n",
    "- Using this functionality you can easily swap variable names.\n",
    "- A common use of variable unpacking is iterating over sequences of tuples or lists.\n",
    "- Another common use is returning multiple values from a function. (covered later in the book)\n",
    "- You can use the * **rest** syntax to pluck a few elements from the beginning of a tuple.\n",
    "- This **rest** bit is sometimes something you want to discard & is nothing special about the **rest** name.\n",
    "- Many Python programmers will use the underscore (_) for unwanted variables.\n",
    "        a, b, *_ = values"
   ]
  },
  {
   "cell_type": "code",
   "execution_count": 17,
   "metadata": {
    "ExecuteTime": {
     "end_time": "2020-11-10T16:51:41.264498Z",
     "start_time": "2020-11-10T16:51:41.250536Z"
    }
   },
   "outputs": [
    {
     "name": "stdout",
     "output_type": "stream",
     "text": [
      "4 5 6\n"
     ]
    }
   ],
   "source": [
    "# Assign to a tuple-like expresion of variables\n",
    "\n",
    "tup = (4, 5, 6)\n",
    "a, b, c = (4, 5, 6)\n",
    "print(a, b, c)"
   ]
  },
  {
   "cell_type": "code",
   "execution_count": 18,
   "metadata": {
    "ExecuteTime": {
     "end_time": "2020-11-10T16:53:20.322484Z",
     "start_time": "2020-11-10T16:53:20.304565Z"
    }
   },
   "outputs": [
    {
     "data": {
      "text/plain": [
       "7"
      ]
     },
     "execution_count": 18,
     "metadata": {},
     "output_type": "execute_result"
    }
   ],
   "source": [
    "# Unpack nested tuples\n",
    "\n",
    "tup = 4, 5, (6, 7)\n",
    "a, b, (c, d) = tup\n",
    "d"
   ]
  },
  {
   "cell_type": "code",
   "execution_count": 19,
   "metadata": {
    "ExecuteTime": {
     "end_time": "2020-11-10T16:54:23.318420Z",
     "start_time": "2020-11-10T16:54:23.312475Z"
    }
   },
   "outputs": [
    {
     "name": "stdout",
     "output_type": "stream",
     "text": [
      "1 2\n",
      "2 1\n"
     ]
    }
   ],
   "source": [
    "# Swap variables name\n",
    "\n",
    "a, b = 1, 2\n",
    "print(a, b)\n",
    "\n",
    "b, a = a, b\n",
    "print(a, b)"
   ]
  },
  {
   "cell_type": "code",
   "execution_count": 20,
   "metadata": {
    "ExecuteTime": {
     "end_time": "2020-11-10T17:12:12.996935Z",
     "start_time": "2020-11-10T17:12:12.980010Z"
    }
   },
   "outputs": [
    {
     "name": "stdout",
     "output_type": "stream",
     "text": [
      "a=1, b=2, c=3\n",
      "a=4, b=5, c=6\n",
      "a=7, b=8, c=9\n"
     ]
    }
   ],
   "source": [
    "# Iterating over a list of tuples\n",
    "\n",
    "seq = [(1, 2, 3), (4, 5, 6), (7, 8, 9)]\n",
    "\n",
    "for a, b, c in seq:\n",
    "    print('a={0}, b={1}, c={2}'.format(a, b, c))"
   ]
  },
  {
   "cell_type": "code",
   "execution_count": 30,
   "metadata": {
    "ExecuteTime": {
     "end_time": "2020-11-10T17:18:05.143365Z",
     "start_time": "2020-11-10T17:18:05.135385Z"
    }
   },
   "outputs": [
    {
     "name": "stdout",
     "output_type": "stream",
     "text": [
      "a = 1 b = 2 rest =  [3, 4, 5, 6]\n"
     ]
    }
   ],
   "source": [
    "# Using the special *rest syntax to select a few elements from a tuple\n",
    "\n",
    "values = 1, 2, 3, 4, 5, 6\n",
    "\n",
    "a,b, *rest = values\n",
    "print('a =',a, 'b =',b, 'rest = ', rest)"
   ]
  },
  {
   "cell_type": "markdown",
   "metadata": {},
   "source": [
    "#### Tuple methods\n",
    "- Since the size and contents of a tuple cannot be modified there are not so many tuple methods.\n",
    "- **count** = counts the number of occurrences of a value."
   ]
  },
  {
   "cell_type": "code",
   "execution_count": 31,
   "metadata": {
    "ExecuteTime": {
     "end_time": "2020-11-10T17:20:26.628925Z",
     "start_time": "2020-11-10T17:20:26.623932Z"
    }
   },
   "outputs": [
    {
     "data": {
      "text/plain": [
       "4"
      ]
     },
     "execution_count": 31,
     "metadata": {},
     "output_type": "execute_result"
    }
   ],
   "source": [
    "# Use the count method on a tuple\n",
    "\n",
    "tup = (1, 2, 2, 2, 3, 4, 2)\n",
    "tup.count(2)"
   ]
  },
  {
   "cell_type": "markdown",
   "metadata": {},
   "source": [
    "**REMEMBER**: You can use tab completion in jupyter notebooks to check for available methods for a tuple."
   ]
  },
  {
   "cell_type": "code",
   "execution_count": 35,
   "metadata": {
    "ExecuteTime": {
     "end_time": "2020-11-10T17:21:18.636546Z",
     "start_time": "2020-11-10T17:21:18.603017Z"
    }
   },
   "outputs": [],
   "source": [
    "# Tab completion tuple methods\n",
    "\n",
    "tup."
   ]
  },
  {
   "cell_type": "markdown",
   "metadata": {},
   "source": [
    "### List\n",
    "- Lists are variable-length and their contents can be modified in-place.\n",
    "- You can define them using square brackets [] or using the **list** type function.\n",
    "- You can convert a tuple to a list using the **list** function.\n",
    "- The **list** function is used in data processing as a way to materialize an iterator or generator expression."
   ]
  },
  {
   "cell_type": "code",
   "execution_count": 2,
   "metadata": {
    "ExecuteTime": {
     "end_time": "2020-11-11T07:34:11.372017Z",
     "start_time": "2020-11-11T07:34:11.358063Z"
    }
   },
   "outputs": [
    {
     "data": {
      "text/plain": [
       "[2, 3, 7, None]"
      ]
     },
     "execution_count": 2,
     "metadata": {},
     "output_type": "execute_result"
    }
   ],
   "source": [
    "# Define a list using [] brackets\n",
    "\n",
    "a_list = [2, 3, 7, None]\n",
    "a_list"
   ]
  },
  {
   "cell_type": "code",
   "execution_count": 3,
   "metadata": {
    "ExecuteTime": {
     "end_time": "2020-11-11T07:34:47.523652Z",
     "start_time": "2020-11-11T07:34:47.508691Z"
    }
   },
   "outputs": [
    {
     "data": {
      "text/plain": [
       "['foo', 'bar', 'baz']"
      ]
     },
     "execution_count": 3,
     "metadata": {},
     "output_type": "execute_result"
    }
   ],
   "source": [
    "# Convert a tuple to a list\n",
    "\n",
    "tup = ('foo', 'bar', 'baz')\n",
    "b_list = list(tup)\n",
    "b_list"
   ]
  },
  {
   "cell_type": "code",
   "execution_count": 4,
   "metadata": {
    "ExecuteTime": {
     "end_time": "2020-11-11T07:35:29.243564Z",
     "start_time": "2020-11-11T07:35:29.224589Z"
    }
   },
   "outputs": [
    {
     "data": {
      "text/plain": [
       "['foo', 'peekaboo', 'baz']"
      ]
     },
     "execution_count": 4,
     "metadata": {},
     "output_type": "execute_result"
    }
   ],
   "source": [
    "# Modify an elemnt of b_list\n",
    "\n",
    "b_list[1] = 'peekaboo'\n",
    "b_list"
   ]
  },
  {
   "cell_type": "code",
   "execution_count": 6,
   "metadata": {
    "ExecuteTime": {
     "end_time": "2020-11-11T07:39:30.341253Z",
     "start_time": "2020-11-11T07:39:30.322316Z"
    }
   },
   "outputs": [
    {
     "data": {
      "text/plain": [
       "range(0, 10)"
      ]
     },
     "execution_count": 6,
     "metadata": {},
     "output_type": "execute_result"
    }
   ],
   "source": [
    "# Generate a sequence of integers using the range function\n",
    "\n",
    "gen = range(10)\n",
    "gen"
   ]
  },
  {
   "cell_type": "code",
   "execution_count": 9,
   "metadata": {
    "ExecuteTime": {
     "end_time": "2020-11-11T07:40:26.719919Z",
     "start_time": "2020-11-11T07:40:26.702962Z"
    }
   },
   "outputs": [
    {
     "data": {
      "text/plain": [
       "range"
      ]
     },
     "execution_count": 9,
     "metadata": {},
     "output_type": "execute_result"
    }
   ],
   "source": [
    "# Check the type of gen\n",
    "\n",
    "type(gen)"
   ]
  },
  {
   "cell_type": "code",
   "execution_count": 10,
   "metadata": {
    "ExecuteTime": {
     "end_time": "2020-11-11T07:40:56.047145Z",
     "start_time": "2020-11-11T07:40:56.030220Z"
    }
   },
   "outputs": [
    {
     "data": {
      "text/plain": [
       "[0, 1, 2, 3, 4, 5, 6, 7, 8, 9]"
      ]
     },
     "execution_count": 10,
     "metadata": {},
     "output_type": "execute_result"
    }
   ],
   "source": [
    "# Convert the type range to a list\n",
    "\n",
    "list(gen)"
   ]
  },
  {
   "cell_type": "markdown",
   "metadata": {},
   "source": [
    "#### Adding and removing elements\n",
    "- Elements can be appended to the end of the list with the **append** method.\n",
    "- Using **insert** you can insert an element at a specific location in the list. The insertion index must be between 0 and the length of the list, inclusive.\n",
    "- **insert** is computationally expensive compared with **append**, because references to subsequent elements have to be shifted internally to make room for the new element.\n",
    "- If you need to insert elements at both the beginning and end of a sequence, you may wish to explore **collections.deque**. (https://docs.python.org/2/library/collections.html)\n",
    "- **pop** removes and returns an element at a particular index.\n",
    "- Elements can be removed by value with **remove**, which locates the first such value and removes it from the list.\n",
    "- Check if a list contains a value using the **in** keyword. The keyword **not** can be used to negate **in**.\n",
    "- Checking whether a list contains a value is a lot slower than doing so with dicts and sets as Python makes a linear scan across the values of the list, whereas it can check the others (based on hash tables) in constant time."
   ]
  },
  {
   "cell_type": "code",
   "execution_count": 12,
   "metadata": {
    "ExecuteTime": {
     "end_time": "2020-11-11T07:55:51.209441Z",
     "start_time": "2020-11-11T07:55:51.192521Z"
    }
   },
   "outputs": [
    {
     "data": {
      "text/plain": [
       "['foo', 'peekaboo', 'baz', 'dwarf']"
      ]
     },
     "execution_count": 12,
     "metadata": {},
     "output_type": "execute_result"
    }
   ],
   "source": [
    "# Append an element to a list\n",
    "\n",
    "b_list.append('dwarf')\n",
    "b_list"
   ]
  },
  {
   "cell_type": "code",
   "execution_count": 13,
   "metadata": {
    "ExecuteTime": {
     "end_time": "2020-11-11T07:56:40.408855Z",
     "start_time": "2020-11-11T07:56:40.399878Z"
    }
   },
   "outputs": [
    {
     "data": {
      "text/plain": [
       "['foo', 'red', 'peekaboo', 'baz', 'dwarf']"
      ]
     },
     "execution_count": 13,
     "metadata": {},
     "output_type": "execute_result"
    }
   ],
   "source": [
    "# Insert an element at a specific location in the list\n",
    "\n",
    "b_list.insert(1, 'red')\n",
    "b_list"
   ]
  },
  {
   "cell_type": "code",
   "execution_count": 14,
   "metadata": {
    "ExecuteTime": {
     "end_time": "2020-11-11T07:59:26.895610Z",
     "start_time": "2020-11-11T07:59:26.877688Z"
    }
   },
   "outputs": [
    {
     "data": {
      "text/plain": [
       "['foo', 'red', 'baz', 'dwarf']"
      ]
     },
     "execution_count": 14,
     "metadata": {},
     "output_type": "execute_result"
    }
   ],
   "source": [
    "# Use pop to remove an element at a certain location in the list\n",
    "\n",
    "b_list.pop(2)\n",
    "b_list"
   ]
  },
  {
   "cell_type": "code",
   "execution_count": 15,
   "metadata": {
    "ExecuteTime": {
     "end_time": "2020-11-11T08:01:45.070976Z",
     "start_time": "2020-11-11T08:01:45.054107Z"
    }
   },
   "outputs": [
    {
     "data": {
      "text/plain": [
       "['foo', 'red', 'baz', 'dwarf', 'foo']"
      ]
     },
     "execution_count": 15,
     "metadata": {},
     "output_type": "execute_result"
    }
   ],
   "source": [
    "# Append another element to the list\n",
    "\n",
    "b_list.append('foo')\n",
    "b_list"
   ]
  },
  {
   "cell_type": "code",
   "execution_count": 16,
   "metadata": {
    "ExecuteTime": {
     "end_time": "2020-11-11T08:02:17.645881Z",
     "start_time": "2020-11-11T08:02:17.632952Z"
    }
   },
   "outputs": [
    {
     "data": {
      "text/plain": [
       "['red', 'baz', 'dwarf', 'foo']"
      ]
     },
     "execution_count": 16,
     "metadata": {},
     "output_type": "execute_result"
    }
   ],
   "source": [
    "# Use remove to remove elements by value - only first element with that value is removed\n",
    "\n",
    "b_list.remove('foo')\n",
    "b_list"
   ]
  },
  {
   "cell_type": "code",
   "execution_count": 17,
   "metadata": {
    "ExecuteTime": {
     "end_time": "2020-11-11T08:03:28.055878Z",
     "start_time": "2020-11-11T08:03:28.048896Z"
    }
   },
   "outputs": [
    {
     "data": {
      "text/plain": [
       "True"
      ]
     },
     "execution_count": 17,
     "metadata": {},
     "output_type": "execute_result"
    }
   ],
   "source": [
    "# Check if a list contains a value\n",
    "\n",
    "'dwarf' in b_list"
   ]
  },
  {
   "cell_type": "code",
   "execution_count": 18,
   "metadata": {
    "ExecuteTime": {
     "end_time": "2020-11-11T08:03:54.615719Z",
     "start_time": "2020-11-11T08:03:54.597744Z"
    }
   },
   "outputs": [
    {
     "data": {
      "text/plain": [
       "False"
      ]
     },
     "execution_count": 18,
     "metadata": {},
     "output_type": "execute_result"
    }
   ],
   "source": [
    "# Check if a list does not contain a value\n",
    "\n",
    "'dwarf' not in b_list"
   ]
  },
  {
   "cell_type": "markdown",
   "metadata": {},
   "source": [
    "#### Concatenating and combining lists\n",
    "- You can use **+** operator to **concatenate** lists.\n",
    "- You can append multiple elements to it using the **extend** method.\n",
    "- Note that list **concatenation by addition** is a comparatively expensive operation since a new list must be created and the objects copied over. \n",
    "- Using **extend** to append elements to an existing list, especially if you are building up a large list, is usually preferable.\n",
    "        everything = []\n",
    "        for chunk in list_of_lists:\n",
    "            everything.extend(chunk)           --faster\n",
    "            #everything = everything + chunk   --slower"
   ]
  },
  {
   "cell_type": "code",
   "execution_count": 19,
   "metadata": {
    "ExecuteTime": {
     "end_time": "2020-11-11T08:08:01.518966Z",
     "start_time": "2020-11-11T08:08:01.508957Z"
    }
   },
   "outputs": [
    {
     "data": {
      "text/plain": [
       "[4, None, 'foo', 7, 8, (2, 3)]"
      ]
     },
     "execution_count": 19,
     "metadata": {},
     "output_type": "execute_result"
    }
   ],
   "source": [
    "# Concatenating lists using + operator\n",
    "\n",
    "[4, None, 'foo'] + [7, 8, (2, 3)]"
   ]
  },
  {
   "cell_type": "code",
   "execution_count": 20,
   "metadata": {
    "ExecuteTime": {
     "end_time": "2020-11-11T08:08:50.070723Z",
     "start_time": "2020-11-11T08:08:50.053768Z"
    }
   },
   "outputs": [
    {
     "data": {
      "text/plain": [
       "[4, None, 'foo', 7, 8, (2, 3)]"
      ]
     },
     "execution_count": 20,
     "metadata": {},
     "output_type": "execute_result"
    }
   ],
   "source": [
    "# Use extend method to append multiple elements to a list\n",
    "\n",
    "x = [4, None, 'foo']\n",
    "x.extend([7, 8, (2, 3)])\n",
    "x"
   ]
  },
  {
   "cell_type": "markdown",
   "metadata": {},
   "source": [
    "#### Sorting\n",
    "- You can sort a list in-place (without creating a new object) by calling its **sort** function.\n",
    "- **sort** has the ability to pass a secondary sort key, that produces a value to use to sort the objects.\n",
    "- For example, we could **sort** a collection of strings by their lengths."
   ]
  },
  {
   "cell_type": "code",
   "execution_count": 2,
   "metadata": {
    "ExecuteTime": {
     "end_time": "2020-11-11T15:39:19.438443Z",
     "start_time": "2020-11-11T15:39:19.433458Z"
    }
   },
   "outputs": [
    {
     "name": "stdout",
     "output_type": "stream",
     "text": [
      "[1, 2, 3, 5, 7]\n"
     ]
    }
   ],
   "source": [
    "# Sort a list of integers\n",
    "\n",
    "a = [7, 2, 5, 1, 3]\n",
    "a.sort()\n",
    "a"
   ]
  },
  {
   "cell_type": "code",
   "execution_count": 3,
   "metadata": {
    "ExecuteTime": {
     "end_time": "2020-11-11T15:40:07.483278Z",
     "start_time": "2020-11-11T15:40:07.462304Z"
    }
   },
   "outputs": [
    {
     "data": {
      "text/plain": [
       "['He', 'saw', 'six', 'small', 'foxes']"
      ]
     },
     "execution_count": 3,
     "metadata": {},
     "output_type": "execute_result"
    }
   ],
   "source": [
    "# Sort a collection of strings by their length\n",
    "\n",
    "b = ['saw', 'small', 'He', 'foxes', 'six']\n",
    "b.sort(key=len)\n",
    "b"
   ]
  },
  {
   "cell_type": "markdown",
   "metadata": {},
   "source": [
    "#### Binary search and maintaining a sorted list\n",
    "- The built-in **bisect** module implements binary search and insertion into a sorted list.\n",
    "- **bisect.bisect** finds the location where an element should be inserted to keep it sorted.\n",
    "- **bisect.insort** actually inserts the element into the location found by **bisect.bisect**.\n",
    "- The **bisect** module functions do not check whether the list is sorted.\n",
    "- Using the **bisect** module with an unsorted list will succeed without error but may lead to incorrect results."
   ]
  },
  {
   "cell_type": "code",
   "execution_count": 4,
   "metadata": {
    "ExecuteTime": {
     "end_time": "2020-11-11T15:44:04.472475Z",
     "start_time": "2020-11-11T15:44:04.456540Z"
    }
   },
   "outputs": [],
   "source": [
    "# Import the bisect module\n",
    "\n",
    "import bisect"
   ]
  },
  {
   "cell_type": "code",
   "execution_count": 14,
   "metadata": {
    "ExecuteTime": {
     "end_time": "2020-11-11T15:47:21.554157Z",
     "start_time": "2020-11-11T15:47:21.537234Z"
    }
   },
   "outputs": [
    {
     "data": {
      "text/plain": [
       "6"
      ]
     },
     "execution_count": 14,
     "metadata": {},
     "output_type": "execute_result"
    }
   ],
   "source": [
    "# Use bisect.bisect to find the location where the element 5 should be inserted in list c\n",
    "\n",
    "c = [1, 2, 2, 2, 3, 4, 7]\n",
    "bisect.bisect(c, 5)"
   ]
  },
  {
   "cell_type": "code",
   "execution_count": 16,
   "metadata": {
    "ExecuteTime": {
     "end_time": "2020-11-11T15:48:09.186697Z",
     "start_time": "2020-11-11T15:48:09.178695Z"
    }
   },
   "outputs": [
    {
     "data": {
      "text/plain": [
       "[1, 2, 2, 2, 3, 4, 5, 7]"
      ]
     },
     "execution_count": 16,
     "metadata": {},
     "output_type": "execute_result"
    }
   ],
   "source": [
    "# Use bisect.insort to insert the elemnt 5 at the location found by bisect.bisect\n",
    "\n",
    "bisect.insort(c, 5)\n",
    "c"
   ]
  },
  {
   "cell_type": "markdown",
   "metadata": {},
   "source": [
    "#### Slicing\n",
    "- You can select sections of most sequence types by using slice notation, which in its basic form consists of [**start:stop**].\n",
    "- The **start** index is included while the **stop** index is not: [1:4] means indexes from 1, 2, 3\n",
    "- Slices of a list can be assigned with a sequence.\n",
    "- Either the **start** or **stop** can be omitted, in which case they default to the start of the sequence and the end of the sequence, respectively.\n",
    "- **Negative** indices slice the sequence relative to the end.\n",
    "- A **step** can also be used after a second colon to, say, take every other element: [::2].\n",
    "- Using [::-1] has the effect of reversing a list or tuple."
   ]
  },
  {
   "cell_type": "code",
   "execution_count": 30,
   "metadata": {
    "ExecuteTime": {
     "end_time": "2020-11-11T16:08:46.390164Z",
     "start_time": "2020-11-11T16:08:46.374239Z"
    }
   },
   "outputs": [
    {
     "name": "stdout",
     "output_type": "stream",
     "text": [
      "['foo', 'peekaboo', 'python', 'red', 'dwarf']\n",
      "['peekaboo', 'python', 'red']\n"
     ]
    }
   ],
   "source": [
    "# Slicing a list using [start:stop]\n",
    "\n",
    "seq = ['foo', 'peekaboo', 'python', 'red', 'dwarf']\n",
    "print(seq)\n",
    "print(seq[1:4])"
   ]
  },
  {
   "cell_type": "code",
   "execution_count": 31,
   "metadata": {
    "ExecuteTime": {
     "end_time": "2020-11-11T16:08:56.454884Z",
     "start_time": "2020-11-11T16:08:56.436930Z"
    }
   },
   "outputs": [
    {
     "data": {
      "text/plain": [
       "['foo', 'peekaboo', 'python', 'green', 'black', 'dwarf']"
      ]
     },
     "execution_count": 31,
     "metadata": {},
     "output_type": "execute_result"
    }
   ],
   "source": [
    "# Assign a slice in a list with a sequence\n",
    "\n",
    "seq[3:4] = ['green', 'black']\n",
    "seq"
   ]
  },
  {
   "cell_type": "code",
   "execution_count": 32,
   "metadata": {
    "ExecuteTime": {
     "end_time": "2020-11-11T16:09:18.342115Z",
     "start_time": "2020-11-11T16:09:18.339155Z"
    }
   },
   "outputs": [
    {
     "name": "stdout",
     "output_type": "stream",
     "text": [
      "['foo', 'peekaboo', 'python', 'green', 'black', 'dwarf']\n",
      "['foo', 'peekaboo', 'python']\n"
     ]
    }
   ],
   "source": [
    "# Omit start to get everything from the beginning of the list till stop\n",
    "\n",
    "print(seq)\n",
    "print(seq[:3])"
   ]
  },
  {
   "cell_type": "code",
   "execution_count": 33,
   "metadata": {
    "ExecuteTime": {
     "end_time": "2020-11-11T16:09:24.077102Z",
     "start_time": "2020-11-11T16:09:24.069124Z"
    }
   },
   "outputs": [
    {
     "name": "stdout",
     "output_type": "stream",
     "text": [
      "['foo', 'peekaboo', 'python', 'green', 'black', 'dwarf']\n",
      "['black', 'dwarf']\n"
     ]
    }
   ],
   "source": [
    "# Omit stop to get everything from start till the end of the list\n",
    "\n",
    "print(seq)\n",
    "print(seq[4:])"
   ]
  },
  {
   "cell_type": "code",
   "execution_count": 34,
   "metadata": {
    "ExecuteTime": {
     "end_time": "2020-11-11T16:09:30.161990Z",
     "start_time": "2020-11-11T16:09:30.152017Z"
    }
   },
   "outputs": [
    {
     "name": "stdout",
     "output_type": "stream",
     "text": [
      "['foo', 'peekaboo', 'python', 'green', 'black', 'dwarf']\n",
      "['python', 'green']\n"
     ]
    }
   ],
   "source": [
    "# Use negative indices to slice relative to the end\n",
    "\n",
    "print(seq)\n",
    "print(seq[-4:-2])"
   ]
  },
  {
   "cell_type": "code",
   "execution_count": 29,
   "metadata": {
    "ExecuteTime": {
     "end_time": "2020-11-11T16:08:23.059840Z",
     "start_time": "2020-11-11T16:08:23.051862Z"
    },
    "scrolled": true
   },
   "outputs": [
    {
     "name": "stdout",
     "output_type": "stream",
     "text": [
      "['foo', 'peekaboo', 'python', 'green', 'black', 'dwarf']\n",
      "['foo', 'python', 'black']\n"
     ]
    }
   ],
   "source": [
    "# Use a step to take every other element\n",
    "print(seq)\n",
    "print(seq[::2])"
   ]
  },
  {
   "cell_type": "code",
   "execution_count": 36,
   "metadata": {
    "ExecuteTime": {
     "end_time": "2020-11-11T16:11:10.381406Z",
     "start_time": "2020-11-11T16:11:10.374394Z"
    }
   },
   "outputs": [
    {
     "name": "stdout",
     "output_type": "stream",
     "text": [
      "['foo', 'peekaboo', 'python', 'green', 'black', 'dwarf']\n",
      "['dwarf', 'black', 'green', 'python', 'peekaboo', 'foo']\n"
     ]
    }
   ],
   "source": [
    "# Use negative indices to reverse a list\n",
    "print(seq)\n",
    "print(seq[::-1])"
   ]
  },
  {
   "cell_type": "markdown",
   "metadata": {},
   "source": [
    "### Built-in Sequence Functions"
   ]
  },
  {
   "cell_type": "markdown",
   "metadata": {},
   "source": [
    "#### enumerate\n",
    "- Returns a sequence of (i, value) tuples\n",
    "- Used to keep track of the index of the current item when iterating over a sequence.\n",
    "- Do it yourself approach:\n",
    "        i = 0\n",
    "        for value in collection:\n",
    "            # do something with value\n",
    "            i += 1\n",
    "- Python built_in function **enumerate**:\n",
    "        for i, value in enumerate(collection):\n",
    "            # do something with value\n",
    "- When you are indexing data, a helpful pattern that uses **enumerate** is computing a **dict mapping** the values of a sequence (which are assumed to be unique) to their locations in the sequence."
   ]
  },
  {
   "cell_type": "code",
   "execution_count": 41,
   "metadata": {
    "ExecuteTime": {
     "end_time": "2020-11-11T16:25:16.979154Z",
     "start_time": "2020-11-11T16:25:16.965156Z"
    }
   },
   "outputs": [],
   "source": [
    "# Define a list called some_list & an empy dict called mapping\n",
    "\n",
    "some_list = ['foo', 'bar', 'baz']\n",
    "mapping = {}"
   ]
  },
  {
   "cell_type": "code",
   "execution_count": 43,
   "metadata": {
    "ExecuteTime": {
     "end_time": "2020-11-11T16:25:27.447740Z",
     "start_time": "2020-11-11T16:25:27.432745Z"
    }
   },
   "outputs": [
    {
     "data": {
      "text/plain": [
       "{'foo': 0, 'bar': 1, 'baz': 2}"
      ]
     },
     "execution_count": 43,
     "metadata": {},
     "output_type": "execute_result"
    }
   ],
   "source": [
    "# Use enumerate to map the values from some_list to their locations in the sequence\n",
    "\n",
    "for i, v in enumerate(some_list):\n",
    "    mapping[v] = i\n",
    "    \n",
    "mapping"
   ]
  },
  {
   "cell_type": "markdown",
   "metadata": {},
   "source": [
    "#### sorted\n",
    "- The **sorted** function returns a new sorted list from the elements of any sequence.\n",
    "- The **sorted** function accepts the same arguments as the **sort** method on lists."
   ]
  },
  {
   "cell_type": "code",
   "execution_count": 47,
   "metadata": {
    "ExecuteTime": {
     "end_time": "2020-11-11T16:27:24.328949Z",
     "start_time": "2020-11-11T16:27:24.316018Z"
    }
   },
   "outputs": [
    {
     "data": {
      "text/plain": [
       "[0, 1, 2, 2, 3, 6, 7]"
      ]
     },
     "execution_count": 47,
     "metadata": {},
     "output_type": "execute_result"
    }
   ],
   "source": [
    "# Sort a list of integers using sorted function\n",
    "\n",
    "sorted([7, 1, 2, 6, 0, 3, 2])"
   ]
  },
  {
   "cell_type": "markdown",
   "metadata": {},
   "source": [
    "#### zip\n",
    "- **zip** = “pairs” up the elements of a number of lists, tuples, or other sequences to create a list of tuples.\n",
    "- **zip** can take an arbitrary number of sequences, and the number of elements it produces is determined by the *shortest* sequence.\n",
    "- A very common use of **zip** is simultaneously iterating over multiple sequences, possibly also combined with **enumerate**.\n",
    "- Given a “zipped” sequence, **zip** can be applied to “unzip” the sequence.\n",
    "        zip(*my_list_of_tuples)"
   ]
  },
  {
   "cell_type": "code",
   "execution_count": 49,
   "metadata": {
    "ExecuteTime": {
     "end_time": "2020-11-11T16:32:44.325671Z",
     "start_time": "2020-11-11T16:32:44.314736Z"
    }
   },
   "outputs": [
    {
     "data": {
      "text/plain": [
       "[('foo', 'one'), ('bar', 'two'), ('baz', 'three')]"
      ]
     },
     "execution_count": 49,
     "metadata": {},
     "output_type": "execute_result"
    }
   ],
   "source": [
    "# Use zip to pair up the elemnts of 2 lists into a list of tuples\n",
    "\n",
    "seq1 = ['foo', 'bar', 'baz']\n",
    "seq2 = ['one', 'two', 'three']\n",
    "zipped = zip(seq1, seq2)\n",
    "list(zipped)"
   ]
  },
  {
   "cell_type": "code",
   "execution_count": 50,
   "metadata": {
    "ExecuteTime": {
     "end_time": "2020-11-11T16:33:52.426177Z",
     "start_time": "2020-11-11T16:33:52.421192Z"
    }
   },
   "outputs": [
    {
     "data": {
      "text/plain": [
       "[('foo', 'one', False), ('bar', 'two', True)]"
      ]
     },
     "execution_count": 50,
     "metadata": {},
     "output_type": "execute_result"
    }
   ],
   "source": [
    "# Add a 3rd list with only 2 elements and use zip with seq1, seq2, seq3\n",
    "\n",
    "seq3 = [False, True]\n",
    "list(zip(seq1, seq2, seq3))"
   ]
  },
  {
   "cell_type": "code",
   "execution_count": 51,
   "metadata": {
    "ExecuteTime": {
     "end_time": "2020-11-11T16:35:00.865812Z",
     "start_time": "2020-11-11T16:35:00.852845Z"
    }
   },
   "outputs": [
    {
     "name": "stdout",
     "output_type": "stream",
     "text": [
      "0: foo, one\n",
      "1: bar, two\n",
      "2: baz, three\n"
     ]
    }
   ],
   "source": [
    "# Iterate over multiple sequneces using zip & enumerate\n",
    "\n",
    "for i, (a, b) in enumerate(zip(seq1, seq2)):\n",
    "    print('{0}: {1}, {2}'.format(i, a, b))"
   ]
  },
  {
   "cell_type": "code",
   "execution_count": 52,
   "metadata": {
    "ExecuteTime": {
     "end_time": "2020-11-11T16:36:39.659135Z",
     "start_time": "2020-11-11T16:36:39.642218Z"
    }
   },
   "outputs": [
    {
     "name": "stdout",
     "output_type": "stream",
     "text": [
      "('Nolan', 'Roger', 'Schilling') ('Ryan', 'Clemens', 'Curt')\n"
     ]
    }
   ],
   "source": [
    "# \"Unzip\" a sequence\n",
    "\n",
    "pitchers = [('Nolan', 'Ryan'), ('Roger', 'Clemens'), ('Schilling', 'Curt')]\n",
    "first_names, last_names = zip(*pitchers)\n",
    "print(first_names, last_names)"
   ]
  },
  {
   "cell_type": "markdown",
   "metadata": {},
   "source": [
    "#### reversed\n",
    "- **reversed** iterates over the elements of a sequence in reverse order.\n",
    "- **reversed** is a **generator** (to be discussed in some more detail later), so it does not create the reversed sequence until materialized (e.g., with *list* or a *for loop*)."
   ]
  },
  {
   "cell_type": "code",
   "execution_count": 55,
   "metadata": {
    "ExecuteTime": {
     "end_time": "2020-11-11T16:39:03.170846Z",
     "start_time": "2020-11-11T16:39:03.158878Z"
    }
   },
   "outputs": [
    {
     "data": {
      "text/plain": [
       "[9, 8, 7, 6, 5, 4, 3, 2, 1, 0]"
      ]
     },
     "execution_count": 55,
     "metadata": {},
     "output_type": "execute_result"
    }
   ],
   "source": [
    "# Reversed function\n",
    "\n",
    "list(reversed(range(10)))"
   ]
  },
  {
   "cell_type": "markdown",
   "metadata": {},
   "source": [
    "### Dict\n",
    "- **dict** is likely the most important built-in Python data structure. \n",
    "- A more common name for it is **hash map** or **associative array**. \n",
    "- **dict** = a flexibly sized collection of *key-value* pairs, where key and value are Python objects. \n",
    "- You can create a **dict** using  curly braces {} and colons to separate keys and values.\n",
    "- You can access, insert, or set elements using the same syntax as for accessing elements of a **list** or **tuple** with square brackets [].\n",
    "- You can check if a **dict** contains a **key** using **in**.\n",
    "- You can delete values either using the **del** keyword or the **pop** method (which *simultaneously* returns the value and deletes the key).\n",
    "- The **keys** method and **values** method give you iterators of the dict’s keys and values, respectively. \n",
    "- While the key-value pairs are not in any particular order, these functions output the keys and values in the same order.\n",
    "- You can merge one dict into another using the **update** method, which changes dicts in-place, so any existing keys in the data passed to **update** will have their old values discarded."
   ]
  },
  {
   "cell_type": "code",
   "execution_count": 16,
   "metadata": {
    "ExecuteTime": {
     "end_time": "2020-11-13T08:08:50.613058Z",
     "start_time": "2020-11-13T08:08:50.595074Z"
    }
   },
   "outputs": [],
   "source": [
    "# Create an empty dict\n",
    "\n",
    "empty_dict = {}"
   ]
  },
  {
   "cell_type": "code",
   "execution_count": 17,
   "metadata": {
    "ExecuteTime": {
     "end_time": "2020-11-13T08:08:50.628504Z",
     "start_time": "2020-11-13T08:08:50.614056Z"
    }
   },
   "outputs": [
    {
     "data": {
      "text/plain": [
       "{'a': 'some value', 'b': [1, 2, 3, 4]}"
      ]
     },
     "execution_count": 17,
     "metadata": {},
     "output_type": "execute_result"
    }
   ],
   "source": [
    "# Define a dict with 2 key_value pairs\n",
    "\n",
    "dict1 = {'a' : 'some value', 'b' : [1, 2, 3, 4]}\n",
    "dict1"
   ]
  },
  {
   "cell_type": "code",
   "execution_count": 18,
   "metadata": {
    "ExecuteTime": {
     "end_time": "2020-11-13T08:08:50.644465Z",
     "start_time": "2020-11-13T08:08:50.630498Z"
    }
   },
   "outputs": [
    {
     "data": {
      "text/plain": [
       "{'a': 'some value', 'b': [1, 2, 3, 4], 7: 'an integer'}"
      ]
     },
     "execution_count": 18,
     "metadata": {},
     "output_type": "execute_result"
    }
   ],
   "source": [
    "# Insert a new key-value pair in dict1\n",
    "\n",
    "dict1[7] = 'an integer'\n",
    "dict1"
   ]
  },
  {
   "cell_type": "code",
   "execution_count": 19,
   "metadata": {
    "ExecuteTime": {
     "end_time": "2020-11-13T08:08:50.660420Z",
     "start_time": "2020-11-13T08:08:50.647467Z"
    }
   },
   "outputs": [
    {
     "data": {
      "text/plain": [
       "[1, 2, 3, 4]"
      ]
     },
     "execution_count": 19,
     "metadata": {},
     "output_type": "execute_result"
    }
   ],
   "source": [
    "# Access the value for the key 'b' from dict1\n",
    "\n",
    "dict1['b']"
   ]
  },
  {
   "cell_type": "code",
   "execution_count": 20,
   "metadata": {
    "ExecuteTime": {
     "end_time": "2020-11-13T08:08:50.675715Z",
     "start_time": "2020-11-13T08:08:50.662414Z"
    }
   },
   "outputs": [
    {
     "data": {
      "text/plain": [
       "True"
      ]
     },
     "execution_count": 20,
     "metadata": {},
     "output_type": "execute_result"
    }
   ],
   "source": [
    "# Check if dict1 contains key 'b'\n",
    "\n",
    "'b' in dict1"
   ]
  },
  {
   "cell_type": "code",
   "execution_count": 21,
   "metadata": {
    "ExecuteTime": {
     "end_time": "2020-11-13T08:08:50.691644Z",
     "start_time": "2020-11-13T08:08:50.676681Z"
    }
   },
   "outputs": [
    {
     "data": {
      "text/plain": [
       "{'a': 'some value',\n",
       " 'b': [1, 2, 3, 4],\n",
       " 7: 'an integer',\n",
       " 5: 'some value',\n",
       " 'dummy': 'another value'}"
      ]
     },
     "execution_count": 21,
     "metadata": {},
     "output_type": "execute_result"
    }
   ],
   "source": [
    "# Insert  2 other key-value pairs in dict1\n",
    "\n",
    "dict1[5] = 'some value'\n",
    "dict1['dummy'] = 'another value'\n",
    "dict1"
   ]
  },
  {
   "cell_type": "code",
   "execution_count": 22,
   "metadata": {
    "ExecuteTime": {
     "end_time": "2020-11-13T08:08:50.707597Z",
     "start_time": "2020-11-13T08:08:50.692639Z"
    }
   },
   "outputs": [
    {
     "data": {
      "text/plain": [
       "{'a': 'some value',\n",
       " 'b': [1, 2, 3, 4],\n",
       " 7: 'an integer',\n",
       " 'dummy': 'another value'}"
      ]
     },
     "execution_count": 22,
     "metadata": {},
     "output_type": "execute_result"
    }
   ],
   "source": [
    "# Delete the key-value pair for key = 5\n",
    "\n",
    "del dict1[5]\n",
    "dict1"
   ]
  },
  {
   "cell_type": "code",
   "execution_count": 26,
   "metadata": {
    "ExecuteTime": {
     "end_time": "2020-11-13T08:09:43.861525Z",
     "start_time": "2020-11-13T08:09:43.850530Z"
    }
   },
   "outputs": [
    {
     "name": "stdout",
     "output_type": "stream",
     "text": [
      "ret = another value & dict1 = {'a': 'some value', 'b': [1, 2, 3, 4], 7: 'an integer'}\n"
     ]
    }
   ],
   "source": [
    "# Assign deleted value from dict1 using pop method to ret\n",
    "\n",
    "ret = dict1.pop('dummy')\n",
    "print('ret =', ret, '& dict1 =', dict1)"
   ]
  },
  {
   "cell_type": "code",
   "execution_count": 27,
   "metadata": {
    "ExecuteTime": {
     "end_time": "2020-11-13T08:11:42.547279Z",
     "start_time": "2020-11-13T08:11:42.533323Z"
    }
   },
   "outputs": [
    {
     "data": {
      "text/plain": [
       "['a', 'b', 7]"
      ]
     },
     "execution_count": 27,
     "metadata": {},
     "output_type": "execute_result"
    }
   ],
   "source": [
    "# Use the key method to access the keys in dict1\n",
    "\n",
    "list(dict1.keys())"
   ]
  },
  {
   "cell_type": "code",
   "execution_count": 28,
   "metadata": {
    "ExecuteTime": {
     "end_time": "2020-11-13T08:12:10.178745Z",
     "start_time": "2020-11-13T08:12:10.168775Z"
    }
   },
   "outputs": [
    {
     "data": {
      "text/plain": [
       "['some value', [1, 2, 3, 4], 'an integer']"
      ]
     },
     "execution_count": 28,
     "metadata": {},
     "output_type": "execute_result"
    }
   ],
   "source": [
    "# Use the values method to access the values in dict1\n",
    "\n",
    "list(dict1.values())"
   ]
  },
  {
   "cell_type": "code",
   "execution_count": 29,
   "metadata": {
    "ExecuteTime": {
     "end_time": "2020-11-13T08:13:57.196415Z",
     "start_time": "2020-11-13T08:13:57.180457Z"
    }
   },
   "outputs": [
    {
     "data": {
      "text/plain": [
       "{'a': 'some value', 'b': 'foo', 7: 'an integer', 'c': 12}"
      ]
     },
     "execution_count": 29,
     "metadata": {},
     "output_type": "execute_result"
    }
   ],
   "source": [
    "# Update dict1\n",
    "\n",
    "dict1.update({'b' : 'foo', 'c' : 12})\n",
    "dict1"
   ]
  },
  {
   "cell_type": "markdown",
   "metadata": {},
   "source": [
    "#### Creating dicts from sequences\n",
    "- It's commonn to end up with two **sequences** that you want to pair up element-wise in a **dict**.\n",
    "- You could use a for loop:\n",
    "        mapping = {}\n",
    "        for key, value in zip(key_list, value_list):\n",
    "            mapping[key] = value\n",
    "- Or better use the **dict** function which accepts a list of 2-tuples"
   ]
  },
  {
   "cell_type": "markdown",
   "metadata": {},
   "source": [
    "**REMEMBER**: **zip** = pairs up the elements of a number of lists, tuples, or other sequences to create a *list of tuples*."
   ]
  },
  {
   "cell_type": "code",
   "execution_count": 32,
   "metadata": {
    "ExecuteTime": {
     "end_time": "2020-11-13T08:26:33.926007Z",
     "start_time": "2020-11-13T08:26:33.906060Z"
    }
   },
   "outputs": [
    {
     "data": {
      "text/plain": [
       "{0: 4, 1: 3, 2: 2, 3: 1, 4: 0}"
      ]
     },
     "execution_count": 32,
     "metadata": {},
     "output_type": "execute_result"
    }
   ],
   "source": [
    "# Create a dict using the zip function to create a list of 2-tuples\n",
    "\n",
    "list_2_tuples = zip(range(5), reversed(range(5)))\n",
    "mapping = dict(list_2_tuples)\n",
    "mapping"
   ]
  },
  {
   "cell_type": "markdown",
   "metadata": {},
   "source": [
    "#### Default values\n",
    "- It’s very common to have logic like:\n",
    "        if key in some_dict:\n",
    "            value = some_dict[key]\n",
    "        else:\n",
    "            value = default_value\n",
    "- The above if-else block can be simplified using the **get** and **pop** dict methods because they can take **default values** to be returned:\n",
    "        value = some_dict.get(key, default_value)\n",
    "- **get** by default will return **None** if the key is not present, while **pop** will raise an exception.\n",
    "- With **setting** values, a common case is for the values in a dict to be other collections, like lists. In this case you can use the **setdefault** dict method.\n",
    "- The built-in **collections** module has a useful class, **defaultdict**, which makes setting dict values even easier. \n",
    "- To create one, you pass a type or function for generating the default value for each slot in the dict:\n",
    "        from collections import defaultdict\n",
    "        by_letter = defaultdict(list)\n",
    "        for word in words:\n",
    "            by_letter[word[0]].append(word)"
   ]
  },
  {
   "cell_type": "code",
   "execution_count": 3,
   "metadata": {
    "ExecuteTime": {
     "end_time": "2020-11-13T15:56:42.594890Z",
     "start_time": "2020-11-13T15:56:42.588904Z"
    }
   },
   "outputs": [
    {
     "data": {
      "text/plain": [
       "{'a': ['apple', 'atom'], 'b': ['bat', 'bar', 'book'], 'c': ['compass']}"
      ]
     },
     "execution_count": 3,
     "metadata": {},
     "output_type": "execute_result"
    }
   ],
   "source": [
    "# Categorize a list of words by their first letters as a dict of lists using setdefault dict method\n",
    "\n",
    "# Define the list of words\n",
    "words = ['apple', 'bat', 'bar', 'atom', 'book', 'compass'] \n",
    "\n",
    "# Define an empty dict\n",
    "by_letter = {}\n",
    "\n",
    "# Use the setdefault dict method to categorize the list of words by their first letter\n",
    "for word in words:\n",
    "    letter = word[0]\n",
    "    by_letter.setdefault(letter, []).append(word)\n",
    "    \n",
    "# Ouput the dict by_letter\n",
    "by_letter"
   ]
  },
  {
   "cell_type": "code",
   "execution_count": 15,
   "metadata": {
    "ExecuteTime": {
     "end_time": "2020-11-13T16:07:05.107441Z",
     "start_time": "2020-11-13T16:07:05.095445Z"
    }
   },
   "outputs": [
    {
     "data": {
      "text/plain": [
       "defaultdict(list,\n",
       "            {'r': ['red'],\n",
       "             'b': ['blue', 'black'],\n",
       "             'g': ['green', 'gray'],\n",
       "             'p': ['pink']})"
      ]
     },
     "execution_count": 15,
     "metadata": {},
     "output_type": "execute_result"
    }
   ],
   "source": [
    "# Categorize a list of words by their first letters as a dict of lists using defaultdict from collections module\n",
    "\n",
    "# Define a list of colors\n",
    "colors = ['red', 'blue', 'green', 'gray', 'pink', 'black']\n",
    "\n",
    "# Import the collections module\n",
    "from collections import defaultdict\n",
    "\n",
    "# Call the defaultdic function & use a for loop to append the key-value pairs\n",
    "colors_by_letter = defaultdict(list)\n",
    "for color in colors:\n",
    "    colors_by_letter[color[0]].append(color)\n",
    "    \n",
    "# Output the dict color_by_letter\n",
    "colors_by_letter"
   ]
  },
  {
   "cell_type": "markdown",
   "metadata": {
    "ExecuteTime": {
     "end_time": "2020-11-13T16:02:43.980618Z",
     "start_time": "2020-11-13T16:02:43.976627Z"
    }
   },
   "source": [
    "#### Valid dict key types\n",
    "- **values** of a **dict** can be any Python object.\n",
    "- **keys** have to be *immutable* objects like scalar types (int, float, string) or tuples (all the objects in the tuple need to be immutable, too).\n",
    "- The technical term here is **hashability**. \n",
    "- You can check whether an object is hashable (can be used as a key in a dict) with the **hash** function.\n",
    "- To use a list as a key, one option is to convert it to a tuple."
   ]
  },
  {
   "cell_type": "code",
   "execution_count": 17,
   "metadata": {
    "ExecuteTime": {
     "end_time": "2020-11-13T16:09:56.670370Z",
     "start_time": "2020-11-13T16:09:56.655409Z"
    }
   },
   "outputs": [
    {
     "data": {
      "text/plain": [
       "9037810056053108966"
      ]
     },
     "execution_count": 17,
     "metadata": {},
     "output_type": "execute_result"
    }
   ],
   "source": [
    "# Use hash function on a string\n",
    "\n",
    "hash('string')"
   ]
  },
  {
   "cell_type": "code",
   "execution_count": 18,
   "metadata": {
    "ExecuteTime": {
     "end_time": "2020-11-13T16:10:21.211992Z",
     "start_time": "2020-11-13T16:10:21.196039Z"
    }
   },
   "outputs": [
    {
     "data": {
      "text/plain": [
       "1097636502276347782"
      ]
     },
     "execution_count": 18,
     "metadata": {},
     "output_type": "execute_result"
    }
   ],
   "source": [
    "# Use hash function on a tuple\n",
    "\n",
    "hash((1, 2, (2, 3)))"
   ]
  },
  {
   "cell_type": "code",
   "execution_count": 19,
   "metadata": {
    "ExecuteTime": {
     "end_time": "2020-11-13T16:10:49.825713Z",
     "start_time": "2020-11-13T16:10:49.804799Z"
    }
   },
   "outputs": [
    {
     "ename": "TypeError",
     "evalue": "unhashable type: 'list'",
     "output_type": "error",
     "traceback": [
      "\u001b[1;31m---------------------------------------------------------------------------\u001b[0m",
      "\u001b[1;31mTypeError\u001b[0m                                 Traceback (most recent call last)",
      "\u001b[1;32m<ipython-input-19-ab496ad9193b>\u001b[0m in \u001b[0;36m<module>\u001b[1;34m\u001b[0m\n\u001b[0;32m      1\u001b[0m \u001b[1;31m# Use hash function on a list - it will fail because lists are mutable\u001b[0m\u001b[1;33m\u001b[0m\u001b[1;33m\u001b[0m\u001b[1;33m\u001b[0m\u001b[0m\n\u001b[0;32m      2\u001b[0m \u001b[1;33m\u001b[0m\u001b[0m\n\u001b[1;32m----> 3\u001b[1;33m \u001b[0mhash\u001b[0m\u001b[1;33m(\u001b[0m\u001b[1;33m(\u001b[0m\u001b[1;36m1\u001b[0m\u001b[1;33m,\u001b[0m \u001b[1;36m2\u001b[0m\u001b[1;33m,\u001b[0m \u001b[1;33m[\u001b[0m\u001b[1;36m2\u001b[0m\u001b[1;33m,\u001b[0m \u001b[1;36m3\u001b[0m\u001b[1;33m]\u001b[0m\u001b[1;33m)\u001b[0m\u001b[1;33m)\u001b[0m\u001b[1;33m\u001b[0m\u001b[1;33m\u001b[0m\u001b[0m\n\u001b[0m",
      "\u001b[1;31mTypeError\u001b[0m: unhashable type: 'list'"
     ]
    }
   ],
   "source": [
    "# Use hash function on a list - it will fail because lists are mutable\n",
    "\n",
    "hash((1, 2, [2, 3]))"
   ]
  },
  {
   "cell_type": "code",
   "execution_count": 20,
   "metadata": {
    "ExecuteTime": {
     "end_time": "2020-11-13T16:12:17.527724Z",
     "start_time": "2020-11-13T16:12:17.521738Z"
    }
   },
   "outputs": [
    {
     "data": {
      "text/plain": [
       "{(1, 2, 3): 5}"
      ]
     },
     "execution_count": 20,
     "metadata": {},
     "output_type": "execute_result"
    }
   ],
   "source": [
    "# Convert a list to atuple and use it as a key in a dict\n",
    "\n",
    "d = {}\n",
    "d[tuple([1, 2, 3])] = 5\n",
    "d"
   ]
  },
  {
   "cell_type": "markdown",
   "metadata": {},
   "source": [
    "### Set\n",
    "- **set** = an unordered collection of unique elements.\n",
    "- You can think of them like dicts, but keys only, no values. \n",
    "- A **set** can be created in two ways: via the **set function** or via a set literal with curly braces.\n",
    "- **Sets** support mathematical set operations like union, intersection, difference, and symmetric difference.\n",
    "- **Union** of two sets is the set of distinct elements occurring in either set. This can be computed with either the **union** method or the | binary operator.\n",
    "- **Intersection** contains the elements occurring in both sets. The & operator or the **intersection** method can be used.\n",
    "- All of the logical set operations have in-place counterparts, which enable you to replace the contents of the set on the left side of the operation with the result.\n",
    "- Like dicts, **set** elements generally must be *immutable*. To have list-like elements, you must convert it to a tuple.\n",
    "- You can also check if a set is a **subset** of (is contained in) or a **superset** of (contains all elements of) another set.\n",
    "- Sets are equal if and only if their contents are equal."
   ]
  },
  {
   "cell_type": "code",
   "execution_count": 22,
   "metadata": {
    "ExecuteTime": {
     "end_time": "2020-11-13T16:18:11.992012Z",
     "start_time": "2020-11-13T16:18:11.978016Z"
    }
   },
   "outputs": [
    {
     "name": "stdout",
     "output_type": "stream",
     "text": [
      "{1, 2, 3, 4, 5, 10} {2, 3, 4, 7, 8}\n"
     ]
    }
   ],
   "source": [
    "# Define sets using the set function & curly braces\n",
    "\n",
    "set1 = set([10, 2, 2, 2, 1, 3, 4, 5, 2])\n",
    "set2 = {4, 2, 3, 4, 2, 2, 7, 8}\n",
    "\n",
    "print(set1, set2)"
   ]
  },
  {
   "cell_type": "code",
   "execution_count": 23,
   "metadata": {
    "ExecuteTime": {
     "end_time": "2020-11-13T16:20:37.365934Z",
     "start_time": "2020-11-13T16:20:37.349981Z"
    }
   },
   "outputs": [
    {
     "name": "stdout",
     "output_type": "stream",
     "text": [
      "{1, 2, 3, 4, 5, 7, 8, 10} {1, 2, 3, 4, 5, 7, 8, 10}\n"
     ]
    }
   ],
   "source": [
    "# Union of sets set1 & set2 using union method or | binary operator\n",
    "\n",
    "u1 = set1.union(set2)\n",
    "u2 = set1 | set2\n",
    "print(u1, u2)"
   ]
  },
  {
   "cell_type": "code",
   "execution_count": 24,
   "metadata": {
    "ExecuteTime": {
     "end_time": "2020-11-13T16:23:09.164152Z",
     "start_time": "2020-11-13T16:23:09.152217Z"
    }
   },
   "outputs": [
    {
     "name": "stdout",
     "output_type": "stream",
     "text": [
      "{2, 3, 4} {2, 3, 4}\n"
     ]
    }
   ],
   "source": [
    "# Intersection of sets set1 & set2 using intersection method or & operator\n",
    "\n",
    "intersect1 = set1.intersection(set2)\n",
    "intersect2 = set1 & set2\n",
    "print(intersect1, intersect2)"
   ]
  },
  {
   "cell_type": "code",
   "execution_count": 25,
   "metadata": {
    "ExecuteTime": {
     "end_time": "2020-11-13T16:26:52.698709Z",
     "start_time": "2020-11-13T16:26:52.689733Z"
    }
   },
   "outputs": [
    {
     "data": {
      "text/plain": [
       "{1, 2, 3, 4, 5, 7, 8, 10}"
      ]
     },
     "execution_count": 25,
     "metadata": {},
     "output_type": "execute_result"
    }
   ],
   "source": [
    "# Create set3 as a copy of set1\n",
    "set3 = set1.copy()\n",
    "\n",
    "# Replace set3 with the union between set3 & set2\n",
    "set3 |= set2\n",
    "set3"
   ]
  },
  {
   "cell_type": "code",
   "execution_count": 26,
   "metadata": {
    "ExecuteTime": {
     "end_time": "2020-11-13T16:28:03.736667Z",
     "start_time": "2020-11-13T16:28:03.721740Z"
    }
   },
   "outputs": [
    {
     "data": {
      "text/plain": [
       "{2, 3, 4}"
      ]
     },
     "execution_count": 26,
     "metadata": {},
     "output_type": "execute_result"
    }
   ],
   "source": [
    "# Create set4 as a copy of set1\n",
    "set4 = set1.copy()\n",
    "\n",
    "# Replace set4 as the intersection of set4 & set2\n",
    "set4 &= set2\n",
    "set4"
   ]
  },
  {
   "cell_type": "code",
   "execution_count": 27,
   "metadata": {
    "ExecuteTime": {
     "end_time": "2020-11-13T16:31:29.232059Z",
     "start_time": "2020-11-13T16:31:29.224081Z"
    }
   },
   "outputs": [
    {
     "data": {
      "text/plain": [
       "{(1, 2, 3, 4)}"
      ]
     },
     "execution_count": 27,
     "metadata": {},
     "output_type": "execute_result"
    }
   ],
   "source": [
    "# In order to have list-like elements you need to convert the list to a tuple\n",
    "\n",
    "my_set = {tuple([1, 2, 3 ,4])}\n",
    "my_set"
   ]
  },
  {
   "cell_type": "code",
   "execution_count": 28,
   "metadata": {
    "ExecuteTime": {
     "end_time": "2020-11-13T16:33:30.822466Z",
     "start_time": "2020-11-13T16:33:30.809469Z"
    }
   },
   "outputs": [
    {
     "data": {
      "text/plain": [
       "True"
      ]
     },
     "execution_count": 28,
     "metadata": {},
     "output_type": "execute_result"
    }
   ],
   "source": [
    "# Check if a set is a subset of another set\n",
    "\n",
    "a_set = {1, 2, 3, 4, 5}\n",
    "{1, 2, 3}.issubset(a_set)"
   ]
  },
  {
   "cell_type": "code",
   "execution_count": 29,
   "metadata": {
    "ExecuteTime": {
     "end_time": "2020-11-13T16:34:24.401598Z",
     "start_time": "2020-11-13T16:34:24.389628Z"
    }
   },
   "outputs": [
    {
     "data": {
      "text/plain": [
       "True"
      ]
     },
     "execution_count": 29,
     "metadata": {},
     "output_type": "execute_result"
    }
   ],
   "source": [
    "# Check if a set is a superset of another set\n",
    "\n",
    "a_set.issuperset({1, 2, 3})"
   ]
  },
  {
   "cell_type": "markdown",
   "metadata": {},
   "source": [
    "#### Python set operations\n",
    "    Function                      Alternative   Description\n",
    "                                     syntax       \n",
    "    a.add(x)                         N/A        Add element x to the set a\n",
    "    a.clear()                        N/A        Reset the set a to an empty state, discarding all of its elements\n",
    "    a.remove(x)                      N/A        Remove element x from the set a\n",
    "    a.pop()                          N/A        Remove an arbitrary element from the set a, raising KeyError if the set is empty\n",
    "    \n",
    "    a.union(b)                       a | b      All of the unique elements in a and b\n",
    "    a.update(b)                      a |= b     Set the contents of a to be the union of the elements in a and b\n",
    "    a.intersection(b)                a & b      All of the elements in both a and b\n",
    "    a.intersection_update(b)         a &= b     Set the contents of a to be the intersection of the elements in a and b\n",
    "    \n",
    "    a.difference(b)                   a - b     The elements in a that are not in b\n",
    "    a.difference_update(b)            a -= b    Set a to the elements in a that are not in b\n",
    "    a.symmetric_difference(b)         a ^ b     All of the elements in either a or b but not both\n",
    "    a.symmetric_difference_update(b)  a ^= b    Set a to contain the elements in either a or b but not both\n",
    "    a.issubset(b)                     N/A       True if the elements of a are all contained in b\n",
    "    a.issuperset(b)                   N/A       True if the elements of b are all contained in a\n",
    "    a.isdisjoint(b)                   N/A       True if a and b have no elements in common"
   ]
  },
  {
   "cell_type": "markdown",
   "metadata": {
    "heading_collapsed": true
   },
   "source": [
    "### List, Set, and Dict Comprehensions\n",
    "- **List comprehensions** allow you to concisely form a new list by filtering the elements of a collection, transforming the elements passing the filter in one concise expression:\n",
    "        [expr for val in collection if condition]\n",
    "- This is equivalent to the following for loop:\n",
    "        result = []\n",
    "        for val in collection:\n",
    "            if condition:\n",
    "                result.append(expr)\n",
    "- The filter condition can be omitted, leaving only the expression. \n",
    "- A **dict comprehension** looks like this:\n",
    "        dict_comp = {key-expr : value-expr for value in collection\n",
    "                    if condition}\n",
    "- A **set comprehension** looks like the equivalent list comprehension except with curly braces instead of square brackets:\n",
    "        set_comp = {expr for value in collection if condition}"
   ]
  },
  {
   "cell_type": "code",
   "execution_count": 33,
   "metadata": {
    "ExecuteTime": {
     "end_time": "2020-11-13T16:46:35.352620Z",
     "start_time": "2020-11-13T16:46:35.341650Z"
    },
    "hidden": true
   },
   "outputs": [
    {
     "name": "stdout",
     "output_type": "stream",
     "text": [
      "['BAT', 'CAR', 'DOVE', 'PYTHON'] ['A', 'AS', 'BAT', 'CAR', 'DOVE', 'PYTHON']\n"
     ]
    }
   ],
   "source": [
    "# Create a list of strings\n",
    "strings = ['a', 'as', 'bat', 'car', 'dove', 'python']\n",
    "\n",
    "# Filter out strings with length 2 or less and also convert what remais to uppercase like\n",
    "list_comp1 = [x.upper() for x in strings if len(x) > 2]\n",
    "\n",
    "# Omit the filter condition which means we make all values uppercase\n",
    "list_comp2 = [x.upper() for x in strings]\n",
    "\n",
    "# Print output\n",
    "print(list_comp1, list_comp2)"
   ]
  },
  {
   "cell_type": "code",
   "execution_count": 35,
   "metadata": {
    "ExecuteTime": {
     "end_time": "2020-11-13T16:47:50.223430Z",
     "start_time": "2020-11-13T16:47:50.207505Z"
    },
    "hidden": true
   },
   "outputs": [
    {
     "data": {
      "text/plain": [
       "{1, 2, 3, 4, 6}"
      ]
     },
     "execution_count": 35,
     "metadata": {},
     "output_type": "execute_result"
    }
   ],
   "source": [
    "# Create a set containing just the lengths of the strings contained in the 'strings' collection\n",
    "\n",
    "unique_lengths = {len(x) for x in strings}\n",
    "unique_lengths"
   ]
  },
  {
   "cell_type": "code",
   "execution_count": 36,
   "metadata": {
    "ExecuteTime": {
     "end_time": "2020-11-13T16:49:15.699212Z",
     "start_time": "2020-11-13T16:49:15.680258Z"
    },
    "hidden": true
   },
   "outputs": [
    {
     "data": {
      "text/plain": [
       "{1, 2, 3, 4, 6}"
      ]
     },
     "execution_count": 36,
     "metadata": {},
     "output_type": "execute_result"
    }
   ],
   "source": [
    "# We could achieve the same thing as the cell above using the map function\n",
    "\n",
    "set(map(len, strings))"
   ]
  },
  {
   "cell_type": "code",
   "execution_count": 37,
   "metadata": {
    "ExecuteTime": {
     "end_time": "2020-11-13T16:50:39.548376Z",
     "start_time": "2020-11-13T16:50:39.530393Z"
    },
    "hidden": true
   },
   "outputs": [
    {
     "data": {
      "text/plain": [
       "{'a': 0, 'as': 1, 'bat': 2, 'car': 3, 'dove': 4, 'python': 5}"
      ]
     },
     "execution_count": 37,
     "metadata": {},
     "output_type": "execute_result"
    }
   ],
   "source": [
    "# Create a lookup map of the strings and their location in the list\n",
    "\n",
    "loc_mapping = {val : index for index, val in enumerate(strings)}\n",
    "loc_mapping"
   ]
  },
  {
   "cell_type": "markdown",
   "metadata": {
    "hidden": true
   },
   "source": [
    "#### Nested list comprehensions\n",
    "- The for parts of the **list comprehension** are arranged according to the order of nesting, and any filter condition is put at the end as before.\n",
    "- You can have arbitrarily many levels of nesting, though if you have more than two or three levels of nesting you should probably start to question whether this makes sense from a code readability standpoint."
   ]
  },
  {
   "cell_type": "code",
   "execution_count": 38,
   "metadata": {
    "ExecuteTime": {
     "end_time": "2020-11-13T16:56:56.250807Z",
     "start_time": "2020-11-13T16:56:56.234818Z"
    },
    "hidden": true
   },
   "outputs": [],
   "source": [
    "# List of lists containing some English and Spanish names\n",
    "all_data = [['John', 'Emily', 'Michael', 'Mary', 'Steven'],\n",
    "            ['Maria', 'Juan', 'Javier', 'Natalia', 'Pilar']]"
   ]
  },
  {
   "cell_type": "code",
   "execution_count": 39,
   "metadata": {
    "ExecuteTime": {
     "end_time": "2020-11-13T16:58:06.592219Z",
     "start_time": "2020-11-13T16:58:06.581259Z"
    },
    "hidden": true
   },
   "outputs": [
    {
     "data": {
      "text/plain": [
       "['Steven']"
      ]
     },
     "execution_count": 39,
     "metadata": {},
     "output_type": "execute_result"
    }
   ],
   "source": [
    "# Get a single list containing all names with two or more e’s in them using a for loop\n",
    "names_of_interest = []\n",
    "for names in all_data:\n",
    "    enough_es = [name for name in names if name.count('e') >= 2]\n",
    "    names_of_interest.extend(enough_es)\n",
    "names_of_interest"
   ]
  },
  {
   "cell_type": "code",
   "execution_count": 40,
   "metadata": {
    "ExecuteTime": {
     "end_time": "2020-11-13T16:59:08.037482Z",
     "start_time": "2020-11-13T16:59:08.025548Z"
    },
    "hidden": true
   },
   "outputs": [
    {
     "data": {
      "text/plain": [
       "['Steven']"
      ]
     },
     "execution_count": 40,
     "metadata": {},
     "output_type": "execute_result"
    }
   ],
   "source": [
    "# Get a single list containing all names with two or more e’s in them using nested list comprehension\n",
    "result = [name for names in all_data for name in names if name.count('e') >= 2]\n",
    "result"
   ]
  },
  {
   "cell_type": "code",
   "execution_count": 41,
   "metadata": {
    "ExecuteTime": {
     "end_time": "2020-11-13T17:04:09.039823Z",
     "start_time": "2020-11-13T17:04:09.027862Z"
    },
    "hidden": true
   },
   "outputs": [
    {
     "data": {
      "text/plain": [
       "[1, 2, 3, 4, 5, 6, 7, 8, 9]"
      ]
     },
     "execution_count": 41,
     "metadata": {},
     "output_type": "execute_result"
    }
   ],
   "source": [
    "# “Flatten” a list of tuples of integers into a simple list of integers\n",
    "\n",
    "some_tuples = [(1, 2, 3), (4, 5, 6), (7, 8, 9)]\n",
    "flattened = [x for tup in some_tuples for x in tup]\n",
    "flattened"
   ]
  },
  {
   "cell_type": "code",
   "execution_count": 42,
   "metadata": {
    "ExecuteTime": {
     "end_time": "2020-11-13T17:05:03.315940Z",
     "start_time": "2020-11-13T17:05:03.300982Z"
    },
    "hidden": true
   },
   "outputs": [
    {
     "data": {
      "text/plain": [
       "[[1, 2, 3], [4, 5, 6], [7, 8, 9]]"
      ]
     },
     "execution_count": 42,
     "metadata": {},
     "output_type": "execute_result"
    }
   ],
   "source": [
    "# A list comprehension inside a list comprehension resulting in a list of lists\n",
    "\n",
    "[[x for x in tup] for tup in some_tuples]"
   ]
  },
  {
   "cell_type": "markdown",
   "metadata": {},
   "source": [
    "## Functions\n",
    "- **Functions** are the primary and most important method of code organization and reuse in Python.\n",
    "- As a rule of thumb, if you anticipate needing to repeat the same or very similar code more than once, it may be worth writing a reusable **function**.\n",
    "- **Functions** can also help make your code more readable by giving a name to a group of Python statements.\n",
    "- **Functions** are declared with the **def** keyword and returned from with the **return** keyword.\n",
    "- There is no issue with having multiple return statements. \n",
    "- If Python reaches the end of a function without encountering a return statement, None is returned automatically.\n",
    "- Each **function** can have **positional** arguments and **keyword** arguments.\n",
    "- **Keyword** arguments are most commonly used to specify **default values** or optional arguments.\n",
    "- The main restriction on **function arguments** is that the **keyword** arguments must follow the **positional** arguments (if any).\n",
    "- You can specify keyword arguments in any order.\n",
    "- This way you only need to remember the name of the keyword arguments and not their order.\n",
    "- It is possible to use keywords for passing positional arguments as well which can help with readability."
   ]
  },
  {
   "cell_type": "code",
   "execution_count": 43,
   "metadata": {
    "ExecuteTime": {
     "end_time": "2020-11-13T17:49:58.409768Z",
     "start_time": "2020-11-13T17:49:58.398800Z"
    }
   },
   "outputs": [],
   "source": [
    "# Define a function called my_function\n",
    "# x and y are positional arguments while z is a keyword argument\n",
    "\n",
    "def my_function(x, y, z=1.5):\n",
    "    if z > 1:\n",
    "        return z * (x + y)\n",
    "    else:\n",
    "        return z / (x + y)"
   ]
  },
  {
   "cell_type": "code",
   "execution_count": 45,
   "metadata": {
    "ExecuteTime": {
     "end_time": "2020-11-13T17:53:38.979382Z",
     "start_time": "2020-11-13T17:53:38.960434Z"
    }
   },
   "outputs": [
    {
     "data": {
      "text/plain": [
       "77"
      ]
     },
     "execution_count": 45,
     "metadata": {},
     "output_type": "execute_result"
    }
   ],
   "source": [
    "# Ways to call the function my_function\n",
    "\n",
    "my_function(5, 6, z=0.7)\n",
    "my_function(3.14, 7, 3.5)\n",
    "my_function(10, 20)\n",
    "my_function(x=5, y=6, z=7)\n",
    "my_function(y=6, x=5, z=7)"
   ]
  },
  {
   "cell_type": "markdown",
   "metadata": {},
   "source": [
    "### Namespaces, Scope, and Local Functions\n",
    "- Functions can access variables in two different scopes: **global** and **local**.\n",
    "- An alternative and more descriptive name describing a **variable scope** in Python is a **namespace**. \n",
    "- Any variables that are assigned within a function by default are assigned to the **local namespace**. \n",
    "- The **local namespace** is created when the function is called and immediately populated by the function’s arguments. \n",
    "- After the function is finished, the **local namespace** is destroyed.\n",
    "- Assigning variables outside of the function’s scope is possible, but those variables must be declared as global via the **global** keyword.\n",
    "- The use of the **global** keyword is generally discourage. \n",
    "- Typically **global variables** are used to store some kind of state in a system. If you find yourself using a lot of them, it may indicate a need for object-oriented programming (using classes)."
   ]
  },
  {
   "cell_type": "code",
   "execution_count": 46,
   "metadata": {
    "ExecuteTime": {
     "end_time": "2020-11-13T18:01:07.805975Z",
     "start_time": "2020-11-13T18:01:07.794008Z"
    }
   },
   "outputs": [],
   "source": [
    "# Consider the following function\n",
    "\n",
    "def func():\n",
    "    a = []\n",
    "    for i in range(5):\n",
    "        a.append(i)\n",
    "\n",
    "# When func() is called, the empty list a is created, five elements are appended, \n",
    "# and then a is destroyed when the function exits."
   ]
  },
  {
   "cell_type": "code",
   "execution_count": 47,
   "metadata": {
    "ExecuteTime": {
     "end_time": "2020-11-13T18:01:43.314806Z",
     "start_time": "2020-11-13T18:01:43.303800Z"
    }
   },
   "outputs": [],
   "source": [
    "# If instead we declare a as follows:\n",
    "\n",
    "a = []\n",
    "def func():\n",
    "    for i in range(5):\n",
    "        a.append(i)\n",
    "        \n",
    "# a is no longer destroyed when the function exits"
   ]
  },
  {
   "cell_type": "code",
   "execution_count": 50,
   "metadata": {
    "ExecuteTime": {
     "end_time": "2020-11-13T18:05:25.207256Z",
     "start_time": "2020-11-13T18:05:25.194259Z"
    }
   },
   "outputs": [
    {
     "name": "stdout",
     "output_type": "stream",
     "text": [
      "[]\n"
     ]
    }
   ],
   "source": [
    "# Assigning variables outside the function’s scope with the global keyword\n",
    "\n",
    "# Assign None to a\n",
    "a = None\n",
    "\n",
    "# Define the function bind_a_variable()\n",
    "def bind_a_variable():\n",
    "    global a\n",
    "    a = []\n",
    "\n",
    "# Call teh function bind_a_variable()\n",
    "bind_a_variable()\n",
    "\n",
    "# Print a\n",
    "print(a)"
   ]
  },
  {
   "cell_type": "markdown",
   "metadata": {},
   "source": [
    "### Returning Multiple Values\n",
    "- The **function** is actually returning one object, namely a *tuple*, which is then being unpacked into the result variables."
   ]
  },
  {
   "cell_type": "code",
   "execution_count": 51,
   "metadata": {
    "ExecuteTime": {
     "end_time": "2020-11-13T18:14:29.862957Z",
     "start_time": "2020-11-13T18:14:29.845039Z"
    }
   },
   "outputs": [
    {
     "name": "stdout",
     "output_type": "stream",
     "text": [
      "5 6 7\n"
     ]
    }
   ],
   "source": [
    "# Example of returning multiple values from a function\n",
    "\n",
    "# Define the function\n",
    "def f():\n",
    "    a = 5\n",
    "    b = 6\n",
    "    c = 7\n",
    "    return a, b, c\n",
    "\n",
    "# Return multiplpe values\n",
    "a, b, c = f()\n",
    "\n",
    "# Print the output\n",
    "print(a, b, c)"
   ]
  },
  {
   "cell_type": "code",
   "execution_count": 52,
   "metadata": {
    "ExecuteTime": {
     "end_time": "2020-11-13T18:16:03.913933Z",
     "start_time": "2020-11-13T18:16:03.902965Z"
    }
   },
   "outputs": [
    {
     "data": {
      "text/plain": [
       "(5, 6, 7)"
      ]
     },
     "execution_count": 52,
     "metadata": {},
     "output_type": "execute_result"
    }
   ],
   "source": [
    "# Return the function result as  a tuple\n",
    "\n",
    "return_value = f()\n",
    "return_value"
   ]
  },
  {
   "cell_type": "code",
   "execution_count": 53,
   "metadata": {
    "ExecuteTime": {
     "end_time": "2020-11-13T18:17:17.938888Z",
     "start_time": "2020-11-13T18:17:17.921909Z"
    }
   },
   "outputs": [
    {
     "data": {
      "text/plain": [
       "{'a': 5, 'b': 6, 'c': 7}"
      ]
     },
     "execution_count": 53,
     "metadata": {},
     "output_type": "execute_result"
    }
   ],
   "source": [
    "# Return multiple values as a dict\n",
    "\n",
    "# Define the function so that is return a dict\n",
    "def f():\n",
    "    a = 5\n",
    "    b = 6\n",
    "    c = 7\n",
    "    return {'a' : a, 'b' : b, 'c' : c}\n",
    "\n",
    "# Call the function and show the output\n",
    "f()"
   ]
  },
  {
   "cell_type": "markdown",
   "metadata": {},
   "source": [
    "### Functions Are Objects\n",
    "- **Functions** should be reusable and generic.\n",
    "- You can use functions as **arguments** to other functions."
   ]
  },
  {
   "cell_type": "code",
   "execution_count": 54,
   "metadata": {
    "ExecuteTime": {
     "end_time": "2020-11-13T18:24:50.588643Z",
     "start_time": "2020-11-13T18:24:50.572680Z"
    }
   },
   "outputs": [],
   "source": [
    "# DATA CLEANING EXERCISE: Suppose we were doing some data cleaning and\n",
    "# needed to apply a bunch of transformations to a list of strings\n",
    "\n",
    "# List of strings that we need to clean\n",
    "states = [' Alabama ', 'Georgia!', 'Georgia', 'georgia', 'FlOrIda',\n",
    "          'south carolina##', 'West virginia?']\n",
    "\n",
    "# In order to make this list of strings uniform and ready for analysis: \n",
    "#     - stripping whitespace, \n",
    "#     - removing punctuation symbols\n",
    "#     - standardizing on proper capitalization"
   ]
  },
  {
   "cell_type": "code",
   "execution_count": 61,
   "metadata": {
    "ExecuteTime": {
     "end_time": "2020-11-13T18:30:31.716616Z",
     "start_time": "2020-11-13T18:30:31.705647Z"
    }
   },
   "outputs": [],
   "source": [
    "# Use built-in string methods along with the re standard library module for regular expressions\n",
    "\n",
    "# Import the re module\n",
    "import re\n",
    "\n",
    "# Define the function\n",
    "def clean_strings(strings):\n",
    "    result = []\n",
    "    for value in strings:\n",
    "        # Use strip string() method to remove both the leading & trailing spaces\n",
    "        value = value.strip()\n",
    "        # Use regular expressions to remove characters '!', '#', '?'\n",
    "        value = re.sub('[!#?]', '', value)\n",
    "        # Use title method so that first character in every word is upper case\n",
    "        value = value.title()\n",
    "        # Append the modified string to the result list\n",
    "        result.append(value)\n",
    "    return result"
   ]
  },
  {
   "cell_type": "code",
   "execution_count": 63,
   "metadata": {
    "ExecuteTime": {
     "end_time": "2020-11-13T18:31:05.057429Z",
     "start_time": "2020-11-13T18:31:05.041486Z"
    }
   },
   "outputs": [
    {
     "data": {
      "text/plain": [
       "['Alabama',\n",
       " 'Georgia',\n",
       " 'Georgia',\n",
       " 'Georgia',\n",
       " 'Florida',\n",
       " 'South Carolina',\n",
       " 'West Virginia']"
      ]
     },
     "execution_count": 63,
     "metadata": {},
     "output_type": "execute_result"
    }
   ],
   "source": [
    "# Call function clean_strings()\n",
    "clean_strings(states)"
   ]
  },
  {
   "cell_type": "code",
   "execution_count": 64,
   "metadata": {
    "ExecuteTime": {
     "end_time": "2020-11-13T18:38:10.024420Z",
     "start_time": "2020-11-13T18:38:10.003476Z"
    }
   },
   "outputs": [],
   "source": [
    "# DATA CLEANING EXERCISE: Another approach is to make a list of the operations\n",
    "# you want to apply to a particular set of strings:\n",
    "\n",
    "# Define the function remove_punctuation()\n",
    "def remove_punctuation(value):\n",
    "    return re.sub('[!#?]', '', value)\n",
    "\n",
    "# Create a list of transformations to apply to your strings\n",
    "clean_ops = [str.strip, remove_punctuation, str.title]\n",
    "\n",
    "# Define the function clean_strings() which takes 2 arguments the string and a list of functions\n",
    "def clean_strings(strings, ops):\n",
    "    result = []\n",
    "    for value in strings:\n",
    "        for function in ops:\n",
    "            value = function(value)\n",
    "        result.append(value)\n",
    "    return result"
   ]
  },
  {
   "cell_type": "code",
   "execution_count": 65,
   "metadata": {
    "ExecuteTime": {
     "end_time": "2020-11-13T18:38:29.114842Z",
     "start_time": "2020-11-13T18:38:29.095914Z"
    }
   },
   "outputs": [
    {
     "data": {
      "text/plain": [
       "['Alabama',\n",
       " 'Georgia',\n",
       " 'Georgia',\n",
       " 'Georgia',\n",
       " 'Florida',\n",
       " 'South Carolina',\n",
       " 'West Virginia']"
      ]
     },
     "execution_count": 65,
     "metadata": {},
     "output_type": "execute_result"
    }
   ],
   "source": [
    "# Call function clean_strings()\n",
    "clean_strings(states, clean_ops)"
   ]
  },
  {
   "cell_type": "markdown",
   "metadata": {},
   "source": [
    "### Anonymous (Lambda) Functions\n",
    "- **Lambda functions** = are a way of writing functions consisting of a single statement, the result of which is the return value.\n",
    "- They are defined with the **lambda** keyword, which has no meaning other than “we are declaring an anonymous function”.\n",
    "        def short_function(x):\n",
    "            return x * 2\n",
    "            \n",
    "        equiv_anon = lambda x: x * 2\n",
    "- **Lambda functions** are called **anonymous functions** because unlike functions declared with the **def** keyword, the function object itself is never given an explicit __name__ attribute."
   ]
  },
  {
   "cell_type": "code",
   "execution_count": 66,
   "metadata": {
    "ExecuteTime": {
     "end_time": "2020-11-13T18:48:43.599902Z",
     "start_time": "2020-11-13T18:48:43.592888Z"
    }
   },
   "outputs": [
    {
     "data": {
      "text/plain": [
       "[8, 0, 2, 10, 12]"
      ]
     },
     "execution_count": 66,
     "metadata": {},
     "output_type": "execute_result"
    }
   ],
   "source": [
    "# Lambda function example\n",
    "\n",
    "# Define a function called apply_to_list() which retunrs a list comprehension\n",
    "# The function takes 2 arguments a list & a function\n",
    "def apply_to_list(some_list, f):\n",
    "    return [f(x) for x in some_list]\n",
    "\n",
    "# Create a list of integers called ints\n",
    "ints = [4, 0, 1, 5, 6]\n",
    "\n",
    "# Call teh function apply_to_list() & apply a simple lambda function\n",
    "apply_to_list(ints, lambda x: x * 2)"
   ]
  },
  {
   "cell_type": "code",
   "execution_count": 68,
   "metadata": {
    "ExecuteTime": {
     "end_time": "2020-11-13T19:05:00.030671Z",
     "start_time": "2020-11-13T19:05:00.012716Z"
    }
   },
   "outputs": [
    {
     "data": {
      "text/plain": [
       "['aaaa', 'foo', 'abab', 'bar', 'card']"
      ]
     },
     "execution_count": 68,
     "metadata": {},
     "output_type": "execute_result"
    }
   ],
   "source": [
    "# Lambda function example\n",
    "\n",
    "# Suppose you wanted to sort a collection of strings by the number of distinct letters in each string:\n",
    "\n",
    "# Create a list of strings\n",
    "strings = ['foo', 'card', 'bar', 'aaaa', 'abab']\n",
    "\n",
    "# Pass the lambda function to the list's sort method\n",
    "strings.sort(key = lambda x: len(set(list(x))))\n",
    "strings"
   ]
  },
  {
   "cell_type": "markdown",
   "metadata": {},
   "source": [
    "### Currying: Partial Argument Application\n",
    "- **Currying** is computer science jargon (named after the mathematician Haskell Curry) that means deriving new functions from existing ones by partial argument application.\n",
    "- The built-in **functools** module can simplify this process using the **partial** function."
   ]
  },
  {
   "cell_type": "code",
   "execution_count": 70,
   "metadata": {
    "ExecuteTime": {
     "end_time": "2020-11-13T19:13:33.609030Z",
     "start_time": "2020-11-13T19:13:33.597094Z"
    }
   },
   "outputs": [],
   "source": [
    "# Function that adds 2 numers together\n",
    "def add_numbers(x, y):\n",
    "    return x + y\n",
    "\n",
    "# Using this function, we could derive a new function of one variable, add_five, that adds 5 to its argument\n",
    "add_five = lambda y: add_numbers(5, y)\n",
    "\n",
    "# The second argument to add_numbers is said to be curried"
   ]
  },
  {
   "cell_type": "code",
   "execution_count": 71,
   "metadata": {
    "ExecuteTime": {
     "end_time": "2020-11-13T19:14:04.089627Z",
     "start_time": "2020-11-13T19:14:04.079687Z"
    }
   },
   "outputs": [],
   "source": [
    "# Use the built-in functools module and partial function\n",
    "\n",
    "from functools import partial\n",
    "add_five = partial(add_numbers, 5)"
   ]
  },
  {
   "cell_type": "markdown",
   "metadata": {},
   "source": [
    "### Generators\n",
    "- Having a consistent way to iterate over sequences, like objects in a list or lines in a file, is an important Python feature.\n",
    "- **Iterator protocol** = a generic way to make objects iterable.\n",
    "- **Iterator** = is any object that will yield objects to the Python interpreter when used in a context like a for loop.\n",
    "- Most methods expecting a list or list-like object will also accept any iterable object, like built-in methods such as min, max, and sum, and type constructors like list and tuple.\n",
    "- **Generator** = is a concise way to construct a new iterable object. \n",
    "- Whereas normal functions execute and return a single result at a time, generators return a sequence of multiple results lazily, pausing after each one until the next one is requested. \n",
    "- To create a **generator**, use the **yield** keyword instead of return in a function.\n",
    "- When you actually call the **generator**, no code is immediately executed, not until you request elements from the generator that it begins executing its code."
   ]
  },
  {
   "cell_type": "code",
   "execution_count": 72,
   "metadata": {
    "ExecuteTime": {
     "end_time": "2020-11-14T07:26:16.430989Z",
     "start_time": "2020-11-14T07:26:16.417027Z"
    }
   },
   "outputs": [
    {
     "name": "stdout",
     "output_type": "stream",
     "text": [
      "a\n",
      "b\n",
      "c\n"
     ]
    }
   ],
   "source": [
    "# Iterating over a dict yields the dict keys\n",
    "\n",
    "some_dict = {'a': 1, 'b': 2, 'c': 3}\n",
    "\n",
    "for key in some_dict:\n",
    "    print(key)"
   ]
  },
  {
   "cell_type": "code",
   "execution_count": 74,
   "metadata": {
    "ExecuteTime": {
     "end_time": "2020-11-14T07:27:27.003584Z",
     "start_time": "2020-11-14T07:27:26.984636Z"
    }
   },
   "outputs": [
    {
     "data": {
      "text/plain": [
       "<dict_keyiterator at 0x1e8e44daa98>"
      ]
     },
     "execution_count": 74,
     "metadata": {},
     "output_type": "execute_result"
    }
   ],
   "source": [
    "# When you write for key in some_dict, the Python interpreter first attempts to create \n",
    "# an iterator out of some_dict\n",
    "\n",
    "dict_iterator = iter(some_dict)\n",
    "dict_iterator"
   ]
  },
  {
   "cell_type": "code",
   "execution_count": 75,
   "metadata": {
    "ExecuteTime": {
     "end_time": "2020-11-14T07:28:33.514773Z",
     "start_time": "2020-11-14T07:28:33.503805Z"
    }
   },
   "outputs": [
    {
     "data": {
      "text/plain": [
       "['a', 'b', 'c']"
      ]
     },
     "execution_count": 75,
     "metadata": {},
     "output_type": "execute_result"
    }
   ],
   "source": [
    "# The type constructor list accepts any iterable object\n",
    "\n",
    "list(dict_iterator)"
   ]
  },
  {
   "cell_type": "code",
   "execution_count": 76,
   "metadata": {
    "ExecuteTime": {
     "end_time": "2020-11-14T07:29:55.125316Z",
     "start_time": "2020-11-14T07:29:55.106366Z"
    }
   },
   "outputs": [],
   "source": [
    "# Create a generator using the yield keyword\n",
    "\n",
    "def squares(n=10):\n",
    "    print('Generating squares from 1 to {0}'.format(n ** 2))\n",
    "    for i in range(1, n + 1):\n",
    "        yield i ** 2"
   ]
  },
  {
   "cell_type": "code",
   "execution_count": 77,
   "metadata": {
    "ExecuteTime": {
     "end_time": "2020-11-14T07:30:36.698985Z",
     "start_time": "2020-11-14T07:30:36.691983Z"
    }
   },
   "outputs": [
    {
     "data": {
      "text/plain": [
       "<generator object squares at 0x000001E8E4B3E6C8>"
      ]
     },
     "execution_count": 77,
     "metadata": {},
     "output_type": "execute_result"
    }
   ],
   "source": [
    "# Calling the generator no code is immediately executed\n",
    "\n",
    "gen = squares()\n",
    "gen"
   ]
  },
  {
   "cell_type": "code",
   "execution_count": 78,
   "metadata": {
    "ExecuteTime": {
     "end_time": "2020-11-14T07:31:08.736439Z",
     "start_time": "2020-11-14T07:31:08.723441Z"
    }
   },
   "outputs": [
    {
     "name": "stdout",
     "output_type": "stream",
     "text": [
      "Generating squares from 1 to 100\n",
      "1 4 9 16 25 36 49 64 81 100 "
     ]
    }
   ],
   "source": [
    "# Request elements from the generator\n",
    "\n",
    "for x in gen:\n",
    "    print(x, end=' ')"
   ]
  },
  {
   "cell_type": "markdown",
   "metadata": {},
   "source": [
    "#### Generator expresssions\n",
    "- A more concise way to make a generator is by using a **generator expression**.\n",
    "- This is a generator analogue to list, dict, and set comprehensions.\n",
    "- To create one, enclose what would otherwise be a list comprehension within parentheses instead of brackets."
   ]
  },
  {
   "cell_type": "code",
   "execution_count": 79,
   "metadata": {
    "ExecuteTime": {
     "end_time": "2020-11-14T07:35:47.183800Z",
     "start_time": "2020-11-14T07:35:47.176851Z"
    }
   },
   "outputs": [
    {
     "data": {
      "text/plain": [
       "<generator object <genexpr> at 0x000001E8E4B3E3C8>"
      ]
     },
     "execution_count": 79,
     "metadata": {},
     "output_type": "execute_result"
    }
   ],
   "source": [
    "# Generator expression\n",
    "\n",
    "gen = (x ** 2 for x in range(100))\n",
    "gen"
   ]
  },
  {
   "cell_type": "code",
   "execution_count": 81,
   "metadata": {
    "ExecuteTime": {
     "end_time": "2020-11-14T07:37:19.693506Z",
     "start_time": "2020-11-14T07:37:19.681574Z"
    }
   },
   "outputs": [
    {
     "data": {
      "text/plain": [
       "<generator object _make_gen at 0x000001E8E4B3EAC8>"
      ]
     },
     "execution_count": 81,
     "metadata": {},
     "output_type": "execute_result"
    }
   ],
   "source": [
    "# Above generator expression is equivalent to the following function\n",
    "\n",
    "def _make_gen():\n",
    "    for x in range(100):\n",
    "        yield x ** 2\n",
    "gen = _make_gen()\n",
    "\n",
    "gen"
   ]
  },
  {
   "cell_type": "code",
   "execution_count": 82,
   "metadata": {
    "ExecuteTime": {
     "end_time": "2020-11-14T07:38:19.744690Z",
     "start_time": "2020-11-14T07:38:19.732683Z"
    }
   },
   "outputs": [
    {
     "data": {
      "text/plain": [
       "{0: 0, 1: 1, 2: 4, 3: 9, 4: 16}"
      ]
     },
     "execution_count": 82,
     "metadata": {},
     "output_type": "execute_result"
    }
   ],
   "source": [
    "# Generator expressions can be used instead of list comprehensions as function arguments\n",
    "\n",
    "dict((i, i **2) for i in range(5))"
   ]
  },
  {
   "cell_type": "markdown",
   "metadata": {},
   "source": [
    "#### itertools module\n",
    "- The standard library **itertools** module has a collection of generators for many common data algorithms."
   ]
  },
  {
   "cell_type": "code",
   "execution_count": 83,
   "metadata": {
    "ExecuteTime": {
     "end_time": "2020-11-14T07:53:48.778547Z",
     "start_time": "2020-11-14T07:53:48.742676Z"
    }
   },
   "outputs": [
    {
     "name": "stdout",
     "output_type": "stream",
     "text": [
      "A ['Alan', 'Adam']\n",
      "W ['Wes', 'Will']\n",
      "A ['Albert']\n",
      "S ['Steven']\n"
     ]
    }
   ],
   "source": [
    "# Import the itertools module\n",
    "import itertools\n",
    "\n",
    "# Define a lambda function that takes the first element of a sequence\n",
    "first_letter = lambda x: x[0]\n",
    "\n",
    "# Create a list of names\n",
    "names = ['Alan', 'Adam', 'Wes', 'Will', 'Albert', 'Steven']\n",
    "\n",
    "# Loop over the names in the list & group them by first letter\n",
    "for letter, names in itertools.groupby(names, first_letter):\n",
    "    print(letter, list(names)) # names is a generator"
   ]
  },
  {
   "cell_type": "markdown",
   "metadata": {},
   "source": [
    "#### Some useful itertools functions\n",
    "    Function                     Description\n",
    "    combinations(iterable, k)    Generates a sequence of all possible k-tuples of elements in the iterable,   ignoring order and without replacement (see also the companion function combinations_with_replacement)\n",
    "\n",
    "    permutations(iterable, k)    Generates a sequence of all possible k-tuples of elements in the iterable, respecting order\n",
    "\n",
    "    groupby(iterable[, keyfunc]) Generates (key, sub-iterator) for each unique \n",
    "    \n",
    "    key product(*iterables, repeat=1) Generates the Cartesian product of the input iterables as tuples, similar to a nested for loop"
   ]
  },
  {
   "cell_type": "markdown",
   "metadata": {},
   "source": [
    "### Errors and Exception Handling\n",
    "- Handling Python **errors** or **exceptions** is an important part of building robust programs.\n",
    "- In data analysis applications, many functions only work on certain kinds of input.\n",
    "- To handle **errors** or **exceptions** we can use the **try/except** block.\n",
    "- To suppress a certain exception write the **exception type** after except.\n",
    "- You can catch multiple exception types by writing a tuple of exception types instead (the parentheses are required.\n",
    "- In some cases, you may not want to suppress an exception, but you want some code to be executed regardless of whether the code in the try block succeeds or not. To do this, use **finally:**.\n",
    "- Similarly, you can have code that executes only if the try: block succeeds using **else:**"
   ]
  },
  {
   "cell_type": "code",
   "execution_count": 84,
   "metadata": {
    "ExecuteTime": {
     "end_time": "2020-11-14T08:01:06.111957Z",
     "start_time": "2020-11-14T08:01:06.083992Z"
    }
   },
   "outputs": [
    {
     "name": "stdout",
     "output_type": "stream",
     "text": [
      "1.2345\n"
     ]
    },
    {
     "ename": "ValueError",
     "evalue": "could not convert string to float: 'something'",
     "output_type": "error",
     "traceback": [
      "\u001b[1;31m---------------------------------------------------------------------------\u001b[0m",
      "\u001b[1;31mValueError\u001b[0m                                Traceback (most recent call last)",
      "\u001b[1;32m<ipython-input-84-9aff69019d4e>\u001b[0m in \u001b[0;36m<module>\u001b[1;34m\u001b[0m\n\u001b[0;32m      3\u001b[0m \u001b[1;33m\u001b[0m\u001b[0m\n\u001b[0;32m      4\u001b[0m \u001b[0mprint\u001b[0m\u001b[1;33m(\u001b[0m\u001b[0mfloat\u001b[0m\u001b[1;33m(\u001b[0m\u001b[1;34m'1.2345'\u001b[0m\u001b[1;33m)\u001b[0m\u001b[1;33m)\u001b[0m\u001b[1;33m\u001b[0m\u001b[1;33m\u001b[0m\u001b[0m\n\u001b[1;32m----> 5\u001b[1;33m \u001b[0mprint\u001b[0m\u001b[1;33m(\u001b[0m\u001b[0mfloat\u001b[0m\u001b[1;33m(\u001b[0m\u001b[1;34m'something'\u001b[0m\u001b[1;33m)\u001b[0m\u001b[1;33m)\u001b[0m\u001b[1;33m\u001b[0m\u001b[1;33m\u001b[0m\u001b[0m\n\u001b[0m",
      "\u001b[1;31mValueError\u001b[0m: could not convert string to float: 'something'"
     ]
    }
   ],
   "source": [
    "# Python’s float function is capable of casting a string to a floating-point number, \n",
    "# but fails with ValueError on improper inputs\n",
    "\n",
    "print(float('1.2345'))\n",
    "print(float('something'))"
   ]
  },
  {
   "cell_type": "code",
   "execution_count": 86,
   "metadata": {
    "ExecuteTime": {
     "end_time": "2020-11-14T08:05:10.339966Z",
     "start_time": "2020-11-14T08:05:10.317989Z"
    }
   },
   "outputs": [],
   "source": [
    "# Define a function to handle the exceptions from float function\n",
    "def attempt_float(x):\n",
    "    try:\n",
    "        return float(x)\n",
    "    except:\n",
    "        return x\n",
    "    \n",
    "# The code in the except: part of the block will only be executed if float(x) raises an exception"
   ]
  },
  {
   "cell_type": "code",
   "execution_count": 87,
   "metadata": {
    "ExecuteTime": {
     "end_time": "2020-11-14T08:05:12.091967Z",
     "start_time": "2020-11-14T08:05:12.081994Z"
    }
   },
   "outputs": [
    {
     "data": {
      "text/plain": [
       "'something'"
      ]
     },
     "execution_count": 87,
     "metadata": {},
     "output_type": "execute_result"
    }
   ],
   "source": [
    "# Call the function attempt_float()\n",
    "attempt_float('something')"
   ]
  },
  {
   "cell_type": "code",
   "execution_count": 88,
   "metadata": {
    "ExecuteTime": {
     "end_time": "2020-11-14T08:05:50.146691Z",
     "start_time": "2020-11-14T08:05:50.130735Z"
    }
   },
   "outputs": [
    {
     "ename": "TypeError",
     "evalue": "float() argument must be a string or a number, not 'tuple'",
     "output_type": "error",
     "traceback": [
      "\u001b[1;31m---------------------------------------------------------------------------\u001b[0m",
      "\u001b[1;31mTypeError\u001b[0m                                 Traceback (most recent call last)",
      "\u001b[1;32m<ipython-input-88-dd4e02c5c09f>\u001b[0m in \u001b[0;36m<module>\u001b[1;34m\u001b[0m\n\u001b[0;32m      1\u001b[0m \u001b[1;31m# Float can raise exceptions other than ValueError\u001b[0m\u001b[1;33m\u001b[0m\u001b[1;33m\u001b[0m\u001b[1;33m\u001b[0m\u001b[0m\n\u001b[1;32m----> 2\u001b[1;33m \u001b[0mfloat\u001b[0m\u001b[1;33m(\u001b[0m\u001b[1;33m(\u001b[0m\u001b[1;36m1\u001b[0m\u001b[1;33m,\u001b[0m \u001b[1;36m2\u001b[0m\u001b[1;33m)\u001b[0m\u001b[1;33m)\u001b[0m\u001b[1;33m\u001b[0m\u001b[1;33m\u001b[0m\u001b[0m\n\u001b[0m",
      "\u001b[1;31mTypeError\u001b[0m: float() argument must be a string or a number, not 'tuple'"
     ]
    }
   ],
   "source": [
    "# Float can raise exceptions other than ValueError\n",
    "float((1, 2))"
   ]
  },
  {
   "cell_type": "code",
   "execution_count": 91,
   "metadata": {
    "ExecuteTime": {
     "end_time": "2020-11-14T08:07:49.230406Z",
     "start_time": "2020-11-14T08:07:49.217419Z"
    }
   },
   "outputs": [
    {
     "ename": "TypeError",
     "evalue": "float() argument must be a string or a number, not 'tuple'",
     "output_type": "error",
     "traceback": [
      "\u001b[1;31m---------------------------------------------------------------------------\u001b[0m",
      "\u001b[1;31mTypeError\u001b[0m                                 Traceback (most recent call last)",
      "\u001b[1;32m<ipython-input-91-8f7f67b05c6d>\u001b[0m in \u001b[0;36m<module>\u001b[1;34m\u001b[0m\n\u001b[0;32m      9\u001b[0m         \u001b[1;32mreturn\u001b[0m \u001b[0mx\u001b[0m\u001b[1;33m\u001b[0m\u001b[1;33m\u001b[0m\u001b[0m\n\u001b[0;32m     10\u001b[0m \u001b[1;33m\u001b[0m\u001b[0m\n\u001b[1;32m---> 11\u001b[1;33m \u001b[0mattempt_float\u001b[0m\u001b[1;33m(\u001b[0m\u001b[1;33m(\u001b[0m\u001b[1;36m1\u001b[0m\u001b[1;33m,\u001b[0m \u001b[1;36m2\u001b[0m\u001b[1;33m)\u001b[0m\u001b[1;33m)\u001b[0m\u001b[1;33m\u001b[0m\u001b[1;33m\u001b[0m\u001b[0m\n\u001b[0m",
      "\u001b[1;32m<ipython-input-91-8f7f67b05c6d>\u001b[0m in \u001b[0;36mattempt_float\u001b[1;34m(x)\u001b[0m\n\u001b[0;32m      5\u001b[0m \u001b[1;32mdef\u001b[0m \u001b[0mattempt_float\u001b[0m\u001b[1;33m(\u001b[0m\u001b[0mx\u001b[0m\u001b[1;33m)\u001b[0m\u001b[1;33m:\u001b[0m\u001b[1;33m\u001b[0m\u001b[1;33m\u001b[0m\u001b[0m\n\u001b[0;32m      6\u001b[0m     \u001b[1;32mtry\u001b[0m\u001b[1;33m:\u001b[0m\u001b[1;33m\u001b[0m\u001b[1;33m\u001b[0m\u001b[0m\n\u001b[1;32m----> 7\u001b[1;33m         \u001b[1;32mreturn\u001b[0m \u001b[0mfloat\u001b[0m\u001b[1;33m(\u001b[0m\u001b[0mx\u001b[0m\u001b[1;33m)\u001b[0m\u001b[1;33m\u001b[0m\u001b[1;33m\u001b[0m\u001b[0m\n\u001b[0m\u001b[0;32m      8\u001b[0m     \u001b[1;32mexcept\u001b[0m \u001b[0mValueError\u001b[0m\u001b[1;33m:\u001b[0m\u001b[1;33m\u001b[0m\u001b[1;33m\u001b[0m\u001b[0m\n\u001b[0;32m      9\u001b[0m         \u001b[1;32mreturn\u001b[0m \u001b[0mx\u001b[0m\u001b[1;33m\u001b[0m\u001b[1;33m\u001b[0m\u001b[0m\n",
      "\u001b[1;31mTypeError\u001b[0m: float() argument must be a string or a number, not 'tuple'"
     ]
    }
   ],
   "source": [
    "# To only suppress ValueError, since a TypeError (the input was not a\n",
    "# string or numeric value) might indicate a legitimate bug in your program\n",
    "# write the exception type after except\n",
    "\n",
    "def attempt_float(x):\n",
    "    try:\n",
    "        return float(x)\n",
    "    except ValueError:\n",
    "        return x\n",
    "    \n",
    "attempt_float((1, 2))"
   ]
  },
  {
   "cell_type": "code",
   "execution_count": 92,
   "metadata": {
    "ExecuteTime": {
     "end_time": "2020-11-14T08:08:29.881591Z",
     "start_time": "2020-11-14T08:08:29.863640Z"
    }
   },
   "outputs": [],
   "source": [
    "# You can catch multiple exception types by writing a tuple of exception types instead\n",
    "# (the parentheses are required)\n",
    "\n",
    "def attempt_float(x):\n",
    "    try:\n",
    "        return float(x)\n",
    "    except (TypeError, ValueError):\n",
    "        return x"
   ]
  },
  {
   "cell_type": "code",
   "execution_count": 93,
   "metadata": {
    "ExecuteTime": {
     "end_time": "2020-11-14T08:15:13.723067Z",
     "start_time": "2020-11-14T08:15:13.704112Z"
    }
   },
   "outputs": [
    {
     "ename": "NameError",
     "evalue": "name 'path' is not defined",
     "output_type": "error",
     "traceback": [
      "\u001b[1;31m---------------------------------------------------------------------------\u001b[0m",
      "\u001b[1;31mNameError\u001b[0m                                 Traceback (most recent call last)",
      "\u001b[1;32m<ipython-input-93-5fd80dc2f3a6>\u001b[0m in \u001b[0;36m<module>\u001b[1;34m\u001b[0m\n\u001b[0;32m      2\u001b[0m \u001b[1;33m\u001b[0m\u001b[0m\n\u001b[0;32m      3\u001b[0m \u001b[1;31m# Open a file handle\u001b[0m\u001b[1;33m\u001b[0m\u001b[1;33m\u001b[0m\u001b[1;33m\u001b[0m\u001b[0m\n\u001b[1;32m----> 4\u001b[1;33m \u001b[0mf\u001b[0m \u001b[1;33m=\u001b[0m \u001b[0mopen\u001b[0m\u001b[1;33m(\u001b[0m\u001b[0mpath\u001b[0m\u001b[1;33m,\u001b[0m \u001b[1;34m'w'\u001b[0m\u001b[1;33m)\u001b[0m\u001b[1;33m\u001b[0m\u001b[1;33m\u001b[0m\u001b[0m\n\u001b[0m\u001b[0;32m      5\u001b[0m \u001b[1;33m\u001b[0m\u001b[0m\n\u001b[0;32m      6\u001b[0m \u001b[1;32mtry\u001b[0m\u001b[1;33m:\u001b[0m\u001b[1;33m\u001b[0m\u001b[1;33m\u001b[0m\u001b[0m\n",
      "\u001b[1;31mNameError\u001b[0m: name 'path' is not defined"
     ]
    }
   ],
   "source": [
    "# Use finally: to execute some code regardless if the try: block succeeds or not\n",
    "\n",
    "# Open a file handle\n",
    "f = open(path, 'w')\n",
    "\n",
    "try:\n",
    "    write_to_file(f)\n",
    "finally:\n",
    "    f.close()  # the file handle f will always get closed"
   ]
  },
  {
   "cell_type": "code",
   "execution_count": 94,
   "metadata": {
    "ExecuteTime": {
     "end_time": "2020-11-14T08:16:23.614398Z",
     "start_time": "2020-11-14T08:16:23.595441Z"
    }
   },
   "outputs": [
    {
     "ename": "NameError",
     "evalue": "name 'path' is not defined",
     "output_type": "error",
     "traceback": [
      "\u001b[1;31m---------------------------------------------------------------------------\u001b[0m",
      "\u001b[1;31mNameError\u001b[0m                                 Traceback (most recent call last)",
      "\u001b[1;32m<ipython-input-94-419e717e8a58>\u001b[0m in \u001b[0;36m<module>\u001b[1;34m\u001b[0m\n\u001b[0;32m      1\u001b[0m \u001b[1;31m# you can have code that executes only if the try: block succeeds using else:\u001b[0m\u001b[1;33m\u001b[0m\u001b[1;33m\u001b[0m\u001b[1;33m\u001b[0m\u001b[0m\n\u001b[0;32m      2\u001b[0m \u001b[1;33m\u001b[0m\u001b[0m\n\u001b[1;32m----> 3\u001b[1;33m \u001b[0mf\u001b[0m \u001b[1;33m=\u001b[0m \u001b[0mopen\u001b[0m\u001b[1;33m(\u001b[0m\u001b[0mpath\u001b[0m\u001b[1;33m,\u001b[0m \u001b[1;34m'w'\u001b[0m\u001b[1;33m)\u001b[0m\u001b[1;33m\u001b[0m\u001b[1;33m\u001b[0m\u001b[0m\n\u001b[0m\u001b[0;32m      4\u001b[0m \u001b[1;33m\u001b[0m\u001b[0m\n\u001b[0;32m      5\u001b[0m \u001b[1;32mtry\u001b[0m\u001b[1;33m:\u001b[0m\u001b[1;33m\u001b[0m\u001b[1;33m\u001b[0m\u001b[0m\n",
      "\u001b[1;31mNameError\u001b[0m: name 'path' is not defined"
     ]
    }
   ],
   "source": [
    "# you can have code that executes only if the try: block succeeds using else:\n",
    "\n",
    "f = open(path, 'w')\n",
    "\n",
    "try:\n",
    "    write_to_file(f)\n",
    "except:\n",
    "    print('Failed')\n",
    "else:\n",
    "    print('Succeeded')\n",
    "finally:\n",
    "    f.close()"
   ]
  },
  {
   "cell_type": "markdown",
   "metadata": {},
   "source": [
    "## Files and the Operating System\n",
    "- To open a file for reading or writing, use the built-in **open** function with either a relative or absolute file path.\n",
    "- By default, the file is opened in read-only mode 'r'.\n",
    "- We can then treat the **file handle** f like a list and iterate over the lines.\n",
    "- We can then treat the **file handle** f like a list and iterate over the lines like:\n",
    "        for line in f:\n",
    "            pass\n",
    "- The lines come out of the file with the end-of-line (EOL) markers intact, so you’ll often see code to get an EOL-free list of lines from a file.\n",
    "- When you use **open** to create file objects, it is important to explicitly **close** the file when you are finished with it. \n",
    "- Closing the file releases its resources back to the operating system.\n",
    "- One of the ways to make it easier to clean up open files is to use the **with** statement.\n",
    "- Using **f = open(path, 'w')** would overwrite our file at *examples/segismundo.txt*. \n",
    "- There is also the 'x' file mode, which creates a writable file but fails if the file path already exists."
   ]
  },
  {
   "cell_type": "code",
   "execution_count": 1,
   "metadata": {
    "ExecuteTime": {
     "end_time": "2020-11-14T11:33:09.811336Z",
     "start_time": "2020-11-14T11:33:09.789363Z"
    }
   },
   "outputs": [],
   "source": [
    "# Define the file path\n",
    "path = 'examples/segismundo.txt'\n",
    "\n",
    "# Read the file using the open function\n",
    "f = open(path)"
   ]
  },
  {
   "cell_type": "code",
   "execution_count": 4,
   "metadata": {
    "ExecuteTime": {
     "end_time": "2020-11-14T11:37:17.703175Z",
     "start_time": "2020-11-14T11:37:17.686165Z"
    }
   },
   "outputs": [
    {
     "data": {
      "text/plain": [
       "['SueÃ±a el rico en su riqueza,',\n",
       " 'que mÃ¡s cuidados le ofrece;',\n",
       " '',\n",
       " 'sueÃ±a el pobre que padece',\n",
       " 'su miseria y su pobreza;',\n",
       " '',\n",
       " 'sueÃ±a el que a medrar empieza,',\n",
       " 'sueÃ±a el que afana y pretende,',\n",
       " 'sueÃ±a el que agravia y ofende,',\n",
       " '',\n",
       " 'y en el mundo, en conclusiÃ³n,',\n",
       " 'todos sueÃ±an lo que son,',\n",
       " 'aunque ninguno lo entiende.',\n",
       " '']"
      ]
     },
     "execution_count": 4,
     "metadata": {},
     "output_type": "execute_result"
    }
   ],
   "source": [
    "# Get rid of EOL markers from file f & create a list of lines\n",
    "lines = [x.rstrip() for x in open(path)]\n",
    "lines"
   ]
  },
  {
   "cell_type": "code",
   "execution_count": 5,
   "metadata": {
    "ExecuteTime": {
     "end_time": "2020-11-14T11:38:33.177598Z",
     "start_time": "2020-11-14T11:38:33.163670Z"
    }
   },
   "outputs": [],
   "source": [
    "# Close the file\n",
    "f.close()"
   ]
  },
  {
   "cell_type": "code",
   "execution_count": 6,
   "metadata": {
    "ExecuteTime": {
     "end_time": "2020-11-14T11:40:33.118139Z",
     "start_time": "2020-11-14T11:40:33.103180Z"
    }
   },
   "outputs": [],
   "source": [
    "# Use with statement to open a file\n",
    "with open(path) as f:\n",
    "    lines = [x.rstrip() for x in f]\n",
    "    \n",
    "# This will automatically close the file f when exiting the with block"
   ]
  },
  {
   "cell_type": "markdown",
   "metadata": {},
   "source": [
    "#### Readable files\n",
    "- For readable files, some of the most commonly used methods are **read**, **seek**, and **tell**.\n",
    "- **read** = returns a certain number of characters from the file.\n",
    "- The **read** method advances the file handle’s position by the number of bytes read.\n",
    "- What constitutes a “character” is determined by the file’s encoding (e.g., UTF-8) or simply raw bytes if the file is opened in binary mode.\n",
    "- **tell** = gives you the current position.\n",
    "- **seek** = changes the file position to the indicated byte in the file."
   ]
  },
  {
   "cell_type": "code",
   "execution_count": 24,
   "metadata": {
    "ExecuteTime": {
     "end_time": "2020-11-14T12:21:28.416952Z",
     "start_time": "2020-11-14T12:21:28.409967Z"
    }
   },
   "outputs": [
    {
     "data": {
      "text/plain": [
       "'SueÃ±a el '"
      ]
     },
     "execution_count": 24,
     "metadata": {},
     "output_type": "execute_result"
    }
   ],
   "source": [
    "# Open the file handle\n",
    "f = open(path)\n",
    "\n",
    "# Read 10 characters from the file\n",
    "f.read(10)"
   ]
  },
  {
   "cell_type": "code",
   "execution_count": 25,
   "metadata": {
    "ExecuteTime": {
     "end_time": "2020-11-14T12:21:28.432873Z",
     "start_time": "2020-11-14T12:21:28.418912Z"
    }
   },
   "outputs": [
    {
     "data": {
      "text/plain": [
       "b'Sue\\xc3\\xb1a el '"
      ]
     },
     "execution_count": 25,
     "metadata": {},
     "output_type": "execute_result"
    }
   ],
   "source": [
    "# Open the file handle in binary mode\n",
    "f2 = open(path, 'rb')\n",
    "\n",
    "# Read 10 bytes\n",
    "f2.read(10)"
   ]
  },
  {
   "cell_type": "code",
   "execution_count": 26,
   "metadata": {
    "ExecuteTime": {
     "end_time": "2020-11-14T12:21:28.448866Z",
     "start_time": "2020-11-14T12:21:28.434869Z"
    }
   },
   "outputs": [
    {
     "data": {
      "text/plain": [
       "10"
      ]
     },
     "execution_count": 26,
     "metadata": {},
     "output_type": "execute_result"
    }
   ],
   "source": [
    "# Use tell method to check teh position\n",
    "f.tell()"
   ]
  },
  {
   "cell_type": "code",
   "execution_count": 27,
   "metadata": {
    "ExecuteTime": {
     "end_time": "2020-11-14T12:21:28.464824Z",
     "start_time": "2020-11-14T12:21:28.450825Z"
    },
    "scrolled": true
   },
   "outputs": [
    {
     "data": {
      "text/plain": [
       "10"
      ]
     },
     "execution_count": 27,
     "metadata": {},
     "output_type": "execute_result"
    }
   ],
   "source": [
    "# Use tell method to check the position\n",
    "f2.tell()"
   ]
  },
  {
   "cell_type": "code",
   "execution_count": 28,
   "metadata": {
    "ExecuteTime": {
     "end_time": "2020-11-14T12:21:28.480792Z",
     "start_time": "2020-11-14T12:21:28.465813Z"
    }
   },
   "outputs": [
    {
     "data": {
      "text/plain": [
       "'utf-8'"
      ]
     },
     "execution_count": 28,
     "metadata": {},
     "output_type": "execute_result"
    }
   ],
   "source": [
    "# You can check the default encoding in the sys module\n",
    "import sys\n",
    "sys.getdefaultencoding()"
   ]
  },
  {
   "cell_type": "code",
   "execution_count": 29,
   "metadata": {
    "ExecuteTime": {
     "end_time": "2020-11-14T12:21:28.496748Z",
     "start_time": "2020-11-14T12:21:28.481745Z"
    }
   },
   "outputs": [
    {
     "data": {
      "text/plain": [
       "'Ã'"
      ]
     },
     "execution_count": 29,
     "metadata": {},
     "output_type": "execute_result"
    }
   ],
   "source": [
    "# Use seek to change to the inidcated byte in teh file\n",
    "f.seek(3)\n",
    "f.read(1)"
   ]
  },
  {
   "cell_type": "code",
   "execution_count": 30,
   "metadata": {
    "ExecuteTime": {
     "end_time": "2020-11-14T12:21:28.512702Z",
     "start_time": "2020-11-14T12:21:28.498699Z"
    }
   },
   "outputs": [],
   "source": [
    "# Close the file\n",
    "f.close()\n",
    "f2.close()"
   ]
  },
  {
   "cell_type": "markdown",
   "metadata": {},
   "source": [
    "#### Python file modes"
   ]
  },
  {
   "cell_type": "markdown",
   "metadata": {},
   "source": [
    "| Mode                  | Description |\n",
    "| :---                  |    :----    |\n",
    "| r                     | Read-only mode| \n",
    "| w                     | Write-only mode; creates a new file (erasing the data for any file with the same name)|\n",
    "| x            | Write-only mode; creates a new file, but fails if the file path already exists|\n",
    "| a   | Append to existing file (create the file if it does not already exist)|\n",
    "| r+               | Read and write        |\n",
    "| b               | Add to mode for binary files (i.e., 'rb' or 'wb')        |\n",
    "| t             | Text mode for files (automatically decoding bytes to Unicode). This is the default if not specified. Add t to other modes to use this (i.e., 'rt' or 'xt')        |"
   ]
  },
  {
   "cell_type": "markdown",
   "metadata": {},
   "source": [
    "#### Writing to a file\n",
    "- To write text to a file, you can use the file’s **write** or **writelines** methods."
   ]
  },
  {
   "cell_type": "code",
   "execution_count": 31,
   "metadata": {
    "ExecuteTime": {
     "end_time": "2020-11-14T12:21:28.528665Z",
     "start_time": "2020-11-14T12:21:28.514657Z"
    }
   },
   "outputs": [],
   "source": [
    "# Write to a file called 'tmp.txt'\n",
    "with open('tmp.txt', 'w') as handle:\n",
    "    handle.writelines(x for x in open(path) if len(x) > 1)"
   ]
  },
  {
   "cell_type": "code",
   "execution_count": 37,
   "metadata": {
    "ExecuteTime": {
     "end_time": "2020-11-14T12:29:49.500872Z",
     "start_time": "2020-11-14T12:29:49.489875Z"
    }
   },
   "outputs": [
    {
     "data": {
      "text/plain": [
       "['SueÃ±a el rico en su riqueza,\\n',\n",
       " 'que mÃ¡s cuidados le ofrece;\\n',\n",
       " 'sueÃ±a el pobre que padece\\n',\n",
       " 'su miseria y su pobreza;\\n',\n",
       " 'sueÃ±a el que a medrar empieza,\\n',\n",
       " 'sueÃ±a el que afana y pretende,\\n',\n",
       " 'sueÃ±a el que agravia y ofende,\\n',\n",
       " 'y en el mundo, en conclusiÃ³n,\\n',\n",
       " 'todos sueÃ±an lo que son,\\n',\n",
       " 'aunque ninguno lo entiende.\\n']"
      ]
     },
     "execution_count": 37,
     "metadata": {},
     "output_type": "execute_result"
    }
   ],
   "source": [
    "# Check the lines of the file you created above\n",
    "with open('tmp.txt') as f:\n",
    "    lines = f.readlines()\n",
    "    \n",
    "lines"
   ]
  },
  {
   "cell_type": "markdown",
   "metadata": {},
   "source": [
    "#### Important Python file methods or attributes"
   ]
  },
  {
   "cell_type": "markdown",
   "metadata": {},
   "source": [
    "| Syntax                | Description |\n",
    "| :---                  |    :----    |\n",
    "| read([size])          | Return data from file as a string, with optional size argument indicating the     number of bytes to read       | \n",
    "| readlines([size])     | Return list of lines in the file, with optional size argument        |\n",
    "| write(str)            | Write passed string to file        |\n",
    "| writelines(strings)   | Write passed sequence of strings to the file        |\n",
    "| close()               | Close the handle        |\n",
    "| flush()               | Flush the internal I/O buffer to disk        |\n",
    "| seek(pos)             | Move to indicated file position (integer)        |\n",
    "| tell()                | Return current file position as integer        |\n",
    "| closed                | True if the file is closed        |"
   ]
  },
  {
   "cell_type": "markdown",
   "metadata": {},
   "source": [
    "#### Bytes and Unicode with Files\n",
    "- The default behavior for Python files is text mode, which means that you intend to work with Python strings (i.e., **Unicode**).\n",
    "- This contrasts with binary mode, which you can obtain by appending b onto the file mode.\n",
    "- UTF-8 is a variable-length Unicode encoding.\n",
    "- Depending on the text encoding, you may be able to **decode** the bytes to a str object.\n",
    "- Text mode, combined with the **encoding** option of open, provides a convenient way to convert from one Unicode encoding to another.\n",
    "- Beware using **seek** when opening files in any mode other than binary. \n",
    "- If the file position falls in the middle of the bytes defining a Unicode character, then subsequent reads will result in an error."
   ]
  },
  {
   "cell_type": "code",
   "execution_count": 41,
   "metadata": {
    "ExecuteTime": {
     "end_time": "2020-11-14T12:32:37.969737Z",
     "start_time": "2020-11-14T12:32:37.956765Z"
    }
   },
   "outputs": [
    {
     "data": {
      "text/plain": [
       "b'Sue\\xc3\\xb1a el '"
      ]
     },
     "execution_count": 41,
     "metadata": {},
     "output_type": "execute_result"
    }
   ],
   "source": [
    "# Open the file as bytes\n",
    "with open(path, 'rb') as f:\n",
    "    data = f.read(10)\n",
    "    \n",
    "data"
   ]
  },
  {
   "cell_type": "code",
   "execution_count": 42,
   "metadata": {
    "ExecuteTime": {
     "end_time": "2020-11-14T12:33:12.028380Z",
     "start_time": "2020-11-14T12:33:12.009463Z"
    }
   },
   "outputs": [
    {
     "data": {
      "text/plain": [
       "'Sueña el '"
      ]
     },
     "execution_count": 42,
     "metadata": {},
     "output_type": "execute_result"
    }
   ],
   "source": [
    "# Use decode to create a str object\n",
    "data.decode('utf8')"
   ]
  }
 ],
 "metadata": {
  "kernelspec": {
   "display_name": "Python 3",
   "language": "python",
   "name": "python3"
  },
  "language_info": {
   "codemirror_mode": {
    "name": "ipython",
    "version": 3
   },
   "file_extension": ".py",
   "mimetype": "text/x-python",
   "name": "python",
   "nbconvert_exporter": "python",
   "pygments_lexer": "ipython3",
   "version": "3.7.5"
  },
  "toc": {
   "base_numbering": 1,
   "nav_menu": {},
   "number_sections": true,
   "sideBar": true,
   "skip_h1_title": true,
   "title_cell": "Table of Contents",
   "title_sidebar": "Contents",
   "toc_cell": false,
   "toc_position": {
    "height": "calc(100% - 180px)",
    "left": "10px",
    "top": "150px",
    "width": "258px"
   },
   "toc_section_display": true,
   "toc_window_display": true
  },
  "varInspector": {
   "cols": {
    "lenName": 16,
    "lenType": 16,
    "lenVar": 40
   },
   "kernels_config": {
    "python": {
     "delete_cmd_postfix": "",
     "delete_cmd_prefix": "del ",
     "library": "var_list.py",
     "varRefreshCmd": "print(var_dic_list())"
    },
    "r": {
     "delete_cmd_postfix": ") ",
     "delete_cmd_prefix": "rm(",
     "library": "var_list.r",
     "varRefreshCmd": "cat(var_dic_list()) "
    }
   },
   "types_to_exclude": [
    "module",
    "function",
    "builtin_function_or_method",
    "instance",
    "_Feature"
   ],
   "window_display": false
  }
 },
 "nbformat": 4,
 "nbformat_minor": 2
}
