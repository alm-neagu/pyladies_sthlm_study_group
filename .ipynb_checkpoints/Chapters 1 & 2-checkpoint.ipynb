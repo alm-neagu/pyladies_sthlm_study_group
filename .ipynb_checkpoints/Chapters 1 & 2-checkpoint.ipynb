{
 "cells": [
  {
   "cell_type": "markdown",
   "metadata": {},
   "source": [
    "## CHAPTER 1\n",
    "# Preliminaries"
   ]
  },
  {
   "cell_type": "markdown",
   "metadata": {},
   "source": [
    "### 1.1. What Is This Book About?\n",
    "* Focus on Python programming and the data-oriented library ecosystem\n",
    "* This book will help you become a more effective data analyst\n",
    "* Primary focus is on structured data i.e. tabular or spreadsheet-like data, data commonly stored in relational databases\n",
    "* Most datasets can be transformed into a structured form that is more suitable for analysis"
   ]
  },
  {
   "cell_type": "markdown",
   "metadata": {},
   "source": [
    "### 1.2 Why (Not) Python for Data Analysis?\n",
    "* Python has become one of the most important languages for data science & machine learning\n",
    "* It is easy to get started with Python for data anlaysis (my own opinion)\n",
    "* Solving the \"Two-Language\" problem as Python is suitable for both research and production systems\n",
    "* Most Python code will run slower than code written in a compiled language like Java, C++"
   ]
  },
  {
   "cell_type": "markdown",
   "metadata": {},
   "source": [
    "### 1.3 Essential Python Libraries\n",
    "**NumPy** (https://numpy.org)\n",
    "* Provides the data structures, algorithms, and library glue needed for most scientific applications involving numerical data in Python. \n",
    "* Primary uses in data analysis is as a container for data to be passed between algorithms and libraries.\n",
    "\n",
    "**pandas** (https://pandas.pydata.org) \n",
    "* Provides high-level data structures and functions designed to make working with structured or tabular data fast, easy, and expressive. \n",
    "* It provides sophisticated indexing functionality to make it easy to reshape, slice and dice, perform aggregations, and select subsets of data.\n",
    "\n",
    "**matplotlib** (https://matplotlib.org)\n",
    "* Is the most popular Python library for producing plots and other two-dimensional data visualizations.\n",
    "\n",
    "**SciPy** (https://www.scipy.org)\n",
    "* Is a collection of packages addressing a number of different standard problem domains in scientific computing.\n",
    "\n",
    "**scikit-learn** (https://scikit-learn.org)\n",
    "* Most popular library for Machine Learning.\n",
    "\n",
    "**statsmodels** (https://www.statsmodels.org)\n",
    "* Contains algorithms for classical statistics and econometrics.\n",
    "\n",
    "**IPython and Jupyter** (https://jupyter.org/)\n",
    "* It encourages an execute-explore workflow instead of the typical edit-compile-run workflow of many other programming languages.\n",
    "* The Jupyter notebook system allows you to author content in Markdown and HTML, providing you a means to create rich documents with code and text."
   ]
  },
  {
   "cell_type": "markdown",
   "metadata": {},
   "source": [
    "### 1.4 Installation and Setup\n",
    "* There is no single solution for setting up Python and required add-on packages\n",
    "* We will use Python 3.6 or higher\n",
    "* Python 2.x will reach its development end of life in 2020\n",
    "* The book reccommends using the free Anaconda distribution (https://docs.anaconda.com/anaconda/install/)\n",
    "\n",
    "### My own setup\n",
    "* I personally use Python 3.7.5 at the moment on Windows (https://www.python.org/downloads/)\n",
    "* I did not install the Anaconda distribution as I like to controll what packages I install myself\n",
    "* I use **pip** in the Command Prompt (cmd) to install & update packages\n",
    "        python -m pip install package_name\n",
    "        python -m pip install --upgrade package_name\n",
    "        \n",
    "### Integrated Development Environments (IDEs) and Text Editors\n",
    "* I will be using Jupyter Notebooks (https://jupyter.org/install)\n",
    "* There are many other IDEs you can use and you are of course free to choose whichever you like best\n",
    "* Some example of IDEs are: PyDev (https://www.pydev.org/), PyCharm (https://www.jetbrains.com/pycharm/), Visual Studio for Windows (https://visualstudio.microsoft.com/vs/features/python/), Spyder (https://www.spyder-ide.org/)"
   ]
  },
  {
   "cell_type": "markdown",
   "metadata": {},
   "source": [
    "### 1.6 Navigating This Book\n",
    "\n",
    "**Main Tasks**\n",
    "- *Interacting with the outside world*: Reading and writing with a variety of file formats and data stores\n",
    "- *Preparation*: Cleaning, munging, combining, normalizing, reshaping, slicing and dicing, and transforming data for analysis\n",
    "- *Transformation*: Applying mathematical and statistical operations to groups of datasets to derive new datasets (e.g., aggregating a large table by group variables)\n",
    "- *Modeling and computation*: Connecting your data to statistical models, machine learning algorithms, or other computational tools\n",
    "- *Presentation*: Creating interactive or static graphical visualizations or textual summaries\n",
    "\n",
    "**Data for Examples**\n",
    "- Are hosted on GitHub (http://github.com/wesm/pydata-book)\n",
    "- You can download the data by using Git version control system or by downloading as a zip file\n",
    "\n",
    "**Import Conventions**\n",
    "- This is done because it’s considered bad practice in Python software development to import everything from a large package like NumPy."
   ]
  },
  {
   "cell_type": "code",
   "execution_count": 50,
   "metadata": {},
   "outputs": [],
   "source": [
    "import numpy as np\n",
    "import matplotlib.pyplot as plt\n",
    "import pandas as pd\n",
    "import seaborn as sns\n",
    "import statsmodels as sm"
   ]
  },
  {
   "cell_type": "markdown",
   "metadata": {},
   "source": [
    "**Jargon**\n",
    "\n",
    "*Munge/munging/wrangling*\\\n",
    "Describes the overall process of manipulating unstructured and/or messy data into a structured or clean form.\n",
    "\n",
    "*Pseudocode*\\\n",
    "A description of an algorithm or process that takes a code-like form while likely not being actual valid source code.\n",
    "\n",
    "*Syntactic sugar*\\\n",
    "Programming syntax that does not add new features, but makes something more convenient or easier to type."
   ]
  },
  {
   "cell_type": "markdown",
   "metadata": {},
   "source": [
    "   "
   ]
  },
  {
   "cell_type": "markdown",
   "metadata": {},
   "source": [
    "## CHAPTER 2\n",
    "# Python Language Basics, IPython, and Jupyter Notebooks"
   ]
  },
  {
   "cell_type": "markdown",
   "metadata": {},
   "source": [
    "### 2.1 The Python Interpreter\n",
    "- Python is an interpreted language which means the Python interpreter runs a program by executing one statement at a time.\n",
    "- For data analysis its easier to use Jupyter Notebooks to run your code.\n",
    "- The idea is that you gradually develop your code by constantly executing and exploring small chunks of code or blocks of code."
   ]
  },
  {
   "cell_type": "markdown",
   "metadata": {},
   "source": [
    "### 2.2 Running the Jupyter Notebook\n",
    "- The **Jupyter Notebook** is an interactive document for code, text, data visualizations and other output.\n",
    "- To start up jupyter notebook, run the command **jupyter notebook** in the terminal/cmd.\n",
    "- You should also change the directory if necessary.\n",
    "- On most platforms, Jupyter will automatically open up in your default web browser (unless you start it with --no-browser).\n",
    "\n",
    "!! **Live Demo**: Show how to start jupyter notebooks from cmd & main components !!"
   ]
  },
  {
   "cell_type": "markdown",
   "metadata": {},
   "source": [
    "### Tab Completions\n",
    "- While entering expressions pressing the **Tab** key will search the namespace for any variables (objects, functions, etc.) matching the characters you have typed so far:\n"
   ]
  },
  {
   "cell_type": "code",
   "execution_count": 51,
   "metadata": {},
   "outputs": [],
   "source": [
    "# Tab completion variables\n",
    "an_apple = 27\n",
    "an_example = 10\n",
    "#an_"
   ]
  },
  {
   "cell_type": "code",
   "execution_count": 52,
   "metadata": {},
   "outputs": [],
   "source": [
    "# Tab completion modules\n",
    "import datetime\n",
    "#datetime."
   ]
  },
  {
   "cell_type": "code",
   "execution_count": 53,
   "metadata": {},
   "outputs": [],
   "source": [
    "# Tab completion file path\n",
    "my_path = \"C:/GIT-REPOS/\""
   ]
  },
  {
   "cell_type": "markdown",
   "metadata": {},
   "source": [
    "### Introspection\n",
    "- Using a question mark **?** before or after an object will display some general information about the object\n",
    "- The object can be a variable, function, instance method\n",
    "- If the object is a function or instance method, the docstring, if defined, will also be shown\n",
    "- Using **??** will also show the function’s source code if possible"
   ]
  },
  {
   "cell_type": "code",
   "execution_count": 54,
   "metadata": {},
   "outputs": [],
   "source": [
    "# Introspection example variable\n",
    "grades = [1, 2, 3]\n",
    "grades?"
   ]
  },
  {
   "cell_type": "code",
   "execution_count": 55,
   "metadata": {},
   "outputs": [],
   "source": [
    "# Introspection example print function\n",
    "print?"
   ]
  },
  {
   "cell_type": "code",
   "execution_count": 56,
   "metadata": {},
   "outputs": [],
   "source": [
    "# Define our own function with docstring\n",
    "def add_numbers(a, b):\n",
    "    \"\"\"\n",
    "    Add two numbers together\n",
    "    Returns\n",
    "    -------\n",
    "    the_sum : type of arguments\n",
    "    \"\"\"\n",
    "    return a + b"
   ]
  },
  {
   "cell_type": "code",
   "execution_count": 57,
   "metadata": {},
   "outputs": [],
   "source": [
    "# Using introspection to see the docstring for the function\n",
    "add_numbers?"
   ]
  },
  {
   "cell_type": "code",
   "execution_count": 58,
   "metadata": {},
   "outputs": [],
   "source": [
    "# Using introspection to see the docstring for the function & source code\n",
    "add_numbers??"
   ]
  },
  {
   "cell_type": "markdown",
   "metadata": {},
   "source": [
    "### The %run Command\n",
    "- You can run any file as a Python program inside the environment of your Jupyter Notebook\n",
    "- All of the variables (imports, functions, and globals) defined in the file will then be accessible\n",
    "- To give a script access to variables already defined, use **%run -i** instead of plain **%run**"
   ]
  },
  {
   "cell_type": "code",
   "execution_count": 59,
   "metadata": {},
   "outputs": [
    {
     "data": {
      "text/plain": [
       "<Figure size 432x288 with 0 Axes>"
      ]
     },
     "metadata": {},
     "output_type": "display_data"
    }
   ],
   "source": [
    "# Run the script jupyter_script_test.py\n",
    "%run jupyter_script_test.py"
   ]
  },
  {
   "cell_type": "code",
   "execution_count": 60,
   "metadata": {},
   "outputs": [],
   "source": [
    "# Check our function from jupyter_script_test.py\n",
    "f??"
   ]
  },
  {
   "cell_type": "code",
   "execution_count": 61,
   "metadata": {},
   "outputs": [
    {
     "data": {
      "text/plain": [
       "1.4666666666666666"
      ]
     },
     "execution_count": 61,
     "metadata": {},
     "output_type": "execute_result"
    }
   ],
   "source": [
    "# Result of fucntion f\n",
    "result"
   ]
  },
  {
   "cell_type": "code",
   "execution_count": null,
   "metadata": {},
   "outputs": [],
   "source": [
    "# %load jupyter_script_test.py\n",
    "def f(x, y, z):\n",
    "\treturn (x + y) / z\n",
    "\n",
    "a = 5\n",
    "b = 6\n",
    "c = 7.5\n",
    "\n",
    "result = f(a, b, c)"
   ]
  },
  {
   "cell_type": "markdown",
   "metadata": {},
   "source": [
    "### About Magic Commands\n",
    "- A magic command is any command prefixed by the percent symbol %\n",
    "- Some magic functions behave like Python functions and their output can be assigned to a variable\n",
    "- https://ipython.readthedocs.io/en/stable/interactive/magics.html OR run the commands: **%quickref** & **%magic**"
   ]
  },
  {
   "cell_type": "code",
   "execution_count": 63,
   "metadata": {},
   "outputs": [
    {
     "name": "stdout",
     "output_type": "stream",
     "text": [
      "1.49 µs ± 75.4 ns per loop (mean ± std. dev. of 7 runs, 1000000 loops each)\n"
     ]
    }
   ],
   "source": [
    "# Check the %timeit command (Run a statement multiple times to compute an ensemble average execution time)\n",
    "a = np.random.randn(10, 10)\n",
    "%timeit np.dot(a, a)"
   ]
  },
  {
   "cell_type": "code",
   "execution_count": 64,
   "metadata": {},
   "outputs": [],
   "source": [
    "# Check details for %debug magic command\n",
    "%debug?"
   ]
  },
  {
   "cell_type": "code",
   "execution_count": 65,
   "metadata": {},
   "outputs": [
    {
     "data": {
      "text/plain": [
       "'C:\\\\GIT-REPOS\\\\PyLadies_Stockholm\\\\StudyGroup_2020-11-05'"
      ]
     },
     "execution_count": 65,
     "metadata": {},
     "output_type": "execute_result"
    }
   ],
   "source": [
    "# Create variable for my working directory\n",
    "dir = %pwd\n",
    "dir"
   ]
  },
  {
   "cell_type": "code",
   "execution_count": 66,
   "metadata": {},
   "outputs": [],
   "source": [
    "# Check result for %quickref magic command\n",
    "%quickref"
   ]
  },
  {
   "cell_type": "markdown",
   "metadata": {},
   "source": [
    "### Matplotlib Integration\n",
    "- The **%matplotlib** magic function configures its integration with the Jupyter notebook."
   ]
  },
  {
   "cell_type": "code",
   "execution_count": 70,
   "metadata": {},
   "outputs": [],
   "source": [
    "# Run the %matplotlib magic function\n",
    "%matplotlib inline"
   ]
  },
  {
   "cell_type": "code",
   "execution_count": 68,
   "metadata": {},
   "outputs": [
    {
     "data": {
      "text/plain": [
       "[<matplotlib.lines.Line2D at 0x181cd6f0a88>]"
      ]
     },
     "execution_count": 68,
     "metadata": {},
     "output_type": "execute_result"
    },
    {
     "data": {
      "image/png": "[encoded data removed]",
      "text/plain": [
       "<Figure size 432x288 with 1 Axes>"
      ]
     },
     "metadata": {
      "needs_background": "light"
     },
     "output_type": "display_data"
    }
   ],
   "source": [
    "# Example of inline visualization\n",
    "plt.plot(np.random.randn(50).cumsum())"
   ]
  },
  {
   "cell_type": "markdown",
   "metadata": {},
   "source": [
    "### 2.3 Python Language Basics\n",
    "\n",
    "**Indentation, not braces**\n",
    "- Python uses whitespace (tabs or spaces) to structure code instead of using braces as in many other languages like R, C++, Java, and Perl.\n",
    "- A colon **:** denotes the start of an indented code block after which all of the code must be indented by the same amount until the end of the block.\n",
    "- Recommended to use four spaces as is the standard adopted by the vast majority of Python programmers.\n",
    "- Python statements do not need to be terminated by semicolons.\n",
    "- Semicolons can be used to separate multiple statements on a single line."
   ]
  },
  {
   "cell_type": "code",
   "execution_count": 69,
   "metadata": {},
   "outputs": [
    {
     "ename": "NameError",
     "evalue": "name 'array' is not defined",
     "output_type": "error",
     "traceback": [
      "\u001b[1;31m---------------------------------------------------------------------------\u001b[0m",
      "\u001b[1;31mNameError\u001b[0m                                 Traceback (most recent call last)",
      "\u001b[1;32m<ipython-input-69-1fc383f7fa11>\u001b[0m in \u001b[0;36m<module>\u001b[1;34m\u001b[0m\n\u001b[0;32m      1\u001b[0m \u001b[1;31m### Example of for loop syntax\u001b[0m\u001b[1;33m\u001b[0m\u001b[1;33m\u001b[0m\u001b[1;33m\u001b[0m\u001b[0m\n\u001b[1;32m----> 2\u001b[1;33m \u001b[1;32mfor\u001b[0m \u001b[0mx\u001b[0m \u001b[1;32min\u001b[0m \u001b[0marray\u001b[0m\u001b[1;33m:\u001b[0m\u001b[1;33m\u001b[0m\u001b[1;33m\u001b[0m\u001b[0m\n\u001b[0m\u001b[0;32m      3\u001b[0m     \u001b[1;32mif\u001b[0m \u001b[0mx\u001b[0m \u001b[1;33m<\u001b[0m \u001b[0mpivot\u001b[0m\u001b[1;33m:\u001b[0m\u001b[1;33m\u001b[0m\u001b[1;33m\u001b[0m\u001b[0m\n\u001b[0;32m      4\u001b[0m         \u001b[0mless\u001b[0m\u001b[1;33m.\u001b[0m\u001b[0mappend\u001b[0m\u001b[1;33m(\u001b[0m\u001b[0mx\u001b[0m\u001b[1;33m)\u001b[0m\u001b[1;33m\u001b[0m\u001b[1;33m\u001b[0m\u001b[0m\n\u001b[0;32m      5\u001b[0m     \u001b[1;32melse\u001b[0m\u001b[1;33m:\u001b[0m\u001b[1;33m\u001b[0m\u001b[1;33m\u001b[0m\u001b[0m\n",
      "\u001b[1;31mNameError\u001b[0m: name 'array' is not defined"
     ]
    }
   ],
   "source": [
    "# Example of for loop syntax (you will get an error if you try to run this code)\n",
    "for x in array:\n",
    "    if x < pivot:\n",
    "        less.append(x)\n",
    "    else:\n",
    "        greater.append(x)"
   ]
  },
  {
   "cell_type": "markdown",
   "metadata": {},
   "source": [
    "**Everything is an object**\n",
    "- Every number, string, data structure, function, class, module, and so on exists in the Python interpreter in its own “box,” which is referred to as a Python object.\n",
    "- Each object has an associated type (e.g., string or function) and internal data."
   ]
  },
  {
   "cell_type": "markdown",
   "metadata": {},
   "source": [
    "**Comments**\n",
    "- Can be added using the hash mark **#**\n",
    "- Any text preceded by the hash mark **#** is ignored by the Python interpreter"
   ]
  },
  {
   "cell_type": "markdown",
   "metadata": {},
   "source": [
    "### Function and object method calls\n",
    "- You call functions using parentheses and passing zero or more arguments, optionally assigning the returned value to a variable:\n",
    "        result = f(x, y, z)\n",
    "- Almost every object in Python has attached functions, known as **methods**, that have access to the object’s internal contents. You can call them using the following syntax:\n",
    "        obj.some_method(x, y, z)"
   ]
  },
  {
   "cell_type": "markdown",
   "metadata": {},
   "source": [
    "### Variables and argument passing\n",
    "- When assigning a variable in Python, you are creating a reference to the object on the righthand side of the equals sign.\n",
    "- When you pass objects as arguments to a function, new local variables are created referencing the original objects without any copying."
   ]
  },
  {
   "cell_type": "code",
   "execution_count": 71,
   "metadata": {},
   "outputs": [],
   "source": [
    "# Assign a list of integers to variable a\n",
    "a = [1,2,3]"
   ]
  },
  {
   "cell_type": "code",
   "execution_count": 72,
   "metadata": {},
   "outputs": [],
   "source": [
    "# Assign a to a new variable b\n",
    "b = a"
   ]
  },
  {
   "cell_type": "markdown",
   "metadata": {},
   "source": [
    "Now a and b refer to the same object, the original list [1, 2, 3]"
   ]
  },
  {
   "cell_type": "code",
   "execution_count": 73,
   "metadata": {},
   "outputs": [
    {
     "data": {
      "text/plain": [
       "[1, 2, 3, 4]"
      ]
     },
     "execution_count": 73,
     "metadata": {},
     "output_type": "execute_result"
    }
   ],
   "source": [
    "# Append an element to a and then examine b\n",
    "a.append(4)\n",
    "b"
   ]
  },
  {
   "cell_type": "markdown",
   "metadata": {},
   "source": [
    "### Dynamic references, strong types\n",
    "- Object references in Python have no type associated with them.\n",
    "- Variables are names for objects within a particular namespace.\n",
    "- The type information is stored in the object itself.\n",
    "- Python is considered a strongly typed language, which means that every object has a specific type (or class), and implicit conversions will occur only in certain obvious circumstances.\n",
    "- Knowing the type of an object is important, and it’s useful to be able to write functions that can handle many different kinds of input."
   ]
  },
  {
   "cell_type": "code",
   "execution_count": 75,
   "metadata": {
    "scrolled": true
   },
   "outputs": [
    {
     "data": {
      "text/plain": [
       "int"
      ]
     },
     "execution_count": 75,
     "metadata": {},
     "output_type": "execute_result"
    }
   ],
   "source": [
    "# Assign an int value to a & check teh type\n",
    "a = 5\n",
    "type(a)"
   ]
  },
  {
   "cell_type": "code",
   "execution_count": 76,
   "metadata": {},
   "outputs": [
    {
     "data": {
      "text/plain": [
       "str"
      ]
     },
     "execution_count": 76,
     "metadata": {},
     "output_type": "execute_result"
    }
   ],
   "source": [
    "# Replace the value stored in variable a with a str & check the type\n",
    "a ='foo'\n",
    "type(a)"
   ]
  },
  {
   "cell_type": "code",
   "execution_count": 77,
   "metadata": {
    "scrolled": true
   },
   "outputs": [
    {
     "ename": "TypeError",
     "evalue": "can only concatenate str (not \"int\") to str",
     "output_type": "error",
     "traceback": [
      "\u001b[1;31m---------------------------------------------------------------------------\u001b[0m",
      "\u001b[1;31mTypeError\u001b[0m                                 Traceback (most recent call last)",
      "\u001b[1;32m<ipython-input-77-ee0d48c682a8>\u001b[0m in \u001b[0;36m<module>\u001b[1;34m\u001b[0m\n\u001b[0;32m      1\u001b[0m \u001b[1;31m### Cannot add str + int (Python will not implicitly convert)\u001b[0m\u001b[1;33m\u001b[0m\u001b[1;33m\u001b[0m\u001b[1;33m\u001b[0m\u001b[0m\n\u001b[1;32m----> 2\u001b[1;33m \u001b[1;34m'5'\u001b[0m \u001b[1;33m+\u001b[0m \u001b[1;36m5\u001b[0m\u001b[1;33m\u001b[0m\u001b[1;33m\u001b[0m\u001b[0m\n\u001b[0m",
      "\u001b[1;31mTypeError\u001b[0m: can only concatenate str (not \"int\") to str"
     ]
    }
   ],
   "source": [
    "# Cannot add str + int (Python will not implicitly convert)\n",
    "'5' + 5"
   ]
  },
  {
   "cell_type": "code",
   "execution_count": 78,
   "metadata": {},
   "outputs": [
    {
     "data": {
      "text/plain": [
       "True"
      ]
     },
     "execution_count": 78,
     "metadata": {},
     "output_type": "execute_result"
    }
   ],
   "source": [
    "# Check if an object is an instance of a particular type usinf isinstance\n",
    "b = 5\n",
    "isinstance(b, int)"
   ]
  },
  {
   "cell_type": "markdown",
   "metadata": {},
   "source": [
    "### Attributes and methods\n",
    "- Attributes = other Python objects stored “inside” the object\n",
    "- Methods = functions associated with an object that can have access to the object’s internal data\n",
    "- Both can be accessed via the syntax:\n",
    "       obj.attribute_name "
   ]
  },
  {
   "cell_type": "code",
   "execution_count": null,
   "metadata": {},
   "outputs": [],
   "source": [
    "# Get a list of available attributes & methods for a str object\n",
    "a ='foo'\n",
    "a."
   ]
  },
  {
   "cell_type": "markdown",
   "metadata": {},
   "source": [
    "**Imports**\n",
    "- In Python a module is simply a file with the .py extension containing Python code."
   ]
  },
  {
   "cell_type": "code",
   "execution_count": 80,
   "metadata": {},
   "outputs": [],
   "source": [
    "# Import datetime module\n",
    "import datetime as dt"
   ]
  },
  {
   "cell_type": "markdown",
   "metadata": {},
   "source": [
    "### Binary operators and comparisons\n",
    "\n",
    "    Operation      Description\n",
    "    a + b          Add a and b\n",
    "    a - b          Subtract b from a\n",
    "    a * b          Multiply a by b\n",
    "    a / b          Divide a by b\n",
    "    a // b         Floor-divide a by b, dropping any fractional remainder\n",
    "    a ** b         Raise a to the b power\n",
    "    a & b          True if both a and b are True; for integers, take the bitwise AND\n",
    "    a | b          True if either a or b is True; for integers, take the bitwise OR\n",
    "    a ^ b          For booleans, True if a or b is True, but not both; for integers, take the bitwise EXCLUSIVE-OR\n",
    "    a == b         True if a equals b\n",
    "    a != b         True if a is not equal to b\n",
    "    a <= b, a < b  True if a is less than (less than or equal) to b\n",
    "    a > b, a >= b  True if a is greater than (greater than or equal) to b\n",
    "    a is b         True if a and b reference the same Python object\n",
    "    a is not b     True if a and b reference different Python objects"
   ]
  },
  {
   "cell_type": "markdown",
   "metadata": {},
   "source": [
    "### Mutable and immutable objects\n",
    "- Most objects in Python, such as lists, dicts, NumPy arrays, are mutable.\n",
    "- **Mutable** = the object or values that they contain can be modified.\n",
    "- Ojects like strings and tuples are **immutable**."
   ]
  },
  {
   "cell_type": "code",
   "execution_count": 81,
   "metadata": {},
   "outputs": [
    {
     "ename": "TypeError",
     "evalue": "'tuple' object does not support item assignment",
     "output_type": "error",
     "traceback": [
      "\u001b[1;31m---------------------------------------------------------------------------\u001b[0m",
      "\u001b[1;31mTypeError\u001b[0m                                 Traceback (most recent call last)",
      "\u001b[1;32m<ipython-input-81-7a1cd240d227>\u001b[0m in \u001b[0;36m<module>\u001b[1;34m\u001b[0m\n\u001b[0;32m      1\u001b[0m \u001b[1;31m### Create atuple and then try to modify it\u001b[0m\u001b[1;33m\u001b[0m\u001b[1;33m\u001b[0m\u001b[1;33m\u001b[0m\u001b[0m\n\u001b[0;32m      2\u001b[0m \u001b[0ma_tuple\u001b[0m \u001b[1;33m=\u001b[0m \u001b[1;33m(\u001b[0m\u001b[1;36m3\u001b[0m\u001b[1;33m,\u001b[0m \u001b[1;36m5\u001b[0m\u001b[1;33m,\u001b[0m \u001b[1;33m(\u001b[0m\u001b[1;36m4\u001b[0m\u001b[1;33m,\u001b[0m \u001b[1;36m5\u001b[0m\u001b[1;33m)\u001b[0m\u001b[1;33m)\u001b[0m\u001b[1;33m\u001b[0m\u001b[1;33m\u001b[0m\u001b[0m\n\u001b[1;32m----> 3\u001b[1;33m \u001b[0ma_tuple\u001b[0m\u001b[1;33m[\u001b[0m\u001b[1;36m1\u001b[0m\u001b[1;33m]\u001b[0m \u001b[1;33m=\u001b[0m \u001b[1;34m'four'\u001b[0m\u001b[1;33m\u001b[0m\u001b[1;33m\u001b[0m\u001b[0m\n\u001b[0m",
      "\u001b[1;31mTypeError\u001b[0m: 'tuple' object does not support item assignment"
     ]
    }
   ],
   "source": [
    "# Create atuple and then try to modify it\n",
    "a_tuple = (3, 5, (4, 5))\n",
    "a_tuple[1] = 'four'"
   ]
  },
  {
   "cell_type": "markdown",
   "metadata": {},
   "source": [
    "### Scalar Types\n",
    "- Python has a small set of built-in types for handling numerical data, strings, boolean (True or False) values, and dates and time.\n",
    "\n",
    "       Type    Description\n",
    "       None    The Python “null” value (only one instance of the None object exists)\n",
    "       str     String type; holds Unicode (UTF-8 encoded) strings\n",
    "       bytes   Raw ASCII bytes (or Unicode encoded as bytes)\n",
    "       float   Double-precision (64-bit) oating-point number (note there is no separate double type)\n",
    "       bool    A True or False value\n",
    "       int     Arbitrary precision signed integer"
   ]
  },
  {
   "cell_type": "markdown",
   "metadata": {},
   "source": [
    "**Numeric Types**\n",
    "- **int** = Can store arbitrarily large numbers\n",
    "- **foat** = Floating-point numbers are under the hood a double-precision (64-bit) value."
   ]
  },
  {
   "cell_type": "code",
   "execution_count": 82,
   "metadata": {},
   "outputs": [
    {
     "data": {
      "text/plain": [
       "5"
      ]
     },
     "execution_count": 82,
     "metadata": {},
     "output_type": "execute_result"
    }
   ],
   "source": [
    "# Assign the int value 5 to ival\n",
    "ival = 5\n",
    "ival"
   ]
  },
  {
   "cell_type": "code",
   "execution_count": 83,
   "metadata": {},
   "outputs": [
    {
     "data": {
      "text/plain": [
       "1.2"
      ]
     },
     "execution_count": 83,
     "metadata": {},
     "output_type": "execute_result"
    }
   ],
   "source": [
    "# Assign the float value 1.2 to fval\n",
    "fval = 1.2\n",
    "fval"
   ]
  },
  {
   "cell_type": "code",
   "execution_count": 84,
   "metadata": {},
   "outputs": [
    {
     "data": {
      "text/plain": [
       "1.5"
      ]
     },
     "execution_count": 84,
     "metadata": {},
     "output_type": "execute_result"
    }
   ],
   "source": [
    "# Integer division not resulting in a whole number will always yield a floating-point number\n",
    "3/2"
   ]
  },
  {
   "cell_type": "code",
   "execution_count": 85,
   "metadata": {},
   "outputs": [
    {
     "data": {
      "text/plain": [
       "1"
      ]
     },
     "execution_count": 85,
     "metadata": {},
     "output_type": "execute_result"
    }
   ],
   "source": [
    "# To get C-style integer division use the floor division operator //\n",
    "3//2"
   ]
  },
  {
   "cell_type": "markdown",
   "metadata": {},
   "source": [
    "**Strings**\n",
    "- You can use single quotes ' or double quotes \"\n",
    "- For multiline strings with line breaks, you can use triple quotes, either ''' or \"\"\"\n",
    "- Python strings are immutable; you cannot modify a string"
   ]
  },
  {
   "cell_type": "code",
   "execution_count": 87,
   "metadata": {},
   "outputs": [
    {
     "data": {
      "text/plain": [
       "'this is a string'"
      ]
     },
     "execution_count": 87,
     "metadata": {},
     "output_type": "execute_result"
    }
   ],
   "source": [
    "# Create a str object strored in variable s\n",
    "s = 'this is a string'\n",
    "s"
   ]
  },
  {
   "cell_type": "code",
   "execution_count": 88,
   "metadata": {},
   "outputs": [
    {
     "data": {
      "text/plain": [
       "'\\nThis is a longer string that\\nspans multiple lines\\n'"
      ]
     },
     "execution_count": 88,
     "metadata": {},
     "output_type": "execute_result"
    }
   ],
   "source": [
    "# Multiline strings\n",
    "c = \"\"\"\n",
    "This is a longer string that\n",
    "spans multiple lines\n",
    "\"\"\"\n",
    "c"
   ]
  },
  {
   "cell_type": "code",
   "execution_count": 89,
   "metadata": {},
   "outputs": [
    {
     "name": "stdout",
     "output_type": "stream",
     "text": [
      "5.6\n"
     ]
    }
   ],
   "source": [
    "# Many Python objects can be converted to a string using the str function\n",
    "a = 5.6\n",
    "s = str(a)\n",
    "print(s)"
   ]
  },
  {
   "cell_type": "code",
   "execution_count": 90,
   "metadata": {},
   "outputs": [
    {
     "data": {
      "text/plain": [
       "['p', 'y', 't', 'h', 'o', 'n']"
      ]
     },
     "execution_count": 90,
     "metadata": {},
     "output_type": "execute_result"
    }
   ],
   "source": [
    "# Strings are a sequence of Unicode characters and therefore can be treated like other sequences\n",
    "s = 'python'\n",
    "list(s)"
   ]
  },
  {
   "cell_type": "code",
   "execution_count": 91,
   "metadata": {
    "scrolled": true
   },
   "outputs": [
    {
     "data": {
      "text/plain": [
       "'pyt'"
      ]
     },
     "execution_count": 91,
     "metadata": {},
     "output_type": "execute_result"
    }
   ],
   "source": [
    "# Slicing a string\n",
    "s[:3]"
   ]
  },
  {
   "cell_type": "code",
   "execution_count": 95,
   "metadata": {},
   "outputs": [
    {
     "name": "stdout",
     "output_type": "stream",
     "text": [
      "12\\34\n"
     ]
    }
   ],
   "source": [
    "# The backslash character \\ is an escape character: it is used to specify special characters like newline \\n. \n",
    "# To write a string literal with backslashes, you need to escape them.\n",
    "s = '12\\\\34'\n",
    "print(s)"
   ]
  },
  {
   "cell_type": "markdown",
   "metadata": {},
   "source": [
    "- If you have a string with a lot of backslashes and no special characters, you might find this a bit annoying. \n",
    "- Fortunately you can preface the leading quote of the string with **r**, which means that the characters should be interpreted as is.\n",
    "- **r** stands for raw."
   ]
  },
  {
   "cell_type": "code",
   "execution_count": 96,
   "metadata": {},
   "outputs": [
    {
     "data": {
      "text/plain": [
       "'this\\\\has\\\\no\\\\special\\\\characters'"
      ]
     },
     "execution_count": 96,
     "metadata": {},
     "output_type": "execute_result"
    }
   ],
   "source": [
    "# Use r in front of a string so the strinf is interpreted as is\n",
    "# Useful for defining directory paths\n",
    "s = r'this\\has\\no\\special\\characters'\n",
    "s"
   ]
  },
  {
   "cell_type": "code",
   "execution_count": 97,
   "metadata": {
    "scrolled": true
   },
   "outputs": [
    {
     "data": {
      "text/plain": [
       "'this is the first half and this is the second half'"
      ]
     },
     "execution_count": 97,
     "metadata": {},
     "output_type": "execute_result"
    }
   ],
   "source": [
    "# Adding two strings together concatenates them and produces a new string\n",
    "a = 'this is the first half '\n",
    "b = 'and this is the second half'\n",
    "a + b"
   ]
  },
  {
   "cell_type": "markdown",
   "metadata": {},
   "source": [
    "**String templating/formatting**\n",
    "- String objects have a format method that can be used to substitute formatted arguments into the string, producing a new string"
   ]
  },
  {
   "cell_type": "code",
   "execution_count": 98,
   "metadata": {},
   "outputs": [],
   "source": [
    "# {0:.2f} means to format the first argument as a floating-point number with two decimal places.\n",
    "# {1:s}   means to format the second argument as a string.\n",
    "# {2:d}   means to format the third argument as an exact integer.\n",
    "template = '{0:.2f} {1:s} are worth US${2:d}'"
   ]
  },
  {
   "cell_type": "code",
   "execution_count": 99,
   "metadata": {},
   "outputs": [
    {
     "data": {
      "text/plain": [
       "'4.56 Argentine Pesos are worth US$1'"
      ]
     },
     "execution_count": 99,
     "metadata": {},
     "output_type": "execute_result"
    }
   ],
   "source": [
    "# To substitute arguments for these format parameters, we pass a sequence of arguments to the format method\n",
    "template.format(4.5560, 'Argentine Pesos', 1)"
   ]
  },
  {
   "cell_type": "markdown",
   "metadata": {},
   "source": [
    "**Bytes and Unicode**\n",
    "- Unicode has become the first-class string type to enable more consistent handling of ASCII and non-ASCII text.\n",
    "- For historical reasons you may encounter data in any number of different encodings.\n",
    "- It is most common to encounter bytes objects in the context of working with files.\n",
    "- You can define your own byte literals by pre‐fixing a string with **b**."
   ]
  },
  {
   "cell_type": "code",
   "execution_count": 100,
   "metadata": {},
   "outputs": [
    {
     "data": {
      "text/plain": [
       "b'espa\\xc3\\xb1ol'"
      ]
     },
     "execution_count": 100,
     "metadata": {},
     "output_type": "execute_result"
    }
   ],
   "source": [
    "# Convert Unicode string to UTF-8 bytes representation using the encode method\n",
    "val = 'español'\n",
    "val_utf8 = val.encode('utf-8')\n",
    "val_utf8"
   ]
  },
  {
   "cell_type": "code",
   "execution_count": 101,
   "metadata": {},
   "outputs": [
    {
     "data": {
      "text/plain": [
       "'español'"
      ]
     },
     "execution_count": 101,
     "metadata": {},
     "output_type": "execute_result"
    }
   ],
   "source": [
    "# If you know the Unicode encoding of a bytes object, you can go back using the decode method\n",
    "val_utf8.decode('utf-8')"
   ]
  },
  {
   "cell_type": "markdown",
   "metadata": {},
   "source": [
    "**Booleans**\n",
    "- The two boolean values in Python are written as **True** and **False**\n",
    "- Comparisons and other conditional expressions evaluate to either **True** or **False**\n",
    "- Boolean values are combined with the **and** and **or** keywords"
   ]
  },
  {
   "cell_type": "code",
   "execution_count": 102,
   "metadata": {},
   "outputs": [
    {
     "data": {
      "text/plain": [
       "True"
      ]
     },
     "execution_count": 102,
     "metadata": {},
     "output_type": "execute_result"
    }
   ],
   "source": [
    "True and True"
   ]
  },
  {
   "cell_type": "markdown",
   "metadata": {},
   "source": [
    "**None**\n",
    "- **None** is the Python null value type\n",
    "- If a function does not explicitly return a value, it implicitly returns **None**\n",
    "- **None** is a reserved keyword and a unique instance of NoneType"
   ]
  },
  {
   "cell_type": "code",
   "execution_count": 103,
   "metadata": {},
   "outputs": [
    {
     "data": {
      "text/plain": [
       "True"
      ]
     },
     "execution_count": 103,
     "metadata": {},
     "output_type": "execute_result"
    }
   ],
   "source": [
    "a = None\n",
    "a is None"
   ]
  },
  {
   "cell_type": "code",
   "execution_count": 104,
   "metadata": {},
   "outputs": [
    {
     "data": {
      "text/plain": [
       "NoneType"
      ]
     },
     "execution_count": 104,
     "metadata": {},
     "output_type": "execute_result"
    }
   ],
   "source": [
    "type(None)"
   ]
  },
  {
   "cell_type": "code",
   "execution_count": null,
   "metadata": {},
   "outputs": [],
   "source": [
    "# None is also a common default value for function arguments\n",
    "def add_and_maybe_multiply(a, b, c=None):\n",
    "    result = a + b\n",
    "    \n",
    "    if c is not None:\n",
    "        result = result * c\n",
    "        \n",
    "    return result"
   ]
  },
  {
   "cell_type": "markdown",
   "metadata": {},
   "source": [
    "**Dates and times**\n",
    "- The built-in Python **datetime** module provides datetime, date, and time types\n",
    "- datetime.datetime is an immutable type"
   ]
  },
  {
   "cell_type": "code",
   "execution_count": 105,
   "metadata": {},
   "outputs": [],
   "source": [
    "# Import elements from the datetime module\n",
    "from datetime import datetime, date, time"
   ]
  },
  {
   "cell_type": "code",
   "execution_count": 111,
   "metadata": {},
   "outputs": [
    {
     "name": "stdout",
     "output_type": "stream",
     "text": [
      "2011-10-29 20:30:21\n"
     ]
    }
   ],
   "source": [
    "# Define a timestamp object\n",
    "dt = datetime(2011, 10, 29, 20, 30, 21)\n",
    "print(dt)"
   ]
  },
  {
   "cell_type": "code",
   "execution_count": 112,
   "metadata": {},
   "outputs": [
    {
     "data": {
      "text/plain": [
       "datetime.datetime"
      ]
     },
     "execution_count": 112,
     "metadata": {},
     "output_type": "execute_result"
    }
   ],
   "source": [
    "# Check the type for dt\n",
    "type(dt)"
   ]
  },
  {
   "cell_type": "code",
   "execution_count": 113,
   "metadata": {},
   "outputs": [
    {
     "data": {
      "text/plain": [
       "29"
      ]
     },
     "execution_count": 113,
     "metadata": {},
     "output_type": "execute_result"
    }
   ],
   "source": [
    "# Extract the day from dt\n",
    "dt.day"
   ]
  },
  {
   "cell_type": "code",
   "execution_count": 115,
   "metadata": {},
   "outputs": [
    {
     "data": {
      "text/plain": [
       "datetime.time(20, 30, 21)"
      ]
     },
     "execution_count": 115,
     "metadata": {},
     "output_type": "execute_result"
    }
   ],
   "source": [
    "# You can extract the equivalent date and time objects by calling methods on the datetime of the same name\n",
    "dt.date()\n",
    "dt.time()"
   ]
  },
  {
   "cell_type": "code",
   "execution_count": 116,
   "metadata": {},
   "outputs": [
    {
     "data": {
      "text/plain": [
       "'10/29/2011 20:30'"
      ]
     },
     "execution_count": 116,
     "metadata": {},
     "output_type": "execute_result"
    }
   ],
   "source": [
    "# The strftime method formats a datetime as a string\n",
    "dt.strftime('%m/%d/%Y %H:%M')"
   ]
  },
  {
   "cell_type": "code",
   "execution_count": 117,
   "metadata": {},
   "outputs": [
    {
     "data": {
      "text/plain": [
       "datetime.datetime(2009, 10, 31, 0, 0)"
      ]
     },
     "execution_count": 117,
     "metadata": {},
     "output_type": "execute_result"
    }
   ],
   "source": [
    "# Strings can be converted (parsed) into datetime objects with the strptime function\n",
    "datetime.strptime('20091031', '%Y%m%d')"
   ]
  },
  {
   "cell_type": "markdown",
   "metadata": {},
   "source": [
    "        Type     Description\n",
    "        %Y       Four-digit year\n",
    "        %y       Two-digit year\n",
    "        %m       Two-digit month [01, 12]\n",
    "        %d       Two-digit day [01, 31]\n",
    "        %H       Hour (24-hour clock) [00, 23]\n",
    "        %I       Hour (12-hour clock) [01, 12]\n",
    "        %M       Two-digit minute [00, 59]\n",
    "        %S       Second [00, 61] (seconds 60, 61 account for leap seconds)\n",
    "        %w       Weekday as integer [0 (Sunday), 6]\n",
    "        %U       Week number of year [00, 53]; Sunday is the first day of the week, and days before the first Sunday of the year are “week 0”\n",
    "        %W       Week number of year [00, 53]; Monday is considered the first day of the week, and days before the first Monday of the year are “week 0”\n",
    "        %z       UTC time zone offset as +HHMM or -HHMM; empty if time zone naive\n",
    "        %F       Shortcut for %Y-%m-%d (e.g., 2012-4-18)\n",
    "        %D       Shortcut for %m/%d/%y (e.g., 04/18/12)"
   ]
  },
  {
   "cell_type": "code",
   "execution_count": 120,
   "metadata": {},
   "outputs": [
    {
     "data": {
      "text/plain": [
       "datetime.datetime(2011, 10, 29, 20, 0)"
      ]
     },
     "execution_count": 120,
     "metadata": {},
     "output_type": "execute_result"
    }
   ],
   "source": [
    "# Using replace method to create a new object\n",
    "dt.replace(minute=0, second=0)"
   ]
  },
  {
   "cell_type": "code",
   "execution_count": 121,
   "metadata": {},
   "outputs": [
    {
     "data": {
      "text/plain": [
       "datetime.timedelta(days=17, seconds=7179)"
      ]
     },
     "execution_count": 121,
     "metadata": {},
     "output_type": "execute_result"
    }
   ],
   "source": [
    "# The difference of two datetime objects produces a datetime.timedelta type\n",
    "dt2 = datetime(2011, 11, 15, 22, 30)\n",
    "delta = dt2 - dt\n",
    "delta"
   ]
  },
  {
   "cell_type": "code",
   "execution_count": 122,
   "metadata": {},
   "outputs": [
    {
     "data": {
      "text/plain": [
       "datetime.datetime(2011, 11, 15, 22, 30)"
      ]
     },
     "execution_count": 122,
     "metadata": {},
     "output_type": "execute_result"
    }
   ],
   "source": [
    "# Adding a timedelta to a datetime produces a new shifted datetime\n",
    "dt + delta"
   ]
  },
  {
   "cell_type": "markdown",
   "metadata": {},
   "source": [
    "### Control Flow\n",
    "**if, elif, and else**\n",
    "- The **if** statement checks a condition that, if True, evaluates the code in the block that follows\n",
    "- An if statement can be optionally followed by one or more elif blocks and a catch-all else block if all of the conditions are False"
   ]
  },
  {
   "cell_type": "code",
   "execution_count": 125,
   "metadata": {},
   "outputs": [
    {
     "name": "stdout",
     "output_type": "stream",
     "text": [
      "It is negative\n"
     ]
    }
   ],
   "source": [
    "# if statement\n",
    "x = -2\n",
    "\n",
    "if x < 0:\n",
    "    print('It is negative')"
   ]
  },
  {
   "cell_type": "code",
   "execution_count": 128,
   "metadata": {},
   "outputs": [
    {
     "name": "stdout",
     "output_type": "stream",
     "text": [
      "Positive but smaller than 5\n"
     ]
    }
   ],
   "source": [
    "# Block of if, elif statements\n",
    "# If any of the conditions is True, no further elif or else blocks will be reached\n",
    "x = 2\n",
    "\n",
    "if x < 0:\n",
    "    print('It is negative')\n",
    "elif x == 0:\n",
    "    print('Equal to zero')\n",
    "elif 0 < x < 5:\n",
    "    print('Positive but smaller than 5')\n",
    "else:\n",
    "    print('Positive and larger than or equal to 5')"
   ]
  },
  {
   "cell_type": "code",
   "execution_count": 129,
   "metadata": {},
   "outputs": [
    {
     "name": "stdout",
     "output_type": "stream",
     "text": [
      "Made it\n"
     ]
    }
   ],
   "source": [
    "# Compound condition using and / or, conditions are evaluated left to right\n",
    "# In this example, the comparison c > d never gets evaluated because the first comparison was True\n",
    "a = 5\n",
    "b = 7\n",
    "c = 8\n",
    "d = 4\n",
    "\n",
    "if a < b or c > d:\n",
    "    print('Made it')"
   ]
  },
  {
   "cell_type": "markdown",
   "metadata": {},
   "source": [
    "**for loops**\n",
    "- **for** loops are for iterating over a collection (like a list or tuple) or an iterater\n",
    "- If the elements in the collection or iterator are sequences (tuples or lists, say), they can be conveniently unpacked into variables\n",
    "- Standard syntax:\n",
    "        for value in collection:\n",
    "            #do something with value"
   ]
  },
  {
   "cell_type": "code",
   "execution_count": 134,
   "metadata": {},
   "outputs": [
    {
     "name": "stdout",
     "output_type": "stream",
     "text": [
      "1\n",
      "3\n",
      "7\n",
      "12\n"
     ]
    }
   ],
   "source": [
    "# You can advance a for loop to the next iteration, skipping the remainder of the block, using the continue keyword\n",
    "# This example sums up integers in a list and skips None values\n",
    "sequence = [1, 2, None, 4, None, 5]\n",
    "total = 0\n",
    "\n",
    "for value in sequence:\n",
    "    if value is None:\n",
    "        continue\n",
    "    total += value\n",
    "    print(total)"
   ]
  },
  {
   "cell_type": "code",
   "execution_count": 135,
   "metadata": {},
   "outputs": [
    {
     "name": "stdout",
     "output_type": "stream",
     "text": [
      "1\n",
      "3\n",
      "3\n",
      "7\n",
      "13\n"
     ]
    }
   ],
   "source": [
    "# A for loop can be exited altogether with the break keyword\n",
    "# This code sums elements of the list until a 5 is reached\n",
    "sequence = [1, 2, 0, 4, 6, 5, 2, 1]\n",
    "total_until_5 = 0\n",
    "\n",
    "for value in sequence:\n",
    "    if value == 5:\n",
    "        break\n",
    "    total_until_5 += value\n",
    "    print(total_until_5)"
   ]
  },
  {
   "cell_type": "code",
   "execution_count": 136,
   "metadata": {
    "scrolled": true
   },
   "outputs": [
    {
     "name": "stdout",
     "output_type": "stream",
     "text": [
      "(0, 0)\n",
      "(1, 0)\n",
      "(1, 1)\n",
      "(2, 0)\n",
      "(2, 1)\n",
      "(2, 2)\n",
      "(3, 0)\n",
      "(3, 1)\n",
      "(3, 2)\n",
      "(3, 3)\n"
     ]
    }
   ],
   "source": [
    "# The break keyword only terminates the innermost for loop\n",
    "# Any outer for loops will continue to run\n",
    "for i in range(4):\n",
    "    for j in range(4):\n",
    "        if j > i:\n",
    "            break\n",
    "        print((i, j))"
   ]
  },
  {
   "cell_type": "markdown",
   "metadata": {},
   "source": [
    "**while loops**\n",
    "- A **while** loop specifies a condition and a block of code that is to be executed until the condition evaluates to False or the loop is explicitly ended with break"
   ]
  },
  {
   "cell_type": "code",
   "execution_count": 138,
   "metadata": {},
   "outputs": [
    {
     "name": "stdout",
     "output_type": "stream",
     "text": [
      "256\n",
      "384\n",
      "448\n",
      "480\n",
      "496\n",
      "504\n"
     ]
    }
   ],
   "source": [
    "# while loop example\n",
    "x = 256\n",
    "total = 0\n",
    "\n",
    "while x > 0:\n",
    "    if total > 500:\n",
    "        break\n",
    "    total += x\n",
    "    x = x // 2\n",
    "    print(total)"
   ]
  },
  {
   "cell_type": "markdown",
   "metadata": {},
   "source": [
    "**pass**\n",
    "- **pass** is the “no-op” statement in Python\n",
    "- It can be used in blocks where no action is to be taken (or as a placeholder for code not yet implemented)\n",
    "- It is only required because Python uses whitespace to delimit blocks"
   ]
  },
  {
   "cell_type": "code",
   "execution_count": 139,
   "metadata": {},
   "outputs": [],
   "source": [
    "# pass example\n",
    "x = 0\n",
    "\n",
    "if x < 0:\n",
    "    print('negative!')\n",
    "elif x == 0:\n",
    "    # TODO: put something smart here\n",
    "    pass\n",
    "else:\n",
    "    print('positive!')"
   ]
  },
  {
   "cell_type": "markdown",
   "metadata": {},
   "source": [
    "**range**\n",
    "- The **range** function returns an iterator that yields a sequence of evenly spaced integers\n",
    "- Both a start, end, and step (which may be negative) can be given\n",
    "- **range** produces integers up to but not including the endpoint\n",
    "- A common use of range is for iterating through sequences by index"
   ]
  },
  {
   "cell_type": "code",
   "execution_count": 140,
   "metadata": {},
   "outputs": [
    {
     "data": {
      "text/plain": [
       "range(0, 10)"
      ]
     },
     "execution_count": 140,
     "metadata": {},
     "output_type": "execute_result"
    }
   ],
   "source": [
    "# range example\n",
    "range(10)"
   ]
  },
  {
   "cell_type": "code",
   "execution_count": 142,
   "metadata": {},
   "outputs": [
    {
     "data": {
      "text/plain": [
       "[0, 1, 2, 3, 4, 5, 6, 7, 8, 9]"
      ]
     },
     "execution_count": 142,
     "metadata": {},
     "output_type": "execute_result"
    }
   ],
   "source": [
    "# Store the output from range in a list\n",
    "list(range(10))"
   ]
  },
  {
   "cell_type": "code",
   "execution_count": 143,
   "metadata": {},
   "outputs": [
    {
     "data": {
      "text/plain": [
       "[0, 2, 4, 6, 8, 10, 12, 14, 16, 18]"
      ]
     },
     "execution_count": 143,
     "metadata": {},
     "output_type": "execute_result"
    }
   ],
   "source": [
    "# You can give a start, end, and step to the range function\n",
    "list(range(0,20,2))"
   ]
  },
  {
   "cell_type": "markdown",
   "metadata": {},
   "source": [
    "**Ternary expressions**\n",
    "- A **ternary expression** in Python allows you to combine an if-else block that produces a value into a single line or expression.\n",
    "- syntax for a **ternary expression**\n",
    "        value = true-expr if condition else false-expr\n",
    "        \n",
    "        if condition:\n",
    "            value = true-expr\n",
    "        else:\n",
    "            value = false-expr"
   ]
  },
  {
   "cell_type": "code",
   "execution_count": 144,
   "metadata": {},
   "outputs": [
    {
     "data": {
      "text/plain": [
       "'Non-negative'"
      ]
     },
     "execution_count": 144,
     "metadata": {},
     "output_type": "execute_result"
    }
   ],
   "source": [
    "# ternary expression example\n",
    "x = 5\n",
    "\n",
    "'Non-negative' if x >= 0 else 'Negative'"
   ]
  }
 ],
 "metadata": {
  "kernelspec": {
   "display_name": "Python 3",
   "language": "python",
   "name": "python3"
  },
  "language_info": {
   "codemirror_mode": {
    "name": "ipython",
    "version": 3
   },
   "file_extension": ".py",
   "mimetype": "text/x-python",
   "name": "python",
   "nbconvert_exporter": "python",
   "pygments_lexer": "ipython3",
   "version": "3.7.5"
  }
 },
 "nbformat": 4,
 "nbformat_minor": 2
}
