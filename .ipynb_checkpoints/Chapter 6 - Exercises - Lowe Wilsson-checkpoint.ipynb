{
 "cells": [
  {
   "cell_type": "markdown",
   "metadata": {},
   "source": [
    "# EXERCISES: CHAPTER 6\n",
    "## Data Loading, Storage, and File Formats"
   ]
  },
  {
   "cell_type": "code",
   "execution_count": 1,
   "metadata": {
    "ExecuteTime": {
     "end_time": "2021-01-09T12:43:38.507871Z",
     "start_time": "2021-01-09T12:43:37.957866Z"
    }
   },
   "outputs": [],
   "source": [
    "import numpy as np\n",
    "import pandas as pd"
   ]
  },
  {
   "cell_type": "markdown",
   "metadata": {},
   "source": [
    "## Exercise 0: Generate a random CSV file and read it in"
   ]
  },
  {
   "cell_type": "markdown",
   "metadata": {},
   "source": [
    "### Preparation\n",
    "0. Go to this site: https://mockaroo.com/\n",
    "1. Try playing around with picking different types of mock data if you want\n",
    "2. Make sure the 'Format' is set to CSV (should be the default).\n",
    "3. Scroll down a bit, click 'Download Data', and save to wherever you want."
   ]
  },
  {
   "cell_type": "markdown",
   "metadata": {},
   "source": [
    "### Task 0\n",
    "Read in the mocked data as a data frame."
   ]
  },
  {
   "cell_type": "markdown",
   "metadata": {},
   "source": [
    "### Solution 0"
   ]
  },
  {
   "cell_type": "markdown",
   "metadata": {},
   "source": [
    "#### Solution 0 (Alexandra)"
   ]
  },
  {
   "cell_type": "code",
   "execution_count": 10,
   "metadata": {
    "ExecuteTime": {
     "end_time": "2021-01-09T12:58:31.296407Z",
     "start_time": "2021-01-09T12:58:31.265519Z"
    }
   },
   "outputs": [
    {
     "data": {
      "text/html": [
       "<div>\n",
       "<style scoped>\n",
       "    .dataframe tbody tr th:only-of-type {\n",
       "        vertical-align: middle;\n",
       "    }\n",
       "\n",
       "    .dataframe tbody tr th {\n",
       "        vertical-align: top;\n",
       "    }\n",
       "\n",
       "    .dataframe thead th {\n",
       "        text-align: right;\n",
       "    }\n",
       "</style>\n",
       "<table border=\"1\" class=\"dataframe\">\n",
       "  <thead>\n",
       "    <tr style=\"text-align: right;\">\n",
       "      <th></th>\n",
       "      <th>id</th>\n",
       "      <th>gender</th>\n",
       "      <th>language</th>\n",
       "      <th>race</th>\n",
       "      <th>company</th>\n",
       "      <th>job_title</th>\n",
       "      <th>country</th>\n",
       "    </tr>\n",
       "  </thead>\n",
       "  <tbody>\n",
       "    <tr>\n",
       "      <th>0</th>\n",
       "      <td>1</td>\n",
       "      <td>Male</td>\n",
       "      <td>Malagasy</td>\n",
       "      <td>Puget Sound Salish</td>\n",
       "      <td>Lazzy</td>\n",
       "      <td>VP Product Management</td>\n",
       "      <td>France</td>\n",
       "    </tr>\n",
       "    <tr>\n",
       "      <th>1</th>\n",
       "      <td>2</td>\n",
       "      <td>Female</td>\n",
       "      <td>Pashto</td>\n",
       "      <td>Puerto Rican</td>\n",
       "      <td>Jayo</td>\n",
       "      <td>Automation Specialist I</td>\n",
       "      <td>Indonesia</td>\n",
       "    </tr>\n",
       "    <tr>\n",
       "      <th>2</th>\n",
       "      <td>3</td>\n",
       "      <td>Male</td>\n",
       "      <td>Papiamento</td>\n",
       "      <td>Dominican (Dominican Republic)</td>\n",
       "      <td>Thoughtblab</td>\n",
       "      <td>Social Worker</td>\n",
       "      <td>Indonesia</td>\n",
       "    </tr>\n",
       "    <tr>\n",
       "      <th>3</th>\n",
       "      <td>4</td>\n",
       "      <td>Male</td>\n",
       "      <td>New Zealand Sign Language</td>\n",
       "      <td>Chinese</td>\n",
       "      <td>Mybuzz</td>\n",
       "      <td>Environmental Tech</td>\n",
       "      <td>Philippines</td>\n",
       "    </tr>\n",
       "    <tr>\n",
       "      <th>4</th>\n",
       "      <td>5</td>\n",
       "      <td>Female</td>\n",
       "      <td>New Zealand Sign Language</td>\n",
       "      <td>Choctaw</td>\n",
       "      <td>Oyondu</td>\n",
       "      <td>Financial Analyst</td>\n",
       "      <td>Mozambique</td>\n",
       "    </tr>\n",
       "  </tbody>\n",
       "</table>\n",
       "</div>"
      ],
      "text/plain": [
       "   id  gender                   language                            race  \\\n",
       "0   1    Male                   Malagasy              Puget Sound Salish   \n",
       "1   2  Female                     Pashto                    Puerto Rican   \n",
       "2   3    Male                 Papiamento  Dominican (Dominican Republic)   \n",
       "3   4    Male  New Zealand Sign Language                         Chinese   \n",
       "4   5  Female  New Zealand Sign Language                         Choctaw   \n",
       "\n",
       "       company                job_title      country  \n",
       "0        Lazzy    VP Product Management       France  \n",
       "1         Jayo  Automation Specialist I    Indonesia  \n",
       "2  Thoughtblab            Social Worker    Indonesia  \n",
       "3       Mybuzz       Environmental Tech  Philippines  \n",
       "4       Oyondu        Financial Analyst   Mozambique  "
      ]
     },
     "execution_count": 10,
     "metadata": {},
     "output_type": "execute_result"
    }
   ],
   "source": [
    "# Define the file path\n",
    "path = %pwd \n",
    "file = wd + '\\exercises\\Chapter 6\\demographic_mock_data.csv'\n",
    "\n",
    "# Read the csv file into a pandas DataFrame\n",
    "demographic = pd.read_csv(file)\n",
    "\n",
    "# Check first 5 rows\n",
    "demographic.head()"
   ]
  },
  {
   "cell_type": "code",
   "execution_count": null,
   "metadata": {
    "code_folding": [],
    "jupyter": {
     "source_hidden": true
    }
   },
   "outputs": [],
   "source": [
    "# 0. Copy the file path to your file (if you don't know how to do this quickly, search for instructions for your operating system) \n",
    "# 1. Paste your file path to a Python script like this one, and run it.\n",
    "fpath = '/Users/lowe/Downloads/MOCK_DATA.csv'\n",
    "df = pd.read_csv(fpath)\n",
    "df"
   ]
  },
  {
   "cell_type": "markdown",
   "metadata": {},
   "source": [
    "### Task 1\n",
    "Save the produced dataframe's contents to a new .csv file, using `;` as the field delimiter."
   ]
  },
  {
   "cell_type": "markdown",
   "metadata": {},
   "source": [
    "### Solution 1"
   ]
  },
  {
   "cell_type": "markdown",
   "metadata": {},
   "source": [
    "#### Solution 1 (Alexandra)"
   ]
  },
  {
   "cell_type": "code",
   "execution_count": 11,
   "metadata": {
    "ExecuteTime": {
     "end_time": "2021-01-09T13:07:38.195020Z",
     "start_time": "2021-01-09T13:07:38.167091Z"
    }
   },
   "outputs": [],
   "source": [
    "# Define the path for where you want to save the file\n",
    "my_csv = path + '\\exercises\\Chapter 6\\my_csv_file.csv'\n",
    "\n",
    "# Use DataFrame's method to_csv\n",
    "demographic.to_csv(my_csv, sep=';')"
   ]
  },
  {
   "cell_type": "code",
   "execution_count": null,
   "metadata": {
    "jupyter": {
     "source_hidden": true
    }
   },
   "outputs": [],
   "source": [
    "df.to_csv('foobar.csv', sep=';')"
   ]
  },
  {
   "cell_type": "markdown",
   "metadata": {},
   "source": [
    "## Exercise 1: Copy a HTML table from a webpage"
   ]
  },
  {
   "cell_type": "markdown",
   "metadata": {},
   "source": [
    "### Preparation\n",
    "0. Go to this Wikipedia page: https://en.wikipedia.org/wiki/List_of_C-family_programming_languages\n",
    "1. Scroll down to the table of different programming languages"
   ]
  },
  {
   "cell_type": "markdown",
   "metadata": {},
   "source": [
    "### Task\n",
    "Copy the header and the first five rows (down to the 'C++' row) from the web page's table into a data frame."
   ]
  },
  {
   "cell_type": "markdown",
   "metadata": {},
   "source": [
    "#### Solution (Alexandra)"
   ]
  },
  {
   "cell_type": "code",
   "execution_count": 24,
   "metadata": {
    "ExecuteTime": {
     "end_time": "2021-01-09T13:25:58.073562Z",
     "start_time": "2021-01-09T13:25:57.743469Z"
    }
   },
   "outputs": [
    {
     "data": {
      "text/html": [
       "<div>\n",
       "<style scoped>\n",
       "    .dataframe tbody tr th:only-of-type {\n",
       "        vertical-align: middle;\n",
       "    }\n",
       "\n",
       "    .dataframe tbody tr th {\n",
       "        vertical-align: top;\n",
       "    }\n",
       "\n",
       "    .dataframe thead th {\n",
       "        text-align: right;\n",
       "    }\n",
       "</style>\n",
       "<table border=\"1\" class=\"dataframe\">\n",
       "  <thead>\n",
       "    <tr style=\"text-align: right;\">\n",
       "      <th></th>\n",
       "      <th>Language</th>\n",
       "      <th>Year started</th>\n",
       "      <th>Created by (at)</th>\n",
       "      <th>Comments</th>\n",
       "      <th>References</th>\n",
       "    </tr>\n",
       "  </thead>\n",
       "  <tbody>\n",
       "    <tr>\n",
       "      <th>0</th>\n",
       "      <td>E</td>\n",
       "      <td>1997</td>\n",
       "      <td>Mark S. Miller, Dan Bornstein (Electric Commun...</td>\n",
       "      <td>Designed with secure computing in mind, accomp...</td>\n",
       "      <td>NaN</td>\n",
       "    </tr>\n",
       "    <tr>\n",
       "      <th>1</th>\n",
       "      <td>C</td>\n",
       "      <td>1969-1973</td>\n",
       "      <td>Dennis Ritchie (Bell Labs)</td>\n",
       "      <td>Was an enhancement of Ken Thompson's B language.</td>\n",
       "      <td>NaN</td>\n",
       "    </tr>\n",
       "    <tr>\n",
       "      <th>2</th>\n",
       "      <td>Ratfor</td>\n",
       "      <td>1974</td>\n",
       "      <td>Brian Kernighan (Bell Labs)</td>\n",
       "      <td>A hybrid of C and Fortran, implemented as a pr...</td>\n",
       "      <td>NaN</td>\n",
       "    </tr>\n",
       "    <tr>\n",
       "      <th>3</th>\n",
       "      <td>C shell/tcsh</td>\n",
       "      <td>1978</td>\n",
       "      <td>Bill Joy (UC Berkeley)</td>\n",
       "      <td>Scripting language and standard Unix shell.</td>\n",
       "      <td>NaN</td>\n",
       "    </tr>\n",
       "    <tr>\n",
       "      <th>4</th>\n",
       "      <td>C++</td>\n",
       "      <td>1979</td>\n",
       "      <td>Bjarne Stroustrup (Bell Labs)</td>\n",
       "      <td>Named as \"C with Classes\" and renamed C++ in 1...</td>\n",
       "      <td>[1]</td>\n",
       "    </tr>\n",
       "  </tbody>\n",
       "</table>\n",
       "</div>"
      ],
      "text/plain": [
       "       Language Year started  \\\n",
       "0             E         1997   \n",
       "1             C    1969-1973   \n",
       "2        Ratfor         1974   \n",
       "3  C shell/tcsh         1978   \n",
       "4           C++         1979   \n",
       "\n",
       "                                     Created by (at)  \\\n",
       "0  Mark S. Miller, Dan Bornstein (Electric Commun...   \n",
       "1                         Dennis Ritchie (Bell Labs)   \n",
       "2                        Brian Kernighan (Bell Labs)   \n",
       "3                             Bill Joy (UC Berkeley)   \n",
       "4                      Bjarne Stroustrup (Bell Labs)   \n",
       "\n",
       "                                            Comments References  \n",
       "0  Designed with secure computing in mind, accomp...        NaN  \n",
       "1   Was an enhancement of Ken Thompson's B language.        NaN  \n",
       "2  A hybrid of C and Fortran, implemented as a pr...        NaN  \n",
       "3        Scripting language and standard Unix shell.        NaN  \n",
       "4  Named as \"C with Classes\" and renamed C++ in 1...        [1]  "
      ]
     },
     "execution_count": 24,
     "metadata": {},
     "output_type": "execute_result"
    }
   ],
   "source": [
    "# Read the entire page using read_html\n",
    "all_data = pd.read_html('https://en.wikipedia.org/wiki/List_of_C-family_programming_languages')\n",
    "\n",
    "# Create a DataFrame with just first 5 rows of the table\n",
    "my_table = all_data[3].head()\n",
    "my_table"
   ]
  },
  {
   "cell_type": "markdown",
   "metadata": {},
   "source": [
    "### Solution"
   ]
  },
  {
   "cell_type": "markdown",
   "metadata": {
    "jupyter": {
     "source_hidden": true
    }
   },
   "source": [
    "0. Highlight the header and the first five rows by simply using your mouse. \n",
    "1. Use Ctrl+C (Cmd+C) to copy the highlighted text to your clipboard. \n",
    "2. Go to your Jupyter notebook and run the below code."
   ]
  },
  {
   "cell_type": "code",
   "execution_count": null,
   "metadata": {
    "jupyter": {
     "source_hidden": true
    }
   },
   "outputs": [],
   "source": [
    "import pandas as pd\n",
    "df = pd.read_clipboard()\n",
    "df"
   ]
  },
  {
   "cell_type": "markdown",
   "metadata": {},
   "source": [
    "## Exercise 2: Convert a Python list of dictionaries to JSON"
   ]
  },
  {
   "cell_type": "markdown",
   "metadata": {},
   "source": [
    "### Preparation\n",
    "Run the code snippet below to create a list of dictionaries"
   ]
  },
  {
   "cell_type": "code",
   "execution_count": 25,
   "metadata": {
    "ExecuteTime": {
     "end_time": "2021-01-09T13:27:43.305637Z",
     "start_time": "2021-01-09T13:27:43.293659Z"
    }
   },
   "outputs": [],
   "source": [
    "people = [\n",
    "    {'name': 'Breonna', 'age': 26, 'profession': 'Nurse'},\n",
    "    {'name': 'Ada', 'age': 36, 'profession': 'Programmer', \n",
    "     'Interests': ['Poetry', 'Poetical Science']},\n",
    "    {'name': 'Charles', 'age': 79, 'profession': 'Programmer'}\n",
    "]"
   ]
  },
  {
   "cell_type": "markdown",
   "metadata": {},
   "source": [
    "### Task"
   ]
  },
  {
   "cell_type": "markdown",
   "metadata": {},
   "source": [
    "Convert the data in `people` to a string of JSON-formatted data."
   ]
  },
  {
   "cell_type": "markdown",
   "metadata": {},
   "source": [
    "#### Solution (Alexandra)"
   ]
  },
  {
   "cell_type": "code",
   "execution_count": 30,
   "metadata": {
    "ExecuteTime": {
     "end_time": "2021-01-09T13:34:01.767826Z",
     "start_time": "2021-01-09T13:34:01.750907Z"
    }
   },
   "outputs": [
    {
     "name": "stdout",
     "output_type": "stream",
     "text": [
      "[\n",
      "    {\n",
      "        \"age\": 26,\n",
      "        \"name\": \"Breonna\",\n",
      "        \"profession\": \"Nurse\"\n",
      "    },\n",
      "    {\n",
      "        \"Interests\": [\n",
      "            \"Poetry\",\n",
      "            \"Poetical Science\"\n",
      "        ],\n",
      "        \"age\": 36,\n",
      "        \"name\": \"Ada\",\n",
      "        \"profession\": \"Programmer\"\n",
      "    },\n",
      "    {\n",
      "        \"age\": 79,\n",
      "        \"name\": \"Charles\",\n",
      "        \"profession\": \"Programmer\"\n",
      "    }\n",
      "]\n"
     ]
    }
   ],
   "source": [
    "# Import the json package\n",
    "import json\n",
    "\n",
    "# Convert the list of dict into a json object\n",
    "print(json.dumps(people, indent=4, sort_keys=True))"
   ]
  },
  {
   "cell_type": "markdown",
   "metadata": {},
   "source": [
    "### Solution"
   ]
  },
  {
   "cell_type": "code",
   "execution_count": null,
   "metadata": {
    "jupyter": {
     "source_hidden": true
    }
   },
   "outputs": [],
   "source": [
    "import json\n",
    "people_json = json.dumps(people)\n",
    "people_json"
   ]
  },
  {
   "cell_type": "markdown",
   "metadata": {},
   "source": [
    "## Exercise 3: Copy a HTML table from a webpage, again"
   ]
  },
  {
   "cell_type": "markdown",
   "metadata": {},
   "source": [
    "### Preparations"
   ]
  },
  {
   "cell_type": "markdown",
   "metadata": {},
   "source": [
    "0. Install (`pip install`/`conda install`) the packages `lxml`, `beautifulsoup4` and `html5lib`, if you don't already have them\n",
    "1. Go to https://c19.se/ , which has COVID-19 statistics for Sweden\n",
    "2. Scroll down to where you see a table of by-region statistics (actually two tables, since the summary statistics are in a HTML table element of their own)"
   ]
  },
  {
   "cell_type": "markdown",
   "metadata": {},
   "source": [
    "### Task"
   ]
  },
  {
   "cell_type": "markdown",
   "metadata": {},
   "source": [
    "Convert/import the by-region HTML table to a pandas dataframe and sort it by total number of cases (the 'Fall' column)."
   ]
  },
  {
   "cell_type": "markdown",
   "metadata": {},
   "source": [
    "#### Solution (Alexandra)"
   ]
  },
  {
   "cell_type": "code",
   "execution_count": 51,
   "metadata": {
    "ExecuteTime": {
     "end_time": "2021-01-09T13:52:21.377286Z",
     "start_time": "2021-01-09T13:52:21.350396Z"
    }
   },
   "outputs": [],
   "source": [
    "# First save the page as an html file\n",
    "\n",
    "# Use read_html to read the data into a list\n",
    "covid_data = pd.read_html(path + '\\exercises\\Chapter 6\\C19.SE - Coronavirus i Sverige.html')\n",
    "\n",
    "# Select the first elemet of the list which is the table of by-region statistics\n",
    "covid_region = covid_data[0]"
   ]
  },
  {
   "cell_type": "code",
   "execution_count": 52,
   "metadata": {
    "ExecuteTime": {
     "end_time": "2021-01-09T13:52:22.965111Z",
     "start_time": "2021-01-09T13:52:22.957133Z"
    }
   },
   "outputs": [
    {
     "data": {
      "text/plain": [
       "Region         object\n",
       "Fall           object\n",
       "Fall idag       int64\n",
       "Per 100K      float64\n",
       "På sjukhus      int64\n",
       "På IVA          int64\n",
       "Döda           object\n",
       "Döda idag       int64\n",
       "dtype: object"
      ]
     },
     "execution_count": 52,
     "metadata": {},
     "output_type": "execute_result"
    }
   ],
   "source": [
    "# Check the type for each column\n",
    "covid_region.dtypes\n",
    "\n",
    "# We can see that column 'Fall' is an object"
   ]
  },
  {
   "cell_type": "code",
   "execution_count": 53,
   "metadata": {
    "ExecuteTime": {
     "end_time": "2021-01-09T13:52:24.961500Z",
     "start_time": "2021-01-09T13:52:24.950531Z"
    }
   },
   "outputs": [
    {
     "data": {
      "text/plain": [
       "Region         object\n",
       "Fall            int32\n",
       "Fall idag       int64\n",
       "Per 100K      float64\n",
       "På sjukhus      int64\n",
       "På IVA          int64\n",
       "Döda           object\n",
       "Döda idag       int64\n",
       "dtype: object"
      ]
     },
     "execution_count": 53,
     "metadata": {},
     "output_type": "execute_result"
    }
   ],
   "source": [
    "# First remove all spaces\n",
    "covid_region['Fall'] = covid_region['Fall'].str.replace(' ', '')\n",
    "\n",
    "# Convert column 'Fall' into int\n",
    "covid_region['Fall'] = covid_region['Fall'].astype('int')\n",
    "\n",
    "# Check types again\n",
    "covid_region.dtypes"
   ]
  },
  {
   "cell_type": "code",
   "execution_count": 56,
   "metadata": {
    "ExecuteTime": {
     "end_time": "2021-01-09T13:54:14.514462Z",
     "start_time": "2021-01-09T13:54:14.502493Z"
    }
   },
   "outputs": [
    {
     "data": {
      "text/html": [
       "<div>\n",
       "<style scoped>\n",
       "    .dataframe tbody tr th:only-of-type {\n",
       "        vertical-align: middle;\n",
       "    }\n",
       "\n",
       "    .dataframe tbody tr th {\n",
       "        vertical-align: top;\n",
       "    }\n",
       "\n",
       "    .dataframe thead th {\n",
       "        text-align: right;\n",
       "    }\n",
       "</style>\n",
       "<table border=\"1\" class=\"dataframe\">\n",
       "  <thead>\n",
       "    <tr style=\"text-align: right;\">\n",
       "      <th></th>\n",
       "      <th>index</th>\n",
       "      <th>Region</th>\n",
       "      <th>Fall</th>\n",
       "      <th>Fall idag</th>\n",
       "      <th>Per 100K</th>\n",
       "      <th>På sjukhus</th>\n",
       "      <th>På IVA</th>\n",
       "      <th>Döda</th>\n",
       "      <th>Döda idag</th>\n",
       "    </tr>\n",
       "  </thead>\n",
       "  <tbody>\n",
       "    <tr>\n",
       "      <th>0</th>\n",
       "      <td>20</td>\n",
       "      <td>Stockholm</td>\n",
       "      <td>126212</td>\n",
       "      <td>0</td>\n",
       "      <td>5364.9</td>\n",
       "      <td>685</td>\n",
       "      <td>84</td>\n",
       "      <td>3 361</td>\n",
       "      <td>0</td>\n",
       "    </tr>\n",
       "    <tr>\n",
       "      <th>1</th>\n",
       "      <td>19</td>\n",
       "      <td>Västra Götaland</td>\n",
       "      <td>81865</td>\n",
       "      <td>0</td>\n",
       "      <td>4776.5</td>\n",
       "      <td>511</td>\n",
       "      <td>79</td>\n",
       "      <td>1 396</td>\n",
       "      <td>0</td>\n",
       "    </tr>\n",
       "    <tr>\n",
       "      <th>2</th>\n",
       "      <td>18</td>\n",
       "      <td>Skåne</td>\n",
       "      <td>78745</td>\n",
       "      <td>0</td>\n",
       "      <td>5764.8</td>\n",
       "      <td>597</td>\n",
       "      <td>60</td>\n",
       "      <td>814</td>\n",
       "      <td>0</td>\n",
       "    </tr>\n",
       "    <tr>\n",
       "      <th>3</th>\n",
       "      <td>17</td>\n",
       "      <td>Uppsala</td>\n",
       "      <td>19375</td>\n",
       "      <td>0</td>\n",
       "      <td>5122.3</td>\n",
       "      <td>131</td>\n",
       "      <td>16</td>\n",
       "      <td>399</td>\n",
       "      <td>0</td>\n",
       "    </tr>\n",
       "    <tr>\n",
       "      <th>4</th>\n",
       "      <td>16</td>\n",
       "      <td>Jönköping</td>\n",
       "      <td>18953</td>\n",
       "      <td>0</td>\n",
       "      <td>5239.1</td>\n",
       "      <td>94</td>\n",
       "      <td>15</td>\n",
       "      <td>354</td>\n",
       "      <td>0</td>\n",
       "    </tr>\n",
       "  </tbody>\n",
       "</table>\n",
       "</div>"
      ],
      "text/plain": [
       "   index           Region    Fall  Fall idag  Per 100K  På sjukhus  På IVA  \\\n",
       "0     20        Stockholm  126212          0    5364.9         685      84   \n",
       "1     19  Västra Götaland   81865          0    4776.5         511      79   \n",
       "2     18            Skåne   78745          0    5764.8         597      60   \n",
       "3     17          Uppsala   19375          0    5122.3         131      16   \n",
       "4     16        Jönköping   18953          0    5239.1          94      15   \n",
       "\n",
       "    Döda  Döda idag  \n",
       "0  3 361          0  \n",
       "1  1 396          0  \n",
       "2    814          0  \n",
       "3    399          0  \n",
       "4    354          0  "
      ]
     },
     "execution_count": 56,
     "metadata": {},
     "output_type": "execute_result"
    }
   ],
   "source": [
    "# Sort by column 'Fall'\n",
    "covid_region = covid_region.sort_values(by='Fall', ascending=False).reset_index(drop=True)\n",
    "covid_region.head()"
   ]
  },
  {
   "cell_type": "markdown",
   "metadata": {},
   "source": [
    "### Solution"
   ]
  },
  {
   "cell_type": "code",
   "execution_count": null,
   "metadata": {
    "jupyter": {
     "source_hidden": true
    }
   },
   "outputs": [],
   "source": [
    "# 0. Right click the webpage in your web browser and choose 'Save Page As...'\n",
    "# 1. Copy the file path to the downloaded .html file.\n",
    "# 2. Paste the file path into a code snippet like this one.\n",
    "fpath = '/Users/lowe/Desktop/C19.SE - Coronavirus i Sverige.html'\n",
    "# let pandas parse the html, creating a list of dataframes\n",
    "covid_frames = pd.read_html(fpath)"
   ]
  },
  {
   "cell_type": "code",
   "execution_count": null,
   "metadata": {
    "jupyter": {
     "source_hidden": true
    }
   },
   "outputs": [],
   "source": [
    "# check how many tables were found (/data frames were created)\n",
    "len(covid_frames)"
   ]
  },
  {
   "cell_type": "code",
   "execution_count": null,
   "metadata": {
    "jupyter": {
     "source_hidden": true
    }
   },
   "outputs": [],
   "source": [
    "# take a look at the first dataframe\n",
    "covid_frames[0]"
   ]
  },
  {
   "cell_type": "code",
   "execution_count": null,
   "metadata": {
    "jupyter": {
     "source_hidden": true
    }
   },
   "outputs": [],
   "source": [
    "# that's what we want, so make a copy that we can edit without\n",
    "# changing the original data (in case we want to start over later)\n",
    "covid_regions_df = covid_frames[0].copy()"
   ]
  },
  {
   "cell_type": "code",
   "execution_count": null,
   "metadata": {
    "jupyter": {
     "source_hidden": true
    }
   },
   "outputs": [],
   "source": [
    "# check the data type of the 'Fall idag' (cases today) column\n",
    "covid_regions_df['Fall'].dtype"
   ]
  },
  {
   "cell_type": "code",
   "execution_count": null,
   "metadata": {
    "jupyter": {
     "source_hidden": true
    }
   },
   "outputs": [],
   "source": [
    "# the 'number of cases today' column isn't reliably interpreted as being of integer type\n",
    "# (so you might get `dtype('0')` above) which is a problem since we want to sort by numeric value.\n",
    "# in that case, you need to clean and convert the data using something like this code\n",
    "# snippet.\n",
    "\n",
    "# remove all whitespace, e. g. '2 830'->'2830'\n",
    "covid_regions_df['Fall'] = covid_regions_df['Fall'].str.replace(' ', '')\n",
    "# convert to integer type\n",
    "covid_regions_df['Fall'] = covid_regions_df['Fall'].astype(int)"
   ]
  },
  {
   "cell_type": "code",
   "execution_count": null,
   "metadata": {
    "jupyter": {
     "source_hidden": true
    }
   },
   "outputs": [],
   "source": [
    "# sort by number of cases today\n",
    "covid_regions_df.sort_values('Fall', inplace=True)\n",
    "covid_regions_df"
   ]
  },
  {
   "cell_type": "markdown",
   "metadata": {},
   "source": [
    "## Exercise 4: Fetch JSON data from an API"
   ]
  },
  {
   "cell_type": "markdown",
   "metadata": {},
   "source": [
    "### Preparation"
   ]
  },
  {
   "cell_type": "markdown",
   "metadata": {},
   "source": [
    "API stands for **Application Programming Interface**. It's a broad term that roughly describes *an interface, a set of commands, that can be used to make some piece of technology and/or software do things*. In the context of databases, an API means an interface that allows you to retrieve or manipulate the contents of a database. For a simple example, say you have a database about ice creams, which holds each ice cream's name and price. You could then let outside users connect to your database and tell it to send them a list of all the ice creams in your database, or to delete all the ice creams in the database. You could call these two commands \"GET ALL ICECREAM\" and \"DELETE ALL ICECREAM\". The users don't know how exactly your database actually executes the commands, only how to give them. That's an API consisting of a set of two instructions. Obviously it has its drawbacks, and API's in the wild usually offer more comprehensive and refined sets of commands, as we'll see.\n",
    "\n",
    "In this exercise we interact with the [Open Movie Database](https://www.omdbapi.com/). Its API is relatively beginner-friendly and has been stable for a long time, so it's easy to get started. To use it you need to get an *API key* (essentially a 'username' and 'password' in a single code). Luckily anyone can register for a key and all you need is an e-mail address. Go to [this page](https://www.omdbapi.com/apikey.aspx) to register, choosing the 'free' option.  Check your e-mail inbox for a message with your API key, then briefly read through the [Usage](https://www.omdbapi.com/#usage) and [Parameters](https://www.omdbapi.com/#parameters) sections. Finally, try a couple of [Examples](https://www.omdbapi.com/#examples).\n",
    "\n",
    "If you don't have it yet (if you have Anaconda you're good to go), `pip install` the **requests** package.\n",
    "\n",
    "*(note: fetching data about movies might not feel very 'data science-y', of course. the point here is simply to get a feel for how interacting with an API works, because this in itself can become quite complicated)*"
   ]
  },
  {
   "cell_type": "markdown",
   "metadata": {},
   "source": [
    "### Task 0"
   ]
  },
  {
   "cell_type": "markdown",
   "metadata": {},
   "source": [
    "Retrieve data for all movies from 1951 with 'cat' in the title and put them in a pandas dataframe. (1951 is chosen simply because it makes for a very manageable dataset of a few, rather than hundreds of, movies)"
   ]
  },
  {
   "cell_type": "markdown",
   "metadata": {},
   "source": [
    "#### Solution 0 (Alexandra)"
   ]
  },
  {
   "cell_type": "code",
   "execution_count": 57,
   "metadata": {
    "ExecuteTime": {
     "end_time": "2021-01-09T14:10:15.027943Z",
     "start_time": "2021-01-09T14:10:14.938312Z"
    }
   },
   "outputs": [],
   "source": [
    "# Importing the requests library \n",
    "import requests "
   ]
  },
  {
   "cell_type": "code",
   "execution_count": 66,
   "metadata": {
    "ExecuteTime": {
     "end_time": "2021-01-09T14:17:12.148989Z",
     "start_time": "2021-01-09T14:17:12.054986Z"
    }
   },
   "outputs": [],
   "source": [
    "# Define the API end point\n",
    "url = 'http://www.omdbapi.com/'\n",
    "\n",
    "# Define the parameters you want to send with your API call\n",
    "param = dict(apikey='e9b43bad', s='cat', y=1951)\n",
    "\n",
    "# Perform the actual get request\n",
    "res = requests.get(url, params=param)"
   ]
  },
  {
   "cell_type": "code",
   "execution_count": 79,
   "metadata": {
    "ExecuteTime": {
     "end_time": "2021-01-09T14:20:52.687528Z",
     "start_time": "2021-01-09T14:20:52.676565Z"
    }
   },
   "outputs": [],
   "source": [
    "# json method will return a dictionary containing JSON parsed\n",
    "# into native Python objects\n",
    "movie_cat_data = res.json()"
   ]
  },
  {
   "cell_type": "code",
   "execution_count": 82,
   "metadata": {
    "ExecuteTime": {
     "end_time": "2021-01-09T14:23:56.107599Z",
     "start_time": "2021-01-09T14:23:56.080672Z"
    }
   },
   "outputs": [
    {
     "data": {
      "text/html": [
       "<div>\n",
       "<style scoped>\n",
       "    .dataframe tbody tr th:only-of-type {\n",
       "        vertical-align: middle;\n",
       "    }\n",
       "\n",
       "    .dataframe tbody tr th {\n",
       "        vertical-align: top;\n",
       "    }\n",
       "\n",
       "    .dataframe thead th {\n",
       "        text-align: right;\n",
       "    }\n",
       "</style>\n",
       "<table border=\"1\" class=\"dataframe\">\n",
       "  <thead>\n",
       "    <tr style=\"text-align: right;\">\n",
       "      <th></th>\n",
       "      <th>Title</th>\n",
       "      <th>Year</th>\n",
       "      <th>imdbID</th>\n",
       "      <th>Type</th>\n",
       "      <th>Poster</th>\n",
       "    </tr>\n",
       "  </thead>\n",
       "  <tbody>\n",
       "    <tr>\n",
       "      <th>0</th>\n",
       "      <td>Cat Napping</td>\n",
       "      <td>1951</td>\n",
       "      <td>tt0043387</td>\n",
       "      <td>movie</td>\n",
       "      <td>https://m.media-amazon.com/images/M/MV5BZTYwMG...</td>\n",
       "    </tr>\n",
       "    <tr>\n",
       "      <th>1</th>\n",
       "      <td>Casanova Cat</td>\n",
       "      <td>1951</td>\n",
       "      <td>tt0043384</td>\n",
       "      <td>movie</td>\n",
       "      <td>https://m.media-amazon.com/images/M/MV5BNGYwY2...</td>\n",
       "    </tr>\n",
       "    <tr>\n",
       "      <th>2</th>\n",
       "      <td>'Fraidy Cat</td>\n",
       "      <td>1951</td>\n",
       "      <td>tt0176731</td>\n",
       "      <td>movie</td>\n",
       "      <td>N/A</td>\n",
       "    </tr>\n",
       "    <tr>\n",
       "      <th>3</th>\n",
       "      <td>Cat-Choo</td>\n",
       "      <td>1951</td>\n",
       "      <td>tt0150070</td>\n",
       "      <td>movie</td>\n",
       "      <td>N/A</td>\n",
       "    </tr>\n",
       "    <tr>\n",
       "      <th>4</th>\n",
       "      <td>Cat Tamale</td>\n",
       "      <td>1951</td>\n",
       "      <td>tt0150064</td>\n",
       "      <td>movie</td>\n",
       "      <td>N/A</td>\n",
       "    </tr>\n",
       "    <tr>\n",
       "      <th>5</th>\n",
       "      <td>The Haunted Cat</td>\n",
       "      <td>1951</td>\n",
       "      <td>tt0150854</td>\n",
       "      <td>movie</td>\n",
       "      <td>N/A</td>\n",
       "    </tr>\n",
       "  </tbody>\n",
       "</table>\n",
       "</div>"
      ],
      "text/plain": [
       "             Title  Year     imdbID   Type  \\\n",
       "0      Cat Napping  1951  tt0043387  movie   \n",
       "1     Casanova Cat  1951  tt0043384  movie   \n",
       "2      'Fraidy Cat  1951  tt0176731  movie   \n",
       "3         Cat-Choo  1951  tt0150070  movie   \n",
       "4       Cat Tamale  1951  tt0150064  movie   \n",
       "5  The Haunted Cat  1951  tt0150854  movie   \n",
       "\n",
       "                                              Poster  \n",
       "0  https://m.media-amazon.com/images/M/MV5BZTYwMG...  \n",
       "1  https://m.media-amazon.com/images/M/MV5BNGYwY2...  \n",
       "2                                                N/A  \n",
       "3                                                N/A  \n",
       "4                                                N/A  \n",
       "5                                                N/A  "
      ]
     },
     "execution_count": 82,
     "metadata": {},
     "output_type": "execute_result"
    }
   ],
   "source": [
    "# Save data into a DataFrame\n",
    "movie_cat = pd.DataFrame(movie_cat_data['Search'])\n",
    "movie_cat"
   ]
  },
  {
   "cell_type": "markdown",
   "metadata": {
    "heading_collapsed": true
   },
   "source": [
    "### Solution 0"
   ]
  },
  {
   "cell_type": "markdown",
   "metadata": {
    "hidden": true,
    "jupyter": {
     "source_hidden": true
    }
   },
   "source": [
    "1. Use the web site's 'examples' form to do a search with 'Title' set to 'cat' and 'Year' set to '1951'. You'll see that the request URL looks like this: 'http://www.omdbapi.com/?t=cat&y=1951'. This is a URL ('Universal Resource Locator', very roughly an 'internet address') that applies the filters that we want. The most important parts are the parameters at the end, 't=cat&y=1951', basically meaning 'title must include cat, and year must be 1951'.\n",
    "2. Look at the single-record response shown below the search form to see how each movie's data are formatted. Each record is structured as a 'dictionary', like this:\n",
    "> {\"Title\":\"Cat Napping\",\"Year\":\"1951\",\"Rated\":\"Approved\",\"Released\":\"08 Dec 1951\",\"Runtime\":\"7 min\",\"Genre\":\"Animation, Short, Comedy, Family\",\"Director\":\"Joseph Barbera, William Hanna\",\"Writer\":\"N/A\",\"Actors\":\"N/A\",\"Plot\":\"Tom's getting ready to settle into the hammock, but Jerry has beat him to it and the battle begins.\",\"Language\":\"English\",\"Country\":\"USA\",\"Awards\":\"N/A\",\"Poster\":\"https://m.media-amazon.com/images/M/MV5BZTYwMGY0NGMtOTQzMy00YjVmLTk5YmEtZjZiNjRiM2VhNzVkXkEyXkFqcGdeQXVyNjMxODMyODU@._V1_SX300.jpg\",\"Ratings\":[{\"Source\":\"Internet Movie Database\",\"Value\":\"7.5/10\"}],\"Metascore\":\"N/A\",\"imdbRating\":\"7.5\",\"imdbVotes\":\"643\",\"imdbID\":\"tt0043387\",\"Type\":\"movie\",\"DVD\":\"N/A\",\"BoxOffice\":\"N/A\",\"Production\":\"N/A\",\"Website\":\"N/A\",\"Response\":\"True\"}\n",
    "\n",
    "This format is called a 'records' format by pandas, as can be seen in the [documentation for `read_json`](https://pandas.pydata.org/pandas-docs/stable/reference/api/pandas.read_json.html)\n",
    "\n",
    "3. Note that the examples form uses the 't' parameter, which means that the response will only include a **single** movie. We however want **all** movies from 1951 that have 'cat' in their titles. If we look at the [Parameters](https://www.omdbapi.com/#parameters) section again we see that to do a proper search (that can return multiple movies) we need to use the 's' parameter instead of 't'.\n",
    "\n",
    "3. Based on the above, we know that we want to send a GET (this is the default in the 'requests' package) request to 'http://www.omdbapi.com'. The request should have the following parameters:\n",
    "\n",
    "* apikey: --API key sent in e-mail--\n",
    "* s: cat\n",
    "* y: 1951\n",
    "\n",
    "4. Use the following code, which makes use of the information you collected in the previous steps."
   ]
  },
  {
   "cell_type": "code",
   "execution_count": 109,
   "metadata": {
    "hidden": true,
    "jupyter": {
     "source_hidden": true
    }
   },
   "outputs": [
    {
     "data": {
      "text/plain": [
       "requests.models.Response"
      ]
     },
     "execution_count": 109,
     "metadata": {},
     "output_type": "execute_result"
    }
   ],
   "source": [
    "# import the requests package and the JSON package\n",
    "import requests\n",
    "import json\n",
    "\n",
    "# specify the address to the API site (the 'API endpoint')\n",
    "api_endpoint = 'http://www.omdbapi.com'\n",
    "# form a dictionary of request parameters\n",
    "url_parameters = {\n",
    "    'apikey': 'INSERTAPIKEYHERE',\n",
    "    's': 'cat',\n",
    "    'y': 1951\n",
    "}\n",
    "\n",
    "# use the `requests` package's `get` function to make a\n",
    "# GET ('retrieve data') request to the API endpoint, \n",
    "# including the request parameters.\n",
    "# this produces a Response object, which includes\n",
    "# a lot of information about the API's response\n",
    "requests_resp = requests.get(api_endpoint, url_parameters)\n",
    "type(requests_resp)"
   ]
  },
  {
   "cell_type": "code",
   "execution_count": null,
   "metadata": {
    "hidden": true,
    "jupyter": {
     "source_hidden": true
    }
   },
   "outputs": [],
   "source": [
    "# we are only interested in the data sent back by the API,\n",
    "# which are in the Response object's 'content' attribute\n",
    "raw_json = requests_resp.content\n",
    "# let's see how the actual search query response is formatted\n",
    "raw_json[:400]"
   ]
  },
  {
   "cell_type": "code",
   "execution_count": null,
   "metadata": {
    "hidden": true,
    "jupyter": {
     "source_hidden": true
    }
   },
   "outputs": [],
   "source": [
    "# the movie data are inside of a 'list' (array) linked to the 'Search' key.\n",
    "# this means that giving the data directly to pandas, only specifying\n",
    "# the 'records' format, won't work.\n",
    "# instead we can use Python's json package to convert from JSON\n",
    "# to a python dictionary, extract the data as a list, and hand it\n",
    "# off to pandas. \n",
    "\n",
    "# first, we use the json package's\n",
    "# `json.reads` (read string) function to \n",
    "# convert from JSON to dictionary\n",
    "data_dict = json.loads(raw_json)\n",
    "data_dict"
   ]
  },
  {
   "cell_type": "code",
   "execution_count": null,
   "metadata": {
    "hidden": true,
    "jupyter": {
     "source_hidden": true
    }
   },
   "outputs": [],
   "source": [
    "# we now extract the list of data\n",
    "data_ls = data_dict['Search']"
   ]
  },
  {
   "cell_type": "code",
   "execution_count": null,
   "metadata": {
    "hidden": true,
    "jupyter": {
     "source_hidden": true
    }
   },
   "outputs": [],
   "source": [
    "# finally we pass the list of data to pandas' DataFrame constructor\n",
    "movie_cat1951_df = pd.DataFrame(data_ls)"
   ]
  },
  {
   "cell_type": "code",
   "execution_count": null,
   "metadata": {
    "hidden": true,
    "jupyter": {
     "source_hidden": true
    }
   },
   "outputs": [],
   "source": [
    "# now all movies from 1951 with 'cat' in the title (that are in the\n",
    "# open movie database) are in the dataframe\n",
    "movie_cat1951_df"
   ]
  },
  {
   "cell_type": "markdown",
   "metadata": {},
   "source": [
    "### Task 1"
   ]
  },
  {
   "cell_type": "markdown",
   "metadata": {},
   "source": [
    "Figure out and compare the number of movies from 1951 with 'dog' in the title with the number of 1951 movies with 'cat' in the title."
   ]
  },
  {
   "cell_type": "markdown",
   "metadata": {},
   "source": [
    "#### Solution 1 (Alexandra)"
   ]
  },
  {
   "cell_type": "code",
   "execution_count": 84,
   "metadata": {
    "ExecuteTime": {
     "end_time": "2021-01-09T14:26:49.147354Z",
     "start_time": "2021-01-09T14:26:49.061625Z"
    }
   },
   "outputs": [
    {
     "data": {
      "text/html": [
       "<div>\n",
       "<style scoped>\n",
       "    .dataframe tbody tr th:only-of-type {\n",
       "        vertical-align: middle;\n",
       "    }\n",
       "\n",
       "    .dataframe tbody tr th {\n",
       "        vertical-align: top;\n",
       "    }\n",
       "\n",
       "    .dataframe thead th {\n",
       "        text-align: right;\n",
       "    }\n",
       "</style>\n",
       "<table border=\"1\" class=\"dataframe\">\n",
       "  <thead>\n",
       "    <tr style=\"text-align: right;\">\n",
       "      <th></th>\n",
       "      <th>Title</th>\n",
       "      <th>Year</th>\n",
       "      <th>imdbID</th>\n",
       "      <th>Type</th>\n",
       "      <th>Poster</th>\n",
       "    </tr>\n",
       "  </thead>\n",
       "  <tbody>\n",
       "    <tr>\n",
       "      <th>0</th>\n",
       "      <td>Cock-a-Doodle Dog</td>\n",
       "      <td>1951</td>\n",
       "      <td>tt0043419</td>\n",
       "      <td>movie</td>\n",
       "      <td>https://m.media-amazon.com/images/M/MV5BZTVlNj...</td>\n",
       "    </tr>\n",
       "    <tr>\n",
       "      <th>1</th>\n",
       "      <td>Dog Collared</td>\n",
       "      <td>1951</td>\n",
       "      <td>tt0042403</td>\n",
       "      <td>movie</td>\n",
       "      <td>N/A</td>\n",
       "    </tr>\n",
       "  </tbody>\n",
       "</table>\n",
       "</div>"
      ],
      "text/plain": [
       "               Title  Year     imdbID   Type  \\\n",
       "0  Cock-a-Doodle Dog  1951  tt0043419  movie   \n",
       "1       Dog Collared  1951  tt0042403  movie   \n",
       "\n",
       "                                              Poster  \n",
       "0  https://m.media-amazon.com/images/M/MV5BZTVlNj...  \n",
       "1                                                N/A  "
      ]
     },
     "execution_count": 84,
     "metadata": {},
     "output_type": "execute_result"
    }
   ],
   "source": [
    "# Define the API end point\n",
    "url = 'http://www.omdbapi.com/'\n",
    "\n",
    "# Define the parameters you want to send with your API call\n",
    "param = dict(apikey='e9b43bad', s='dog', y=1951)\n",
    "\n",
    "# Perform the actual get request\n",
    "res = requests.get(url, params=param)\n",
    "\n",
    "# json method will return a dictionary containing JSON parsed\n",
    "# into native Python objects\n",
    "movie_dog_data = res.json()\n",
    "\n",
    "# Save data into a DataFrame\n",
    "movie_dog = pd.DataFrame(movie_dog_data['Search'])\n",
    "movie_dog"
   ]
  },
  {
   "cell_type": "markdown",
   "metadata": {
    "heading_collapsed": true
   },
   "source": [
    "### Solution 1"
   ]
  },
  {
   "cell_type": "code",
   "execution_count": null,
   "metadata": {
    "hidden": true,
    "jupyter": {
     "source_hidden": true
    }
   },
   "outputs": [],
   "source": [
    "url_parameters = {\n",
    "    'apikey': 'INSERTAPIKEYHERE',\n",
    "    's': 'dog', # NEW\n",
    "    'y': 1951\n",
    "}\n",
    "\n",
    "requests_resp = requests.get(api_endpoint, url_parameters)\n",
    "raw_json = requests_resp.content\n",
    "data_dict = json.loads(raw_json)\n",
    "data_ls = data_dict['Search']\n",
    "\n",
    "movie_dog1951_df = pd.DataFrame(data_ls) # NEW\n",
    "movie_dog1951_df"
   ]
  },
  {
   "cell_type": "code",
   "execution_count": null,
   "metadata": {
    "hidden": true,
    "jupyter": {
     "source_hidden": true
    }
   },
   "outputs": [],
   "source": [
    "# get the number of rows in each data frame to figure out the number of\n",
    "# movies in each category\n",
    "num_dog_movies = len(movie_dog1951_df)\n",
    "num_cat_movies = len(movie_cat1951_df)\n",
    "# compare the numbers to see what the correct conclusion is\n",
    "if num_dog_movies > num_cat_movies:\n",
    "    conclusion = \"there were more dog than cat movies\"\n",
    "elif num_dog_movies < num_cat_movies:\n",
    "    conclusion = \"there were more cat than dog movies\"\n",
    "else:\n",
    "    conclusion = \"there were as many cat as dog movies\"\n",
    "# print the results\n",
    "print(f\"There were \" + str(num_dog_movies) + \" dog movies and \" + str(num_cat_movies) + \" cat movies in 1951, meaning that \" + conclusion)"
   ]
  }
 ],
 "metadata": {
  "kernelspec": {
   "display_name": "Python 3",
   "language": "python",
   "name": "python3"
  },
  "language_info": {
   "codemirror_mode": {
    "name": "ipython",
    "version": 3
   },
   "file_extension": ".py",
   "mimetype": "text/x-python",
   "name": "python",
   "nbconvert_exporter": "python",
   "pygments_lexer": "ipython3",
   "version": "3.8.5"
  },
  "toc": {
   "base_numbering": 1,
   "nav_menu": {},
   "number_sections": true,
   "sideBar": true,
   "skip_h1_title": false,
   "title_cell": "Table of Contents",
   "title_sidebar": "Contents",
   "toc_cell": false,
   "toc_position": {},
   "toc_section_display": true,
   "toc_window_display": false
  },
  "varInspector": {
   "cols": {
    "lenName": 16,
    "lenType": 16,
    "lenVar": 40
   },
   "kernels_config": {
    "python": {
     "delete_cmd_postfix": "",
     "delete_cmd_prefix": "del ",
     "library": "var_list.py",
     "varRefreshCmd": "print(var_dic_list())"
    },
    "r": {
     "delete_cmd_postfix": ") ",
     "delete_cmd_prefix": "rm(",
     "library": "var_list.r",
     "varRefreshCmd": "cat(var_dic_list()) "
    }
   },
   "types_to_exclude": [
    "module",
    "function",
    "builtin_function_or_method",
    "instance",
    "_Feature"
   ],
   "window_display": false
  }
 },
 "nbformat": 4,
 "nbformat_minor": 4
}
