{
 "cells": [
  {
   "cell_type": "code",
   "execution_count": null,
   "metadata": {
    "ExecuteTime": {
     "end_time": "2021-02-10T15:21:19.041929Z",
     "start_time": "2021-02-10T15:21:18.350530Z"
    }
   },
   "outputs": [],
   "source": [
    "# Import libraries\n",
    "import pandas as pd\n",
    "import matplotlib.pyplot as plt\n",
    "import seaborn as sns\n",
    "import datetime as dt\n",
    "import numpy as np"
   ]
  },
  {
   "cell_type": "code",
   "execution_count": null,
   "metadata": {
    "ExecuteTime": {
     "end_time": "2021-02-10T15:21:19.073729Z",
     "start_time": "2021-02-10T15:21:19.042542Z"
    }
   },
   "outputs": [],
   "source": [
    "# Load the data for my Netflix activity\n",
    "pwd = %pwd\n",
    "netflix_raw = pd.read_csv(pwd + '/datasets/own/netflix_viewing_activity.csv')"
   ]
  },
  {
   "cell_type": "code",
   "execution_count": null,
   "metadata": {
    "ExecuteTime": {
     "end_time": "2021-02-10T15:21:19.089160Z",
     "start_time": "2021-02-10T15:21:19.075207Z"
    }
   },
   "outputs": [],
   "source": [
    "# Check raw data\n",
    "netflix_raw.head()"
   ]
  },
  {
   "cell_type": "code",
   "execution_count": null,
   "metadata": {
    "ExecuteTime": {
     "end_time": "2021-02-10T15:21:19.105270Z",
     "start_time": "2021-02-10T15:21:19.090156Z"
    }
   },
   "outputs": [],
   "source": [
    "# Check the data types\n",
    "netflix_raw.info()"
   ]
  },
  {
   "cell_type": "code",
   "execution_count": null,
   "metadata": {
    "ExecuteTime": {
     "end_time": "2021-02-10T15:21:19.120673Z",
     "start_time": "2021-02-10T15:21:19.106943Z"
    }
   },
   "outputs": [],
   "source": [
    "# Create column with year & month\n",
    "netflix_raw['Year Month'] = pd.to_datetime(netflix_raw['Start Time']).dt.to_period('M')"
   ]
  },
  {
   "cell_type": "code",
   "execution_count": null,
   "metadata": {
    "ExecuteTime": {
     "end_time": "2021-02-10T15:21:19.135892Z",
     "start_time": "2021-02-10T15:21:19.121670Z"
    }
   },
   "outputs": [],
   "source": [
    "# Create column for duration in minutes\n",
    "netflix_raw['Duration (min)'] = netflix_raw['Duration'].str.split(':').apply(\n",
    "    lambda x: float(x[0]) * 60.0 + float(x[1]) + float(x[2]) / 60.0)"
   ]
  },
  {
   "cell_type": "code",
   "execution_count": null,
   "metadata": {
    "ExecuteTime": {
     "end_time": "2021-02-10T15:21:19.151296Z",
     "start_time": "2021-02-10T15:21:19.137258Z"
    }
   },
   "outputs": [],
   "source": [
    "# Select data for only 2020\n",
    "netflix_2020 = netflix_raw[netflix_raw['Year Month'].dt.year == 2020]\n",
    "\n",
    "# Select data for only 2019\n",
    "netflix_2019 = netflix_raw[netflix_raw['Year Month'].dt.year == 2019]"
   ]
  },
  {
   "cell_type": "code",
   "execution_count": null,
   "metadata": {
    "ExecuteTime": {
     "end_time": "2021-02-10T15:21:19.167249Z",
     "start_time": "2021-02-10T15:21:19.153293Z"
    }
   },
   "outputs": [],
   "source": [
    "# Sum duration per month for 2020\n",
    "netflix_2020_sum = netflix_2020.groupby(['Year Month']).sum()\n",
    "netflix_2020_sum['Duration (hours)'] = netflix_2020_sum['Duration (min)']/60.0\n",
    "netflix_2020_sum['Duration (days)'] = netflix_2020_sum['Duration (hours)']/24.0"
   ]
  },
  {
   "cell_type": "code",
   "execution_count": null,
   "metadata": {
    "ExecuteTime": {
     "end_time": "2021-02-10T15:21:19.183198Z",
     "start_time": "2021-02-10T15:21:19.169275Z"
    }
   },
   "outputs": [],
   "source": [
    "# Sum duration per month for 2019\n",
    "netflix_2019_sum = netflix_2019.groupby(['Year Month']).sum()\n",
    "netflix_2019_sum['Duration (hours)'] = netflix_2019_sum['Duration (min)']/60.0\n",
    "netflix_2019_sum['Duration (days)'] = netflix_2019_sum['Duration (hours)']/24.0"
   ]
  },
  {
   "cell_type": "code",
   "execution_count": null,
   "metadata": {
    "ExecuteTime": {
     "end_time": "2021-02-10T15:21:19.198565Z",
     "start_time": "2021-02-10T15:21:19.184611Z"
    }
   },
   "outputs": [],
   "source": [
    "# Add missing months with 0 for Duration fro 2019\n",
    "idx = pd.period_range(min(netflix_2019_sum.index), max(netflix_2019_sum.index))\n",
    "netflix_2019_sum = netflix_2019_sum.reindex(idx, fill_value=0)"
   ]
  },
  {
   "cell_type": "code",
   "execution_count": null,
   "metadata": {
    "ExecuteTime": {
     "end_time": "2021-02-10T15:21:19.354520Z",
     "start_time": "2021-02-10T15:21:19.199581Z"
    }
   },
   "outputs": [],
   "source": [
    "# Plot for 2020\n",
    "fig, ax = plt.subplots()\n",
    "fig.set_size_inches((16,6))\n",
    "\n",
    "# Create pallete for the barplot based on y-values\n",
    "pal = sns.color_palette(\"Greens_d\", len(netflix_2020_sum))\n",
    "rank = netflix_2020_sum['Duration (hours)'].argsort().argsort()\n",
    "\n",
    "# Use seaborn to draw a barplot\n",
    "sns.barplot(x=netflix_2020_sum.index,y='Duration (hours)',data=netflix_2020_sum,ax=ax, palette=np.array(pal[::-1])[rank])\n",
    "\n",
    "# Set the title\n",
    "ax.set_title('Netflix Activity 2020', fontsize=24)\n",
    "\n",
    "# Set the y limit\n",
    "ax.set_ylim([0, 80])\n",
    "\n",
    "# Add a horizontal line with the duration avg in hours\n",
    "ax.axhline(netflix_2020_sum['Duration (hours)'].mean(), ls='--', color = 'red')\n",
    "ax.text(0.3, 60,'AVG = ' + str(int(netflix_2020_sum['Duration (hours)'].mean())) + ' (hours)', \n",
    "        fontsize=18, color = 'red')\n",
    "plt.show()"
   ]
  },
  {
   "cell_type": "code",
   "execution_count": null,
   "metadata": {
    "ExecuteTime": {
     "end_time": "2021-02-10T15:21:19.497727Z",
     "start_time": "2021-02-10T15:21:19.355520Z"
    }
   },
   "outputs": [],
   "source": [
    "# Plot for 2019\n",
    "fig, ax = plt.subplots()\n",
    "fig.set_size_inches((16,6))\n",
    "\n",
    "# Create pallete for the barplot based on y-values\n",
    "pal = sns.color_palette(\"Greens_d\", len(netflix_2019_sum))\n",
    "rank = netflix_2019_sum['Duration (hours)'].argsort().argsort()\n",
    "\n",
    "# Use seaborn to draw a barplot\n",
    "sns.barplot(x=netflix_2019_sum.index,y='Duration (hours)',data=netflix_2019_sum,ax=ax, palette=np.array(pal[::-1])[rank])\n",
    "\n",
    "# Set the title\n",
    "ax.set_title('Netflix Activity 2019', fontsize=24)\n",
    "\n",
    "# Set the y limit\n",
    "ax.set_ylim([0, 80])\n",
    "\n",
    "# Add a horizontal line with the duration avg in hours\n",
    "ax.axhline(netflix_2019_sum['Duration (hours)'].mean(), ls='--', color = 'red')\n",
    "ax.text(0.3, 60,'AVG = ' + str(int(netflix_2019_sum['Duration (hours)'].mean())) + ' (hours)', \n",
    "        fontsize=18, color = 'red')\n",
    "plt.show()"
   ]
  }
 ],
 "metadata": {
  "kernelspec": {
   "display_name": "Python 3",
   "language": "python",
   "name": "python3"
  },
  "language_info": {
   "codemirror_mode": {
    "name": "ipython",
    "version": 3
   },
   "file_extension": ".py",
   "mimetype": "text/x-python",
   "name": "python",
   "nbconvert_exporter": "python",
   "pygments_lexer": "ipython3",
   "version": "3.8.5"
  },
  "toc": {
   "base_numbering": 1,
   "nav_menu": {},
   "number_sections": true,
   "sideBar": true,
   "skip_h1_title": false,
   "title_cell": "Table of Contents",
   "title_sidebar": "Contents",
   "toc_cell": false,
   "toc_position": {},
   "toc_section_display": true,
   "toc_window_display": false
  },
  "varInspector": {
   "cols": {
    "lenName": 16,
    "lenType": 16,
    "lenVar": 40
   },
   "kernels_config": {
    "python": {
     "delete_cmd_postfix": "",
     "delete_cmd_prefix": "del ",
     "library": "var_list.py",
     "varRefreshCmd": "print(var_dic_list())"
    },
    "r": {
     "delete_cmd_postfix": ") ",
     "delete_cmd_prefix": "rm(",
     "library": "var_list.r",
     "varRefreshCmd": "cat(var_dic_list()) "
    }
   },
   "types_to_exclude": [
    "module",
    "function",
    "builtin_function_or_method",
    "instance",
    "_Feature"
   ],
   "window_display": false
  }
 },
 "nbformat": 4,
 "nbformat_minor": 4
}
