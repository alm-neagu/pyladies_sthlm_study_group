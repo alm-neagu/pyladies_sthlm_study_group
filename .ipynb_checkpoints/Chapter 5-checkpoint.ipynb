{
 "cells": [
  {
   "cell_type": "markdown",
   "metadata": {},
   "source": [
    "# CHAPTER 5\n",
    "# Getting Started with pandas\n",
    "- **pandas** contains data structures and data manipulation tools designed to make data cleaning and analysis fast and easy in Python.\n",
    "- **pandas** is designed for working with tabular data.\n",
    "- **pandas** became an open source project in 2010."
   ]
  },
  {
   "cell_type": "code",
   "execution_count": null,
   "metadata": {
    "ExecuteTime": {
     "end_time": "2020-12-13T14:43:57.232140Z",
     "start_time": "2020-12-13T14:43:56.906975Z"
    }
   },
   "outputs": [],
   "source": [
    "# Import convetion for pandas\n",
    "import pandas as pd\n",
    "\n",
    "# Import Series and SataFrame into the local namespace\n",
    "from pandas import Series, DataFrame"
   ]
  },
  {
   "cell_type": "markdown",
   "metadata": {},
   "source": [
    "## Introduction to pandas Data Structures\n",
    "### Series\n",
    "- **Series** = one-dimensional array-like object containing a sequence of values (of similar types to NumPy types) and an associated array of data labels, called its **index**.\n",
    "- Another way to think about a **Series** is as a fixed-length, ordered dict, as it is a mapping of index values to data values."
   ]
  },
  {
   "cell_type": "code",
   "execution_count": null,
   "metadata": {
    "ExecuteTime": {
     "end_time": "2020-12-13T14:43:57.248089Z",
     "start_time": "2020-12-13T14:43:57.234099Z"
    }
   },
   "outputs": [],
   "source": [
    "# Example of a series\n",
    "obj = pd.Series([4, 7, -5, 3])\n",
    "obj\n",
    "\n",
    "# Since we did not specify an index for the data, a default one consisting of the integers 0 through N - 1 \n",
    "# (where N is the length of the data) is created."
   ]
  },
  {
   "cell_type": "code",
   "execution_count": null,
   "metadata": {
    "ExecuteTime": {
     "end_time": "2020-12-13T14:43:57.264047Z",
     "start_time": "2020-12-13T14:43:57.250056Z"
    }
   },
   "outputs": [],
   "source": [
    "# Array representation of the Series using the values attribute\n",
    "obj.values"
   ]
  },
  {
   "cell_type": "code",
   "execution_count": null,
   "metadata": {
    "ExecuteTime": {
     "end_time": "2020-12-13T14:43:57.280006Z",
     "start_time": "2020-12-13T14:43:57.266014Z"
    }
   },
   "outputs": [],
   "source": [
    "# Index object of the Series using the index attribute\n",
    "obj.index"
   ]
  },
  {
   "cell_type": "code",
   "execution_count": null,
   "metadata": {
    "ExecuteTime": {
     "end_time": "2020-12-13T14:43:57.295968Z",
     "start_time": "2020-12-13T14:43:57.281006Z"
    }
   },
   "outputs": [],
   "source": [
    "# Create a Series with an index identifying each data point with a label\n",
    "obj2 = pd.Series([4, 7, -5, 3], index=['d', 'b', 'a', 'c'])\n",
    "obj2"
   ]
  },
  {
   "cell_type": "code",
   "execution_count": null,
   "metadata": {
    "ExecuteTime": {
     "end_time": "2020-12-13T14:43:57.311892Z",
     "start_time": "2020-12-13T14:43:57.296964Z"
    }
   },
   "outputs": [],
   "source": [
    "# Let's look at the index\n",
    "obj2.index"
   ]
  },
  {
   "cell_type": "code",
   "execution_count": null,
   "metadata": {
    "ExecuteTime": {
     "end_time": "2020-12-13T14:43:57.327876Z",
     "start_time": "2020-12-13T14:43:57.312914Z"
    }
   },
   "outputs": [],
   "source": [
    "# You can use labels in the index when selecting single values or a set of values\n",
    "obj2[['c', 'a', 'd']]\n",
    "\n",
    "# Here ['c', 'a', 'd'] is interpreted as a list of indices, even though it contains strings instead of integers"
   ]
  },
  {
   "cell_type": "markdown",
   "metadata": {},
   "source": [
    "- Using NumPy functions or NumPy-like operations, such as filtering with a boolean array, scalar multiplication, or applying math functions, will preserve the index-value link."
   ]
  },
  {
   "cell_type": "code",
   "execution_count": null,
   "metadata": {
    "ExecuteTime": {
     "end_time": "2020-12-13T14:43:57.343832Z",
     "start_time": "2020-12-13T14:43:57.330840Z"
    }
   },
   "outputs": [],
   "source": [
    "# Select only Series elemnts that are > 0\n",
    "obj2[obj2>0]"
   ]
  },
  {
   "cell_type": "code",
   "execution_count": null,
   "metadata": {
    "ExecuteTime": {
     "end_time": "2020-12-13T14:43:57.359790Z",
     "start_time": "2020-12-13T14:43:57.346830Z"
    }
   },
   "outputs": [],
   "source": [
    "# Multiply each element in Series obj2 by 2\n",
    "obj2*2"
   ]
  },
  {
   "cell_type": "code",
   "execution_count": null,
   "metadata": {
    "ExecuteTime": {
     "end_time": "2020-12-13T14:43:57.375720Z",
     "start_time": "2020-12-13T14:43:57.361758Z"
    }
   },
   "outputs": [],
   "source": [
    "# Create a Series from a dict\n",
    "sdata = {'Ohio': 35000, 'Texas': 71000, 'Oregon': 16000, 'Utah': 5000}\n",
    "obj3 = pd.Series(sdata)\n",
    "obj3\n",
    "\n",
    "# The index in the resulting Series will have the dict’s keys in sorted order"
   ]
  },
  {
   "cell_type": "code",
   "execution_count": null,
   "metadata": {
    "ExecuteTime": {
     "end_time": "2020-12-13T14:43:57.390680Z",
     "start_time": "2020-12-13T14:43:57.376718Z"
    }
   },
   "outputs": [],
   "source": [
    "# You can pass the dict keys in the order you want them to appear in the resulting Series\n",
    "states = ['California', 'Ohio', 'Oregon', 'Texas']\n",
    "obj4 = pd.Series(sdata, index=states)\n",
    "obj4\n",
    "\n",
    "# Since no value for 'California' was found, it appears as NaN (not a number), which is considered \n",
    "# in pandas to mark missing or NA values."
   ]
  },
  {
   "cell_type": "markdown",
   "metadata": {},
   "source": [
    "- The **isnull** and **notnull** functions in pandas should be used to detect missing data."
   ]
  },
  {
   "cell_type": "code",
   "execution_count": null,
   "metadata": {
    "ExecuteTime": {
     "end_time": "2020-12-13T14:43:57.406639Z",
     "start_time": "2020-12-13T14:43:57.391679Z"
    }
   },
   "outputs": [],
   "source": [
    "# Check for missing values using isnull function or instance method\n",
    "pd.isnull(obj4)\n",
    "\n",
    "obj4.isnull()"
   ]
  },
  {
   "cell_type": "markdown",
   "metadata": {},
   "source": [
    "- A useful Series feature for many applications is that it automatically aligns by index label in arithmetic operations."
   ]
  },
  {
   "cell_type": "code",
   "execution_count": null,
   "metadata": {
    "ExecuteTime": {
     "end_time": "2020-12-13T14:43:57.421599Z",
     "start_time": "2020-12-13T14:43:57.408634Z"
    }
   },
   "outputs": [],
   "source": [
    "# Check obj3 and obj4\n",
    "print(obj3, '\\n')\n",
    "print(obj4)"
   ]
  },
  {
   "cell_type": "code",
   "execution_count": null,
   "metadata": {
    "ExecuteTime": {
     "end_time": "2020-12-13T14:43:57.443539Z",
     "start_time": "2020-12-13T14:43:57.422596Z"
    }
   },
   "outputs": [],
   "source": [
    "# Add elemnts of Series obj3 & obj4\n",
    "obj3 + obj4"
   ]
  },
  {
   "cell_type": "markdown",
   "metadata": {},
   "source": [
    "- Both the Series object itself and its index have a name attribute."
   ]
  },
  {
   "cell_type": "code",
   "execution_count": null,
   "metadata": {
    "ExecuteTime": {
     "end_time": "2020-12-13T14:43:57.467475Z",
     "start_time": "2020-12-13T14:43:57.451519Z"
    }
   },
   "outputs": [],
   "source": [
    "# name attribute for the Series object itself & its index\n",
    "obj4.name = 'population'\n",
    "obj4.index.name = 'state'\n",
    "\n",
    "obj4"
   ]
  },
  {
   "cell_type": "code",
   "execution_count": null,
   "metadata": {
    "ExecuteTime": {
     "end_time": "2020-12-13T14:43:57.483433Z",
     "start_time": "2020-12-13T14:43:57.470470Z"
    }
   },
   "outputs": [],
   "source": [
    "# A Series’s index can be altered in-place by assignment\n",
    "print(obj, '\\n')\n",
    "\n",
    "obj.index = ['Bob', 'Steve', 'Jeff', 'Ryan']\n",
    "\n",
    "print(obj)"
   ]
  },
  {
   "cell_type": "markdown",
   "metadata": {},
   "source": [
    "### DataFrame\n",
    "- **DataFrame** = a rectangular table of data and contains an ordered collection of columns, each of which can be a different value type (numeric, string, etc.).\n",
    "- The **DataFrame** has both a row and column index; it can be thought of as a dict of Series all sharing the same index.\n",
    "- You can construct a DataFrame from a dict of equal-length lists or NumPy arrays."
   ]
  },
  {
   "cell_type": "code",
   "execution_count": null,
   "metadata": {
    "ExecuteTime": {
     "end_time": "2020-12-13T14:43:57.514375Z",
     "start_time": "2020-12-13T14:43:57.485428Z"
    }
   },
   "outputs": [],
   "source": [
    "# Construct a DataFrame from a dictionary\n",
    "data = {'state': ['Ohio', 'Ohio', 'Ohio', 'Nevada', 'Nevada', 'Nevada'],\n",
    "        'year': [2000, 2001, 2002, 2001, 2002, 2003],\n",
    "        'pop': [1.5, 1.7, 3.6, 2.4, 2.9, 3.2]}\n",
    "\n",
    "frame = pd.DataFrame(data)\n",
    "frame\n",
    "\n",
    "# The resulting DataFrame will have its index assigned automatically as with Series, and\n",
    "# the columns are placed in sorted order"
   ]
  },
  {
   "cell_type": "code",
   "execution_count": null,
   "metadata": {
    "ExecuteTime": {
     "end_time": "2020-12-13T14:43:57.530341Z",
     "start_time": "2020-12-13T14:43:57.515373Z"
    }
   },
   "outputs": [],
   "source": [
    "# Use the head method to select only the first 5 rows for large DataFrames\n",
    "frame.head()"
   ]
  },
  {
   "cell_type": "code",
   "execution_count": null,
   "metadata": {
    "ExecuteTime": {
     "end_time": "2020-12-13T14:43:57.561270Z",
     "start_time": "2020-12-13T14:43:57.533300Z"
    }
   },
   "outputs": [],
   "source": [
    "# If you specify a sequence of columns, the DataFrame’s columns will be arranged in that order\n",
    "pd.DataFrame(data, columns=['year', 'state', 'pop'])"
   ]
  },
  {
   "cell_type": "code",
   "execution_count": null,
   "metadata": {
    "ExecuteTime": {
     "end_time": "2020-12-13T14:43:57.577207Z",
     "start_time": "2020-12-13T14:43:57.562222Z"
    }
   },
   "outputs": [],
   "source": [
    "# If you pass a column that isn’t contained in the dict, it will appear with missing values in the result\n",
    "frame2 = pd.DataFrame(data, columns=['year', 'state', 'pop', 'debt'],\n",
    "                      index=['one', 'two', 'three', 'four', 'five', 'six'])\n",
    "frame2"
   ]
  },
  {
   "cell_type": "code",
   "execution_count": null,
   "metadata": {
    "ExecuteTime": {
     "end_time": "2020-12-13T14:43:57.593140Z",
     "start_time": "2020-12-13T14:43:57.579178Z"
    }
   },
   "outputs": [],
   "source": [
    "# You can use the columns attribute\n",
    "frame2.columns"
   ]
  },
  {
   "cell_type": "code",
   "execution_count": null,
   "metadata": {
    "ExecuteTime": {
     "end_time": "2020-12-13T14:43:57.609100Z",
     "start_time": "2020-12-13T14:43:57.595134Z"
    }
   },
   "outputs": [],
   "source": [
    "# Retrieve a column in a DataFrame as a Series\n",
    "\n",
    "# Dict-like notation works for any column name\n",
    "frame2['state']\n",
    "\n",
    "# Attribute-like access works when the column name is a valid Python variable name\n",
    "frame2.state"
   ]
  },
  {
   "cell_type": "code",
   "execution_count": null,
   "metadata": {
    "ExecuteTime": {
     "end_time": "2020-12-13T14:43:57.625056Z",
     "start_time": "2020-12-13T14:43:57.614086Z"
    }
   },
   "outputs": [],
   "source": [
    "# Rows can also be retrieved by position or name with the special loc attribute\n",
    "frame2.loc['three']"
   ]
  },
  {
   "cell_type": "code",
   "execution_count": null,
   "metadata": {
    "ExecuteTime": {
     "end_time": "2020-12-13T14:43:57.641014Z",
     "start_time": "2020-12-13T14:43:57.628049Z"
    }
   },
   "outputs": [],
   "source": [
    "# Columns can be modified by assignment\n",
    "frame2['debt'] = 16.5\n",
    "frame2"
   ]
  },
  {
   "cell_type": "markdown",
   "metadata": {},
   "source": [
    "- When you are assigning lists or arrays to a column, the value’s length must match the length of the DataFrame. \n",
    "- If you assign a Series, its labels will be realigned exactly to the DataFrame’s index, inserting missing values in any holes.\n",
    "- Assigning a column that doesn’t exist will create a new column. \n",
    "- The **del** keyword will delete columns as with a dict."
   ]
  },
  {
   "cell_type": "code",
   "execution_count": null,
   "metadata": {
    "ExecuteTime": {
     "end_time": "2020-12-13T14:43:57.656971Z",
     "start_time": "2020-12-13T14:43:57.642012Z"
    }
   },
   "outputs": [],
   "source": [
    "# Create a Series\n",
    "val = pd.Series([-1.2, -1.5, -1.7], index=['two', 'four', 'five'])\n",
    "val"
   ]
  },
  {
   "cell_type": "code",
   "execution_count": null,
   "metadata": {
    "ExecuteTime": {
     "end_time": "2020-12-13T14:43:57.672928Z",
     "start_time": "2020-12-13T14:43:57.658966Z"
    }
   },
   "outputs": [],
   "source": [
    "# Assign the Series val to the column 'debt'\n",
    "frame2['debt'] = val\n",
    "frame2"
   ]
  },
  {
   "cell_type": "markdown",
   "metadata": {},
   "source": [
    "**REMEMBER**: New columns cannot be created with the attribute-like syntax *frame2.state*. You must use the dict-like syntax *frame2['state']*."
   ]
  },
  {
   "cell_type": "code",
   "execution_count": null,
   "metadata": {
    "ExecuteTime": {
     "end_time": "2020-12-13T14:43:57.688886Z",
     "start_time": "2020-12-13T14:43:57.674923Z"
    }
   },
   "outputs": [],
   "source": [
    "# You can also construct a DataFrame from a nested dict\n",
    "pop = {'Nevada': {2001: 2.4, 2002: 2.9},\n",
    "       'Ohio': {2000: 1.5, 2001: 1.7, 2002: 3.6}}\n",
    "\n",
    "# pandas will interpret the outer dict keys as the columns and the inner keys as the row indices\n",
    "frame3 = pd.DataFrame(pop)\n",
    "frame3"
   ]
  },
  {
   "cell_type": "code",
   "execution_count": null,
   "metadata": {
    "ExecuteTime": {
     "end_time": "2020-12-13T14:43:57.704842Z",
     "start_time": "2020-12-13T14:43:57.690880Z"
    }
   },
   "outputs": [],
   "source": [
    "# You can transpose the DataFrame (swap rows and columns) with similar syntax to a NumPy array\n",
    "frame3.T"
   ]
  },
  {
   "cell_type": "markdown",
   "metadata": {},
   "source": [
    "**TABLE: Possible data inputs to DataFrame constructor**"
   ]
  },
  {
   "cell_type": "markdown",
   "metadata": {},
   "source": [
    "\n",
    "| Type                  | Notes |\n",
    "| :---                  |    :----    |\n",
    "|2D ndarray| A matrix of data, passing optional row and column labels\n",
    "|dict of arrays, lists, or tuples| Each sequence becomes a column in the DataFrame; all sequences must be the same length\n",
    "|NumPy structured/record array| Treated as the “dict of arrays” case\n",
    "|dict of Series| Each value becomes a column; indexes from each Series are unioned together to form the result’s row index if no explicit index is passed\n",
    "|dict of dicts| Each inner dict becomes a column; keys are unioned to form the row index as in the “dict of Series” case\n",
    "|List of dicts or Series| Each item becomes a row in the DataFrame; union of dict keys or Series indexes become the DataFrame’s column labels\n",
    "|List of lists or tuples| Treated as the “2D ndarray” case\n",
    "|Another DataFrame| The DataFrame’s indexes are used unless different ones are passed\n",
    "|NumPy MaskedArray| Like the “2D ndarray” case except masked values become NA/missing in the DataFrame result "
   ]
  },
  {
   "cell_type": "markdown",
   "metadata": {},
   "source": [
    "### Index Objects\n",
    "- pandas’s **Index** objects are responsible for holding the axis labels and other metadata (like the axis name or names).\n",
    "- Any array or other sequence of labels you use when constructing a Series or DataFrame is internally converted to an **Index**.\n",
    "- **Index** objects are immutable and thus can’t be modified by the user.\n",
    "- In addition to being array-like, an **Index** also behaves like a fixed-size set. But unlike Python sets, a pandas Indxe can contain duplicate labels."
   ]
  },
  {
   "cell_type": "code",
   "execution_count": null,
   "metadata": {
    "ExecuteTime": {
     "end_time": "2020-12-13T14:43:57.720801Z",
     "start_time": "2020-12-13T14:43:57.706838Z"
    }
   },
   "outputs": [],
   "source": [
    "# Create a pandas Series & check the index\n",
    "obj = pd.Series(range(3), index=['a', 'b', 'c'])\n",
    "obj.index"
   ]
  },
  {
   "cell_type": "code",
   "execution_count": null,
   "metadata": {
    "ExecuteTime": {
     "end_time": "2020-12-13T14:43:57.736759Z",
     "start_time": "2020-12-13T14:43:57.722796Z"
    }
   },
   "outputs": [],
   "source": [
    "# You can slice an index\n",
    "obj.index[1:]"
   ]
  },
  {
   "cell_type": "markdown",
   "metadata": {},
   "source": [
    "**TABLE: Some Index methods and properties**"
   ]
  },
  {
   "cell_type": "markdown",
   "metadata": {},
   "source": [
    "| Method                  | Description |\n",
    "| :---                  |    :----    |\n",
    "|append| Concatenate with additional Index objects, producing a new Index\n",
    "|difference| Compute set difference as an Index\n",
    "|intersection| Compute set intersection\n",
    "|union| Compute set union\n",
    "|isin| Compute boolean array indicating whether each value is contained in the passed collection\n",
    "|delete| Compute new Index with element at index i deleted\n",
    "|drop| Compute new Index by deleting passed values\n",
    "|insert| Compute new Index by inserting element at index i\n",
    "|is_monotonic| Returns True if each element is greater than or equal to the previous element\n",
    "|is_unique| Returns True if the Index has no duplicate values\n",
    "|unique| Compute the array of unique values in the Index"
   ]
  },
  {
   "cell_type": "markdown",
   "metadata": {},
   "source": [
    "## Essential Functionality\n",
    "### Reindexing\n",
    "- **reindex** method creates a new object with the data conformed to a new index."
   ]
  },
  {
   "cell_type": "code",
   "execution_count": null,
   "metadata": {
    "ExecuteTime": {
     "end_time": "2020-12-13T14:43:57.752717Z",
     "start_time": "2020-12-13T14:43:57.739751Z"
    }
   },
   "outputs": [],
   "source": [
    "# Create a pandas Series\n",
    "obj = pd.Series([4.5, 7.2, -5.3, 3.6], index=['d', 'b', 'a', 'c'])\n",
    "obj"
   ]
  },
  {
   "cell_type": "code",
   "execution_count": null,
   "metadata": {
    "ExecuteTime": {
     "end_time": "2020-12-13T14:43:57.768673Z",
     "start_time": "2020-12-13T14:43:57.755709Z"
    }
   },
   "outputs": [],
   "source": [
    "# Calling reindex method rearranges the data according to the new index & \n",
    "# introducing missing values if any index values were not already present\n",
    "obj2 = obj.reindex(['a', 'b', 'c', 'd', 'e'])\n",
    "obj2"
   ]
  },
  {
   "cell_type": "markdown",
   "metadata": {},
   "source": [
    "- For ordered data like time series, it may be desirable to do some interpolation or filling of values when reindexing. \n",
    "- The **method** option allows us to do this, using a method such as **ffill**, which forward-fills the values."
   ]
  },
  {
   "cell_type": "code",
   "execution_count": null,
   "metadata": {
    "ExecuteTime": {
     "end_time": "2020-12-13T14:43:57.784630Z",
     "start_time": "2020-12-13T14:43:57.770668Z"
    }
   },
   "outputs": [],
   "source": [
    "# Create a pandas Series\n",
    "obj3 = pd.Series(['blue', 'purple', 'yellow'], index=[0, 2, 4])\n",
    "obj3"
   ]
  },
  {
   "cell_type": "code",
   "execution_count": null,
   "metadata": {
    "ExecuteTime": {
     "end_time": "2020-12-13T14:43:57.800587Z",
     "start_time": "2020-12-13T14:43:57.785628Z"
    }
   },
   "outputs": [],
   "source": [
    "# Reindex using the ffill method\n",
    "obj3.reindex(range(6), method='ffill')"
   ]
  },
  {
   "cell_type": "markdown",
   "metadata": {},
   "source": [
    "- With DataFrame, **reindex** can alter either the (row) index, columns, or both. \n",
    "- When passed only a sequence, it reindexes the rows in the result.\n",
    "- The columns can be reindexed with the **columns** keyword."
   ]
  },
  {
   "cell_type": "code",
   "execution_count": null,
   "metadata": {
    "ExecuteTime": {
     "end_time": "2020-12-13T14:43:57.816544Z",
     "start_time": "2020-12-13T14:43:57.803580Z"
    }
   },
   "outputs": [],
   "source": [
    "# Import numpy\n",
    "import numpy as np\n",
    "\n",
    "# Create a pandas DataFrame\n",
    "frame = pd.DataFrame(np.arange(9).reshape((3, 3)),\n",
    "                     index=['a', 'c', 'd'],\n",
    "                     columns=['Ohio', 'Texas', 'California'])\n",
    "frame"
   ]
  },
  {
   "cell_type": "code",
   "execution_count": null,
   "metadata": {
    "ExecuteTime": {
     "end_time": "2020-12-13T14:43:57.831504Z",
     "start_time": "2020-12-13T14:43:57.818539Z"
    }
   },
   "outputs": [],
   "source": [
    "# Reindex the frame object\n",
    "frame2 = frame.reindex(['a', 'b', 'c', 'd'])\n",
    "frame2"
   ]
  },
  {
   "cell_type": "markdown",
   "metadata": {},
   "source": [
    "**TABLE: reindex function arguments**"
   ]
  },
  {
   "cell_type": "markdown",
   "metadata": {},
   "source": [
    "| Argument                  | Description |\n",
    "| :---                  |    :----    |\n",
    "|index| New sequence to use as index. Can be Index instance or any other sequence-like Python data structure. An Index will be used exactly as is without any copying.\n",
    "|method| Interpolation (fill) method; 'ffill' fills forward, while 'bfill' fills backward.\n",
    "|fill_value| Substitute value to use when introducing missing data by reindexing.\n",
    "|limit| When forward- or backfilling, maximum size gap (in number of elements) to fill.\n",
    "|tolerance| When forward- or backfilling, maximum size gap (in absolute numeric distance) to fill for inexact matches.\n",
    "|level| Match simple Index on level of MultiIndex; otherwise select subset of.\n",
    "|copy| If True, always copy underlying data even if new index is equivalent to old index; if False, do not copy the data when the indexes are equivalent."
   ]
  },
  {
   "cell_type": "markdown",
   "metadata": {},
   "source": [
    "### Dropping Entries from an Axis\n",
    "- Many functions, like **drop**, which modify the size or shape of a Series or DataFrame, can manipulate an object **in-place** without returning a new object."
   ]
  },
  {
   "cell_type": "code",
   "execution_count": null,
   "metadata": {
    "ExecuteTime": {
     "end_time": "2020-12-13T14:43:57.846463Z",
     "start_time": "2020-12-13T14:43:57.833499Z"
    }
   },
   "outputs": [],
   "source": [
    "# Create a Series\n",
    "obj = pd.Series(np.arange(5.), index=['a', 'b', 'c', 'd', 'e'])\n",
    "obj"
   ]
  },
  {
   "cell_type": "code",
   "execution_count": null,
   "metadata": {
    "ExecuteTime": {
     "end_time": "2020-12-13T14:43:57.862422Z",
     "start_time": "2020-12-13T14:43:57.847461Z"
    }
   },
   "outputs": [],
   "source": [
    "# Drop values for a Series\n",
    "new_obj = obj.drop('c')\n",
    "new_obj"
   ]
  },
  {
   "cell_type": "code",
   "execution_count": null,
   "metadata": {
    "ExecuteTime": {
     "end_time": "2020-12-13T14:43:57.877383Z",
     "start_time": "2020-12-13T14:43:57.863419Z"
    }
   },
   "outputs": [],
   "source": [
    "# Create an example DataFrame\n",
    "data = pd.DataFrame(np.arange(16).reshape((4, 4)),\n",
    "                    index=['Ohio', 'Colorado', 'Utah', 'New York'],\n",
    "                    columns=['one', 'two', 'three', 'four'])\n",
    "data"
   ]
  },
  {
   "cell_type": "code",
   "execution_count": null,
   "metadata": {
    "ExecuteTime": {
     "end_time": "2020-12-13T14:43:57.892343Z",
     "start_time": "2020-12-13T14:43:57.879377Z"
    }
   },
   "outputs": [],
   "source": [
    "# Calling drop with a sequence of labels will drop values from the row labels (axis 0)\n",
    "data.drop(['Colorado', 'Ohio'])"
   ]
  },
  {
   "cell_type": "code",
   "execution_count": null,
   "metadata": {
    "ExecuteTime": {
     "end_time": "2020-12-13T14:43:57.908298Z",
     "start_time": "2020-12-13T14:43:57.894337Z"
    }
   },
   "outputs": [],
   "source": [
    "# You can drop values from the columns by passing axis=1 or axis='columns'\n",
    "data.drop('two', axis=1)"
   ]
  },
  {
   "cell_type": "markdown",
   "metadata": {},
   "source": [
    "### Indexing, Selection, and Filtering\n",
    "- **Series** indexing (obj[...]) works analogously to NumPy array indexing, except you can use the Series’s index values instead of only integers.\n",
    "- Slicing with labels behaves differently than normal Python slicing in that the end‐point is inclusive."
   ]
  },
  {
   "cell_type": "code",
   "execution_count": null,
   "metadata": {
    "ExecuteTime": {
     "end_time": "2020-12-13T14:43:57.924256Z",
     "start_time": "2020-12-13T14:43:57.910295Z"
    }
   },
   "outputs": [],
   "source": [
    "# Create a pandas Series\n",
    "obj = pd.Series(np.arange(4.), index=['a', 'b', 'c', 'd'])\n",
    "obj"
   ]
  },
  {
   "cell_type": "code",
   "execution_count": null,
   "metadata": {
    "ExecuteTime": {
     "end_time": "2020-12-13T14:43:57.940214Z",
     "start_time": "2020-12-13T14:43:57.926252Z"
    }
   },
   "outputs": [],
   "source": [
    "# Select values for index 'b'\n",
    "obj['b'] #equivaent to obj[1]"
   ]
  },
  {
   "cell_type": "code",
   "execution_count": null,
   "metadata": {
    "ExecuteTime": {
     "end_time": "2020-12-13T14:43:57.956170Z",
     "start_time": "2020-12-13T14:43:57.942210Z"
    }
   },
   "outputs": [],
   "source": [
    "# Select a slice\n",
    "obj[2:4]"
   ]
  },
  {
   "cell_type": "code",
   "execution_count": null,
   "metadata": {
    "ExecuteTime": {
     "end_time": "2020-12-13T14:43:57.972129Z",
     "start_time": "2020-12-13T14:43:57.958166Z"
    }
   },
   "outputs": [],
   "source": [
    "# Select a slice with labels\n",
    "obj['b':'c']"
   ]
  },
  {
   "cell_type": "code",
   "execution_count": null,
   "metadata": {
    "ExecuteTime": {
     "end_time": "2020-12-13T14:43:57.988086Z",
     "start_time": "2020-12-13T14:43:57.974123Z"
    }
   },
   "outputs": [],
   "source": [
    "# Create an example DataFrame\n",
    "data = pd.DataFrame(np.arange(16).reshape((4, 4)),\n",
    "                    index=['Ohio', 'Colorado', 'Utah', 'New York'],\n",
    "                    columns=['one', 'two', 'three', 'four'])\n",
    "data"
   ]
  },
  {
   "cell_type": "code",
   "execution_count": null,
   "metadata": {
    "ExecuteTime": {
     "end_time": "2020-12-13T14:43:58.004043Z",
     "start_time": "2020-12-13T14:43:57.989083Z"
    }
   },
   "outputs": [],
   "source": [
    "# Select a certain column\n",
    "data['two']"
   ]
  },
  {
   "cell_type": "code",
   "execution_count": null,
   "metadata": {
    "ExecuteTime": {
     "end_time": "2020-12-13T14:43:58.020000Z",
     "start_time": "2020-12-13T14:43:58.005040Z"
    }
   },
   "outputs": [],
   "source": [
    "# Select several columns\n",
    "data[['three', 'one']]"
   ]
  },
  {
   "cell_type": "code",
   "execution_count": null,
   "metadata": {
    "ExecuteTime": {
     "end_time": "2020-12-13T14:43:58.034961Z",
     "start_time": "2020-12-13T14:43:58.021995Z"
    }
   },
   "outputs": [],
   "source": [
    "# Use a boolean array for slicing\n",
    "data[data['three'] > 5]"
   ]
  },
  {
   "cell_type": "code",
   "execution_count": null,
   "metadata": {
    "ExecuteTime": {
     "end_time": "2020-12-13T14:43:58.049920Z",
     "start_time": "2020-12-13T14:43:58.036957Z"
    }
   },
   "outputs": [],
   "source": [
    "# Indexing with a boolean DataFrame\n",
    "data < 5"
   ]
  },
  {
   "cell_type": "code",
   "execution_count": null,
   "metadata": {
    "ExecuteTime": {
     "end_time": "2020-12-13T14:43:58.065879Z",
     "start_time": "2020-12-13T14:43:58.051915Z"
    }
   },
   "outputs": [],
   "source": [
    "# Indexing with a boolean DataFrame\n",
    "data[data < 5] = 0\n",
    "data"
   ]
  },
  {
   "cell_type": "markdown",
   "metadata": {},
   "source": [
    "#### Selection with loc and iloc\n",
    "- **loc** and **iloc** = enable you to select a subset of the rows and columns from a DataFrame with NumPy-like notation using either axis labels **loc** or integers **iloc**.\n",
    "- Both indexing functions work with slices in addition to single labels or lists of labels."
   ]
  },
  {
   "cell_type": "code",
   "execution_count": null,
   "metadata": {
    "ExecuteTime": {
     "end_time": "2020-12-13T14:43:58.081868Z",
     "start_time": "2020-12-13T14:43:58.066876Z"
    }
   },
   "outputs": [],
   "source": [
    "# Our example DataFrame\n",
    "data"
   ]
  },
  {
   "cell_type": "code",
   "execution_count": null,
   "metadata": {
    "ExecuteTime": {
     "end_time": "2020-12-13T14:43:58.097825Z",
     "start_time": "2020-12-13T14:43:58.083830Z"
    }
   },
   "outputs": [],
   "source": [
    "# Select a single row and multiple columns by label\n",
    "data.loc['Colorado', ['two', 'three']]"
   ]
  },
  {
   "cell_type": "code",
   "execution_count": null,
   "metadata": {
    "ExecuteTime": {
     "end_time": "2020-12-13T14:43:58.113784Z",
     "start_time": "2020-12-13T14:43:58.099788Z"
    }
   },
   "outputs": [],
   "source": [
    "# Select a single row and multiple columns using iloc\n",
    "data.iloc[2, [3, 0, 1]]"
   ]
  },
  {
   "cell_type": "markdown",
   "metadata": {},
   "source": [
    "**TABLE: Indexing options with DataFrame**"
   ]
  },
  {
   "cell_type": "markdown",
   "metadata": {},
   "source": [
    "| Type                  | Notes |\n",
    "| :---                  |    :----    |\n",
    "|df[val]| Select single column or sequence of columns from the DataFrame; special case conveniences: boolean array (filter rows), slice (slice rows), or boolean DataFrame (set values based on some criterion)\n",
    "|df.loc[val]| Selects single row or subset of rows from the DataFrame by label\n",
    "|df.loc[:, val]| Selects single column or subset of columns by label\n",
    "|df.loc[val1,val2]| Select both rows and columns by label\n",
    "|df.iloc[where]| Selects single row or subset of rows from the DataFrame by integer position\n",
    "|df.iloc[:, where]| Selects single column or subset of columns by integer position\n",
    "|df.iloc[where_i,where_j]| Select both rows and columns by integer position\n",
    "|df.at[label_i,label_j]| Select a single scalar value by row and column label\n",
    "|df.iat[i, j]| Select a single scalar value by row and column position (integers)\n",
    "|reindex method| Select either rows or columns by labels\n",
    "|get_value, set_value methods| Select single value by row and column label"
   ]
  },
  {
   "cell_type": "markdown",
   "metadata": {},
   "source": [
    "## Arithmetic and Data Alignment\n",
    "- When you are adding together objects, if any index pairs are not the same, the respective index in the result will be the union of the index pairs. \n",
    "- For users with database experience, this is similar to an automatic outerjoin on the index labels.\n",
    "- The internal data alignment introduces missing values in the label locations that don’t overlap. \n",
    "- Missing values will then propagate in further arithmetic computations.\n",
    "- In the case of DataFrame, alignment is performed on both the rows and the columns."
   ]
  },
  {
   "cell_type": "code",
   "execution_count": null,
   "metadata": {
    "ExecuteTime": {
     "end_time": "2020-12-13T14:43:58.129739Z",
     "start_time": "2020-12-13T14:43:58.115745Z"
    }
   },
   "outputs": [],
   "source": [
    "# Create 2 pandas Series\n",
    "s1 = pd.Series([7.3, -2.5, 3.4, 1.5], index=['a', 'c', 'd', 'e'])\n",
    "s2 = pd.Series([-2.1, 3.6, -1.5, 4, 3.1],\n",
    "               index=['a', 'c', 'e', 'f', 'g'])\n",
    "print(s1, '\\n')\n",
    "print(s2)"
   ]
  },
  {
   "cell_type": "code",
   "execution_count": null,
   "metadata": {
    "ExecuteTime": {
     "end_time": "2020-12-13T14:43:58.145666Z",
     "start_time": "2020-12-13T14:43:58.131702Z"
    }
   },
   "outputs": [],
   "source": [
    "# Add series s1 and s2\n",
    "s1 + s2"
   ]
  },
  {
   "cell_type": "code",
   "execution_count": null,
   "metadata": {
    "ExecuteTime": {
     "end_time": "2020-12-13T14:43:58.161653Z",
     "start_time": "2020-12-13T14:43:58.148657Z"
    }
   },
   "outputs": [],
   "source": [
    "# Create 2 example DataFrames\n",
    "df1 = pd.DataFrame(np.arange(9.).reshape((3, 3)), columns=list('bcd'),\n",
    "                   index=['Ohio', 'Texas', 'Colorado'])\n",
    "df2 = pd.DataFrame(np.arange(12.).reshape((4, 3)), columns=list('bde'),\n",
    "                   index=['Utah', 'Ohio', 'Texas', 'Oregon'])"
   ]
  },
  {
   "cell_type": "code",
   "execution_count": null,
   "metadata": {
    "ExecuteTime": {
     "end_time": "2020-12-13T14:43:58.177582Z",
     "start_time": "2020-12-13T14:43:58.163617Z"
    }
   },
   "outputs": [],
   "source": [
    "# Check df1\n",
    "df1"
   ]
  },
  {
   "cell_type": "code",
   "execution_count": null,
   "metadata": {
    "ExecuteTime": {
     "end_time": "2020-12-13T14:43:58.193569Z",
     "start_time": "2020-12-13T14:43:58.179574Z"
    }
   },
   "outputs": [],
   "source": [
    "# Check df2\n",
    "df2"
   ]
  },
  {
   "cell_type": "code",
   "execution_count": null,
   "metadata": {
    "ExecuteTime": {
     "end_time": "2020-12-13T14:43:58.209494Z",
     "start_time": "2020-12-13T14:43:58.195532Z"
    }
   },
   "outputs": [],
   "source": [
    "# Adding df1 & df2 together returns a DataFrame whose index and columns are the unions\n",
    "# of the ones in each DataFrame\n",
    "df1 + df2"
   ]
  },
  {
   "cell_type": "markdown",
   "metadata": {},
   "source": [
    "### Arithmetic methods with fill values\n",
    "- In arithmetic operations between differently indexed objects, you might want to fill with a special value, like 0, when an axis label is found in one object but not the other."
   ]
  },
  {
   "cell_type": "code",
   "execution_count": null,
   "metadata": {
    "ExecuteTime": {
     "end_time": "2020-12-13T14:43:58.225483Z",
     "start_time": "2020-12-13T14:43:58.211491Z"
    }
   },
   "outputs": [],
   "source": [
    "# Create 2 example DataFrames\n",
    "df1 = pd.DataFrame(np.arange(12.).reshape((3, 4)),\n",
    "                   columns=list('abcd'))\n",
    "df2 = pd.DataFrame(np.arange(20.).reshape((4, 5)),\n",
    "                   columns=list('abcde'))"
   ]
  },
  {
   "cell_type": "code",
   "execution_count": null,
   "metadata": {
    "ExecuteTime": {
     "end_time": "2020-12-13T14:43:58.241442Z",
     "start_time": "2020-12-13T14:43:58.227446Z"
    }
   },
   "outputs": [],
   "source": [
    "#Check df1\n",
    "df1"
   ]
  },
  {
   "cell_type": "code",
   "execution_count": null,
   "metadata": {
    "ExecuteTime": {
     "end_time": "2020-12-13T14:43:58.257398Z",
     "start_time": "2020-12-13T14:43:58.243406Z"
    }
   },
   "outputs": [],
   "source": [
    "#Check df2\n",
    "df2"
   ]
  },
  {
   "cell_type": "code",
   "execution_count": null,
   "metadata": {
    "ExecuteTime": {
     "end_time": "2020-12-13T14:43:58.273324Z",
     "start_time": "2020-12-13T14:43:58.259362Z"
    }
   },
   "outputs": [],
   "source": [
    "# Use loc method to insert an NaN value for df2\n",
    "df2.loc[1, 'b'] = np.nan\n",
    "df2"
   ]
  },
  {
   "cell_type": "code",
   "execution_count": null,
   "metadata": {
    "ExecuteTime": {
     "end_time": "2020-12-13T14:43:58.289317Z",
     "start_time": "2020-12-13T14:43:58.275318Z"
    }
   },
   "outputs": [],
   "source": [
    "# Adding df1 & df2 together results in NA values in the locations that don’t overlap\n",
    "df1 + df2"
   ]
  },
  {
   "cell_type": "code",
   "execution_count": null,
   "metadata": {
    "ExecuteTime": {
     "end_time": "2020-12-13T14:43:58.305270Z",
     "start_time": "2020-12-13T14:43:58.291276Z"
    }
   },
   "outputs": [],
   "source": [
    "# Use add method on df1 with the argument fill_value = 0\n",
    "df1.add(df2, fill_value=0)"
   ]
  },
  {
   "cell_type": "markdown",
   "metadata": {},
   "source": [
    "**TABLE: Flexible arithmetic methods**"
   ]
  },
  {
   "cell_type": "markdown",
   "metadata": {},
   "source": [
    "| Method                  | Description |\n",
    "| :---                  |    :----    |\n",
    "|add, radd| Methods for addition (+)|\n",
    "|sub, rsub| Methods for subtraction (-)|\n",
    "|div, rdiv| Methods for division (/)|\n",
    "|floordiv, rfloordiv| Methods for floor division (//)|\n",
    "|mul, rmul| Methods for multiplication (*)|\n",
    "|pow, rpow| Methods for exponentiation (**)|"
   ]
  },
  {
   "cell_type": "markdown",
   "metadata": {},
   "source": [
    "### Operations between DataFrame and Series"
   ]
  },
  {
   "cell_type": "code",
   "execution_count": null,
   "metadata": {
    "ExecuteTime": {
     "end_time": "2020-12-13T14:43:58.321197Z",
     "start_time": "2020-12-13T14:43:58.307234Z"
    }
   },
   "outputs": [],
   "source": [
    "# Create an example DataFrame\n",
    "frame = pd.DataFrame(np.arange(12.).reshape((4, 3)),\n",
    "                     columns=list('bde'),\n",
    "                     index=['Utah', 'Ohio', 'Texas', 'Oregon'])\n",
    "frame"
   ]
  },
  {
   "cell_type": "code",
   "execution_count": null,
   "metadata": {
    "ExecuteTime": {
     "end_time": "2020-12-13T14:43:58.337153Z",
     "start_time": "2020-12-13T14:43:58.330171Z"
    }
   },
   "outputs": [],
   "source": [
    "# Create an example Series\n",
    "series = frame.iloc[0]\n",
    "series"
   ]
  },
  {
   "cell_type": "markdown",
   "metadata": {},
   "source": [
    "- By default, arithmetic between DataFrame and Series matches the index of the Series on the DataFrame’s columns, broadcasting down the rows."
   ]
  },
  {
   "cell_type": "code",
   "execution_count": null,
   "metadata": {
    "ExecuteTime": {
     "end_time": "2020-12-13T14:43:58.369067Z",
     "start_time": "2020-12-13T14:43:58.344134Z"
    }
   },
   "outputs": [],
   "source": [
    "# Substract the series values from the DataFrame\n",
    "frame - series"
   ]
  },
  {
   "cell_type": "markdown",
   "metadata": {},
   "source": [
    "- If an index value is not found in either the DataFrame’s columns or the Series’s index, the objects will be reindexed to form the union."
   ]
  },
  {
   "cell_type": "code",
   "execution_count": null,
   "metadata": {
    "ExecuteTime": {
     "end_time": "2020-12-13T14:43:58.385025Z",
     "start_time": "2020-12-13T14:43:58.371065Z"
    }
   },
   "outputs": [],
   "source": [
    "# Create another Series\n",
    "series2 = pd.Series(range(3), index=['b', 'e', 'f'])\n",
    "frame + series2"
   ]
  },
  {
   "cell_type": "code",
   "execution_count": null,
   "metadata": {
    "ExecuteTime": {
     "end_time": "2020-12-13T14:43:58.400982Z",
     "start_time": "2020-12-13T14:43:58.387020Z"
    }
   },
   "outputs": [],
   "source": [
    "# Create another series\n",
    "series3 = frame['d']\n",
    "series3"
   ]
  },
  {
   "cell_type": "code",
   "execution_count": null,
   "metadata": {
    "ExecuteTime": {
     "end_time": "2020-12-13T14:43:58.416971Z",
     "start_time": "2020-12-13T14:43:58.402978Z"
    }
   },
   "outputs": [],
   "source": [
    "# Check the example DataFrame\n",
    "frame"
   ]
  },
  {
   "cell_type": "code",
   "execution_count": null,
   "metadata": {
    "ExecuteTime": {
     "end_time": "2020-12-13T14:43:58.432929Z",
     "start_time": "2020-12-13T14:43:58.417937Z"
    }
   },
   "outputs": [],
   "source": [
    "# If you want to instead broadcast over the columns, matching on the rows, you have to\n",
    "# use one of the arithmetic methods\n",
    "frame.sub(series3, axis='index')\n",
    "\n",
    "# The axis number that you pass is the axis to match on. In this case we mean to match\n",
    "# on the DataFrame’s row index (axis='index' or axis=0) and broadcast across"
   ]
  },
  {
   "cell_type": "markdown",
   "metadata": {},
   "source": [
    "### Function Application and Mapping\n",
    "- Many of the most common array statistics (like sum and mean) are DataFrame methods, so using apply is not necessary.\n",
    "- Element-wise Python functions can be used with **applymap** for DataFrames and **map** for Series."
   ]
  },
  {
   "cell_type": "code",
   "execution_count": null,
   "metadata": {
    "ExecuteTime": {
     "end_time": "2020-12-13T14:43:58.448885Z",
     "start_time": "2020-12-13T14:43:58.434891Z"
    }
   },
   "outputs": [],
   "source": [
    "# Create an example DataFrame\n",
    "frame = pd.DataFrame(np.random.randn(4, 3), columns=list('bde'),\n",
    "                     index=['Utah', 'Ohio', 'Texas', 'Oregon'])\n",
    "frame"
   ]
  },
  {
   "cell_type": "code",
   "execution_count": null,
   "metadata": {
    "ExecuteTime": {
     "end_time": "2020-12-13T14:43:58.464811Z",
     "start_time": "2020-12-13T14:43:58.449851Z"
    }
   },
   "outputs": [],
   "source": [
    "# NumPy ufuncs (element-wise array methods) also work with pandas objects\n",
    "np.abs(frame)"
   ]
  },
  {
   "cell_type": "code",
   "execution_count": null,
   "metadata": {
    "ExecuteTime": {
     "end_time": "2020-12-13T14:43:58.480804Z",
     "start_time": "2020-12-13T14:43:58.467806Z"
    }
   },
   "outputs": [],
   "source": [
    "# Use apply method to apply a function to each column\n",
    "\n",
    "# Create a lambda function which computes the difference between the maximum and minimum of a Series\n",
    "f = lambda x: x.max() - x.min()\n",
    "\n",
    "# Apply the lambda to each column in frame\n",
    "frame.apply(f)\n",
    "\n",
    "# The result is a Series having the columns of frame as its index"
   ]
  },
  {
   "cell_type": "code",
   "execution_count": null,
   "metadata": {
    "ExecuteTime": {
     "end_time": "2020-12-13T14:43:58.496771Z",
     "start_time": "2020-12-13T14:43:58.481766Z"
    }
   },
   "outputs": [],
   "source": [
    "# If you pass axis='columns' to apply, the function will be invoked once per row\n",
    "frame.apply(f, axis='columns')"
   ]
  },
  {
   "cell_type": "code",
   "execution_count": null,
   "metadata": {
    "ExecuteTime": {
     "end_time": "2020-12-13T14:43:58.511731Z",
     "start_time": "2020-12-13T14:43:58.497723Z"
    }
   },
   "outputs": [],
   "source": [
    "# Apply an element-wise function to a DataFrame\n",
    "\n",
    "# Define the function\n",
    "format = lambda x: '%.2f' % x\n",
    "\n",
    "# Apply the function element-wise\n",
    "frame.applymap(format)"
   ]
  },
  {
   "cell_type": "markdown",
   "metadata": {},
   "source": [
    "### Sorting and Ranking\n",
    "- To sort lexicographically by row or column index, use the **sort_index** method, which returns a new, sorted object.\n",
    "- With a DataFrame, you can sort by index on either axis.\n",
    "- The data is sorted in ascending order by default, but can be sorted in descending order.\n",
    "- To sort a Series by its values, use its **sort_values** method.\n",
    "- Any missing values are sorted to the end of the Series by default.\n",
    "- When sorting a DataFrame, you can use the data in one or more columns as the sort keys."
   ]
  },
  {
   "cell_type": "code",
   "execution_count": null,
   "metadata": {
    "ExecuteTime": {
     "end_time": "2020-12-13T14:43:58.526685Z",
     "start_time": "2020-12-13T14:43:58.512683Z"
    }
   },
   "outputs": [],
   "source": [
    "# Create and sort a Series\n",
    "obj = pd.Series(range(4), index=['d', 'a', 'b', 'c'])\n",
    "obj.sort_index()"
   ]
  },
  {
   "cell_type": "code",
   "execution_count": null,
   "metadata": {
    "ExecuteTime": {
     "end_time": "2020-12-13T14:43:58.542636Z",
     "start_time": "2020-12-13T14:43:58.528641Z"
    }
   },
   "outputs": [],
   "source": [
    "# Create and sort a DataFrame by rows\n",
    "frame = pd.DataFrame(np.arange(8).reshape((2, 4)),\n",
    "                     index=['three', 'one'],\n",
    "                     columns=['d', 'a', 'b', 'c'])\n",
    "frame.sort_index()"
   ]
  },
  {
   "cell_type": "code",
   "execution_count": null,
   "metadata": {
    "ExecuteTime": {
     "end_time": "2020-12-13T14:43:58.558592Z",
     "start_time": "2020-12-13T14:43:58.544599Z"
    }
   },
   "outputs": [],
   "source": [
    "# Sort by columns\n",
    "frame.sort_index(axis=1)"
   ]
  },
  {
   "cell_type": "code",
   "execution_count": null,
   "metadata": {
    "ExecuteTime": {
     "end_time": "2020-12-13T14:43:58.574521Z",
     "start_time": "2020-12-13T14:43:58.560555Z"
    }
   },
   "outputs": [],
   "source": [
    "# Sort in descending order\n",
    "frame.sort_index(axis=1, ascending=False)"
   ]
  },
  {
   "cell_type": "code",
   "execution_count": null,
   "metadata": {
    "ExecuteTime": {
     "end_time": "2020-12-13T14:43:58.590477Z",
     "start_time": "2020-12-13T14:43:58.576516Z"
    }
   },
   "outputs": [],
   "source": [
    "# Create a Series and sort by its values\n",
    "obj = pd.Series([4, 7, -3, 2])\n",
    "obj.sort_values()"
   ]
  },
  {
   "cell_type": "code",
   "execution_count": null,
   "metadata": {
    "ExecuteTime": {
     "end_time": "2020-12-13T14:43:58.606434Z",
     "start_time": "2020-12-13T14:43:58.591474Z"
    }
   },
   "outputs": [],
   "source": [
    "# Create DataFrame\n",
    "frame = pd.DataFrame({'a': [0, 1, 0, 1], 'b': [4, 7, -3, 2]})\n",
    "frame"
   ]
  },
  {
   "cell_type": "code",
   "execution_count": null,
   "metadata": {
    "ExecuteTime": {
     "end_time": "2020-12-13T14:43:58.622392Z",
     "start_time": "2020-12-13T14:43:58.607432Z"
    }
   },
   "outputs": [],
   "source": [
    "# Sort DataFrame by columns a & b\n",
    "frame.sort_values(by=['a', 'b'])"
   ]
  },
  {
   "cell_type": "markdown",
   "metadata": {},
   "source": [
    "- **Ranking** assigns ranks from one through the number of valid data points in an array.\n",
    "- By default **rank** breaks ties by assigning each group the mean rank.\n",
    "- Ranks can also be assigned according to the order in which they’re observed in the data.\n",
    "- DataFrame can compute ranks over the rows or the columns."
   ]
  },
  {
   "cell_type": "code",
   "execution_count": null,
   "metadata": {
    "ExecuteTime": {
     "end_time": "2020-12-13T14:43:58.638349Z",
     "start_time": "2020-12-13T14:43:58.624387Z"
    }
   },
   "outputs": [],
   "source": [
    "# Create a Series \n",
    "obj = pd.Series([7, -5, 7, 4, 2, 0, 4])\n",
    "obj"
   ]
  },
  {
   "cell_type": "code",
   "execution_count": null,
   "metadata": {
    "ExecuteTime": {
     "end_time": "2020-12-13T14:43:58.654337Z",
     "start_time": "2020-12-13T14:43:58.640344Z"
    }
   },
   "outputs": [],
   "source": [
    "# Use the rank method\n",
    "obj.rank()"
   ]
  },
  {
   "cell_type": "code",
   "execution_count": null,
   "metadata": {
    "ExecuteTime": {
     "end_time": "2020-12-13T14:43:58.670295Z",
     "start_time": "2020-12-13T14:43:58.655303Z"
    }
   },
   "outputs": [],
   "source": [
    "# Create a DataFrame\n",
    "frame = pd.DataFrame({'b': [4.3, 7, -3, 2], 'a': [0, 1, 0, 1],\n",
    "                      'c': [-2, 5, 8, -2.5]})\n",
    "frame"
   ]
  },
  {
   "cell_type": "code",
   "execution_count": null,
   "metadata": {
    "ExecuteTime": {
     "end_time": "2020-12-13T14:43:58.686252Z",
     "start_time": "2020-12-13T14:43:58.671259Z"
    }
   },
   "outputs": [],
   "source": [
    "# Apply rank method by column\n",
    "frame.rank(axis='columns')"
   ]
  },
  {
   "cell_type": "markdown",
   "metadata": {},
   "source": [
    "## Summarizing and Computing Descriptive Statistics\n",
    "- pandas objects are equipped with a set of common mathematical and statistical methods.\n",
    "- Most of these fall into the category of reductions or summary statistics, methods that extract a single value (like the sum or mean) from a Series or a Series of values from the rows or columns of a DataFrame.\n",
    "- Compared with the similar methods found on NumPy arrays, they have built-in handling for missing data.\n",
    "- NA values are excluded unless the entire slice (row or column in this case) is NA. This can be disabled with the **skipna** option."
   ]
  },
  {
   "cell_type": "code",
   "execution_count": null,
   "metadata": {
    "ExecuteTime": {
     "end_time": "2020-12-13T14:43:58.702202Z",
     "start_time": "2020-12-13T14:43:58.687216Z"
    }
   },
   "outputs": [],
   "source": [
    "# Create an example DataFrame\n",
    "df = pd.DataFrame([[1.4, np.nan], [7.1, -4.5],\n",
    "                   [np.nan, np.nan], [0.75, -1.3]],\n",
    "                  index=['a', 'b', 'c', 'd'],\n",
    "                  columns=['one', 'two'])\n",
    "df"
   ]
  },
  {
   "cell_type": "code",
   "execution_count": null,
   "metadata": {
    "ExecuteTime": {
     "end_time": "2020-12-13T14:43:58.718166Z",
     "start_time": "2020-12-13T14:43:58.703174Z"
    }
   },
   "outputs": [],
   "source": [
    "# Calling DataFrame’s sum method returns a Series containing column sums\n",
    "df.sum()"
   ]
  },
  {
   "cell_type": "code",
   "execution_count": null,
   "metadata": {
    "ExecuteTime": {
     "end_time": "2020-12-13T14:43:58.734091Z",
     "start_time": "2020-12-13T14:43:58.719132Z"
    }
   },
   "outputs": [],
   "source": [
    "# Passing axis='columns' or axis=1 sums across the columns instead\n",
    "df.sum(axis='columns')"
   ]
  },
  {
   "cell_type": "code",
   "execution_count": null,
   "metadata": {
    "ExecuteTime": {
     "end_time": "2020-12-13T14:43:58.750051Z",
     "start_time": "2020-12-13T14:43:58.738081Z"
    }
   },
   "outputs": [],
   "source": [
    "# Calculate mean value per column\n",
    "df.mean(axis='columns', skipna=False)"
   ]
  },
  {
   "cell_type": "code",
   "execution_count": null,
   "metadata": {
    "ExecuteTime": {
     "end_time": "2020-12-13T14:43:58.781589Z",
     "start_time": "2020-12-13T14:43:58.752044Z"
    }
   },
   "outputs": [],
   "source": [
    "# describe method is  producing multiple summary statistics in one shot\n",
    "df.describe()"
   ]
  },
  {
   "cell_type": "markdown",
   "metadata": {},
   "source": [
    "**TABLE: Descriptive and summary statistics**"
   ]
  },
  {
   "cell_type": "markdown",
   "metadata": {},
   "source": [
    "| Method                  | Description |\n",
    "| :---                  |    :----    |\n",
    "|count| Number of non-NA values\n",
    "|describe| Compute set of summary statistics for Series or each DataFrame column\n",
    "|min, max| Compute minimum and maximum values\n",
    "|argmin, argmax| Compute index locations (integers) at which minimum or maximum value obtained, respectively\n",
    "|idxmin, idxmax| Compute index labels at which minimum or maximum value obtained, respectively\n",
    "|quantile| Compute sample quantile ranging from 0 to 1\n",
    "|sum| Sum of values\n",
    "|mean| Mean of values\n",
    "|median| Arithmetic median (50% quantile) of values\n",
    "|mad| Mean absolute deviation from mean value\n",
    "|prod| Product of all values\n",
    "|var| Sample variance of values\n",
    "|std| Sample standard deviation of values\n",
    "|skew| Sample skewness (third moment) of values\n",
    "|kurt| Sample kurtosis (fourth moment) of values\n",
    "|cumsum| Cumulative sum of values\n",
    "|cummin, cummax |Cumulative minimum or maximum of values, respectively\n",
    "|cumprod| Cumulative product of values\n",
    "|diff| Compute first arithmetic difference (useful for time series)\n",
    "|pct_change| Compute percent changes"
   ]
  },
  {
   "cell_type": "markdown",
   "metadata": {},
   "source": [
    "### Correlation and Covariance\n",
    "- Let’s consider some DataFrames of stock prices and volumes obtained from Yahoo! Finance using the add-on **pandas-datareader** package."
   ]
  },
  {
   "cell_type": "code",
   "execution_count": null,
   "metadata": {
    "ExecuteTime": {
     "end_time": "2020-12-13T14:43:59.002998Z",
     "start_time": "2020-12-13T14:43:58.782587Z"
    }
   },
   "outputs": [],
   "source": [
    "# Import the pandas-datareader package.\n",
    "import pandas_datareader.data as web"
   ]
  },
  {
   "cell_type": "code",
   "execution_count": null,
   "metadata": {
    "ExecuteTime": {
     "end_time": "2020-12-13T14:44:01.526484Z",
     "start_time": "2020-12-13T14:43:59.003996Z"
    }
   },
   "outputs": [],
   "source": [
    "# Use the pandas_datareader module to download some data for a few stock tickers\n",
    "all_data = {ticker: web.get_data_yahoo(ticker)\n",
    "            for ticker in ['AAPL', 'IBM', 'MSFT', 'GOOG']}"
   ]
  },
  {
   "cell_type": "code",
   "execution_count": null,
   "metadata": {
    "ExecuteTime": {
     "end_time": "2020-12-13T14:44:01.558083Z",
     "start_time": "2020-12-13T14:44:01.528357Z"
    }
   },
   "outputs": [],
   "source": [
    "# Create a price DataFrame\n",
    "price = pd.DataFrame({ticker: data['Adj Close']\n",
    "                      for ticker, data in all_data.items()})\n",
    "price"
   ]
  },
  {
   "cell_type": "code",
   "execution_count": null,
   "metadata": {
    "ExecuteTime": {
     "end_time": "2020-12-13T14:44:01.573898Z",
     "start_time": "2020-12-13T14:44:01.559933Z"
    }
   },
   "outputs": [],
   "source": [
    "# Create a volume DataFrame\n",
    "volume = pd.DataFrame({ticker: data['Volume']\n",
    "                       for ticker, data in all_data.items()})\n",
    "volume"
   ]
  },
  {
   "cell_type": "code",
   "execution_count": null,
   "metadata": {
    "ExecuteTime": {
     "end_time": "2020-12-13T14:44:01.589852Z",
     "start_time": "2020-12-13T14:44:01.575892Z"
    }
   },
   "outputs": [],
   "source": [
    "# Compute percent changes of the prices\n",
    "returns = price.pct_change()\n",
    "returns.tail()"
   ]
  },
  {
   "cell_type": "code",
   "execution_count": null,
   "metadata": {
    "ExecuteTime": {
     "end_time": "2020-12-13T14:44:01.605810Z",
     "start_time": "2020-12-13T14:44:01.590849Z"
    }
   },
   "outputs": [],
   "source": [
    "# The corr method of Series computes the correlation of the overlapping, non-NA, \n",
    "# aligned-by-index values in two Series\n",
    "returns['MSFT'].corr(returns['IBM'])"
   ]
  },
  {
   "cell_type": "code",
   "execution_count": null,
   "metadata": {
    "ExecuteTime": {
     "end_time": "2020-12-13T14:44:01.620771Z",
     "start_time": "2020-12-13T14:44:01.607807Z"
    }
   },
   "outputs": [],
   "source": [
    "# DataFrame’s corr and cov methods, on the other hand, return a full correlation or\n",
    "# covariance matrix as a DataFrame\n",
    "returns.corr()"
   ]
  },
  {
   "cell_type": "code",
   "execution_count": null,
   "metadata": {
    "ExecuteTime": {
     "end_time": "2020-12-13T14:44:01.635729Z",
     "start_time": "2020-12-13T14:44:01.622767Z"
    }
   },
   "outputs": [],
   "source": [
    "# Compute covariance matrix\n",
    "returns.cov()"
   ]
  },
  {
   "cell_type": "code",
   "execution_count": null,
   "metadata": {
    "ExecuteTime": {
     "end_time": "2020-12-13T14:44:01.651722Z",
     "start_time": "2020-12-13T14:44:01.637727Z"
    }
   },
   "outputs": [],
   "source": [
    "# Using DataFrame’s corrwith method, you can compute pairwise correlations\n",
    "# between a DataFrame’s columns or rows with another Series or DataFrame\n",
    "returns.corrwith(returns.IBM)"
   ]
  },
  {
   "cell_type": "markdown",
   "metadata": {},
   "source": [
    "### Unique Values, Value Counts, and Membership"
   ]
  },
  {
   "cell_type": "code",
   "execution_count": null,
   "metadata": {
    "ExecuteTime": {
     "end_time": "2020-12-13T14:44:01.667679Z",
     "start_time": "2020-12-13T14:44:01.652684Z"
    }
   },
   "outputs": [],
   "source": [
    "# unique gives you an array of the unique values in a Series\n",
    "obj = pd.Series(['c', 'a', 'd', 'a', 'a', 'b', 'b', 'c', 'c'])\n",
    "obj.unique()\n",
    "\n",
    "# The unique values are not necessarily returned in sorted order, but could be sorted\n",
    "# after the fact if needed using uniques.sort()"
   ]
  },
  {
   "cell_type": "code",
   "execution_count": null,
   "metadata": {
    "ExecuteTime": {
     "end_time": "2020-12-13T14:44:01.683636Z",
     "start_time": "2020-12-13T14:44:01.668642Z"
    }
   },
   "outputs": [],
   "source": [
    "# value_counts computes a Series containing value frequencies\n",
    "obj.value_counts()"
   ]
  },
  {
   "cell_type": "code",
   "execution_count": null,
   "metadata": {
    "ExecuteTime": {
     "end_time": "2020-12-13T14:44:01.699559Z",
     "start_time": "2020-12-13T14:44:01.684600Z"
    }
   },
   "outputs": [],
   "source": [
    "# isin performs a vectorized set membership check and can be useful in filtering a\n",
    "# dataset down to a subset of values in a Series or column in a DataFrame\n",
    "mask = obj.isin(['b', 'c'])\n",
    "mask"
   ]
  },
  {
   "cell_type": "code",
   "execution_count": null,
   "metadata": {
    "ExecuteTime": {
     "end_time": "2020-12-13T14:44:01.715516Z",
     "start_time": "2020-12-13T14:44:01.700556Z"
    }
   },
   "outputs": [],
   "source": [
    "# Select only values in the mask\n",
    "obj[mask]"
   ]
  },
  {
   "cell_type": "markdown",
   "metadata": {},
   "source": [
    "**TABLE: Unique, value counts, and set membership methods**"
   ]
  },
  {
   "cell_type": "markdown",
   "metadata": {},
   "source": [
    "| Method                  | Description |\n",
    "| :---                  |    :----    |\n",
    "|isin| Compute boolean array indicating whether each Series value is contained in the passed sequence of values\n",
    "|match| Compute integer indices for each value in an array into another array of distinct values; helpful for data alignment and join-type operations\n",
    "|unique| Compute array of unique values in a Series, returned in the order observed\n",
    "|value_counts| Return a Series containing unique values as its index and frequencies as its values, ordered count in descending order"
   ]
  },
  {
   "cell_type": "markdown",
   "metadata": {},
   "source": [
    "## Book Progress"
   ]
  },
  {
   "cell_type": "code",
   "execution_count": null,
   "metadata": {
    "ExecuteTime": {
     "end_time": "2020-12-13T14:44:02.106790Z",
     "start_time": "2020-12-13T14:44:01.717512Z"
    },
    "code_folding": []
   },
   "outputs": [],
   "source": [
    "# Plot book progress\n",
    "\n",
    "import plotly.graph_objects as go\n",
    "\n",
    "fig = go.Figure(go.Indicator(\n",
    "    mode = \"number+gauge+delta\",\n",
    "    gauge = {'shape': \"bullet\"},\n",
    "    delta = {'reference': 341},\n",
    "    value = 509,\n",
    "    domain = {'x': [0.1, 1], 'y': [0.2, 0.9]},\n",
    "    title = {'text': \"Book Pages\"}))\n",
    "\n",
    "fig.show()"
   ]
  }
 ],
 "metadata": {
  "kernelspec": {
   "display_name": "Python 3",
   "language": "python",
   "name": "python3"
  },
  "language_info": {
   "codemirror_mode": {
    "name": "ipython",
    "version": 3
   },
   "file_extension": ".py",
   "mimetype": "text/x-python",
   "name": "python",
   "nbconvert_exporter": "python",
   "pygments_lexer": "ipython3",
   "version": "3.7.5"
  },
  "toc": {
   "base_numbering": 1,
   "nav_menu": {},
   "number_sections": true,
   "sideBar": true,
   "skip_h1_title": true,
   "title_cell": "Table of Contents",
   "title_sidebar": "Contents",
   "toc_cell": false,
   "toc_position": {
    "height": "100px",
    "left": "146px",
    "top": "145px",
    "width": "165px"
   },
   "toc_section_display": true,
   "toc_window_display": true
  },
  "varInspector": {
   "cols": {
    "lenName": 16,
    "lenType": 16,
    "lenVar": 40
   },
   "kernels_config": {
    "python": {
     "delete_cmd_postfix": "",
     "delete_cmd_prefix": "del ",
     "library": "var_list.py",
     "varRefreshCmd": "print(var_dic_list())"
    },
    "r": {
     "delete_cmd_postfix": ") ",
     "delete_cmd_prefix": "rm(",
     "library": "var_list.r",
     "varRefreshCmd": "cat(var_dic_list()) "
    }
   },
   "types_to_exclude": [
    "module",
    "function",
    "builtin_function_or_method",
    "instance",
    "_Feature"
   ],
   "window_display": false
  }
 },
 "nbformat": 4,
 "nbformat_minor": 2
}
