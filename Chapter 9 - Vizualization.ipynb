{
 "cells": [
  {
   "cell_type": "code",
   "execution_count": 13,
   "metadata": {
    "ExecuteTime": {
     "end_time": "2021-02-10T17:26:23.438839Z",
     "start_time": "2021-02-10T17:26:23.418172Z"
    }
   },
   "outputs": [],
   "source": [
    "# Import libraries\n",
    "import pandas as pd\n",
    "import matplotlib.pyplot as plt\n",
    "import seaborn as sns\n",
    "import datetime as dt\n",
    "import numpy as np"
   ]
  },
  {
   "cell_type": "code",
   "execution_count": 14,
   "metadata": {
    "ExecuteTime": {
     "end_time": "2021-02-10T17:26:23.485319Z",
     "start_time": "2021-02-10T17:26:23.441342Z"
    }
   },
   "outputs": [],
   "source": [
    "# Load the data for my Netflix activity\n",
    "pwd = %pwd\n",
    "netflix_raw = pd.read_csv(pwd + '/datasets/own/netflix_viewing_activity.csv')"
   ]
  },
  {
   "cell_type": "code",
   "execution_count": 15,
   "metadata": {
    "ExecuteTime": {
     "end_time": "2021-02-10T17:26:23.508614Z",
     "start_time": "2021-02-10T17:26:23.486317Z"
    }
   },
   "outputs": [
    {
     "data": {
      "text/html": [
       "<div>\n",
       "<style scoped>\n",
       "    .dataframe tbody tr th:only-of-type {\n",
       "        vertical-align: middle;\n",
       "    }\n",
       "\n",
       "    .dataframe tbody tr th {\n",
       "        vertical-align: top;\n",
       "    }\n",
       "\n",
       "    .dataframe thead th {\n",
       "        text-align: right;\n",
       "    }\n",
       "</style>\n",
       "<table border=\"1\" class=\"dataframe\">\n",
       "  <thead>\n",
       "    <tr style=\"text-align: right;\">\n",
       "      <th></th>\n",
       "      <th>Profile Name</th>\n",
       "      <th>Start Time</th>\n",
       "      <th>Duration</th>\n",
       "      <th>Attributes</th>\n",
       "      <th>Title</th>\n",
       "      <th>Supplemental Video Type</th>\n",
       "      <th>Device Type</th>\n",
       "      <th>Bookmark</th>\n",
       "      <th>Latest Bookmark</th>\n",
       "      <th>Country</th>\n",
       "    </tr>\n",
       "  </thead>\n",
       "  <tbody>\n",
       "    <tr>\n",
       "      <th>0</th>\n",
       "      <td>Alexandra</td>\n",
       "      <td>2021-01-30 23:35:49</td>\n",
       "      <td>00:03:05</td>\n",
       "      <td>Autoplayed: user action: None;</td>\n",
       "      <td>How I Met Your Mother: Season 8: The Ashtray (...</td>\n",
       "      <td>NaN</td>\n",
       "      <td>Samsung CE 2020 Nike-L UHD TV (2G) Smart TV</td>\n",
       "      <td>00:03:06</td>\n",
       "      <td>00:03:06</td>\n",
       "      <td>SE (Sweden)</td>\n",
       "    </tr>\n",
       "    <tr>\n",
       "      <th>1</th>\n",
       "      <td>Alexandra</td>\n",
       "      <td>2021-01-30 23:14:31</td>\n",
       "      <td>00:21:17</td>\n",
       "      <td>Autoplayed: user action: None;</td>\n",
       "      <td>How I Met Your Mother: Season 8: Bad Crazy (Ep...</td>\n",
       "      <td>NaN</td>\n",
       "      <td>Samsung CE 2020 Nike-L UHD TV (2G) Smart TV</td>\n",
       "      <td>00:21:18</td>\n",
       "      <td>00:21:18</td>\n",
       "      <td>SE (Sweden)</td>\n",
       "    </tr>\n",
       "    <tr>\n",
       "      <th>2</th>\n",
       "      <td>Alexandra</td>\n",
       "      <td>2021-01-30 22:53:09</td>\n",
       "      <td>00:21:21</td>\n",
       "      <td>Autoplayed: user action: None;</td>\n",
       "      <td>How I Met Your Mother: Season 8: P.S. I Love Y...</td>\n",
       "      <td>NaN</td>\n",
       "      <td>Samsung CE 2020 Nike-L UHD TV (2G) Smart TV</td>\n",
       "      <td>00:21:21</td>\n",
       "      <td>00:21:21</td>\n",
       "      <td>SE (Sweden)</td>\n",
       "    </tr>\n",
       "    <tr>\n",
       "      <th>3</th>\n",
       "      <td>Alexandra</td>\n",
       "      <td>2021-01-30 22:39:27</td>\n",
       "      <td>00:13:37</td>\n",
       "      <td>Autoplayed: user action: Unspecified;</td>\n",
       "      <td>How I Met Your Mother: Season 8: Ring Up! (Epi...</td>\n",
       "      <td>NaN</td>\n",
       "      <td>Samsung CE 2020 Nike-L UHD TV (2G) Smart TV</td>\n",
       "      <td>00:21:17</td>\n",
       "      <td>00:21:17</td>\n",
       "      <td>SE (Sweden)</td>\n",
       "    </tr>\n",
       "    <tr>\n",
       "      <th>4</th>\n",
       "      <td>Alexandra</td>\n",
       "      <td>2021-01-30 12:49:12</td>\n",
       "      <td>00:14:54</td>\n",
       "      <td>NaN</td>\n",
       "      <td>Surviving Death: Season 1: Near-Death Experien...</td>\n",
       "      <td>NaN</td>\n",
       "      <td>Samsung CE 2020 Nike-L UHD TV (2G) Smart TV</td>\n",
       "      <td>00:14:54</td>\n",
       "      <td>00:14:54</td>\n",
       "      <td>SE (Sweden)</td>\n",
       "    </tr>\n",
       "  </tbody>\n",
       "</table>\n",
       "</div>"
      ],
      "text/plain": [
       "  Profile Name           Start Time  Duration  \\\n",
       "0    Alexandra  2021-01-30 23:35:49  00:03:05   \n",
       "1    Alexandra  2021-01-30 23:14:31  00:21:17   \n",
       "2    Alexandra  2021-01-30 22:53:09  00:21:21   \n",
       "3    Alexandra  2021-01-30 22:39:27  00:13:37   \n",
       "4    Alexandra  2021-01-30 12:49:12  00:14:54   \n",
       "\n",
       "                               Attributes  \\\n",
       "0         Autoplayed: user action: None;    \n",
       "1         Autoplayed: user action: None;    \n",
       "2         Autoplayed: user action: None;    \n",
       "3  Autoplayed: user action: Unspecified;    \n",
       "4                                     NaN   \n",
       "\n",
       "                                               Title Supplemental Video Type  \\\n",
       "0  How I Met Your Mother: Season 8: The Ashtray (...                     NaN   \n",
       "1  How I Met Your Mother: Season 8: Bad Crazy (Ep...                     NaN   \n",
       "2  How I Met Your Mother: Season 8: P.S. I Love Y...                     NaN   \n",
       "3  How I Met Your Mother: Season 8: Ring Up! (Epi...                     NaN   \n",
       "4  Surviving Death: Season 1: Near-Death Experien...                     NaN   \n",
       "\n",
       "                                   Device Type  Bookmark Latest Bookmark  \\\n",
       "0  Samsung CE 2020 Nike-L UHD TV (2G) Smart TV  00:03:06        00:03:06   \n",
       "1  Samsung CE 2020 Nike-L UHD TV (2G) Smart TV  00:21:18        00:21:18   \n",
       "2  Samsung CE 2020 Nike-L UHD TV (2G) Smart TV  00:21:21        00:21:21   \n",
       "3  Samsung CE 2020 Nike-L UHD TV (2G) Smart TV  00:21:17        00:21:17   \n",
       "4  Samsung CE 2020 Nike-L UHD TV (2G) Smart TV  00:14:54        00:14:54   \n",
       "\n",
       "       Country  \n",
       "0  SE (Sweden)  \n",
       "1  SE (Sweden)  \n",
       "2  SE (Sweden)  \n",
       "3  SE (Sweden)  \n",
       "4  SE (Sweden)  "
      ]
     },
     "execution_count": 15,
     "metadata": {},
     "output_type": "execute_result"
    }
   ],
   "source": [
    "# Check raw data\n",
    "netflix_raw.head()"
   ]
  },
  {
   "cell_type": "code",
   "execution_count": 16,
   "metadata": {
    "ExecuteTime": {
     "end_time": "2021-02-10T17:26:23.529751Z",
     "start_time": "2021-02-10T17:26:23.509608Z"
    }
   },
   "outputs": [
    {
     "name": "stdout",
     "output_type": "stream",
     "text": [
      "<class 'pandas.core.frame.DataFrame'>\n",
      "RangeIndex: 4396 entries, 0 to 4395\n",
      "Data columns (total 10 columns):\n",
      " #   Column                   Non-Null Count  Dtype \n",
      "---  ------                   --------------  ----- \n",
      " 0   Profile Name             4396 non-null   object\n",
      " 1   Start Time               4396 non-null   object\n",
      " 2   Duration                 4396 non-null   object\n",
      " 3   Attributes               3075 non-null   object\n",
      " 4   Title                    4396 non-null   object\n",
      " 5   Supplemental Video Type  1926 non-null   object\n",
      " 6   Device Type              4396 non-null   object\n",
      " 7   Bookmark                 4396 non-null   object\n",
      " 8   Latest Bookmark          4396 non-null   object\n",
      " 9   Country                  4396 non-null   object\n",
      "dtypes: object(10)\n",
      "memory usage: 343.6+ KB\n"
     ]
    }
   ],
   "source": [
    "# Check the data types\n",
    "netflix_raw.info()"
   ]
  },
  {
   "cell_type": "code",
   "execution_count": 17,
   "metadata": {
    "ExecuteTime": {
     "end_time": "2021-02-10T17:26:23.544966Z",
     "start_time": "2021-02-10T17:26:23.531259Z"
    }
   },
   "outputs": [],
   "source": [
    "# Create column with year & month\n",
    "netflix_raw['Year Month'] = pd.to_datetime(netflix_raw['Start Time']).dt.to_period('M')"
   ]
  },
  {
   "cell_type": "code",
   "execution_count": 18,
   "metadata": {
    "ExecuteTime": {
     "end_time": "2021-02-10T17:26:23.561920Z",
     "start_time": "2021-02-10T17:26:23.546781Z"
    }
   },
   "outputs": [],
   "source": [
    "# Create column for duration in minutes\n",
    "netflix_raw['Duration (min)'] = netflix_raw['Duration'].str.split(':').apply(\n",
    "    lambda x: float(x[0]) * 60.0 + float(x[1]) + float(x[2]) / 60.0)"
   ]
  },
  {
   "cell_type": "code",
   "execution_count": 19,
   "metadata": {
    "ExecuteTime": {
     "end_time": "2021-02-10T17:26:23.578037Z",
     "start_time": "2021-02-10T17:26:23.563884Z"
    }
   },
   "outputs": [],
   "source": [
    "# Select data for only 2020\n",
    "netflix_2020 = netflix_raw[netflix_raw['Year Month'].dt.year == 2020]\n",
    "\n",
    "# Select data for only 2019\n",
    "netflix_2019 = netflix_raw[netflix_raw['Year Month'].dt.year == 2019]"
   ]
  },
  {
   "cell_type": "code",
   "execution_count": 20,
   "metadata": {
    "ExecuteTime": {
     "end_time": "2021-02-10T17:26:23.591044Z",
     "start_time": "2021-02-10T17:26:23.579020Z"
    }
   },
   "outputs": [],
   "source": [
    "# Sum duration per month for 2020\n",
    "netflix_2020_sum = netflix_2020.groupby(['Year Month']).sum()\n",
    "netflix_2020_sum['Duration (hours)'] = netflix_2020_sum['Duration (min)']/60.0\n",
    "netflix_2020_sum['Duration (days)'] = netflix_2020_sum['Duration (hours)']/24.0"
   ]
  },
  {
   "cell_type": "code",
   "execution_count": 21,
   "metadata": {
    "ExecuteTime": {
     "end_time": "2021-02-10T17:26:23.603960Z",
     "start_time": "2021-02-10T17:26:23.593543Z"
    }
   },
   "outputs": [],
   "source": [
    "# Sum duration per month for 2019\n",
    "netflix_2019_sum = netflix_2019.groupby(['Year Month']).sum()\n",
    "netflix_2019_sum['Duration (hours)'] = netflix_2019_sum['Duration (min)']/60.0\n",
    "netflix_2019_sum['Duration (days)'] = netflix_2019_sum['Duration (hours)']/24.0"
   ]
  },
  {
   "cell_type": "code",
   "execution_count": 22,
   "metadata": {
    "ExecuteTime": {
     "end_time": "2021-02-10T17:26:23.616253Z",
     "start_time": "2021-02-10T17:26:23.604956Z"
    }
   },
   "outputs": [],
   "source": [
    "# Add missing months with 0 for Duration fro 2019\n",
    "idx = pd.period_range(min(netflix_2019_sum.index), max(netflix_2019_sum.index))\n",
    "netflix_2019_sum = netflix_2019_sum.reindex(idx, fill_value=0)"
   ]
  },
  {
   "cell_type": "code",
   "execution_count": 23,
   "metadata": {
    "ExecuteTime": {
     "end_time": "2021-02-10T17:26:23.823458Z",
     "start_time": "2021-02-10T17:26:23.618662Z"
    }
   },
   "outputs": [
    {
     "data": {
      "image/png": "[encoded data removed]",
      "text/plain": [
       "<Figure size 1152x432 with 1 Axes>"
      ]
     },
     "metadata": {
      "needs_background": "light"
     },
     "output_type": "display_data"
    }
   ],
   "source": [
    "# Plot for 2020\n",
    "fig, ax = plt.subplots()\n",
    "fig.set_size_inches((16,6))\n",
    "\n",
    "# Create pallete for the barplot based on y-values\n",
    "pal = sns.color_palette(\"Greens_d\", len(netflix_2020_sum))\n",
    "rank = netflix_2020_sum['Duration (hours)'].argsort().argsort()\n",
    "\n",
    "# Use seaborn to draw a barplot\n",
    "sns.barplot(x=netflix_2020_sum.index,y='Duration (hours)',data=netflix_2020_sum,ax=ax, palette=np.array(pal[::-1])[rank])\n",
    "\n",
    "# Set the title\n",
    "ax.set_title('Netflix Activity 2020', fontsize=24)\n",
    "\n",
    "# Set the y limit\n",
    "ax.set_ylim([0, 80])\n",
    "\n",
    "# Add a horizontal line with the duration avg in hours\n",
    "ax.axhline(netflix_2020_sum['Duration (hours)'].mean(), ls='--', color = 'red')\n",
    "ax.text(0.3, 60,'AVG = ' + str(int(netflix_2020_sum['Duration (hours)'].mean())) + ' (hours)', \n",
    "        fontsize=18, color = 'red')\n",
    "plt.show()"
   ]
  },
  {
   "cell_type": "code",
   "execution_count": 24,
   "metadata": {
    "ExecuteTime": {
     "end_time": "2021-02-10T17:26:23.994174Z",
     "start_time": "2021-02-10T17:26:23.825451Z"
    }
   },
   "outputs": [
    {
     "data": {
      "image/png": "[encoded data removed]",
      "text/plain": [
       "<Figure size 1152x432 with 1 Axes>"
      ]
     },
     "metadata": {
      "needs_background": "light"
     },
     "output_type": "display_data"
    }
   ],
   "source": [
    "# Plot for 2019\n",
    "fig, ax = plt.subplots()\n",
    "fig.set_size_inches((16,6))\n",
    "\n",
    "# Create pallete for the barplot based on y-values\n",
    "pal = sns.color_palette(\"Greens_d\", len(netflix_2019_sum))\n",
    "rank = netflix_2019_sum['Duration (hours)'].argsort().argsort()\n",
    "\n",
    "# Use seaborn to draw a barplot\n",
    "sns.barplot(x=netflix_2019_sum.index,y='Duration (hours)',data=netflix_2019_sum,ax=ax, palette=np.array(pal[::-1])[rank])\n",
    "\n",
    "# Set the title\n",
    "ax.set_title('Netflix Activity 2019', fontsize=24)\n",
    "\n",
    "# Set the y limit\n",
    "ax.set_ylim([0, 80])\n",
    "\n",
    "# Add a horizontal line with the duration avg in hours\n",
    "ax.axhline(netflix_2019_sum['Duration (hours)'].mean(), ls='--', color = 'red')\n",
    "ax.text(0.3, 60,'AVG = ' + str(int(netflix_2019_sum['Duration (hours)'].mean())) + ' (hours)', \n",
    "        fontsize=18, color = 'red')\n",
    "plt.show()"
   ]
  }
 ],
 "metadata": {
  "kernelspec": {
   "display_name": "Python 3",
   "language": "python",
   "name": "python3"
  },
  "language_info": {
   "codemirror_mode": {
    "name": "ipython",
    "version": 3
   },
   "file_extension": ".py",
   "mimetype": "text/x-python",
   "name": "python",
   "nbconvert_exporter": "python",
   "pygments_lexer": "ipython3",
   "version": "3.8.5"
  },
  "toc": {
   "base_numbering": 1,
   "nav_menu": {},
   "number_sections": true,
   "sideBar": true,
   "skip_h1_title": false,
   "title_cell": "Table of Contents",
   "title_sidebar": "Contents",
   "toc_cell": false,
   "toc_position": {},
   "toc_section_display": true,
   "toc_window_display": false
  },
  "varInspector": {
   "cols": {
    "lenName": 16,
    "lenType": 16,
    "lenVar": 40
   },
   "kernels_config": {
    "python": {
     "delete_cmd_postfix": "",
     "delete_cmd_prefix": "del ",
     "library": "var_list.py",
     "varRefreshCmd": "print(var_dic_list())"
    },
    "r": {
     "delete_cmd_postfix": ") ",
     "delete_cmd_prefix": "rm(",
     "library": "var_list.r",
     "varRefreshCmd": "cat(var_dic_list()) "
    }
   },
   "types_to_exclude": [
    "module",
    "function",
    "builtin_function_or_method",
    "instance",
    "_Feature"
   ],
   "window_display": false
  }
 },
 "nbformat": 4,
 "nbformat_minor": 4
}
