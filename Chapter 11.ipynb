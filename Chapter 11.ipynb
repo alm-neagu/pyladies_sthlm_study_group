{
 "cells": [
  {
   "cell_type": "markdown",
   "metadata": {},
   "source": [
    "# CHAPTER 11\n",
    "# Time Series\n",
    "- Time series data is an important form of structured data in many different fields, such as finance, economics, ecology, neuroscience, and physics. \n",
    "- Anything that is observed or measured at many points in time forms a **time series**. \n",
    "- Many time series are **fixed frequency**, which is to say that data points occur at **regular intervals** according to some rule, such as every 15 seconds, every 5 minutes, or once per month. \n",
    "- Time series can also be **irregular** without a fixed unit of time or offset between units.\n",
    "- **pandas** provides many built-in time series tools and data algorithms. \n",
    "- You can efficiently work with very large time series and easily slice and dice, aggregate, and resample irregular- and fixed-frequency time series."
   ]
  },
  {
   "cell_type": "markdown",
   "metadata": {},
   "source": [
    "## Date and Time Data Types and Tools\n",
    "- The Python standard library includes data types for date and time data, as well as calendar-related functionality. \n",
    "- The **datetime**, **time**, and **calendar** modules are the main places to start. \n",
    "- The **datetime.datetime** type, or simply datetime, is widely used.\n",
    "- **datetime** stores both the date and time down to the microsecond. \n",
    "- **timedelta** represents the temporal difference between two datetime objects."
   ]
  },
  {
   "cell_type": "code",
   "execution_count": 2,
   "metadata": {
    "ExecuteTime": {
     "end_time": "2021-03-10T16:59:37.463984Z",
     "start_time": "2021-03-10T16:59:36.491257Z"
    }
   },
   "outputs": [],
   "source": [
    "# Import libraries\n",
    "import pandas as pd\n",
    "import numpy as np\n",
    "import matplotlib.pyplot as plt\n",
    "from datetime import datetime\n",
    "from datetime import timedelta\n",
    "from dateutil.parser import parse"
   ]
  },
  {
   "cell_type": "code",
   "execution_count": 4,
   "metadata": {
    "ExecuteTime": {
     "end_time": "2021-03-10T16:59:52.545098Z",
     "start_time": "2021-03-10T16:59:52.539622Z"
    }
   },
   "outputs": [
    {
     "name": "stdout",
     "output_type": "stream",
     "text": [
      "2021-03-10 17:59:52.542611\n"
     ]
    }
   ],
   "source": [
    "# Get timestamp for now\n",
    "now = datetime.now()\n",
    "print(now)"
   ]
  },
  {
   "cell_type": "code",
   "execution_count": 5,
   "metadata": {
    "ExecuteTime": {
     "end_time": "2021-03-10T17:00:08.121091Z",
     "start_time": "2021-03-10T17:00:08.117680Z"
    }
   },
   "outputs": [
    {
     "data": {
      "text/plain": [
       "(2021, 3, 10)"
      ]
     },
     "execution_count": 5,
     "metadata": {},
     "output_type": "execute_result"
    }
   ],
   "source": [
    "# Get the year, month & day for now timestamp\n",
    "now.year, now.month, now.day"
   ]
  },
  {
   "cell_type": "code",
   "execution_count": 7,
   "metadata": {
    "ExecuteTime": {
     "end_time": "2021-03-10T17:00:29.272198Z",
     "start_time": "2021-03-10T17:00:29.267999Z"
    }
   },
   "outputs": [
    {
     "data": {
      "text/plain": [
       "926"
      ]
     },
     "execution_count": 7,
     "metadata": {},
     "output_type": "execute_result"
    }
   ],
   "source": [
    "# Timedelta between 2 datetime objects\n",
    "delta = datetime(2011, 1, 7) - datetime(2008, 6, 24, 8, 15)\n",
    "\n",
    "# Check the delta in days\n",
    "delta.days"
   ]
  },
  {
   "cell_type": "code",
   "execution_count": 8,
   "metadata": {
    "ExecuteTime": {
     "end_time": "2021-03-10T17:00:55.388773Z",
     "start_time": "2021-03-10T17:00:55.384700Z"
    }
   },
   "outputs": [
    {
     "data": {
      "text/plain": [
       "datetime.datetime(2011, 1, 19, 0, 0)"
      ]
     },
     "execution_count": 8,
     "metadata": {},
     "output_type": "execute_result"
    }
   ],
   "source": [
    "# Define a start date\n",
    "start = datetime(2011, 1, 7)\n",
    "\n",
    "# Add a timedelta to a datetime object\n",
    "start + timedelta(days=12)\n",
    "\n",
    "# timedelta?"
   ]
  },
  {
   "cell_type": "markdown",
   "metadata": {},
   "source": [
    "**TABLE**: Types in datetime module"
   ]
  },
  {
   "cell_type": "markdown",
   "metadata": {},
   "source": [
    "| Type                  | Description |\n",
    "| :---                  |    :----    |\n",
    "|date| Store calendar date (year, month, day) using the Gregorian calendar\n",
    "|time| Store time of day as hours, minutes, seconds, and microseconds\n",
    "|datetime| Stores both date and time\n",
    "|timedelta| Represents the difference between two datetime values (as days, seconds, and microseconds)\n",
    "|tzinfo| Base type for storing time zone information"
   ]
  },
  {
   "cell_type": "markdown",
   "metadata": {},
   "source": [
    "### Converting Between String and Datetime\n",
    "- You can format **datetime objects** and **pandas Timestamp** objects as strings using **str** or the **strftime** method, passing a format specification.\n",
    "- You can use these same format codes to convert strings to dates using date **time.strptime**.\n",
    "- **datetime.strptime** is a good way to parse a date with a known format. \n",
    "- However, it can be a bit annoying to have to write a format spec each time, especially for common date formats. In this case, you can use the **parser.parse** method in the third-party **dateutil package** (this is installed automatically when you install pandas).\n",
    "- **dateutil** is capable of parsing most human-intelligible date representations. In international locales, day appearing before month is very common, so you can pass **dayfirst=True** to indicate this."
   ]
  },
  {
   "cell_type": "code",
   "execution_count": 9,
   "metadata": {
    "ExecuteTime": {
     "end_time": "2021-03-10T17:02:10.554941Z",
     "start_time": "2021-03-10T17:02:10.551773Z"
    }
   },
   "outputs": [
    {
     "data": {
      "text/plain": [
       "'2011-01-03 00:00:00'"
      ]
     },
     "execution_count": 9,
     "metadata": {},
     "output_type": "execute_result"
    }
   ],
   "source": [
    "# Create a datetime object\n",
    "stamp = datetime(2011, 1, 3)\n",
    "\n",
    "# Convert to string\n",
    "str(stamp)"
   ]
  },
  {
   "cell_type": "code",
   "execution_count": 10,
   "metadata": {
    "ExecuteTime": {
     "end_time": "2021-03-10T17:02:20.528528Z",
     "start_time": "2021-03-10T17:02:20.526536Z"
    }
   },
   "outputs": [
    {
     "data": {
      "text/plain": [
       "'2011-01-03'"
      ]
     },
     "execution_count": 10,
     "metadata": {},
     "output_type": "execute_result"
    }
   ],
   "source": [
    "# Convert to string with some formatting\n",
    "stamp.strftime('%Y-%m-%d')"
   ]
  },
  {
   "cell_type": "markdown",
   "metadata": {},
   "source": [
    "**TABLE**: Datetime format specification (ISO C89 compatible)"
   ]
  },
  {
   "cell_type": "markdown",
   "metadata": {},
   "source": [
    "| Type                  | Description |\n",
    "| :---                  |    :----    |\n",
    "|%Y| Four-digit year\n",
    "|%y| Two-digit year\n",
    "|%m| Two-digit month [01, 12]\n",
    "|%d| Two-digit day [01, 31]\n",
    "|%H| Hour (24-hour clock) [00, 23]\n",
    "|%I| Hour (12-hour clock) [01, 12]\n",
    "|%M| Two-digit minute [00, 59]\n",
    "|%S| Second [00, 61] (seconds 60, 61 account for leap seconds)\n",
    "|%w| Weekday as integer [0 (Sunday), 6]\n",
    "|%U| Week number of the year [00, 53]; Sunday is considered the first day of the week, and days before the first Sunday of the year are “week 0”\n",
    "|%W| Week number of the year [00, 53]; Monday is considered the first day of the week, and days before the first Monday of the year are “week 0”\n",
    "|%z| UTC time zone offset as +HHMM or -HHMM; empty if time zone naive\n",
    "|%F| Shortcut for %Y-%m-%d (e.g., 2012-4-18)\n",
    "|%D| Shortcut for %m/%d/%y (e.g., 04/18/12)"
   ]
  },
  {
   "cell_type": "code",
   "execution_count": 11,
   "metadata": {
    "ExecuteTime": {
     "end_time": "2021-03-10T17:02:58.253739Z",
     "start_time": "2021-03-10T17:02:58.249826Z"
    }
   },
   "outputs": [
    {
     "data": {
      "text/plain": [
       "datetime.datetime(2011, 1, 3, 0, 0)"
      ]
     },
     "execution_count": 11,
     "metadata": {},
     "output_type": "execute_result"
    }
   ],
   "source": [
    "# Create a string\n",
    "value = '2011-01-03'\n",
    "\n",
    "# Convert string to datetime object\n",
    "datetime.strptime(value, '%Y-%m-%d')"
   ]
  },
  {
   "cell_type": "code",
   "execution_count": 12,
   "metadata": {
    "ExecuteTime": {
     "end_time": "2021-03-10T17:03:06.297174Z",
     "start_time": "2021-03-10T17:03:06.293599Z"
    }
   },
   "outputs": [
    {
     "data": {
      "text/plain": [
       "datetime.datetime(2011, 1, 3, 0, 0)"
      ]
     },
     "execution_count": 12,
     "metadata": {},
     "output_type": "execute_result"
    }
   ],
   "source": [
    "# Use parse method to convert string to datetime\n",
    "parse('2011-01-03')"
   ]
  },
  {
   "cell_type": "code",
   "execution_count": 13,
   "metadata": {
    "ExecuteTime": {
     "end_time": "2021-03-10T17:03:23.352371Z",
     "start_time": "2021-03-10T17:03:23.348432Z"
    }
   },
   "outputs": [
    {
     "data": {
      "text/plain": [
       "datetime.datetime(1997, 1, 31, 22, 45)"
      ]
     },
     "execution_count": 13,
     "metadata": {},
     "output_type": "execute_result"
    }
   ],
   "source": [
    "# Use parse method to convert string to datetime\n",
    "parse('Jan 31, 1997 10:45 PM')"
   ]
  },
  {
   "cell_type": "code",
   "execution_count": 14,
   "metadata": {
    "ExecuteTime": {
     "end_time": "2021-03-10T17:03:47.402256Z",
     "start_time": "2021-03-10T17:03:47.398668Z"
    }
   },
   "outputs": [
    {
     "data": {
      "text/plain": [
       "datetime.datetime(2011, 12, 6, 0, 0)"
      ]
     },
     "execution_count": 14,
     "metadata": {},
     "output_type": "execute_result"
    }
   ],
   "source": [
    "# Use parse method to convert string to datetime where day is first\n",
    "parse('6/12/2011', dayfirst=True)"
   ]
  },
  {
   "cell_type": "markdown",
   "metadata": {},
   "source": [
    "- **pandas** is generally oriented toward working with **arrays of dates**, whether used as an axis **index** or a **column** in a DataFrame. \n",
    "- The **to_datetime method** parses many different kinds of date representations. \n",
    "- Standard date formats like ISO 8601 can be parsed very quickly.\n",
    "- It also handles values that should be considered **missing** (None, empty string, etc.).\n",
    "- **NaT (Not a Time)** is pandas’s null value for timestamp data."
   ]
  },
  {
   "cell_type": "code",
   "execution_count": 15,
   "metadata": {
    "ExecuteTime": {
     "end_time": "2021-03-10T17:04:46.750782Z",
     "start_time": "2021-03-10T17:04:46.743392Z"
    }
   },
   "outputs": [
    {
     "data": {
      "text/plain": [
       "DatetimeIndex(['2011-07-06 12:00:00', '2011-08-06 00:00:00'], dtype='datetime64[ns]', freq=None)"
      ]
     },
     "execution_count": 15,
     "metadata": {},
     "output_type": "execute_result"
    }
   ],
   "source": [
    "# List of strings\n",
    "datestrs = ['2011-07-06 12:00:00', '2011-08-06 00:00:00']\n",
    "\n",
    "# Parse strings to DatetimeIndex\n",
    "pd.to_datetime(datestrs)"
   ]
  },
  {
   "cell_type": "code",
   "execution_count": 16,
   "metadata": {
    "ExecuteTime": {
     "end_time": "2021-03-10T17:04:59.836190Z",
     "start_time": "2021-03-10T17:04:59.829575Z"
    }
   },
   "outputs": [
    {
     "data": {
      "text/plain": [
       "DatetimeIndex(['2011-07-06 12:00:00', '2011-08-06 00:00:00', 'NaT'], dtype='datetime64[ns]', freq=None)"
      ]
     },
     "execution_count": 16,
     "metadata": {},
     "output_type": "execute_result"
    }
   ],
   "source": [
    "# Add missing data\n",
    "idx = pd.to_datetime(datestrs + [None])\n",
    "idx"
   ]
  },
  {
   "cell_type": "markdown",
   "metadata": {},
   "source": [
    "**TABLE**: Locale-specific date formatting"
   ]
  },
  {
   "cell_type": "markdown",
   "metadata": {},
   "source": [
    "| Type                  | Description |\n",
    "| :---                  |    :----    |\n",
    "|%a| Abbreviated weekday name\n",
    "|%A| Full weekday name\n",
    "|%b| Abbreviated month name\n",
    "|%B| Full month name\n",
    "|%c| Full date and time (e.g., ‘Tue 01 May 2012 04:20:57 PM’)\n",
    "|%p| Locale equivalent of AM or PM\n",
    "|%x| Locale-appropriate formatted date (e.g., in the United States, May 1, 2012 yields ’05/01/2012’)\n",
    "|%X| Locale-appropriate time (e.g., ’04:24:12 PM’)"
   ]
  },
  {
   "cell_type": "markdown",
   "metadata": {
    "ExecuteTime": {
     "end_time": "2021-02-11T09:21:55.450412Z",
     "start_time": "2021-02-11T09:21:55.426391Z"
    }
   },
   "source": [
    "## Time Series Basics\n",
    "- A basic kind of **time series** object in pandas is a Series indexed by timestamps, which is often represented external to pandas as Python strings or datetime objects."
   ]
  },
  {
   "cell_type": "code",
   "execution_count": 17,
   "metadata": {
    "ExecuteTime": {
     "end_time": "2021-03-10T17:05:32.584723Z",
     "start_time": "2021-03-10T17:05:32.573713Z"
    }
   },
   "outputs": [
    {
     "data": {
      "text/plain": [
       "2011-01-02    0.316251\n",
       "2011-01-05   -1.175562\n",
       "2011-01-07    1.487599\n",
       "2011-01-08   -0.577672\n",
       "2011-01-10   -0.417332\n",
       "2011-01-12    0.148312\n",
       "dtype: float64"
      ]
     },
     "execution_count": 17,
     "metadata": {},
     "output_type": "execute_result"
    }
   ],
   "source": [
    "# Create a list of dates\n",
    "dates = [datetime(2011, 1, 2), datetime(2011, 1, 5),\n",
    "         datetime(2011, 1, 7), datetime(2011, 1, 8), \n",
    "         datetime(2011, 1, 10), datetime(2011, 1, 12)]\n",
    "\n",
    "# Create a Series with dates a index\n",
    "ts = pd.Series(np.random.randn(6), index=dates)\n",
    "ts"
   ]
  },
  {
   "cell_type": "code",
   "execution_count": 18,
   "metadata": {
    "ExecuteTime": {
     "end_time": "2021-03-10T17:05:59.046905Z",
     "start_time": "2021-03-10T17:05:59.041641Z"
    }
   },
   "outputs": [
    {
     "data": {
      "text/plain": [
       "DatetimeIndex(['2011-01-02', '2011-01-05', '2011-01-07', '2011-01-08',\n",
       "               '2011-01-10', '2011-01-12'],\n",
       "              dtype='datetime64[ns]', freq=None)"
      ]
     },
     "execution_count": 18,
     "metadata": {},
     "output_type": "execute_result"
    }
   ],
   "source": [
    "# The datetime objects have been put in a DatetimeIndex\n",
    "ts.index"
   ]
  },
  {
   "cell_type": "code",
   "execution_count": 20,
   "metadata": {
    "ExecuteTime": {
     "end_time": "2021-03-10T17:06:54.734971Z",
     "start_time": "2021-03-10T17:06:54.728954Z"
    }
   },
   "outputs": [
    {
     "data": {
      "text/plain": [
       "2011-01-02    0.316251\n",
       "2011-01-07    1.487599\n",
       "2011-01-10   -0.417332\n",
       "dtype: float64"
      ]
     },
     "execution_count": 20,
     "metadata": {},
     "output_type": "execute_result"
    }
   ],
   "source": [
    "ts[::2]"
   ]
  },
  {
   "cell_type": "code",
   "execution_count": 19,
   "metadata": {
    "ExecuteTime": {
     "end_time": "2021-03-10T17:06:24.534139Z",
     "start_time": "2021-03-10T17:06:24.505120Z"
    }
   },
   "outputs": [
    {
     "data": {
      "text/plain": [
       "2011-01-02    0.632501\n",
       "2011-01-05         NaN\n",
       "2011-01-07    2.975199\n",
       "2011-01-08         NaN\n",
       "2011-01-10   -0.834664\n",
       "2011-01-12         NaN\n",
       "dtype: float64"
      ]
     },
     "execution_count": 19,
     "metadata": {},
     "output_type": "execute_result"
    }
   ],
   "source": [
    "# Arithmetic operations between differently indexed time series \n",
    "# automatically align on the dates\n",
    "ts + ts[::2]"
   ]
  },
  {
   "cell_type": "markdown",
   "metadata": {},
   "source": [
    "- **pandas** stores timestamps using NumPy’s **datetime64** data type at the nanosecond resolution.\n",
    "- Scalar values from a **DatetimeIndex** are pandas Timestamp objects.\n",
    "- A **Timestamp** can be substituted anywhere you would use a **datetime** object. \n",
    "- Additionally, it can store frequency information (if any) and understands how to do time zone conversions and other kinds of manipulations."
   ]
  },
  {
   "cell_type": "code",
   "execution_count": 21,
   "metadata": {
    "ExecuteTime": {
     "end_time": "2021-03-10T17:07:38.145180Z",
     "start_time": "2021-03-10T17:07:38.140003Z"
    }
   },
   "outputs": [
    {
     "data": {
      "text/plain": [
       "Timestamp('2011-01-02 00:00:00')"
      ]
     },
     "execution_count": 21,
     "metadata": {},
     "output_type": "execute_result"
    }
   ],
   "source": [
    "# Check first element in the Series index\n",
    "ts.index[0]"
   ]
  },
  {
   "cell_type": "markdown",
   "metadata": {},
   "source": [
    "### Indexing, Selection, Subsetting\n",
    "- **Time series** behaves like any other **pandas.Series** when you are indexing and selecting data based on label."
   ]
  },
  {
   "cell_type": "code",
   "execution_count": 22,
   "metadata": {
    "ExecuteTime": {
     "end_time": "2021-03-10T17:08:03.235759Z",
     "start_time": "2021-03-10T17:08:03.226997Z"
    }
   },
   "outputs": [
    {
     "data": {
      "text/plain": [
       "-0.41733217184983634"
      ]
     },
     "execution_count": 22,
     "metadata": {},
     "output_type": "execute_result"
    }
   ],
   "source": [
    "# You can also pass a string that is interpretable as a date\n",
    "ts['2011-01-10']"
   ]
  },
  {
   "cell_type": "code",
   "execution_count": 23,
   "metadata": {
    "ExecuteTime": {
     "end_time": "2021-03-10T17:08:08.672519Z",
     "start_time": "2021-03-10T17:08:08.662932Z"
    }
   },
   "outputs": [
    {
     "data": {
      "text/plain": [
       "2000-01-01    0.199497\n",
       "2000-01-02    1.466068\n",
       "2000-01-03   -0.517510\n",
       "2000-01-04   -0.107146\n",
       "2000-01-05    0.183423\n",
       "                ...   \n",
       "2002-09-22    0.206915\n",
       "2002-09-23   -0.592539\n",
       "2002-09-24   -0.719937\n",
       "2002-09-25   -2.080647\n",
       "2002-09-26   -0.336263\n",
       "Freq: D, Length: 1000, dtype: float64"
      ]
     },
     "execution_count": 23,
     "metadata": {},
     "output_type": "execute_result"
    }
   ],
   "source": [
    "# Create longer time series\n",
    "longer_ts = pd.Series(np.random.randn(1000),\n",
    "                      index=pd.date_range('1/1/2000', periods=1000))\n",
    "longer_ts"
   ]
  },
  {
   "cell_type": "code",
   "execution_count": 24,
   "metadata": {
    "ExecuteTime": {
     "end_time": "2021-03-10T17:08:25.829116Z",
     "start_time": "2021-03-10T17:08:25.818641Z"
    }
   },
   "outputs": [
    {
     "data": {
      "text/plain": [
       "2001-01-01    0.670695\n",
       "2001-01-02    0.181440\n",
       "2001-01-03    0.804703\n",
       "2001-01-04   -0.632145\n",
       "2001-01-05    0.435604\n",
       "                ...   \n",
       "2001-12-27   -1.730529\n",
       "2001-12-28    0.010479\n",
       "2001-12-29   -0.967225\n",
       "2001-12-30   -1.815692\n",
       "2001-12-31   -0.042385\n",
       "Freq: D, Length: 365, dtype: float64"
      ]
     },
     "execution_count": 24,
     "metadata": {},
     "output_type": "execute_result"
    }
   ],
   "source": [
    "# For long time series a year/ a year and month can be passed to easily select\n",
    "# slices of data\n",
    "\n",
    "longer_ts['2001']"
   ]
  },
  {
   "cell_type": "code",
   "execution_count": 25,
   "metadata": {
    "ExecuteTime": {
     "end_time": "2021-03-10T17:08:48.252420Z",
     "start_time": "2021-03-10T17:08:48.247611Z"
    }
   },
   "outputs": [
    {
     "data": {
      "text/plain": [
       "2011-01-07    1.487599\n",
       "2011-01-08   -0.577672\n",
       "2011-01-10   -0.417332\n",
       "2011-01-12    0.148312\n",
       "dtype: float64"
      ]
     },
     "execution_count": 25,
     "metadata": {},
     "output_type": "execute_result"
    }
   ],
   "source": [
    "# Slicing with datetime objects works as well\n",
    "ts[datetime(2011, 1, 7):]"
   ]
  },
  {
   "cell_type": "markdown",
   "metadata": {},
   "source": [
    "- Because most time series data is ordered **chronologically**, you can slice with timestamps not contained in a time series to perform a range query.\n",
    "- As before, you can pass either a string date, datetime, or timestamp. \n",
    "- **Remember** that slicing in this manner produces views on the source time series like slicing NumPy arrays. This means that no data is copied and modifications on the slice will be reflected in the original data.\n",
    "- There is an equivalent instance method, **truncate**, that slices a Series between two dates."
   ]
  },
  {
   "cell_type": "code",
   "execution_count": 26,
   "metadata": {
    "ExecuteTime": {
     "end_time": "2021-03-10T17:09:30.071357Z",
     "start_time": "2021-03-10T17:09:30.066172Z"
    }
   },
   "outputs": [
    {
     "data": {
      "text/plain": [
       "2011-01-02    0.316251\n",
       "2011-01-05   -1.175562\n",
       "2011-01-07    1.487599\n",
       "2011-01-08   -0.577672\n",
       "2011-01-10   -0.417332\n",
       "2011-01-12    0.148312\n",
       "dtype: float64"
      ]
     },
     "execution_count": 26,
     "metadata": {},
     "output_type": "execute_result"
    }
   ],
   "source": [
    "# Example time series\n",
    "ts"
   ]
  },
  {
   "cell_type": "code",
   "execution_count": 27,
   "metadata": {
    "ExecuteTime": {
     "end_time": "2021-03-10T17:09:49.379197Z",
     "start_time": "2021-03-10T17:09:49.371753Z"
    }
   },
   "outputs": [
    {
     "data": {
      "text/plain": [
       "2011-01-07    1.487599\n",
       "2011-01-08   -0.577672\n",
       "2011-01-10   -0.417332\n",
       "dtype: float64"
      ]
     },
     "execution_count": 27,
     "metadata": {},
     "output_type": "execute_result"
    }
   ],
   "source": [
    "# Slice using dates that are NOT contained in teh index\n",
    "ts['1/6/2011':'1/11/2011']"
   ]
  },
  {
   "cell_type": "code",
   "execution_count": 28,
   "metadata": {
    "ExecuteTime": {
     "end_time": "2021-03-10T17:10:00.233214Z",
     "start_time": "2021-03-10T17:10:00.227030Z"
    }
   },
   "outputs": [
    {
     "data": {
      "text/plain": [
       "2011-01-02    0.316251\n",
       "2011-01-05   -1.175562\n",
       "2011-01-07    1.487599\n",
       "2011-01-08   -0.577672\n",
       "dtype: float64"
      ]
     },
     "execution_count": 28,
     "metadata": {},
     "output_type": "execute_result"
    }
   ],
   "source": [
    "# Use truncate method to slice a time series\n",
    "ts.truncate(after='1/9/2011')"
   ]
  },
  {
   "cell_type": "code",
   "execution_count": 29,
   "metadata": {
    "ExecuteTime": {
     "end_time": "2021-03-10T17:10:07.567748Z",
     "start_time": "2021-03-10T17:10:07.550967Z"
    }
   },
   "outputs": [
    {
     "data": {
      "text/html": [
       "<div>\n",
       "<style scoped>\n",
       "    .dataframe tbody tr th:only-of-type {\n",
       "        vertical-align: middle;\n",
       "    }\n",
       "\n",
       "    .dataframe tbody tr th {\n",
       "        vertical-align: top;\n",
       "    }\n",
       "\n",
       "    .dataframe thead th {\n",
       "        text-align: right;\n",
       "    }\n",
       "</style>\n",
       "<table border=\"1\" class=\"dataframe\">\n",
       "  <thead>\n",
       "    <tr style=\"text-align: right;\">\n",
       "      <th></th>\n",
       "      <th>Colorado</th>\n",
       "      <th>Texas</th>\n",
       "      <th>New York</th>\n",
       "      <th>Ohio</th>\n",
       "    </tr>\n",
       "  </thead>\n",
       "  <tbody>\n",
       "    <tr>\n",
       "      <th>2001-05-02</th>\n",
       "      <td>0.488285</td>\n",
       "      <td>-0.064416</td>\n",
       "      <td>1.348638</td>\n",
       "      <td>-1.032363</td>\n",
       "    </tr>\n",
       "    <tr>\n",
       "      <th>2001-05-09</th>\n",
       "      <td>0.431879</td>\n",
       "      <td>-1.256545</td>\n",
       "      <td>0.071830</td>\n",
       "      <td>0.768037</td>\n",
       "    </tr>\n",
       "    <tr>\n",
       "      <th>2001-05-16</th>\n",
       "      <td>-2.127455</td>\n",
       "      <td>-0.454711</td>\n",
       "      <td>-0.235301</td>\n",
       "      <td>-0.098507</td>\n",
       "    </tr>\n",
       "    <tr>\n",
       "      <th>2001-05-23</th>\n",
       "      <td>1.435495</td>\n",
       "      <td>-1.142145</td>\n",
       "      <td>0.311294</td>\n",
       "      <td>0.000954</td>\n",
       "    </tr>\n",
       "    <tr>\n",
       "      <th>2001-05-30</th>\n",
       "      <td>-0.031143</td>\n",
       "      <td>-1.332736</td>\n",
       "      <td>1.309136</td>\n",
       "      <td>0.298314</td>\n",
       "    </tr>\n",
       "  </tbody>\n",
       "</table>\n",
       "</div>"
      ],
      "text/plain": [
       "            Colorado     Texas  New York      Ohio\n",
       "2001-05-02  0.488285 -0.064416  1.348638 -1.032363\n",
       "2001-05-09  0.431879 -1.256545  0.071830  0.768037\n",
       "2001-05-16 -2.127455 -0.454711 -0.235301 -0.098507\n",
       "2001-05-23  1.435495 -1.142145  0.311294  0.000954\n",
       "2001-05-30 -0.031143 -1.332736  1.309136  0.298314"
      ]
     },
     "execution_count": 29,
     "metadata": {},
     "output_type": "execute_result"
    }
   ],
   "source": [
    "# Same applies for DataFrames as well\n",
    "dates = pd.date_range('1/1/2000', periods=100, freq='W-WED')\n",
    "long_df = pd.DataFrame(np.random.randn(100, 4), index=dates, \n",
    "                       columns=['Colorado', 'Texas','New York', 'Ohio'])\n",
    "\n",
    "long_df.loc['5-2001']"
   ]
  },
  {
   "cell_type": "markdown",
   "metadata": {},
   "source": [
    "### Time Series with Duplicate Indices\n",
    "- In some applications, there may be multiple data observations falling on a particular timestamp.\n",
    "- We can tell that the **index** is not unique by checking its **is_unique** property.\n",
    "- Indexing into this type of time series will now either produce **scalar values** or **slices** depending on whether a timestamp is duplicated."
   ]
  },
  {
   "cell_type": "code",
   "execution_count": 30,
   "metadata": {
    "ExecuteTime": {
     "end_time": "2021-03-10T17:10:51.436169Z",
     "start_time": "2021-03-10T17:10:51.428539Z"
    }
   },
   "outputs": [
    {
     "data": {
      "text/plain": [
       "2000-01-01    0\n",
       "2000-01-02    1\n",
       "2000-01-02    2\n",
       "2000-01-02    3\n",
       "2000-01-03    4\n",
       "dtype: int32"
      ]
     },
     "execution_count": 30,
     "metadata": {},
     "output_type": "execute_result"
    }
   ],
   "source": [
    "# Example time series with duplicated dates\n",
    "dates = pd.DatetimeIndex(['1/1/2000', '1/2/2000', '1/2/2000',\n",
    "                          '1/2/2000', '1/3/2000'])\n",
    "dup_ts = pd.Series(np.arange(5), index=dates)\n",
    "dup_ts"
   ]
  },
  {
   "cell_type": "code",
   "execution_count": 31,
   "metadata": {
    "ExecuteTime": {
     "end_time": "2021-03-10T17:10:55.946726Z",
     "start_time": "2021-03-10T17:10:55.941613Z"
    }
   },
   "outputs": [
    {
     "data": {
      "text/plain": [
       "False"
      ]
     },
     "execution_count": 31,
     "metadata": {},
     "output_type": "execute_result"
    }
   ],
   "source": [
    "# Check if the index is unique\n",
    "dup_ts.index.is_unique"
   ]
  },
  {
   "cell_type": "code",
   "execution_count": 32,
   "metadata": {
    "ExecuteTime": {
     "end_time": "2021-03-10T17:11:11.585272Z",
     "start_time": "2021-03-10T17:11:11.579776Z"
    }
   },
   "outputs": [
    {
     "data": {
      "text/plain": [
       "4"
      ]
     },
     "execution_count": 32,
     "metadata": {},
     "output_type": "execute_result"
    }
   ],
   "source": [
    "# Indexing with unique dates will result in a scalar\n",
    "dup_ts['1/3/2000']"
   ]
  },
  {
   "cell_type": "code",
   "execution_count": 33,
   "metadata": {
    "ExecuteTime": {
     "end_time": "2021-03-10T17:11:16.411019Z",
     "start_time": "2021-03-10T17:11:16.403375Z"
    }
   },
   "outputs": [
    {
     "data": {
      "text/plain": [
       "2000-01-02    1\n",
       "2000-01-02    2\n",
       "2000-01-02    3\n",
       "dtype: int32"
      ]
     },
     "execution_count": 33,
     "metadata": {},
     "output_type": "execute_result"
    }
   ],
   "source": [
    "# Indexing with for rows with duplicate dates will result into a slice\n",
    "dup_ts['1/2/2000']"
   ]
  },
  {
   "cell_type": "code",
   "execution_count": 34,
   "metadata": {
    "ExecuteTime": {
     "end_time": "2021-03-10T17:11:30.672054Z",
     "start_time": "2021-03-10T17:11:30.663012Z"
    }
   },
   "outputs": [
    {
     "data": {
      "text/plain": [
       "2000-01-01    0\n",
       "2000-01-02    2\n",
       "2000-01-03    4\n",
       "dtype: int32"
      ]
     },
     "execution_count": 34,
     "metadata": {},
     "output_type": "execute_result"
    }
   ],
   "source": [
    "# Aggregate the data having non-unique timestamps\n",
    "grouped = dup_ts.groupby(level=0)\n",
    "grouped.mean()"
   ]
  },
  {
   "cell_type": "markdown",
   "metadata": {},
   "source": [
    "## Date Ranges, Frequencies, and Shifting\n",
    "- Generic time series in pandas are assumed to be **irregular** = they have no fixed frequency. \n",
    "- It’s often desirable to work relative to a fixed frequency, such as daily, monthly, or every 15 minutes, even if that means introducing missing values into a time series. \n",
    "- **pandas** has a full suite of standard time series frequencies and tools for resampling, inferring frequencies, and generating fixed-frequency date ranges. \n",
    "- You can convert the sample time series to be fixed daily frequency by calling **resample**."
   ]
  },
  {
   "cell_type": "code",
   "execution_count": 35,
   "metadata": {
    "ExecuteTime": {
     "end_time": "2021-03-10T17:12:36.385315Z",
     "start_time": "2021-03-10T17:12:36.379380Z"
    }
   },
   "outputs": [
    {
     "data": {
      "text/plain": [
       "2011-01-02    0.316251\n",
       "2011-01-05   -1.175562\n",
       "2011-01-07    1.487599\n",
       "2011-01-08   -0.577672\n",
       "2011-01-10   -0.417332\n",
       "2011-01-12    0.148312\n",
       "dtype: float64"
      ]
     },
     "execution_count": 35,
     "metadata": {},
     "output_type": "execute_result"
    }
   ],
   "source": [
    "# Example time series\n",
    "ts"
   ]
  },
  {
   "cell_type": "code",
   "execution_count": 36,
   "metadata": {
    "ExecuteTime": {
     "end_time": "2021-03-10T17:12:47.605548Z",
     "start_time": "2021-03-10T17:12:47.591725Z"
    }
   },
   "outputs": [
    {
     "data": {
      "text/plain": [
       "<pandas.core.resample.DatetimeIndexResampler object at 0x000001420CC63BB0>"
      ]
     },
     "execution_count": 36,
     "metadata": {},
     "output_type": "execute_result"
    }
   ],
   "source": [
    "# Convert the sample time series to be fixed daily frequency by calling resample\n",
    "resampler = ts.resample('D')\n",
    "resampler"
   ]
  },
  {
   "cell_type": "markdown",
   "metadata": {},
   "source": [
    "### Generating Date Ranges\n",
    "- **pandas.date_range** is responsible for generating a **DatetimeIndex** with an indicated length according to a particular frequency.\n",
    "- By default, **date_range** generates **daily** timestamps. \n",
    "- If you pass only a start or end date, you must pass a **number of periods** to generate."
   ]
  },
  {
   "cell_type": "code",
   "execution_count": 37,
   "metadata": {
    "ExecuteTime": {
     "end_time": "2021-03-10T17:13:39.423480Z",
     "start_time": "2021-03-10T17:13:39.416358Z"
    }
   },
   "outputs": [
    {
     "data": {
      "text/plain": [
       "DatetimeIndex(['2012-04-01', '2012-04-02', '2012-04-03', '2012-04-04',\n",
       "               '2012-04-05', '2012-04-06', '2012-04-07', '2012-04-08',\n",
       "               '2012-04-09', '2012-04-10', '2012-04-11', '2012-04-12',\n",
       "               '2012-04-13', '2012-04-14', '2012-04-15', '2012-04-16',\n",
       "               '2012-04-17', '2012-04-18', '2012-04-19', '2012-04-20',\n",
       "               '2012-04-21', '2012-04-22', '2012-04-23', '2012-04-24',\n",
       "               '2012-04-25', '2012-04-26', '2012-04-27', '2012-04-28',\n",
       "               '2012-04-29', '2012-04-30', '2012-05-01', '2012-05-02',\n",
       "               '2012-05-03', '2012-05-04', '2012-05-05', '2012-05-06',\n",
       "               '2012-05-07', '2012-05-08', '2012-05-09', '2012-05-10',\n",
       "               '2012-05-11', '2012-05-12', '2012-05-13', '2012-05-14',\n",
       "               '2012-05-15', '2012-05-16', '2012-05-17', '2012-05-18',\n",
       "               '2012-05-19', '2012-05-20', '2012-05-21', '2012-05-22',\n",
       "               '2012-05-23', '2012-05-24', '2012-05-25', '2012-05-26',\n",
       "               '2012-05-27', '2012-05-28', '2012-05-29', '2012-05-30',\n",
       "               '2012-05-31', '2012-06-01'],\n",
       "              dtype='datetime64[ns]', freq='D')"
      ]
     },
     "execution_count": 37,
     "metadata": {},
     "output_type": "execute_result"
    }
   ],
   "source": [
    "# Create a DatetimeIndex\n",
    "index = pd.date_range('2012-04-01', '2012-06-01')\n",
    "index"
   ]
  },
  {
   "cell_type": "code",
   "execution_count": 38,
   "metadata": {
    "ExecuteTime": {
     "end_time": "2021-03-10T17:13:59.049399Z",
     "start_time": "2021-03-10T17:13:59.043392Z"
    }
   },
   "outputs": [
    {
     "data": {
      "text/plain": [
       "DatetimeIndex(['2012-04-01', '2012-04-02', '2012-04-03', '2012-04-04',\n",
       "               '2012-04-05', '2012-04-06', '2012-04-07', '2012-04-08',\n",
       "               '2012-04-09', '2012-04-10', '2012-04-11', '2012-04-12',\n",
       "               '2012-04-13', '2012-04-14', '2012-04-15', '2012-04-16',\n",
       "               '2012-04-17', '2012-04-18', '2012-04-19', '2012-04-20'],\n",
       "              dtype='datetime64[ns]', freq='D')"
      ]
     },
     "execution_count": 38,
     "metadata": {},
     "output_type": "execute_result"
    }
   ],
   "source": [
    "# Create a DatetimeIndex\n",
    "pd.date_range(start='2012-04-01', periods=20)"
   ]
  },
  {
   "cell_type": "code",
   "execution_count": 39,
   "metadata": {
    "ExecuteTime": {
     "end_time": "2021-03-10T17:14:26.616086Z",
     "start_time": "2021-03-10T17:14:26.608720Z"
    }
   },
   "outputs": [
    {
     "data": {
      "text/plain": [
       "DatetimeIndex(['2021-01-29', '2021-02-26', '2021-03-31', '2021-04-30',\n",
       "               '2021-05-31', '2021-06-30', '2021-07-30', '2021-08-31',\n",
       "               '2021-09-30', '2021-10-29', '2021-11-30'],\n",
       "              dtype='datetime64[ns]', freq='BM')"
      ]
     },
     "execution_count": 39,
     "metadata": {},
     "output_type": "execute_result"
    }
   ],
   "source": [
    "# Create a date index containing the last business day of each month\n",
    "pd.date_range('2021-01-01', '2021-12-01', freq='BM')"
   ]
  },
  {
   "cell_type": "code",
   "execution_count": 40,
   "metadata": {
    "ExecuteTime": {
     "end_time": "2021-03-10T17:15:00.505690Z",
     "start_time": "2021-03-10T17:15:00.500944Z"
    }
   },
   "outputs": [
    {
     "data": {
      "text/plain": [
       "DatetimeIndex(['2012-05-02 12:56:31', '2012-05-03 12:56:31',\n",
       "               '2012-05-04 12:56:31', '2012-05-05 12:56:31',\n",
       "               '2012-05-06 12:56:31'],\n",
       "              dtype='datetime64[ns]', freq='D')"
      ]
     },
     "execution_count": 40,
     "metadata": {},
     "output_type": "execute_result"
    }
   ],
   "source": [
    "# date_range by default preserves the time of the start or end timestamp\n",
    "pd.date_range('2012-05-02 12:56:31', periods=5)"
   ]
  },
  {
   "cell_type": "code",
   "execution_count": 41,
   "metadata": {
    "ExecuteTime": {
     "end_time": "2021-03-10T17:15:22.445739Z",
     "start_time": "2021-03-10T17:15:22.440775Z"
    }
   },
   "outputs": [
    {
     "data": {
      "text/plain": [
       "DatetimeIndex(['2012-05-02', '2012-05-03', '2012-05-04', '2012-05-05',\n",
       "               '2012-05-06'],\n",
       "              dtype='datetime64[ns]', freq='D')"
      ]
     },
     "execution_count": 41,
     "metadata": {},
     "output_type": "execute_result"
    }
   ],
   "source": [
    "# Generate a set of timestamps normalized to midnight\n",
    "pd.date_range('2012-05-02 12:56:31', periods=5, normalize=True)"
   ]
  },
  {
   "cell_type": "markdown",
   "metadata": {},
   "source": [
    "**TABLE**: Base time series frequencies (not comprehensive)"
   ]
  },
  {
   "cell_type": "markdown",
   "metadata": {},
   "source": [
    "| Alias                  | Offset type |    Description |\n",
    "| :---                   |    :----    |       :----    |\n",
    "|D| Day| Calendar daily\n",
    "|B| BusinessDay| Business daily\n",
    "|H| Hour| Hourly\n",
    "|T or min| Minute| Minutely\n",
    "|S| Second| Secondly\n",
    "|L or ms| Milli| Millisecond (1/1,000 of 1 second)\n",
    "|U| Micro| Microsecond (1/1,000,000 of 1 second)\n",
    "|M| MonthEnd| Last calendar day of month\n",
    "|BM| BusinessMonthEnd| Last business day (weekday) of month\n",
    "|MS| MonthBegin| First calendar day of month\n",
    "|BMS| BusinessMonthBegin| First weekday of month\n",
    "|W-MON, W-TUE, ...| Week| Weekly on given day of week (MON, TUE, WED, THU, FRI, SAT, or SUN)\n",
    "|WOM-1MON, WOM-2MON, ...| WeekOfMonth| Generate weekly dates in the first, second, third, or fourth week of the month (e.g., WOM-3FRI for the third Friday of each month)\n",
    "|Q-JAN, Q-FEB, ...| QuarterEnd| Quarterly dates anchored on last calendar day of each month, for year ending in indicated month (JAN, FEB, MAR, APR, MAY, JUN, JUL, AUG, SEP, OCT, NOV, or DEC)\n",
    "|BQ-JAN, BQ-FEB, ...| BusinessQuarterEnd| Quarterly dates anchored on last weekday day of each month, for year ending in indicated month\n",
    "|QS-JAN, QS-FEB, ...| QuarterBegin| Quarterly dates anchored on first calendar day of each month, for year ending in indicated month\n",
    "|BQS-JAN, BQS-FEB, ...| BusinessQuarterBegin| Quarterly dates anchored on first weekday day of each month, for year ending in indicated month\n",
    "|A-JAN, A-FEB, ...| YearEnd| Annual dates anchored on last calendar day of given month (JAN, FEB, MAR, APR, MAY, JUN, JUL, AUG, SEP, OCT, NOV, or DEC)\n",
    "|BA-JAN, BA-FEB, ...| BusinessYearEnd| Annual dates anchored on last weekday of given  month\n",
    "|AS-JAN, AS-FEB, ...| YearBegin| Annual dates anchored on first day of given month\n",
    "|BAS-JAN, BAS-FEB, ...| BusinessYearBegin| Annual dates anchored on first weekday of given month"
   ]
  },
  {
   "cell_type": "markdown",
   "metadata": {},
   "source": [
    "### Frequencies and Date Offsets\n",
    "- **Frequencies** in pandas are composed of a base frequency and a multiplier. \n",
    "- Base frequencies are typically referred to by a string alias, like **'M'** for monthly or **'H'** for hourly. \n",
    "- For each base frequency, there is an object defined generally referred to as a date offset.\n",
    "- Some frequencies describe points in time that are not evenly spaced. \n",
    "- For example, 'M' (calendar month end) and 'BM' (last business/weekday of month) depend on the number of days in a month and, in the latter case, whether the month ends on a weekend or not. We refer to these as **anchored offsets**."
   ]
  },
  {
   "cell_type": "code",
   "execution_count": 42,
   "metadata": {
    "ExecuteTime": {
     "end_time": "2021-03-10T17:16:49.924128Z",
     "start_time": "2021-03-10T17:16:49.919583Z"
    }
   },
   "outputs": [
    {
     "data": {
      "text/plain": [
       "DatetimeIndex(['2000-01-01 00:00:00', '2000-01-01 04:00:00',\n",
       "               '2000-01-01 08:00:00', '2000-01-01 12:00:00',\n",
       "               '2000-01-01 16:00:00', '2000-01-01 20:00:00',\n",
       "               '2000-01-02 00:00:00', '2000-01-02 04:00:00',\n",
       "               '2000-01-02 08:00:00', '2000-01-02 12:00:00',\n",
       "               '2000-01-02 16:00:00', '2000-01-02 20:00:00',\n",
       "               '2000-01-03 00:00:00', '2000-01-03 04:00:00',\n",
       "               '2000-01-03 08:00:00', '2000-01-03 12:00:00',\n",
       "               '2000-01-03 16:00:00', '2000-01-03 20:00:00'],\n",
       "              dtype='datetime64[ns]', freq='4H')"
      ]
     },
     "execution_count": 42,
     "metadata": {},
     "output_type": "execute_result"
    }
   ],
   "source": [
    "# Create timeseries with dataoffset of 4 hours\n",
    "pd.date_range('2000-01-01', '2000-01-03 23:59', freq='4h')"
   ]
  },
  {
   "cell_type": "code",
   "execution_count": 43,
   "metadata": {
    "ExecuteTime": {
     "end_time": "2021-03-10T17:17:01.556743Z",
     "start_time": "2021-03-10T17:17:01.551529Z"
    }
   },
   "outputs": [
    {
     "data": {
      "text/plain": [
       "DatetimeIndex(['2000-01-01 00:00:00', '2000-01-01 01:30:00',\n",
       "               '2000-01-01 03:00:00', '2000-01-01 04:30:00',\n",
       "               '2000-01-01 06:00:00', '2000-01-01 07:30:00',\n",
       "               '2000-01-01 09:00:00', '2000-01-01 10:30:00',\n",
       "               '2000-01-01 12:00:00', '2000-01-01 13:30:00'],\n",
       "              dtype='datetime64[ns]', freq='90T')"
      ]
     },
     "execution_count": 43,
     "metadata": {},
     "output_type": "execute_result"
    }
   ],
   "source": [
    "# You can pass frequency strings like '1h30min'\n",
    "pd.date_range('2000-01-01', periods=10, freq='1h30min')"
   ]
  },
  {
   "cell_type": "markdown",
   "metadata": {},
   "source": [
    "#### Week of month dates\n",
    "- One useful frequency class is “week of month,” starting with **WOM**. \n",
    "- This enables you to get dates like the third Friday of each month."
   ]
  },
  {
   "cell_type": "code",
   "execution_count": 44,
   "metadata": {
    "ExecuteTime": {
     "end_time": "2021-03-10T17:17:38.413942Z",
     "start_time": "2021-03-10T17:17:38.408747Z"
    }
   },
   "outputs": [
    {
     "data": {
      "text/plain": [
       "[Timestamp('2020-01-17 00:00:00', freq='WOM-3FRI'),\n",
       " Timestamp('2020-02-21 00:00:00', freq='WOM-3FRI'),\n",
       " Timestamp('2020-03-20 00:00:00', freq='WOM-3FRI'),\n",
       " Timestamp('2020-04-17 00:00:00', freq='WOM-3FRI'),\n",
       " Timestamp('2020-05-15 00:00:00', freq='WOM-3FRI'),\n",
       " Timestamp('2020-06-19 00:00:00', freq='WOM-3FRI'),\n",
       " Timestamp('2020-07-17 00:00:00', freq='WOM-3FRI'),\n",
       " Timestamp('2020-08-21 00:00:00', freq='WOM-3FRI'),\n",
       " Timestamp('2020-09-18 00:00:00', freq='WOM-3FRI'),\n",
       " Timestamp('2020-10-16 00:00:00', freq='WOM-3FRI'),\n",
       " Timestamp('2020-11-20 00:00:00', freq='WOM-3FRI'),\n",
       " Timestamp('2020-12-18 00:00:00', freq='WOM-3FRI')]"
      ]
     },
     "execution_count": 44,
     "metadata": {},
     "output_type": "execute_result"
    }
   ],
   "source": [
    "# Dates for third Friday of each month\n",
    "rng = pd.date_range('2020-01-01', '2020-12-31', freq='WOM-3FRI')\n",
    "list(rng)"
   ]
  },
  {
   "cell_type": "markdown",
   "metadata": {},
   "source": [
    "### Shifting (Leading and Lagging) Data\n",
    "- **“Shifting”** refers to moving data **backward** and **forward** through time. \n",
    "- Both Series and DataFrame have a shift method for doing naive shifts forward or backward, leaving the index unmodified."
   ]
  },
  {
   "cell_type": "code",
   "execution_count": 45,
   "metadata": {
    "ExecuteTime": {
     "end_time": "2021-03-10T17:18:17.452109Z",
     "start_time": "2021-03-10T17:18:17.445778Z"
    }
   },
   "outputs": [
    {
     "data": {
      "text/plain": [
       "2000-01-31    0.162612\n",
       "2000-02-29   -0.558856\n",
       "2000-03-31   -0.230815\n",
       "2000-04-30   -0.744331\n",
       "Freq: M, dtype: float64"
      ]
     },
     "execution_count": 45,
     "metadata": {},
     "output_type": "execute_result"
    }
   ],
   "source": [
    "# Example timeseries\n",
    "ts = pd.Series(np.random.randn(4),\n",
    "               index=pd.date_range('1/1/2000', periods=4, freq='M'))\n",
    "ts"
   ]
  },
  {
   "cell_type": "code",
   "execution_count": 46,
   "metadata": {
    "ExecuteTime": {
     "end_time": "2021-03-10T17:18:30.816545Z",
     "start_time": "2021-03-10T17:18:30.811625Z"
    }
   },
   "outputs": [
    {
     "data": {
      "text/plain": [
       "2000-01-31         NaN\n",
       "2000-02-29         NaN\n",
       "2000-03-31    0.162612\n",
       "2000-04-30   -0.558856\n",
       "Freq: M, dtype: float64"
      ]
     },
     "execution_count": 46,
     "metadata": {},
     "output_type": "execute_result"
    }
   ],
   "source": [
    "# Shift data 2 rows forward - introducing 2 NaN rows at the beginning\n",
    "ts.shift(2)"
   ]
  },
  {
   "cell_type": "markdown",
   "metadata": {},
   "source": [
    "- A common use of shift is computing **percent changes** in a time series or multiple time series as DataFrame columns. This is expressed as:\n",
    "        ts / ts.shift(1) - 1\n",
    "- Because naive shifts leave the index unmodified, some data is discarded. \n",
    "- Thus if the **frequency** is known, it can be passed to **shift** to advance the timestamps instead of simply the data."
   ]
  },
  {
   "cell_type": "code",
   "execution_count": 47,
   "metadata": {
    "ExecuteTime": {
     "end_time": "2021-03-10T17:19:26.184089Z",
     "start_time": "2021-03-10T17:19:26.177750Z"
    }
   },
   "outputs": [
    {
     "data": {
      "text/plain": [
       "2000-03-31    0.162612\n",
       "2000-04-30   -0.558856\n",
       "2000-05-31   -0.230815\n",
       "2000-06-30   -0.744331\n",
       "Freq: M, dtype: float64"
      ]
     },
     "execution_count": 47,
     "metadata": {},
     "output_type": "execute_result"
    }
   ],
   "source": [
    "# USe shift to advance timestamps\n",
    "ts.shift(2, freq='M')"
   ]
  },
  {
   "cell_type": "markdown",
   "metadata": {},
   "source": [
    "## Time Zone Handling\n",
    "- **Coordinated universal time or UTC** is the current international standard. \n",
    "- Time zones are expressed as offsets from UTC. \n",
    "- For example, New York is four hours behind UTC during daylight saving time and five hours behind the rest of the year.\n",
    "- In Python, time zone information comes from the third-party **pytz library**, which exposes the Olson database, a compilation of world time zone information.\n",
    "- Localizing naive timestamps also checks for ambiguous or non-existent times around daylight saving time transitions."
   ]
  },
  {
   "cell_type": "code",
   "execution_count": 48,
   "metadata": {
    "ExecuteTime": {
     "end_time": "2021-03-10T17:20:31.925499Z",
     "start_time": "2021-03-10T17:20:31.667831Z"
    }
   },
   "outputs": [
    {
     "data": {
      "text/plain": [
       "['Africa/Abidjan',\n",
       " 'Africa/Accra',\n",
       " 'Africa/Addis_Ababa',\n",
       " 'Africa/Algiers',\n",
       " 'Africa/Asmara']"
      ]
     },
     "execution_count": 48,
     "metadata": {},
     "output_type": "execute_result"
    }
   ],
   "source": [
    "# Common timezones\n",
    "import pytz\n",
    "\n",
    "pytz.common_timezones[:5]"
   ]
  },
  {
   "cell_type": "code",
   "execution_count": 49,
   "metadata": {
    "ExecuteTime": {
     "end_time": "2021-03-10T17:20:48.579435Z",
     "start_time": "2021-03-10T17:20:48.571089Z"
    }
   },
   "outputs": [
    {
     "data": {
      "text/plain": [
       "<DstTzInfo 'America/New_York' LMT-1 day, 19:04:00 STD>"
      ]
     },
     "execution_count": 49,
     "metadata": {},
     "output_type": "execute_result"
    }
   ],
   "source": [
    "# To get a time zone object from pytz, use pytz.timezone\n",
    "tz = pytz.timezone('America/New_York')\n",
    "tz\n",
    "\n",
    "# Methods in pandas will accept either time zone names or these objects"
   ]
  },
  {
   "cell_type": "markdown",
   "metadata": {},
   "source": [
    "### Time Zone Localization and Conversion\n",
    "- By default, time series in pandas are **time zone naive** (no timezone defined).\n",
    "- Conversion from naive to localized is handled by the **tz_localize** method.\n",
    "- Once a time series has been localized to a particular time zone, it can be converted to another time zone with **tz_convert**.\n",
    "- **tz_localize** and **tz_convert** are also instance methods on DatetimeIndex."
   ]
  },
  {
   "cell_type": "code",
   "execution_count": 50,
   "metadata": {
    "ExecuteTime": {
     "end_time": "2021-03-10T17:21:27.069968Z",
     "start_time": "2021-03-10T17:21:27.065813Z"
    }
   },
   "outputs": [
    {
     "data": {
      "text/plain": [
       "2000-01-31    0.162612\n",
       "2000-02-29   -0.558856\n",
       "2000-03-31   -0.230815\n",
       "2000-04-30   -0.744331\n",
       "Freq: M, dtype: float64"
      ]
     },
     "execution_count": 50,
     "metadata": {},
     "output_type": "execute_result"
    }
   ],
   "source": [
    "# Example timeseries\n",
    "ts"
   ]
  },
  {
   "cell_type": "code",
   "execution_count": 51,
   "metadata": {
    "ExecuteTime": {
     "end_time": "2021-03-10T17:21:32.097181Z",
     "start_time": "2021-03-10T17:21:32.094481Z"
    }
   },
   "outputs": [
    {
     "name": "stdout",
     "output_type": "stream",
     "text": [
      "None\n"
     ]
    }
   ],
   "source": [
    "# The index’s tz field is None\n",
    "print(ts.index.tz)"
   ]
  },
  {
   "cell_type": "code",
   "execution_count": 52,
   "metadata": {
    "ExecuteTime": {
     "end_time": "2021-03-10T17:21:44.934983Z",
     "start_time": "2021-03-10T17:21:44.929783Z"
    }
   },
   "outputs": [
    {
     "data": {
      "text/plain": [
       "DatetimeIndex(['2012-03-09 09:30:00+00:00', '2012-03-10 09:30:00+00:00',\n",
       "               '2012-03-11 09:30:00+00:00', '2012-03-12 09:30:00+00:00',\n",
       "               '2012-03-13 09:30:00+00:00', '2012-03-14 09:30:00+00:00',\n",
       "               '2012-03-15 09:30:00+00:00', '2012-03-16 09:30:00+00:00',\n",
       "               '2012-03-17 09:30:00+00:00', '2012-03-18 09:30:00+00:00'],\n",
       "              dtype='datetime64[ns, UTC]', freq='D')"
      ]
     },
     "execution_count": 52,
     "metadata": {},
     "output_type": "execute_result"
    }
   ],
   "source": [
    "# Date ranges can be generated with a time zone set\n",
    "pd.date_range('3/9/2012 9:30', periods=10, freq='D', tz='UTC')"
   ]
  },
  {
   "cell_type": "code",
   "execution_count": 53,
   "metadata": {
    "ExecuteTime": {
     "end_time": "2021-03-10T17:21:57.768739Z",
     "start_time": "2021-03-10T17:21:57.764585Z"
    }
   },
   "outputs": [
    {
     "data": {
      "text/plain": [
       "2000-01-31 00:00:00+00:00    0.162612\n",
       "2000-02-29 00:00:00+00:00   -0.558856\n",
       "2000-03-31 00:00:00+00:00   -0.230815\n",
       "2000-04-30 00:00:00+00:00   -0.744331\n",
       "Freq: M, dtype: float64"
      ]
     },
     "execution_count": 53,
     "metadata": {},
     "output_type": "execute_result"
    }
   ],
   "source": [
    "# Convert from naive to localized\n",
    "ts_utc = ts.tz_localize('UTC')\n",
    "ts_utc"
   ]
  },
  {
   "cell_type": "code",
   "execution_count": 54,
   "metadata": {
    "ExecuteTime": {
     "end_time": "2021-03-10T17:22:03.867197Z",
     "start_time": "2021-03-10T17:22:03.860798Z"
    }
   },
   "outputs": [
    {
     "data": {
      "text/plain": [
       "2000-01-30 19:00:00-05:00    0.162612\n",
       "2000-02-28 19:00:00-05:00   -0.558856\n",
       "2000-03-30 19:00:00-05:00   -0.230815\n",
       "2000-04-29 20:00:00-04:00   -0.744331\n",
       "Freq: M, dtype: float64"
      ]
     },
     "execution_count": 54,
     "metadata": {},
     "output_type": "execute_result"
    }
   ],
   "source": [
    "# Convert from UTC to another timezone\n",
    "ts_utc.tz_convert('America/New_York')"
   ]
  },
  {
   "cell_type": "markdown",
   "metadata": {},
   "source": [
    "### Operations with Time Zone−Aware Timestamp Objects\n",
    "- Similar to time series and date ranges, individual Timestamp objects similarly can be localized from naive to time zone–aware and converted from one time zone to another.\n",
    "- Time zone–aware Timestamp objects internally store a UTC timestamp value as nanoseconds since the Unix epoch (January 1, 1970); this UTC value is invariant between time zone conversions.\n",
    "- When performing time arithmetic using pandas’s DateOffset objects, pandas respects daylight saving time transitions where possible."
   ]
  },
  {
   "cell_type": "code",
   "execution_count": 55,
   "metadata": {
    "ExecuteTime": {
     "end_time": "2021-03-10T17:22:33.248765Z",
     "start_time": "2021-03-10T17:22:33.244733Z"
    }
   },
   "outputs": [
    {
     "data": {
      "text/plain": [
       "Timestamp('2011-03-12 04:00:00')"
      ]
     },
     "execution_count": 55,
     "metadata": {},
     "output_type": "execute_result"
    }
   ],
   "source": [
    "# Create naive timestamp\n",
    "stamp = pd.Timestamp('2011-03-12 04:00')\n",
    "stamp"
   ]
  },
  {
   "cell_type": "code",
   "execution_count": 56,
   "metadata": {
    "ExecuteTime": {
     "end_time": "2021-03-10T17:22:40.441644Z",
     "start_time": "2021-03-10T17:22:40.437317Z"
    }
   },
   "outputs": [
    {
     "data": {
      "text/plain": [
       "Timestamp('2011-03-12 04:00:00+0000', tz='UTC')"
      ]
     },
     "execution_count": 56,
     "metadata": {},
     "output_type": "execute_result"
    }
   ],
   "source": [
    "# Timestamp localized from naive to timezone aware\n",
    "stamp_utc = stamp.tz_localize('utc')\n",
    "stamp_utc"
   ]
  },
  {
   "cell_type": "code",
   "execution_count": 57,
   "metadata": {
    "ExecuteTime": {
     "end_time": "2021-03-10T17:22:48.292054Z",
     "start_time": "2021-03-10T17:22:48.287567Z"
    }
   },
   "outputs": [
    {
     "data": {
      "text/plain": [
       "Timestamp('2011-03-11 23:00:00-0500', tz='America/New_York')"
      ]
     },
     "execution_count": 57,
     "metadata": {},
     "output_type": "execute_result"
    }
   ],
   "source": [
    "# Convert to another timezone\n",
    "stamp_utc.tz_convert('America/New_York')"
   ]
  },
  {
   "cell_type": "code",
   "execution_count": 58,
   "metadata": {
    "ExecuteTime": {
     "end_time": "2021-03-10T17:23:00.730058Z",
     "start_time": "2021-03-10T17:23:00.723628Z"
    }
   },
   "outputs": [
    {
     "data": {
      "text/plain": [
       "Timestamp('2011-03-12 04:00:00+0300', tz='Europe/Moscow')"
      ]
     },
     "execution_count": 58,
     "metadata": {},
     "output_type": "execute_result"
    }
   ],
   "source": [
    "# You can also pass a time zone when creating the Timestamp\n",
    "stamp_moscow = pd.Timestamp('2011-03-12 04:00', tz='Europe/Moscow')\n",
    "stamp_moscow"
   ]
  },
  {
   "cell_type": "code",
   "execution_count": 59,
   "metadata": {
    "ExecuteTime": {
     "end_time": "2021-03-10T17:23:14.223138Z",
     "start_time": "2021-03-10T17:23:14.220981Z"
    }
   },
   "outputs": [
    {
     "data": {
      "text/plain": [
       "1299902400000000000"
      ]
     },
     "execution_count": 59,
     "metadata": {},
     "output_type": "execute_result"
    }
   ],
   "source": [
    "# Nanoseconds since the Unix epoch (January 1, 1970)\n",
    "stamp_utc.value"
   ]
  },
  {
   "cell_type": "markdown",
   "metadata": {},
   "source": [
    "### Operations Between Different Time Zones\n",
    "- If two time series with different time zones are combined, the result will be **UTC**.\n",
    "- Since the timestamps are stored under the hood in UTC, this is a straightforward operation and requires no conversion to happen."
   ]
  },
  {
   "cell_type": "code",
   "execution_count": 60,
   "metadata": {
    "ExecuteTime": {
     "end_time": "2021-03-10T17:23:48.009503Z",
     "start_time": "2021-03-10T17:23:48.001889Z"
    }
   },
   "outputs": [
    {
     "data": {
      "text/plain": [
       "2012-03-07 09:30:00   -0.829683\n",
       "2012-03-08 09:30:00    3.071373\n",
       "2012-03-09 09:30:00   -0.746762\n",
       "2012-03-12 09:30:00    0.462006\n",
       "2012-03-13 09:30:00   -1.024568\n",
       "2012-03-14 09:30:00    0.849683\n",
       "2012-03-15 09:30:00   -1.202686\n",
       "2012-03-16 09:30:00    0.747057\n",
       "2012-03-19 09:30:00   -0.594617\n",
       "2012-03-20 09:30:00   -1.460926\n",
       "Freq: B, dtype: float64"
      ]
     },
     "execution_count": 60,
     "metadata": {},
     "output_type": "execute_result"
    }
   ],
   "source": [
    "# Example timeseries\n",
    "rng = pd.date_range('3/7/2012 9:30', periods=10, freq='B')\n",
    "ts = pd.Series(np.random.randn(len(rng)), index=rng)\n",
    "ts"
   ]
  },
  {
   "cell_type": "code",
   "execution_count": 61,
   "metadata": {
    "ExecuteTime": {
     "end_time": "2021-03-10T17:23:52.775437Z",
     "start_time": "2021-03-10T17:23:52.769620Z"
    }
   },
   "outputs": [],
   "source": [
    "# Create 2 timeseries with different timezones\n",
    "ts1 = ts[:7].tz_localize('Europe/London')\n",
    "ts2 = ts1[2:].tz_convert('Europe/Moscow')"
   ]
  },
  {
   "cell_type": "code",
   "execution_count": 62,
   "metadata": {
    "ExecuteTime": {
     "end_time": "2021-03-10T17:24:01.982153Z",
     "start_time": "2021-03-10T17:24:01.976482Z"
    }
   },
   "outputs": [
    {
     "data": {
      "text/plain": [
       "DatetimeIndex(['2012-03-07 09:30:00+00:00', '2012-03-08 09:30:00+00:00',\n",
       "               '2012-03-09 09:30:00+00:00', '2012-03-12 09:30:00+00:00',\n",
       "               '2012-03-13 09:30:00+00:00', '2012-03-14 09:30:00+00:00',\n",
       "               '2012-03-15 09:30:00+00:00'],\n",
       "              dtype='datetime64[ns, UTC]', freq=None)"
      ]
     },
     "execution_count": 62,
     "metadata": {},
     "output_type": "execute_result"
    }
   ],
   "source": [
    "# Sum of 2 timesiries with diffrent tz\n",
    "result = ts1 + ts2\n",
    "result.index"
   ]
  },
  {
   "cell_type": "markdown",
   "metadata": {},
   "source": [
    "## Periods and Period Arithmetic\n",
    "- **Periods** represent **timespans**, like days, months, quarters, or years. \n",
    "- The **Period class** represents this data type, requiring a string or integer and a frequency (TABLE: Base time series frequencies)."
   ]
  },
  {
   "cell_type": "code",
   "execution_count": 63,
   "metadata": {
    "ExecuteTime": {
     "end_time": "2021-03-10T17:25:05.411160Z",
     "start_time": "2021-03-10T17:25:05.406676Z"
    }
   },
   "outputs": [
    {
     "data": {
      "text/plain": [
       "Period('2007', 'A-DEC')"
      ]
     },
     "execution_count": 63,
     "metadata": {},
     "output_type": "execute_result"
    }
   ],
   "source": [
    "# Define a Period object\n",
    "p = pd.Period(2007, freq='A-DEC')\n",
    "p\n",
    "\n",
    "# The Period object represents the full timespan from January 1, 2007, to\n",
    "# December 31, 2007, inclusive."
   ]
  },
  {
   "cell_type": "code",
   "execution_count": 64,
   "metadata": {
    "ExecuteTime": {
     "end_time": "2021-03-10T17:25:14.007290Z",
     "start_time": "2021-03-10T17:25:14.002725Z"
    }
   },
   "outputs": [
    {
     "data": {
      "text/plain": [
       "Period('2012', 'A-DEC')"
      ]
     },
     "execution_count": 64,
     "metadata": {},
     "output_type": "execute_result"
    }
   ],
   "source": [
    "# Adding and subtracting integers from periods has the effect of shifting by their frequency\n",
    "p + 5"
   ]
  },
  {
   "cell_type": "code",
   "execution_count": 65,
   "metadata": {
    "ExecuteTime": {
     "end_time": "2021-03-10T17:25:29.812594Z",
     "start_time": "2021-03-10T17:25:29.808721Z"
    }
   },
   "outputs": [
    {
     "data": {
      "text/plain": [
       "<7 * YearEnds: month=12>"
      ]
     },
     "execution_count": 65,
     "metadata": {},
     "output_type": "execute_result"
    }
   ],
   "source": [
    "# If two periods have the same frequency, their difference is the number of units\n",
    "# between them\n",
    "pd.Period('2014', freq='A-DEC') - p"
   ]
  },
  {
   "cell_type": "code",
   "execution_count": 66,
   "metadata": {
    "ExecuteTime": {
     "end_time": "2021-03-10T17:25:44.730635Z",
     "start_time": "2021-03-10T17:25:44.726617Z"
    }
   },
   "outputs": [
    {
     "data": {
      "text/plain": [
       "PeriodIndex(['2000-01', '2000-02', '2000-03', '2000-04', '2000-05', '2000-06'], dtype='period[M]', freq='M')"
      ]
     },
     "execution_count": 66,
     "metadata": {},
     "output_type": "execute_result"
    }
   ],
   "source": [
    "# Regular ranges of periods can be constructed with the period_range function\n",
    "rng = pd.period_range('2000-01-01', '2000-06-30', freq='M')\n",
    "rng"
   ]
  },
  {
   "cell_type": "code",
   "execution_count": 67,
   "metadata": {
    "ExecuteTime": {
     "end_time": "2021-03-10T17:26:07.724857Z",
     "start_time": "2021-03-10T17:26:07.718825Z"
    }
   },
   "outputs": [
    {
     "data": {
      "text/plain": [
       "2000-01   -1.029425\n",
       "2000-02   -0.269905\n",
       "2000-03    0.693549\n",
       "2000-04    1.880703\n",
       "2000-05   -0.742301\n",
       "2000-06   -0.441203\n",
       "Freq: M, dtype: float64"
      ]
     },
     "execution_count": 67,
     "metadata": {},
     "output_type": "execute_result"
    }
   ],
   "source": [
    "# The PeriodIndex class stores a sequence of periods and can serve as an axis index in\n",
    "# any pandas data structure\n",
    "pd.Series(np.random.randn(6), index=rng)"
   ]
  },
  {
   "cell_type": "markdown",
   "metadata": {},
   "source": [
    "### Period Frequency Conversion\n",
    "- Periods and PeriodIndex objects can be converted to another frequency with their **asfreq method**."
   ]
  },
  {
   "cell_type": "code",
   "execution_count": 68,
   "metadata": {
    "ExecuteTime": {
     "end_time": "2021-03-10T17:26:33.648529Z",
     "start_time": "2021-03-10T17:26:33.643625Z"
    }
   },
   "outputs": [
    {
     "data": {
      "text/plain": [
       "Period('2007', 'A-DEC')"
      ]
     },
     "execution_count": 68,
     "metadata": {},
     "output_type": "execute_result"
    }
   ],
   "source": [
    "# Annual period defined above\n",
    "p"
   ]
  },
  {
   "cell_type": "code",
   "execution_count": 69,
   "metadata": {
    "ExecuteTime": {
     "end_time": "2021-03-10T17:26:40.808729Z",
     "start_time": "2021-03-10T17:26:40.804787Z"
    }
   },
   "outputs": [
    {
     "data": {
      "text/plain": [
       "Period('2007-01', 'M')"
      ]
     },
     "execution_count": 69,
     "metadata": {},
     "output_type": "execute_result"
    }
   ],
   "source": [
    "# Convert to monthly period\n",
    "p.asfreq('M', how='start')"
   ]
  },
  {
   "cell_type": "code",
   "execution_count": 70,
   "metadata": {
    "ExecuteTime": {
     "end_time": "2021-03-10T17:26:58.483391Z",
     "start_time": "2021-03-10T17:26:58.479062Z"
    }
   },
   "outputs": [
    {
     "data": {
      "text/plain": [
       "2006    0.681626\n",
       "2007    1.418011\n",
       "2008    0.500207\n",
       "2009    0.809783\n",
       "Freq: A-DEC, dtype: float64"
      ]
     },
     "execution_count": 70,
     "metadata": {},
     "output_type": "execute_result"
    }
   ],
   "source": [
    "# Whole PeriodIndex objects or time series can be similarly converted \n",
    "rng = pd.period_range('2006', '2009', freq='A-DEC')\n",
    "ts = pd.Series(np.random.randn(len(rng)), index=rng)\n",
    "ts"
   ]
  },
  {
   "cell_type": "code",
   "execution_count": 71,
   "metadata": {
    "ExecuteTime": {
     "end_time": "2021-03-10T17:27:08.191803Z",
     "start_time": "2021-03-10T17:27:08.185248Z"
    }
   },
   "outputs": [
    {
     "data": {
      "text/plain": [
       "2006-01    0.681626\n",
       "2007-01    1.418011\n",
       "2008-01    0.500207\n",
       "2009-01    0.809783\n",
       "Freq: M, dtype: float64"
      ]
     },
     "execution_count": 71,
     "metadata": {},
     "output_type": "execute_result"
    }
   ],
   "source": [
    "# Convert to monthly period\n",
    "ts.asfreq('M', how='start')\n",
    "\n",
    "# Annual periods are replaced with monthly periods corresponding to the first\n",
    "# month falling within each annual period"
   ]
  },
  {
   "cell_type": "markdown",
   "metadata": {},
   "source": [
    "### Quarterly Period Frequencies\n",
    "- Quarterly data is standard in accounting, finance, and other fields. \n",
    "- Much quarterly data is reported relative to a **fiscal year end**, typically the last calendar or business day of one of the 12 months of the year. \n",
    "- Thus, the **period 2012Q4** has a different meaning depending on fiscal year end. \n",
    "- **pandas** supports all 12 possible quarterly frequencies as **Q-JAN** through **Q-DEC**."
   ]
  },
  {
   "cell_type": "code",
   "execution_count": 72,
   "metadata": {
    "ExecuteTime": {
     "end_time": "2021-03-10T17:27:55.573354Z",
     "start_time": "2021-03-10T17:27:55.569627Z"
    }
   },
   "outputs": [
    {
     "data": {
      "text/plain": [
       "Period('2012Q4', 'Q-JAN')"
      ]
     },
     "execution_count": 72,
     "metadata": {},
     "output_type": "execute_result"
    }
   ],
   "source": [
    "# Example period\n",
    "p = pd.Period('2012Q4', freq='Q-JAN')\n",
    "p"
   ]
  },
  {
   "cell_type": "code",
   "execution_count": 73,
   "metadata": {
    "ExecuteTime": {
     "end_time": "2021-03-10T17:28:13.020098Z",
     "start_time": "2021-03-10T17:28:13.016572Z"
    }
   },
   "outputs": [
    {
     "data": {
      "text/plain": [
       "Period('2011-11-01', 'D')"
      ]
     },
     "execution_count": 73,
     "metadata": {},
     "output_type": "execute_result"
    }
   ],
   "source": [
    "# Convert to daily frequency\n",
    "p.asfreq('D', 'start')"
   ]
  },
  {
   "cell_type": "code",
   "execution_count": 74,
   "metadata": {
    "ExecuteTime": {
     "end_time": "2021-03-10T17:28:22.546154Z",
     "start_time": "2021-03-10T17:28:22.542508Z"
    }
   },
   "outputs": [
    {
     "data": {
      "text/plain": [
       "Period('2012-01-31', 'D')"
      ]
     },
     "execution_count": 74,
     "metadata": {},
     "output_type": "execute_result"
    }
   ],
   "source": [
    "# Convert to daily frequency\n",
    "p.asfreq('D', 'end')"
   ]
  },
  {
   "cell_type": "code",
   "execution_count": 75,
   "metadata": {
    "ExecuteTime": {
     "end_time": "2021-03-10T17:28:46.943804Z",
     "start_time": "2021-03-10T17:28:46.938798Z"
    }
   },
   "outputs": [
    {
     "data": {
      "text/plain": [
       "2011Q3    0\n",
       "2011Q4    1\n",
       "2012Q1    2\n",
       "2012Q2    3\n",
       "2012Q3    4\n",
       "2012Q4    5\n",
       "Freq: Q-JAN, dtype: int32"
      ]
     },
     "execution_count": 75,
     "metadata": {},
     "output_type": "execute_result"
    }
   ],
   "source": [
    "# You can generate quarterly ranges using period_range\n",
    "rng = pd.period_range('2011Q3', '2012Q4', freq='Q-JAN')\n",
    "ts = pd.Series(np.arange(len(rng)), index=rng)\n",
    "ts"
   ]
  },
  {
   "cell_type": "markdown",
   "metadata": {},
   "source": [
    "### Converting Timestamps to Periods (and Back)\n",
    "- Series and DataFrame objects indexed by timestamps can be converted to periods with the **to_period method**.\n",
    "- Since periods refer to non-overlapping timespans, a timestamp can only belong to a single period for a given frequency. \n",
    "- While the frequency of the new PeriodIndex is inferred from the timestamps by default, you can specify any frequency you want.\n",
    "- There is also no problem with having duplicate periods in the result.\n",
    "- To convert back to timestamps, use **to_timestamp**."
   ]
  },
  {
   "cell_type": "code",
   "execution_count": 76,
   "metadata": {
    "ExecuteTime": {
     "end_time": "2021-03-10T17:29:23.272021Z",
     "start_time": "2021-03-10T17:29:23.264796Z"
    }
   },
   "outputs": [
    {
     "data": {
      "text/plain": [
       "2000-01-31    2.528773\n",
       "2000-02-29   -0.981052\n",
       "2000-03-31   -0.594046\n",
       "Freq: M, dtype: float64"
      ]
     },
     "execution_count": 76,
     "metadata": {},
     "output_type": "execute_result"
    }
   ],
   "source": [
    "# Example timeseries\n",
    "rng = pd.date_range('2000-01-01', periods=3, freq='M')\n",
    "ts = pd.Series(np.random.randn(3), index=rng)\n",
    "ts"
   ]
  },
  {
   "cell_type": "code",
   "execution_count": 77,
   "metadata": {
    "ExecuteTime": {
     "end_time": "2021-03-10T17:29:30.916721Z",
     "start_time": "2021-03-10T17:29:30.911616Z"
    }
   },
   "outputs": [
    {
     "data": {
      "text/plain": [
       "2000-01    2.528773\n",
       "2000-02   -0.981052\n",
       "2000-03   -0.594046\n",
       "Freq: M, dtype: float64"
      ]
     },
     "execution_count": 77,
     "metadata": {},
     "output_type": "execute_result"
    }
   ],
   "source": [
    "# Convert to periods\n",
    "pts = ts.to_period()\n",
    "pts"
   ]
  },
  {
   "cell_type": "code",
   "execution_count": 78,
   "metadata": {
    "ExecuteTime": {
     "end_time": "2021-03-10T17:30:00.117285Z",
     "start_time": "2021-03-10T17:30:00.111137Z"
    }
   },
   "outputs": [
    {
     "data": {
      "text/plain": [
       "2000-01-29    0.395758\n",
       "2000-01-30   -1.256607\n",
       "2000-01-31    0.975175\n",
       "2000-02-01    0.192706\n",
       "2000-02-02   -0.242780\n",
       "2000-02-03   -0.061984\n",
       "Freq: D, dtype: float64"
      ]
     },
     "execution_count": 78,
     "metadata": {},
     "output_type": "execute_result"
    }
   ],
   "source": [
    "# Example timeseries\n",
    "rng = pd.date_range('1/29/2000', periods=6, freq='D')\n",
    "ts2 = pd.Series(np.random.randn(6), index=rng)\n",
    "ts2"
   ]
  },
  {
   "cell_type": "code",
   "execution_count": 79,
   "metadata": {
    "ExecuteTime": {
     "end_time": "2021-03-10T17:30:11.547657Z",
     "start_time": "2021-03-10T17:30:11.541606Z"
    }
   },
   "outputs": [
    {
     "data": {
      "text/plain": [
       "2000-01    0.395758\n",
       "2000-01   -1.256607\n",
       "2000-01    0.975175\n",
       "2000-02    0.192706\n",
       "2000-02   -0.242780\n",
       "2000-02   -0.061984\n",
       "Freq: M, dtype: float64"
      ]
     },
     "execution_count": 79,
     "metadata": {},
     "output_type": "execute_result"
    }
   ],
   "source": [
    "# Convert to_period\n",
    "ts2.to_period('M')"
   ]
  },
  {
   "cell_type": "markdown",
   "metadata": {},
   "source": [
    "### Creating a PeriodIndex from Arrays\n",
    "- Fixed frequency datasets are sometimes stored with timespan information spread across multiple columns."
   ]
  },
  {
   "cell_type": "code",
   "execution_count": 80,
   "metadata": {
    "ExecuteTime": {
     "end_time": "2021-03-10T17:30:34.238980Z",
     "start_time": "2021-03-10T17:30:34.209483Z"
    }
   },
   "outputs": [
    {
     "data": {
      "text/html": [
       "<div>\n",
       "<style scoped>\n",
       "    .dataframe tbody tr th:only-of-type {\n",
       "        vertical-align: middle;\n",
       "    }\n",
       "\n",
       "    .dataframe tbody tr th {\n",
       "        vertical-align: top;\n",
       "    }\n",
       "\n",
       "    .dataframe thead th {\n",
       "        text-align: right;\n",
       "    }\n",
       "</style>\n",
       "<table border=\"1\" class=\"dataframe\">\n",
       "  <thead>\n",
       "    <tr style=\"text-align: right;\">\n",
       "      <th></th>\n",
       "      <th>year</th>\n",
       "      <th>quarter</th>\n",
       "      <th>realgdp</th>\n",
       "      <th>realcons</th>\n",
       "      <th>realinv</th>\n",
       "      <th>realgovt</th>\n",
       "      <th>realdpi</th>\n",
       "      <th>cpi</th>\n",
       "      <th>m1</th>\n",
       "      <th>tbilrate</th>\n",
       "      <th>unemp</th>\n",
       "      <th>pop</th>\n",
       "      <th>infl</th>\n",
       "      <th>realint</th>\n",
       "    </tr>\n",
       "  </thead>\n",
       "  <tbody>\n",
       "    <tr>\n",
       "      <th>0</th>\n",
       "      <td>1959.0</td>\n",
       "      <td>1.0</td>\n",
       "      <td>2710.349</td>\n",
       "      <td>1707.4</td>\n",
       "      <td>286.898</td>\n",
       "      <td>470.045</td>\n",
       "      <td>1886.9</td>\n",
       "      <td>28.98</td>\n",
       "      <td>139.7</td>\n",
       "      <td>2.82</td>\n",
       "      <td>5.8</td>\n",
       "      <td>177.146</td>\n",
       "      <td>0.00</td>\n",
       "      <td>0.00</td>\n",
       "    </tr>\n",
       "    <tr>\n",
       "      <th>1</th>\n",
       "      <td>1959.0</td>\n",
       "      <td>2.0</td>\n",
       "      <td>2778.801</td>\n",
       "      <td>1733.7</td>\n",
       "      <td>310.859</td>\n",
       "      <td>481.301</td>\n",
       "      <td>1919.7</td>\n",
       "      <td>29.15</td>\n",
       "      <td>141.7</td>\n",
       "      <td>3.08</td>\n",
       "      <td>5.1</td>\n",
       "      <td>177.830</td>\n",
       "      <td>2.34</td>\n",
       "      <td>0.74</td>\n",
       "    </tr>\n",
       "    <tr>\n",
       "      <th>2</th>\n",
       "      <td>1959.0</td>\n",
       "      <td>3.0</td>\n",
       "      <td>2775.488</td>\n",
       "      <td>1751.8</td>\n",
       "      <td>289.226</td>\n",
       "      <td>491.260</td>\n",
       "      <td>1916.4</td>\n",
       "      <td>29.35</td>\n",
       "      <td>140.5</td>\n",
       "      <td>3.82</td>\n",
       "      <td>5.3</td>\n",
       "      <td>178.657</td>\n",
       "      <td>2.74</td>\n",
       "      <td>1.09</td>\n",
       "    </tr>\n",
       "    <tr>\n",
       "      <th>3</th>\n",
       "      <td>1959.0</td>\n",
       "      <td>4.0</td>\n",
       "      <td>2785.204</td>\n",
       "      <td>1753.7</td>\n",
       "      <td>299.356</td>\n",
       "      <td>484.052</td>\n",
       "      <td>1931.3</td>\n",
       "      <td>29.37</td>\n",
       "      <td>140.0</td>\n",
       "      <td>4.33</td>\n",
       "      <td>5.6</td>\n",
       "      <td>179.386</td>\n",
       "      <td>0.27</td>\n",
       "      <td>4.06</td>\n",
       "    </tr>\n",
       "    <tr>\n",
       "      <th>4</th>\n",
       "      <td>1960.0</td>\n",
       "      <td>1.0</td>\n",
       "      <td>2847.699</td>\n",
       "      <td>1770.5</td>\n",
       "      <td>331.722</td>\n",
       "      <td>462.199</td>\n",
       "      <td>1955.5</td>\n",
       "      <td>29.54</td>\n",
       "      <td>139.6</td>\n",
       "      <td>3.50</td>\n",
       "      <td>5.2</td>\n",
       "      <td>180.007</td>\n",
       "      <td>2.31</td>\n",
       "      <td>1.19</td>\n",
       "    </tr>\n",
       "  </tbody>\n",
       "</table>\n",
       "</div>"
      ],
      "text/plain": [
       "     year  quarter   realgdp  realcons  realinv  realgovt  realdpi    cpi  \\\n",
       "0  1959.0      1.0  2710.349    1707.4  286.898   470.045   1886.9  28.98   \n",
       "1  1959.0      2.0  2778.801    1733.7  310.859   481.301   1919.7  29.15   \n",
       "2  1959.0      3.0  2775.488    1751.8  289.226   491.260   1916.4  29.35   \n",
       "3  1959.0      4.0  2785.204    1753.7  299.356   484.052   1931.3  29.37   \n",
       "4  1960.0      1.0  2847.699    1770.5  331.722   462.199   1955.5  29.54   \n",
       "\n",
       "      m1  tbilrate  unemp      pop  infl  realint  \n",
       "0  139.7      2.82    5.8  177.146  0.00     0.00  \n",
       "1  141.7      3.08    5.1  177.830  2.34     0.74  \n",
       "2  140.5      3.82    5.3  178.657  2.74     1.09  \n",
       "3  140.0      4.33    5.6  179.386  0.27     4.06  \n",
       "4  139.6      3.50    5.2  180.007  2.31     1.19  "
      ]
     },
     "execution_count": 80,
     "metadata": {},
     "output_type": "execute_result"
    }
   ],
   "source": [
    "# Example dataset\n",
    "data = pd.read_csv('examples/macrodata.csv')\n",
    "data.head(5)\n",
    "\n",
    "# The year and quarter are in different columns"
   ]
  },
  {
   "cell_type": "code",
   "execution_count": 81,
   "metadata": {
    "ExecuteTime": {
     "end_time": "2021-03-10T17:31:10.141164Z",
     "start_time": "2021-03-10T17:31:10.136177Z"
    }
   },
   "outputs": [
    {
     "data": {
      "text/plain": [
       "PeriodIndex(['1959Q1', '1959Q2', '1959Q3', '1959Q4', '1960Q1', '1960Q2',\n",
       "             '1960Q3', '1960Q4', '1961Q1', '1961Q2',\n",
       "             ...\n",
       "             '2007Q2', '2007Q3', '2007Q4', '2008Q1', '2008Q2', '2008Q3',\n",
       "             '2008Q4', '2009Q1', '2009Q2', '2009Q3'],\n",
       "            dtype='period[Q-DEC]', length=203, freq='Q-DEC')"
      ]
     },
     "execution_count": 81,
     "metadata": {},
     "output_type": "execute_result"
    }
   ],
   "source": [
    "# By passing these arrays to PeriodIndex with a frequency, you can combine them to\n",
    "# form an index for the DataFrame\n",
    "index = pd.PeriodIndex(year=data.year, quarter=data.quarter,\n",
    "                       freq='Q-DEC')\n",
    "index"
   ]
  },
  {
   "cell_type": "code",
   "execution_count": 82,
   "metadata": {
    "ExecuteTime": {
     "end_time": "2021-03-10T17:31:21.609549Z",
     "start_time": "2021-03-10T17:31:21.594521Z"
    }
   },
   "outputs": [
    {
     "data": {
      "text/html": [
       "<div>\n",
       "<style scoped>\n",
       "    .dataframe tbody tr th:only-of-type {\n",
       "        vertical-align: middle;\n",
       "    }\n",
       "\n",
       "    .dataframe tbody tr th {\n",
       "        vertical-align: top;\n",
       "    }\n",
       "\n",
       "    .dataframe thead th {\n",
       "        text-align: right;\n",
       "    }\n",
       "</style>\n",
       "<table border=\"1\" class=\"dataframe\">\n",
       "  <thead>\n",
       "    <tr style=\"text-align: right;\">\n",
       "      <th></th>\n",
       "      <th>year</th>\n",
       "      <th>quarter</th>\n",
       "      <th>realgdp</th>\n",
       "      <th>realcons</th>\n",
       "      <th>realinv</th>\n",
       "      <th>realgovt</th>\n",
       "      <th>realdpi</th>\n",
       "      <th>cpi</th>\n",
       "      <th>m1</th>\n",
       "      <th>tbilrate</th>\n",
       "      <th>unemp</th>\n",
       "      <th>pop</th>\n",
       "      <th>infl</th>\n",
       "      <th>realint</th>\n",
       "    </tr>\n",
       "  </thead>\n",
       "  <tbody>\n",
       "    <tr>\n",
       "      <th>1959Q1</th>\n",
       "      <td>1959.0</td>\n",
       "      <td>1.0</td>\n",
       "      <td>2710.349</td>\n",
       "      <td>1707.4</td>\n",
       "      <td>286.898</td>\n",
       "      <td>470.045</td>\n",
       "      <td>1886.9</td>\n",
       "      <td>28.98</td>\n",
       "      <td>139.7</td>\n",
       "      <td>2.82</td>\n",
       "      <td>5.8</td>\n",
       "      <td>177.146</td>\n",
       "      <td>0.00</td>\n",
       "      <td>0.00</td>\n",
       "    </tr>\n",
       "    <tr>\n",
       "      <th>1959Q2</th>\n",
       "      <td>1959.0</td>\n",
       "      <td>2.0</td>\n",
       "      <td>2778.801</td>\n",
       "      <td>1733.7</td>\n",
       "      <td>310.859</td>\n",
       "      <td>481.301</td>\n",
       "      <td>1919.7</td>\n",
       "      <td>29.15</td>\n",
       "      <td>141.7</td>\n",
       "      <td>3.08</td>\n",
       "      <td>5.1</td>\n",
       "      <td>177.830</td>\n",
       "      <td>2.34</td>\n",
       "      <td>0.74</td>\n",
       "    </tr>\n",
       "    <tr>\n",
       "      <th>1959Q3</th>\n",
       "      <td>1959.0</td>\n",
       "      <td>3.0</td>\n",
       "      <td>2775.488</td>\n",
       "      <td>1751.8</td>\n",
       "      <td>289.226</td>\n",
       "      <td>491.260</td>\n",
       "      <td>1916.4</td>\n",
       "      <td>29.35</td>\n",
       "      <td>140.5</td>\n",
       "      <td>3.82</td>\n",
       "      <td>5.3</td>\n",
       "      <td>178.657</td>\n",
       "      <td>2.74</td>\n",
       "      <td>1.09</td>\n",
       "    </tr>\n",
       "    <tr>\n",
       "      <th>1959Q4</th>\n",
       "      <td>1959.0</td>\n",
       "      <td>4.0</td>\n",
       "      <td>2785.204</td>\n",
       "      <td>1753.7</td>\n",
       "      <td>299.356</td>\n",
       "      <td>484.052</td>\n",
       "      <td>1931.3</td>\n",
       "      <td>29.37</td>\n",
       "      <td>140.0</td>\n",
       "      <td>4.33</td>\n",
       "      <td>5.6</td>\n",
       "      <td>179.386</td>\n",
       "      <td>0.27</td>\n",
       "      <td>4.06</td>\n",
       "    </tr>\n",
       "    <tr>\n",
       "      <th>1960Q1</th>\n",
       "      <td>1960.0</td>\n",
       "      <td>1.0</td>\n",
       "      <td>2847.699</td>\n",
       "      <td>1770.5</td>\n",
       "      <td>331.722</td>\n",
       "      <td>462.199</td>\n",
       "      <td>1955.5</td>\n",
       "      <td>29.54</td>\n",
       "      <td>139.6</td>\n",
       "      <td>3.50</td>\n",
       "      <td>5.2</td>\n",
       "      <td>180.007</td>\n",
       "      <td>2.31</td>\n",
       "      <td>1.19</td>\n",
       "    </tr>\n",
       "  </tbody>\n",
       "</table>\n",
       "</div>"
      ],
      "text/plain": [
       "          year  quarter   realgdp  realcons  realinv  realgovt  realdpi  \\\n",
       "1959Q1  1959.0      1.0  2710.349    1707.4  286.898   470.045   1886.9   \n",
       "1959Q2  1959.0      2.0  2778.801    1733.7  310.859   481.301   1919.7   \n",
       "1959Q3  1959.0      3.0  2775.488    1751.8  289.226   491.260   1916.4   \n",
       "1959Q4  1959.0      4.0  2785.204    1753.7  299.356   484.052   1931.3   \n",
       "1960Q1  1960.0      1.0  2847.699    1770.5  331.722   462.199   1955.5   \n",
       "\n",
       "          cpi     m1  tbilrate  unemp      pop  infl  realint  \n",
       "1959Q1  28.98  139.7      2.82    5.8  177.146  0.00     0.00  \n",
       "1959Q2  29.15  141.7      3.08    5.1  177.830  2.34     0.74  \n",
       "1959Q3  29.35  140.5      3.82    5.3  178.657  2.74     1.09  \n",
       "1959Q4  29.37  140.0      4.33    5.6  179.386  0.27     4.06  \n",
       "1960Q1  29.54  139.6      3.50    5.2  180.007  2.31     1.19  "
      ]
     },
     "execution_count": 82,
     "metadata": {},
     "output_type": "execute_result"
    }
   ],
   "source": [
    "# Set the DataFrame's index\n",
    "data.index = index\n",
    "data.head()"
   ]
  },
  {
   "cell_type": "markdown",
   "metadata": {},
   "source": [
    "## Resampling and Frequency Conversion\n",
    "- **Resampling** refers to the process of converting a time series from one frequency to another. \n",
    "- Aggregating higher frequency data to lower frequency is called **downsampling**, while converting lower frequency to higher frequency is called **upsampling**. \n",
    "- Not all resampling falls into either of these categories; for example, converting W-WED (weekly on Wednesday) to W-FRI is neither upsampling nor downsampling.\n",
    "- **pandas** objects are equipped with a **resample method**, which is the workhorse function for all frequency conversion. \n",
    "- **resample** has a similar API to groupby; you call resample to group the data, then call an aggregation function.\n",
    "- **resample** is a flexible and high-performance method that can be used to process very large time series."
   ]
  },
  {
   "cell_type": "code",
   "execution_count": 83,
   "metadata": {
    "ExecuteTime": {
     "end_time": "2021-03-10T17:32:39.155868Z",
     "start_time": "2021-03-10T17:32:39.149064Z"
    }
   },
   "outputs": [
    {
     "data": {
      "text/plain": [
       "2000-01-01   -1.945322\n",
       "2000-01-02    0.324216\n",
       "2000-01-03    0.650842\n",
       "2000-01-04    1.689104\n",
       "2000-01-05    1.309030\n",
       "                ...   \n",
       "2000-04-05    1.646983\n",
       "2000-04-06    0.187008\n",
       "2000-04-07    0.151629\n",
       "2000-04-08    0.477474\n",
       "2000-04-09   -1.172666\n",
       "Freq: D, Length: 100, dtype: float64"
      ]
     },
     "execution_count": 83,
     "metadata": {},
     "output_type": "execute_result"
    }
   ],
   "source": [
    "# Example timeseries\n",
    "rng = pd.date_range('2000-01-01', periods=100, freq='D')\n",
    "ts = pd.Series(np.random.randn(len(rng)), index=rng)\n",
    "ts"
   ]
  },
  {
   "cell_type": "code",
   "execution_count": 84,
   "metadata": {
    "ExecuteTime": {
     "end_time": "2021-03-10T17:33:14.207653Z",
     "start_time": "2021-03-10T17:33:14.200167Z"
    }
   },
   "outputs": [
    {
     "data": {
      "text/plain": [
       "2000-01-31    0.295548\n",
       "2000-02-29   -0.147842\n",
       "2000-03-31    0.197198\n",
       "2000-04-30   -0.168672\n",
       "Freq: M, dtype: float64"
      ]
     },
     "execution_count": 84,
     "metadata": {},
     "output_type": "execute_result"
    }
   ],
   "source": [
    "# Resample to monthly & aggregate as mean\n",
    "ts.resample('M').mean()"
   ]
  },
  {
   "cell_type": "code",
   "execution_count": 85,
   "metadata": {
    "ExecuteTime": {
     "end_time": "2021-03-10T17:33:33.912752Z",
     "start_time": "2021-03-10T17:33:33.905716Z"
    }
   },
   "outputs": [
    {
     "data": {
      "text/plain": [
       "2000-01    0.295548\n",
       "2000-02   -0.147842\n",
       "2000-03    0.197198\n",
       "2000-04   -0.168672\n",
       "Freq: M, dtype: float64"
      ]
     },
     "execution_count": 85,
     "metadata": {},
     "output_type": "execute_result"
    }
   ],
   "source": [
    "# Resample as a period\n",
    "ts.resample('M', kind='period').mean()"
   ]
  },
  {
   "cell_type": "markdown",
   "metadata": {},
   "source": [
    "**TABLE**: Resample method arguments"
   ]
  },
  {
   "cell_type": "markdown",
   "metadata": {},
   "source": [
    "| Argument                  | Description |\n",
    "| :---                  |    :----    |\n",
    "|freq| String or DateOffset indicating desired resampled frequency (e.g., ‘M', ’5min', or Second(15))\n",
    "|axis| Axis to resample on; default axis=0\n",
    "|fill_method| How to interpolate when upsampling, as in 'ffill' or 'bfill'; by default does no interpolation\n",
    "|closed| In downsampling, which end of each interval is closed (inclusive), 'right' or 'left'\n",
    "|label| In downsampling, how to label the aggregated result, with the 'right' or 'left' bin edge (e.g., the 9:30 to 9:35 five-minute interval could be labeled 9:30 or 9:35)\n",
    "|loffset| Time adjustment to the bin labels, such as '-1s' / Second(-1) to shift the aggregate labels one second earlier limit When forward or backward filling, the maximum number of periods to fill\n",
    "|kind| Aggregate to periods ('period') or timestamps ('timestamp'); defaults to the type of index the time series has \n",
    "|convention| When resampling periods, the convention ('start' or 'end') for converting the low-frequency period to high frequency; defaults to 'end'"
   ]
  },
  {
   "cell_type": "markdown",
   "metadata": {},
   "source": [
    "### Downsampling\n",
    "- Aggregating data to a regular, lower frequency is a pretty normal time series task. \n",
    "- The data you’re aggregating doesn’t need to be fixed frequently; the desired frequency defines **bin edges** that are used to slice the time series into pieces to aggregate. \n",
    "- For example, to convert to monthly, 'M' or 'BM', you need to chop up the data into one-month intervals. Each interval is said to be half-open; a data point can only belong to one interval, and the union of the intervals must make up the whole time frame.\n",
    "- There are a couple things to think about when using resample to **downsample** data:\n",
    "    - Which side of each interval is closed\n",
    "    - How to label each aggregated bin, either with the start of the interval or the end"
   ]
  },
  {
   "cell_type": "code",
   "execution_count": 86,
   "metadata": {
    "ExecuteTime": {
     "end_time": "2021-03-10T17:34:40.438149Z",
     "start_time": "2021-03-10T17:34:40.431629Z"
    }
   },
   "outputs": [
    {
     "data": {
      "text/plain": [
       "2000-01-01 00:00:00     0\n",
       "2000-01-01 00:01:00     1\n",
       "2000-01-01 00:02:00     2\n",
       "2000-01-01 00:03:00     3\n",
       "2000-01-01 00:04:00     4\n",
       "2000-01-01 00:05:00     5\n",
       "2000-01-01 00:06:00     6\n",
       "2000-01-01 00:07:00     7\n",
       "2000-01-01 00:08:00     8\n",
       "2000-01-01 00:09:00     9\n",
       "2000-01-01 00:10:00    10\n",
       "2000-01-01 00:11:00    11\n",
       "Freq: T, dtype: int32"
      ]
     },
     "execution_count": 86,
     "metadata": {},
     "output_type": "execute_result"
    }
   ],
   "source": [
    "# One-minute data\n",
    "rng = pd.date_range('2000-01-01', periods=12, freq='T')\n",
    "ts = pd.Series(np.arange(12), index=rng)\n",
    "ts"
   ]
  },
  {
   "cell_type": "code",
   "execution_count": 88,
   "metadata": {
    "ExecuteTime": {
     "end_time": "2021-03-10T17:35:34.163892Z",
     "start_time": "2021-03-10T17:35:34.156555Z"
    }
   },
   "outputs": [
    {
     "data": {
      "text/plain": [
       "2000-01-01 00:00:00    10\n",
       "2000-01-01 00:05:00    35\n",
       "2000-01-01 00:10:00    21\n",
       "Freq: 5T, dtype: int32"
      ]
     },
     "execution_count": 88,
     "metadata": {},
     "output_type": "execute_result"
    }
   ],
   "source": [
    "ts.resample('5min', closed='left').sum()"
   ]
  },
  {
   "cell_type": "code",
   "execution_count": 87,
   "metadata": {
    "ExecuteTime": {
     "end_time": "2021-03-10T17:35:07.453624Z",
     "start_time": "2021-03-10T17:35:07.444781Z"
    }
   },
   "outputs": [
    {
     "data": {
      "text/plain": [
       "1999-12-31 23:55:00     0\n",
       "2000-01-01 00:00:00    15\n",
       "2000-01-01 00:05:00    40\n",
       "2000-01-01 00:10:00    11\n",
       "Freq: 5T, dtype: int32"
      ]
     },
     "execution_count": 87,
     "metadata": {},
     "output_type": "execute_result"
    }
   ],
   "source": [
    "# Aggregate this data into five-minute chunks by taking the sum\n",
    "ts.resample('5min', closed='right').sum()"
   ]
  },
  {
   "cell_type": "markdown",
   "metadata": {},
   "source": [
    "- The **frequency** you pass defines bin edges in five-minute increments. \n",
    "- By default, the **left bin edge is inclusive**, so the 00:00 value is included in the 00:00 to 00:05 interval.\n",
    "- Passing **closed='right'** changes the interval to be closed on the right.\n",
    "- The resulting time series is labeled by the timestamps from the left side of each bin.\n",
    "- By passing **label='right'** you can label them with the right bin edge.\n",
    "- Lastly, you might want to shift the result index by some amount, say subtracting one second from the right edge to make it more clear which interval the timestamp refers to. To do this, pass a string or date offset to **loffset**."
   ]
  },
  {
   "cell_type": "code",
   "execution_count": null,
   "metadata": {
    "ExecuteTime": {
     "end_time": "2021-02-22T14:40:12.841491Z",
     "start_time": "2021-02-22T14:40:12.826485Z"
    }
   },
   "outputs": [],
   "source": [
    "# Resample to 5-min interval\n",
    "ts.resample('5min', closed='right', label='right').sum()"
   ]
  },
  {
   "cell_type": "markdown",
   "metadata": {},
   "source": [
    "#### Open-High-Low-Close (OHLC) resampling\n",
    "- In finance, a popular way to aggregate a time series is to compute four values for each bucket: the first (open), last (close), maximum (high), and minimal (low) values. \n",
    "- By using the **ohlc aggregate function** you will obtain a DataFrame having columns containing these four aggregates in one line of code."
   ]
  },
  {
   "cell_type": "code",
   "execution_count": 89,
   "metadata": {
    "ExecuteTime": {
     "end_time": "2021-03-10T17:36:34.847126Z",
     "start_time": "2021-03-10T17:36:34.837132Z"
    }
   },
   "outputs": [
    {
     "data": {
      "text/html": [
       "<div>\n",
       "<style scoped>\n",
       "    .dataframe tbody tr th:only-of-type {\n",
       "        vertical-align: middle;\n",
       "    }\n",
       "\n",
       "    .dataframe tbody tr th {\n",
       "        vertical-align: top;\n",
       "    }\n",
       "\n",
       "    .dataframe thead th {\n",
       "        text-align: right;\n",
       "    }\n",
       "</style>\n",
       "<table border=\"1\" class=\"dataframe\">\n",
       "  <thead>\n",
       "    <tr style=\"text-align: right;\">\n",
       "      <th></th>\n",
       "      <th>open</th>\n",
       "      <th>high</th>\n",
       "      <th>low</th>\n",
       "      <th>close</th>\n",
       "    </tr>\n",
       "  </thead>\n",
       "  <tbody>\n",
       "    <tr>\n",
       "      <th>2000-01-01 00:00:00</th>\n",
       "      <td>0</td>\n",
       "      <td>4</td>\n",
       "      <td>0</td>\n",
       "      <td>4</td>\n",
       "    </tr>\n",
       "    <tr>\n",
       "      <th>2000-01-01 00:05:00</th>\n",
       "      <td>5</td>\n",
       "      <td>9</td>\n",
       "      <td>5</td>\n",
       "      <td>9</td>\n",
       "    </tr>\n",
       "    <tr>\n",
       "      <th>2000-01-01 00:10:00</th>\n",
       "      <td>10</td>\n",
       "      <td>11</td>\n",
       "      <td>10</td>\n",
       "      <td>11</td>\n",
       "    </tr>\n",
       "  </tbody>\n",
       "</table>\n",
       "</div>"
      ],
      "text/plain": [
       "                     open  high  low  close\n",
       "2000-01-01 00:00:00     0     4    0      4\n",
       "2000-01-01 00:05:00     5     9    5      9\n",
       "2000-01-01 00:10:00    10    11   10     11"
      ]
     },
     "execution_count": 89,
     "metadata": {},
     "output_type": "execute_result"
    }
   ],
   "source": [
    "# Use the ohlc aggregate function\n",
    "ts.resample('5min').ohlc()"
   ]
  },
  {
   "cell_type": "markdown",
   "metadata": {},
   "source": [
    "### Upsampling and Interpolation\n",
    "- When converting from a low frequency to a higher frequency, no aggregation is needed.\n",
    "- We use the **asfreq method** to convert to the higher frequency without any aggregation."
   ]
  },
  {
   "cell_type": "code",
   "execution_count": 90,
   "metadata": {
    "ExecuteTime": {
     "end_time": "2021-03-10T17:37:03.194791Z",
     "start_time": "2021-03-10T17:37:03.186541Z"
    }
   },
   "outputs": [
    {
     "data": {
      "text/html": [
       "<div>\n",
       "<style scoped>\n",
       "    .dataframe tbody tr th:only-of-type {\n",
       "        vertical-align: middle;\n",
       "    }\n",
       "\n",
       "    .dataframe tbody tr th {\n",
       "        vertical-align: top;\n",
       "    }\n",
       "\n",
       "    .dataframe thead th {\n",
       "        text-align: right;\n",
       "    }\n",
       "</style>\n",
       "<table border=\"1\" class=\"dataframe\">\n",
       "  <thead>\n",
       "    <tr style=\"text-align: right;\">\n",
       "      <th></th>\n",
       "      <th>Colorado</th>\n",
       "      <th>Texas</th>\n",
       "      <th>New York</th>\n",
       "      <th>Ohio</th>\n",
       "    </tr>\n",
       "  </thead>\n",
       "  <tbody>\n",
       "    <tr>\n",
       "      <th>2000-01-05</th>\n",
       "      <td>1.156998</td>\n",
       "      <td>1.123107</td>\n",
       "      <td>-0.578008</td>\n",
       "      <td>0.592471</td>\n",
       "    </tr>\n",
       "    <tr>\n",
       "      <th>2000-01-12</th>\n",
       "      <td>0.765288</td>\n",
       "      <td>-0.213532</td>\n",
       "      <td>-0.692070</td>\n",
       "      <td>-0.830481</td>\n",
       "    </tr>\n",
       "  </tbody>\n",
       "</table>\n",
       "</div>"
      ],
      "text/plain": [
       "            Colorado     Texas  New York      Ohio\n",
       "2000-01-05  1.156998  1.123107 -0.578008  0.592471\n",
       "2000-01-12  0.765288 -0.213532 -0.692070 -0.830481"
      ]
     },
     "execution_count": 90,
     "metadata": {},
     "output_type": "execute_result"
    }
   ],
   "source": [
    "# Example timeseries\n",
    "frame = pd.DataFrame(np.random.randn(2, 4),\n",
    "                     index=pd.date_range('1/1/2000', periods=2,\n",
    "                                         freq='W-WED'),\n",
    "                     columns=['Colorado', 'Texas', 'New York', 'Ohio'])\n",
    "frame"
   ]
  },
  {
   "cell_type": "code",
   "execution_count": 91,
   "metadata": {
    "ExecuteTime": {
     "end_time": "2021-03-10T17:37:22.023645Z",
     "start_time": "2021-03-10T17:37:22.012441Z"
    }
   },
   "outputs": [
    {
     "data": {
      "text/html": [
       "<div>\n",
       "<style scoped>\n",
       "    .dataframe tbody tr th:only-of-type {\n",
       "        vertical-align: middle;\n",
       "    }\n",
       "\n",
       "    .dataframe tbody tr th {\n",
       "        vertical-align: top;\n",
       "    }\n",
       "\n",
       "    .dataframe thead th {\n",
       "        text-align: right;\n",
       "    }\n",
       "</style>\n",
       "<table border=\"1\" class=\"dataframe\">\n",
       "  <thead>\n",
       "    <tr style=\"text-align: right;\">\n",
       "      <th></th>\n",
       "      <th>Colorado</th>\n",
       "      <th>Texas</th>\n",
       "      <th>New York</th>\n",
       "      <th>Ohio</th>\n",
       "    </tr>\n",
       "  </thead>\n",
       "  <tbody>\n",
       "    <tr>\n",
       "      <th>2000-01-05</th>\n",
       "      <td>1.156998</td>\n",
       "      <td>1.123107</td>\n",
       "      <td>-0.578008</td>\n",
       "      <td>0.592471</td>\n",
       "    </tr>\n",
       "    <tr>\n",
       "      <th>2000-01-06</th>\n",
       "      <td>NaN</td>\n",
       "      <td>NaN</td>\n",
       "      <td>NaN</td>\n",
       "      <td>NaN</td>\n",
       "    </tr>\n",
       "    <tr>\n",
       "      <th>2000-01-07</th>\n",
       "      <td>NaN</td>\n",
       "      <td>NaN</td>\n",
       "      <td>NaN</td>\n",
       "      <td>NaN</td>\n",
       "    </tr>\n",
       "    <tr>\n",
       "      <th>2000-01-08</th>\n",
       "      <td>NaN</td>\n",
       "      <td>NaN</td>\n",
       "      <td>NaN</td>\n",
       "      <td>NaN</td>\n",
       "    </tr>\n",
       "    <tr>\n",
       "      <th>2000-01-09</th>\n",
       "      <td>NaN</td>\n",
       "      <td>NaN</td>\n",
       "      <td>NaN</td>\n",
       "      <td>NaN</td>\n",
       "    </tr>\n",
       "    <tr>\n",
       "      <th>2000-01-10</th>\n",
       "      <td>NaN</td>\n",
       "      <td>NaN</td>\n",
       "      <td>NaN</td>\n",
       "      <td>NaN</td>\n",
       "    </tr>\n",
       "    <tr>\n",
       "      <th>2000-01-11</th>\n",
       "      <td>NaN</td>\n",
       "      <td>NaN</td>\n",
       "      <td>NaN</td>\n",
       "      <td>NaN</td>\n",
       "    </tr>\n",
       "    <tr>\n",
       "      <th>2000-01-12</th>\n",
       "      <td>0.765288</td>\n",
       "      <td>-0.213532</td>\n",
       "      <td>-0.692070</td>\n",
       "      <td>-0.830481</td>\n",
       "    </tr>\n",
       "  </tbody>\n",
       "</table>\n",
       "</div>"
      ],
      "text/plain": [
       "            Colorado     Texas  New York      Ohio\n",
       "2000-01-05  1.156998  1.123107 -0.578008  0.592471\n",
       "2000-01-06       NaN       NaN       NaN       NaN\n",
       "2000-01-07       NaN       NaN       NaN       NaN\n",
       "2000-01-08       NaN       NaN       NaN       NaN\n",
       "2000-01-09       NaN       NaN       NaN       NaN\n",
       "2000-01-10       NaN       NaN       NaN       NaN\n",
       "2000-01-11       NaN       NaN       NaN       NaN\n",
       "2000-01-12  0.765288 -0.213532 -0.692070 -0.830481"
      ]
     },
     "execution_count": 91,
     "metadata": {},
     "output_type": "execute_result"
    }
   ],
   "source": [
    "# Resmaple to daily data\n",
    "df_daily = frame.resample('D').asfreq()\n",
    "df_daily\n",
    "\n",
    "# In this case there is only one value per group, and missing values result in the gaps"
   ]
  },
  {
   "cell_type": "code",
   "execution_count": 92,
   "metadata": {
    "ExecuteTime": {
     "end_time": "2021-03-10T17:37:39.599131Z",
     "start_time": "2021-03-10T17:37:39.587044Z"
    }
   },
   "outputs": [
    {
     "data": {
      "text/html": [
       "<div>\n",
       "<style scoped>\n",
       "    .dataframe tbody tr th:only-of-type {\n",
       "        vertical-align: middle;\n",
       "    }\n",
       "\n",
       "    .dataframe tbody tr th {\n",
       "        vertical-align: top;\n",
       "    }\n",
       "\n",
       "    .dataframe thead th {\n",
       "        text-align: right;\n",
       "    }\n",
       "</style>\n",
       "<table border=\"1\" class=\"dataframe\">\n",
       "  <thead>\n",
       "    <tr style=\"text-align: right;\">\n",
       "      <th></th>\n",
       "      <th>Colorado</th>\n",
       "      <th>Texas</th>\n",
       "      <th>New York</th>\n",
       "      <th>Ohio</th>\n",
       "    </tr>\n",
       "  </thead>\n",
       "  <tbody>\n",
       "    <tr>\n",
       "      <th>2000-01-05</th>\n",
       "      <td>1.156998</td>\n",
       "      <td>1.123107</td>\n",
       "      <td>-0.578008</td>\n",
       "      <td>0.592471</td>\n",
       "    </tr>\n",
       "    <tr>\n",
       "      <th>2000-01-06</th>\n",
       "      <td>1.156998</td>\n",
       "      <td>1.123107</td>\n",
       "      <td>-0.578008</td>\n",
       "      <td>0.592471</td>\n",
       "    </tr>\n",
       "    <tr>\n",
       "      <th>2000-01-07</th>\n",
       "      <td>1.156998</td>\n",
       "      <td>1.123107</td>\n",
       "      <td>-0.578008</td>\n",
       "      <td>0.592471</td>\n",
       "    </tr>\n",
       "    <tr>\n",
       "      <th>2000-01-08</th>\n",
       "      <td>NaN</td>\n",
       "      <td>NaN</td>\n",
       "      <td>NaN</td>\n",
       "      <td>NaN</td>\n",
       "    </tr>\n",
       "    <tr>\n",
       "      <th>2000-01-09</th>\n",
       "      <td>NaN</td>\n",
       "      <td>NaN</td>\n",
       "      <td>NaN</td>\n",
       "      <td>NaN</td>\n",
       "    </tr>\n",
       "    <tr>\n",
       "      <th>2000-01-10</th>\n",
       "      <td>NaN</td>\n",
       "      <td>NaN</td>\n",
       "      <td>NaN</td>\n",
       "      <td>NaN</td>\n",
       "    </tr>\n",
       "    <tr>\n",
       "      <th>2000-01-11</th>\n",
       "      <td>NaN</td>\n",
       "      <td>NaN</td>\n",
       "      <td>NaN</td>\n",
       "      <td>NaN</td>\n",
       "    </tr>\n",
       "    <tr>\n",
       "      <th>2000-01-12</th>\n",
       "      <td>0.765288</td>\n",
       "      <td>-0.213532</td>\n",
       "      <td>-0.692070</td>\n",
       "      <td>-0.830481</td>\n",
       "    </tr>\n",
       "  </tbody>\n",
       "</table>\n",
       "</div>"
      ],
      "text/plain": [
       "            Colorado     Texas  New York      Ohio\n",
       "2000-01-05  1.156998  1.123107 -0.578008  0.592471\n",
       "2000-01-06  1.156998  1.123107 -0.578008  0.592471\n",
       "2000-01-07  1.156998  1.123107 -0.578008  0.592471\n",
       "2000-01-08       NaN       NaN       NaN       NaN\n",
       "2000-01-09       NaN       NaN       NaN       NaN\n",
       "2000-01-10       NaN       NaN       NaN       NaN\n",
       "2000-01-11       NaN       NaN       NaN       NaN\n",
       "2000-01-12  0.765288 -0.213532 -0.692070 -0.830481"
      ]
     },
     "execution_count": 92,
     "metadata": {},
     "output_type": "execute_result"
    }
   ],
   "source": [
    "# Resample and forwrd fill\n",
    "frame.resample('D').ffill(limit=2)"
   ]
  },
  {
   "cell_type": "markdown",
   "metadata": {},
   "source": [
    "## Moving Window Functions\n",
    "- An important class of array transformations used for time series operations are **statistics** and other functions evaluated over a **sliding window** or with exponentially decaying weights. \n",
    "- This can be useful for smoothing noisy or gappy data. I call these **moving window functions**, even though it includes functions without a fixed-length window like exponentially weighted moving average. \n",
    "- Like other statistical functions, these also automatically exclude **missing data**."
   ]
  },
  {
   "cell_type": "code",
   "execution_count": 93,
   "metadata": {
    "ExecuteTime": {
     "end_time": "2021-03-10T17:39:10.721719Z",
     "start_time": "2021-03-10T17:39:10.664560Z"
    }
   },
   "outputs": [
    {
     "data": {
      "text/html": [
       "<div>\n",
       "<style scoped>\n",
       "    .dataframe tbody tr th:only-of-type {\n",
       "        vertical-align: middle;\n",
       "    }\n",
       "\n",
       "    .dataframe tbody tr th {\n",
       "        vertical-align: top;\n",
       "    }\n",
       "\n",
       "    .dataframe thead th {\n",
       "        text-align: right;\n",
       "    }\n",
       "</style>\n",
       "<table border=\"1\" class=\"dataframe\">\n",
       "  <thead>\n",
       "    <tr style=\"text-align: right;\">\n",
       "      <th></th>\n",
       "      <th>AAPL</th>\n",
       "      <th>MSFT</th>\n",
       "      <th>XOM</th>\n",
       "    </tr>\n",
       "  </thead>\n",
       "  <tbody>\n",
       "    <tr>\n",
       "      <th>2003-01-02</th>\n",
       "      <td>7.40</td>\n",
       "      <td>21.11</td>\n",
       "      <td>29.22</td>\n",
       "    </tr>\n",
       "    <tr>\n",
       "      <th>2003-01-03</th>\n",
       "      <td>7.45</td>\n",
       "      <td>21.14</td>\n",
       "      <td>29.24</td>\n",
       "    </tr>\n",
       "    <tr>\n",
       "      <th>2003-01-06</th>\n",
       "      <td>7.45</td>\n",
       "      <td>21.52</td>\n",
       "      <td>29.96</td>\n",
       "    </tr>\n",
       "    <tr>\n",
       "      <th>2003-01-07</th>\n",
       "      <td>7.43</td>\n",
       "      <td>21.93</td>\n",
       "      <td>28.95</td>\n",
       "    </tr>\n",
       "    <tr>\n",
       "      <th>2003-01-08</th>\n",
       "      <td>7.28</td>\n",
       "      <td>21.31</td>\n",
       "      <td>28.83</td>\n",
       "    </tr>\n",
       "  </tbody>\n",
       "</table>\n",
       "</div>"
      ],
      "text/plain": [
       "            AAPL   MSFT    XOM\n",
       "2003-01-02  7.40  21.11  29.22\n",
       "2003-01-03  7.45  21.14  29.24\n",
       "2003-01-06  7.45  21.52  29.96\n",
       "2003-01-07  7.43  21.93  28.95\n",
       "2003-01-08  7.28  21.31  28.83"
      ]
     },
     "execution_count": 93,
     "metadata": {},
     "output_type": "execute_result"
    }
   ],
   "source": [
    "# Load up some time series data and resample it to business day frequency\n",
    "close_px_all = pd.read_csv('examples/stock_px_2.csv', parse_dates=True, index_col=0)\n",
    "close_px = close_px_all[['AAPL', 'MSFT', 'XOM']]\n",
    "close_px = close_px.resample('B').ffill()\n",
    "close_px.head()"
   ]
  },
  {
   "cell_type": "markdown",
   "metadata": {},
   "source": [
    "**ROLLING OPERATOR**:\n",
    "- The **rolling operator**, which behaves similarly to resample and groupby can be called on a Series or DataFrame along with a window (expressed as a number of periods).\n",
    "- The expression **rolling(250)** is similar in behavior to groupby, but instead of grouping it creates an object that enables grouping over a 250-day sliding window. \n",
    "- So here we have the **250-day moving window average** of Apple’s stock price.\n",
    "- By default rolling functions require all of the values in the window to be non-NA.\n",
    "- This behavior can be changed to account for missing data and, in particular, the fact that you will have fewer than window periods of data at the beginning of the time.\n",
    "- The rolling function also accepts a **string** indicating a **fixed-size time offset** rather than a set number of periods. Using this notation can be useful for irregular time series. These are the same strings that you can pass to resample."
   ]
  },
  {
   "cell_type": "code",
   "execution_count": 94,
   "metadata": {
    "ExecuteTime": {
     "end_time": "2021-03-10T17:40:25.986628Z",
     "start_time": "2021-03-10T17:40:25.692966Z"
    }
   },
   "outputs": [
    {
     "data": {
      "text/plain": [
       "<AxesSubplot:>"
      ]
     },
     "execution_count": 94,
     "metadata": {},
     "output_type": "execute_result"
    },
    {
     "data": {
      "image/png": "[encoded data removed]",
      "text/plain": [
       "<Figure size 432x288 with 1 Axes>"
      ]
     },
     "metadata": {
      "needs_background": "light"
     },
     "output_type": "display_data"
    }
   ],
   "source": [
    "# Lineplot for AAPL index\n",
    "close_px.AAPL.plot()\n",
    "\n",
    "# Add the 250-day moving window average on the same graph\n",
    "close_px.AAPL.rolling(250).mean().plot()"
   ]
  },
  {
   "cell_type": "code",
   "execution_count": 95,
   "metadata": {
    "ExecuteTime": {
     "end_time": "2021-03-10T17:41:01.613911Z",
     "start_time": "2021-03-10T17:41:01.606169Z"
    }
   },
   "outputs": [
    {
     "data": {
      "text/plain": [
       "2003-01-09         NaN\n",
       "2003-01-10         NaN\n",
       "2003-01-13         NaN\n",
       "2003-01-14         NaN\n",
       "2003-01-15    0.077496\n",
       "2003-01-16    0.074760\n",
       "2003-01-17    0.112368\n",
       "Freq: B, Name: AAPL, dtype: float64"
      ]
     },
     "execution_count": 95,
     "metadata": {},
     "output_type": "execute_result"
    }
   ],
   "source": [
    "# Rolling window\n",
    "appl_std250 = close_px.AAPL.rolling(250, min_periods=10).std()\n",
    "appl_std250[5:12]"
   ]
  },
  {
   "cell_type": "code",
   "execution_count": 96,
   "metadata": {
    "ExecuteTime": {
     "end_time": "2021-03-10T17:41:08.900038Z",
     "start_time": "2021-03-10T17:41:08.678908Z"
    }
   },
   "outputs": [
    {
     "data": {
      "text/plain": [
       "<AxesSubplot:>"
      ]
     },
     "execution_count": 96,
     "metadata": {},
     "output_type": "execute_result"
    },
    {
     "data": {
      "image/png": "[encoded data removed]",
      "text/plain": [
       "<Figure size 432x288 with 1 Axes>"
      ]
     },
     "metadata": {
      "needs_background": "light"
     },
     "output_type": "display_data"
    }
   ],
   "source": [
    "# Plot for apple moving standard deviation\n",
    "appl_std250.plot()"
   ]
  },
  {
   "cell_type": "code",
   "execution_count": 97,
   "metadata": {
    "ExecuteTime": {
     "end_time": "2021-03-10T17:41:30.857058Z",
     "start_time": "2021-03-10T17:41:30.167847Z"
    }
   },
   "outputs": [
    {
     "data": {
      "text/plain": [
       "<AxesSubplot:>"
      ]
     },
     "execution_count": 97,
     "metadata": {},
     "output_type": "execute_result"
    },
    {
     "data": {
      "image/png": "[encoded data removed]",
      "text/plain": [
       "<Figure size 432x288 with 1 Axes>"
      ]
     },
     "metadata": {
      "needs_background": "light"
     },
     "output_type": "display_data"
    }
   ],
   "source": [
    "# Calling a moving window function on a DataFrame applies the transformation to\n",
    "# each column \n",
    "close_px.rolling(60).mean().plot(logy=True)"
   ]
  },
  {
   "cell_type": "code",
   "execution_count": 98,
   "metadata": {
    "ExecuteTime": {
     "end_time": "2021-03-10T17:41:40.849390Z",
     "start_time": "2021-03-10T17:41:40.835215Z"
    }
   },
   "outputs": [
    {
     "data": {
      "text/html": [
       "<div>\n",
       "<style scoped>\n",
       "    .dataframe tbody tr th:only-of-type {\n",
       "        vertical-align: middle;\n",
       "    }\n",
       "\n",
       "    .dataframe tbody tr th {\n",
       "        vertical-align: top;\n",
       "    }\n",
       "\n",
       "    .dataframe thead th {\n",
       "        text-align: right;\n",
       "    }\n",
       "</style>\n",
       "<table border=\"1\" class=\"dataframe\">\n",
       "  <thead>\n",
       "    <tr style=\"text-align: right;\">\n",
       "      <th></th>\n",
       "      <th>AAPL</th>\n",
       "      <th>MSFT</th>\n",
       "      <th>XOM</th>\n",
       "    </tr>\n",
       "  </thead>\n",
       "  <tbody>\n",
       "    <tr>\n",
       "      <th>2003-01-02</th>\n",
       "      <td>7.400000</td>\n",
       "      <td>21.110000</td>\n",
       "      <td>29.220000</td>\n",
       "    </tr>\n",
       "    <tr>\n",
       "      <th>2003-01-03</th>\n",
       "      <td>7.425000</td>\n",
       "      <td>21.125000</td>\n",
       "      <td>29.230000</td>\n",
       "    </tr>\n",
       "    <tr>\n",
       "      <th>2003-01-06</th>\n",
       "      <td>7.433333</td>\n",
       "      <td>21.256667</td>\n",
       "      <td>29.473333</td>\n",
       "    </tr>\n",
       "    <tr>\n",
       "      <th>2003-01-07</th>\n",
       "      <td>7.432500</td>\n",
       "      <td>21.425000</td>\n",
       "      <td>29.342500</td>\n",
       "    </tr>\n",
       "    <tr>\n",
       "      <th>2003-01-08</th>\n",
       "      <td>7.402000</td>\n",
       "      <td>21.402000</td>\n",
       "      <td>29.240000</td>\n",
       "    </tr>\n",
       "    <tr>\n",
       "      <th>...</th>\n",
       "      <td>...</td>\n",
       "      <td>...</td>\n",
       "      <td>...</td>\n",
       "    </tr>\n",
       "    <tr>\n",
       "      <th>2011-10-10</th>\n",
       "      <td>389.351429</td>\n",
       "      <td>25.602143</td>\n",
       "      <td>72.527857</td>\n",
       "    </tr>\n",
       "    <tr>\n",
       "      <th>2011-10-11</th>\n",
       "      <td>388.505000</td>\n",
       "      <td>25.674286</td>\n",
       "      <td>72.835000</td>\n",
       "    </tr>\n",
       "    <tr>\n",
       "      <th>2011-10-12</th>\n",
       "      <td>388.531429</td>\n",
       "      <td>25.810000</td>\n",
       "      <td>73.400714</td>\n",
       "    </tr>\n",
       "    <tr>\n",
       "      <th>2011-10-13</th>\n",
       "      <td>388.826429</td>\n",
       "      <td>25.961429</td>\n",
       "      <td>73.905000</td>\n",
       "    </tr>\n",
       "    <tr>\n",
       "      <th>2011-10-14</th>\n",
       "      <td>391.038000</td>\n",
       "      <td>26.048667</td>\n",
       "      <td>74.185333</td>\n",
       "    </tr>\n",
       "  </tbody>\n",
       "</table>\n",
       "<p>2292 rows × 3 columns</p>\n",
       "</div>"
      ],
      "text/plain": [
       "                  AAPL       MSFT        XOM\n",
       "2003-01-02    7.400000  21.110000  29.220000\n",
       "2003-01-03    7.425000  21.125000  29.230000\n",
       "2003-01-06    7.433333  21.256667  29.473333\n",
       "2003-01-07    7.432500  21.425000  29.342500\n",
       "2003-01-08    7.402000  21.402000  29.240000\n",
       "...                ...        ...        ...\n",
       "2011-10-10  389.351429  25.602143  72.527857\n",
       "2011-10-11  388.505000  25.674286  72.835000\n",
       "2011-10-12  388.531429  25.810000  73.400714\n",
       "2011-10-13  388.826429  25.961429  73.905000\n",
       "2011-10-14  391.038000  26.048667  74.185333\n",
       "\n",
       "[2292 rows x 3 columns]"
      ]
     },
     "execution_count": 98,
     "metadata": {},
     "output_type": "execute_result"
    }
   ],
   "source": [
    "# Compute a 20-day rolling mean\n",
    "close_px.rolling('20D').mean()"
   ]
  },
  {
   "cell_type": "markdown",
   "metadata": {},
   "source": [
    "### Exponentially Weighted Functions\n",
    "- An alternative to using a **static window size** with **equally weighted** observations is to specify a **constant decay factor** to give more weight to more recent observations.\n",
    "- There are a couple of ways to specify the decay factor. You can use a **span**, which makes the result comparable to a simple moving window function with window size equal to the span.\n",
    "- Since an exponentially weighted statistic places more weight on more recent observations, it “adapts” faster to changes compared with the equal-weighted version.\n",
    "- **pandas** has the **ewm** operator to go along with **rolling** and **expanding**."
   ]
  },
  {
   "cell_type": "code",
   "execution_count": 99,
   "metadata": {
    "ExecuteTime": {
     "end_time": "2021-03-10T17:42:39.699441Z",
     "start_time": "2021-03-10T17:42:39.456221Z"
    }
   },
   "outputs": [
    {
     "data": {
      "text/plain": [
       "<matplotlib.legend.Legend at 0x1420d3b0460>"
      ]
     },
     "execution_count": 99,
     "metadata": {},
     "output_type": "execute_result"
    },
    {
     "data": {
      "image/png": "[encoded data removed]",
      "text/plain": [
       "<Figure size 432x288 with 1 Axes>"
      ]
     },
     "metadata": {
      "needs_background": "light"
     },
     "output_type": "display_data"
    }
   ],
   "source": [
    "# Example comparing a 60-day moving average of Apple’s stock price with \n",
    "# an EW moving average with span=60\n",
    "aapl_px = close_px.AAPL['2006':'2007']\n",
    "ma60 = aapl_px.rolling(30, min_periods=20).mean()\n",
    "ewma60 = aapl_px.ewm(span=30).mean()\n",
    "\n",
    "ma60.plot(style='k--', label='Simple MA')\n",
    "ewma60.plot(style='k-', label='EW MA')\n",
    "plt.legend()"
   ]
  },
  {
   "cell_type": "markdown",
   "metadata": {},
   "source": [
    "### Binary Moving Window Functions\n",
    "- Some statistical operators, like **correlation and covariance**, need to operate on two time series. \n",
    "- As an example, financial analysts are often interested in a stock’s correlation to a benchmark index like the S&P 500."
   ]
  },
  {
   "cell_type": "code",
   "execution_count": 100,
   "metadata": {
    "ExecuteTime": {
     "end_time": "2021-03-10T17:43:17.536323Z",
     "start_time": "2021-03-10T17:43:17.530288Z"
    }
   },
   "outputs": [],
   "source": [
    "# Compute the percent change for all of our time series of interest\n",
    "spx_px = close_px_all['SPX']\n",
    "spx_rets = spx_px.pct_change()\n",
    "returns = close_px.pct_change()"
   ]
  },
  {
   "cell_type": "code",
   "execution_count": 101,
   "metadata": {
    "ExecuteTime": {
     "end_time": "2021-03-10T17:43:21.241597Z",
     "start_time": "2021-03-10T17:43:20.994692Z"
    }
   },
   "outputs": [
    {
     "data": {
      "text/plain": [
       "<AxesSubplot:>"
      ]
     },
     "execution_count": 101,
     "metadata": {},
     "output_type": "execute_result"
    },
    {
     "data": {
      "image/png": "[encoded data removed]",
      "text/plain": [
       "<Figure size 432x288 with 1 Axes>"
      ]
     },
     "metadata": {
      "needs_background": "light"
     },
     "output_type": "display_data"
    }
   ],
   "source": [
    "# The corr aggregation function after we call rolling can then compute the rolling\n",
    "# correlation with spx_rets \n",
    "corr = returns.AAPL.rolling(125, min_periods=100).corr(spx_rets)\n",
    "corr.plot()"
   ]
  },
  {
   "cell_type": "code",
   "execution_count": null,
   "metadata": {
    "ExecuteTime": {
     "end_time": "2021-02-22T14:46:28.295673Z",
     "start_time": "2021-02-22T14:46:28.036762Z"
    }
   },
   "outputs": [],
   "source": [
    "# rolling_corr will compute the correlation of the Series (spx_rets, in this case) \n",
    "# with each column in the DataFrame \n",
    "corr = returns.rolling(125, min_periods=100).corr(spx_rets)\n",
    "corr.plot()"
   ]
  },
  {
   "cell_type": "markdown",
   "metadata": {},
   "source": [
    "### User-Defined Moving Window Functions\n",
    "- The **apply method** on **rolling** and related methods provides a means to apply an array function of your own devising over a moving window. \n",
    "- The only requirement is that the function produce a single value (a reduction) from each piece of the array.\n",
    "- For example, we might be interested in the **percentile rank** of a particular value over the\n",
    "sample. The **scipy.stats.percentileofscore** function does just this."
   ]
  },
  {
   "cell_type": "code",
   "execution_count": 102,
   "metadata": {
    "ExecuteTime": {
     "end_time": "2021-03-10T17:44:34.871998Z",
     "start_time": "2021-03-10T17:44:33.792835Z"
    }
   },
   "outputs": [
    {
     "data": {
      "text/plain": [
       "<AxesSubplot:>"
      ]
     },
     "execution_count": 102,
     "metadata": {},
     "output_type": "execute_result"
    },
    {
     "data": {
      "image/png": "[encoded data removed]",
      "text/plain": [
       "<Figure size 432x288 with 1 Axes>"
      ]
     },
     "metadata": {
      "needs_background": "light"
     },
     "output_type": "display_data"
    }
   ],
   "source": [
    "# Import percentileofscore from scipy\n",
    "from scipy.stats import percentileofscore\n",
    "\n",
    "# Calculate the percentile rank\n",
    "score_at_2percent = lambda x: percentileofscore(x, 0.02)\n",
    "\n",
    "# Plot the results\n",
    "result = returns.AAPL.rolling(250).apply(score_at_2percent)\n",
    "result.plot()"
   ]
  },
  {
   "cell_type": "code",
   "execution_count": null,
   "metadata": {},
   "outputs": [],
   "source": []
  }
 ],
 "metadata": {
  "kernelspec": {
   "display_name": "Python 3",
   "language": "python",
   "name": "python3"
  },
  "language_info": {
   "codemirror_mode": {
    "name": "ipython",
    "version": 3
   },
   "file_extension": ".py",
   "mimetype": "text/x-python",
   "name": "python",
   "nbconvert_exporter": "python",
   "pygments_lexer": "ipython3",
   "version": "3.8.5"
  },
  "toc": {
   "base_numbering": 1,
   "nav_menu": {},
   "number_sections": true,
   "sideBar": true,
   "skip_h1_title": true,
   "title_cell": "Table of Contents",
   "title_sidebar": "Contents",
   "toc_cell": false,
   "toc_position": {
    "height": "47.3125px",
    "left": "1034px",
    "top": "110px",
    "width": "192px"
   },
   "toc_section_display": true,
   "toc_window_display": true
  },
  "varInspector": {
   "cols": {
    "lenName": 16,
    "lenType": 16,
    "lenVar": 40
   },
   "kernels_config": {
    "python": {
     "delete_cmd_postfix": "",
     "delete_cmd_prefix": "del ",
     "library": "var_list.py",
     "varRefreshCmd": "print(var_dic_list())"
    },
    "r": {
     "delete_cmd_postfix": ") ",
     "delete_cmd_prefix": "rm(",
     "library": "var_list.r",
     "varRefreshCmd": "cat(var_dic_list()) "
    }
   },
   "types_to_exclude": [
    "module",
    "function",
    "builtin_function_or_method",
    "instance",
    "_Feature"
   ],
   "window_display": false
  }
 },
 "nbformat": 4,
 "nbformat_minor": 2
}
