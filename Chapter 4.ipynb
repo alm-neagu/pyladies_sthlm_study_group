{
 "cells": [
  {
   "cell_type": "markdown",
   "metadata": {},
   "source": [
    "# CHAPTER 4\n",
    "# NumPy Basics: Arrays and Vectorized Computation\n",
    "This chapter will focus on:\n",
    "- Fast vectorized array operations for data munging and cleaning, subsetting and filtering, transformation, and any other kinds of computations\n",
    "- Common array algorithms like sorting, unique, and set operations\n",
    "- Efficient descriptive statistics and aggregating/summarizing data\n",
    "- Data alignment and relational data manipulations for merging and joining together heterogeneous datasets\n",
    "- Expressing conditional logic as array expressions instead of loops with if-elif-else branches\n",
    "- Group-wise data manipulations (aggregation, transformation, function application)"
   ]
  },
  {
   "cell_type": "markdown",
   "metadata": {},
   "source": [
    "## Why NumPy?\n",
    "- NumPy-based algorithms are generally **10 to 100 times faster** (or more) than their pure Python counterparts and use significantly less memory."
   ]
  },
  {
   "cell_type": "code",
   "execution_count": 12,
   "metadata": {
    "ExecuteTime": {
     "end_time": "2020-12-02T16:50:35.313464Z",
     "start_time": "2020-12-02T16:50:35.307483Z"
    }
   },
   "outputs": [],
   "source": [
    "# Import numpy library\n",
    "import numpy as np"
   ]
  },
  {
   "cell_type": "code",
   "execution_count": 13,
   "metadata": {
    "ExecuteTime": {
     "end_time": "2020-12-02T16:50:56.429197Z",
     "start_time": "2020-12-02T16:50:56.397317Z"
    }
   },
   "outputs": [],
   "source": [
    "# Test performance by comparing a NumPy array of one million integers, and the equivalent Python list\n",
    "\n",
    "# Create numpy array\n",
    "my_arr = np.arange(1000000)\n",
    "\n",
    "# Create list\n",
    "my_list = list(range(1000000))"
   ]
  },
  {
   "cell_type": "code",
   "execution_count": 14,
   "metadata": {
    "ExecuteTime": {
     "end_time": "2020-12-02T16:51:11.512139Z",
     "start_time": "2020-12-02T16:51:11.478198Z"
    }
   },
   "outputs": [],
   "source": [
    "# Multiply the numpy array by 2\n",
    "for _ in range(10):\n",
    "    my_arr2 = my_arr * 2"
   ]
  },
  {
   "cell_type": "code",
   "execution_count": 15,
   "metadata": {
    "ExecuteTime": {
     "end_time": "2020-12-02T16:51:19.075182Z",
     "start_time": "2020-12-02T16:51:17.987143Z"
    }
   },
   "outputs": [],
   "source": [
    "# Multiply the list by 2\n",
    "for _ in range(10):\n",
    "    my_list2 = [x * 2 for x in my_list]"
   ]
  },
  {
   "cell_type": "markdown",
   "metadata": {},
   "source": [
    "## The NumPy ndarray: A Multidimensional Array Object\n",
    "- Arrays enable you to perform mathematical operations on whole blocks of data using similar syntax to the equivalent operations between scalar elements.\n",
    "- Is best to **import numpy as np** as the numpy namespace is large and contains a number of functions whose names conflict with built-in Python functions (like min and max).\n",
    "- **ndarray** = is a generic multidimensional container for homogeneous data, so all of the elements must be the same type.\n",
    "- Every array has a **shape**, a tuple indicating the size of each dimension.\n",
    "- Every array has a **dtype**, an object describing the data type of the array."
   ]
  },
  {
   "cell_type": "code",
   "execution_count": 16,
   "metadata": {
    "ExecuteTime": {
     "end_time": "2020-12-02T16:53:02.208097Z",
     "start_time": "2020-12-02T16:53:02.181171Z"
    }
   },
   "outputs": [
    {
     "data": {
      "text/plain": [
       "array([[ 0.14781248, -0.69752278, -0.3461794 ],\n",
       "       [ 0.8337662 ,  0.07642072,  0.55757396]])"
      ]
     },
     "execution_count": 16,
     "metadata": {},
     "output_type": "execute_result"
    }
   ],
   "source": [
    "# Generate some random data\n",
    "data = np.random.randn(2,3)\n",
    "data"
   ]
  },
  {
   "cell_type": "code",
   "execution_count": 17,
   "metadata": {
    "ExecuteTime": {
     "end_time": "2020-12-02T16:53:10.061517Z",
     "start_time": "2020-12-02T16:53:10.056533Z"
    }
   },
   "outputs": [
    {
     "data": {
      "text/plain": [
       "(2, 3)"
      ]
     },
     "execution_count": 17,
     "metadata": {},
     "output_type": "execute_result"
    }
   ],
   "source": [
    "# Check the shape of an array\n",
    "data.shape"
   ]
  },
  {
   "cell_type": "code",
   "execution_count": 18,
   "metadata": {
    "ExecuteTime": {
     "end_time": "2020-12-02T16:53:20.634329Z",
     "start_time": "2020-12-02T16:53:20.629346Z"
    }
   },
   "outputs": [
    {
     "data": {
      "text/plain": [
       "dtype('float64')"
      ]
     },
     "execution_count": 18,
     "metadata": {},
     "output_type": "execute_result"
    }
   ],
   "source": [
    "# Check the type of the array\n",
    "data.dtype"
   ]
  },
  {
   "cell_type": "markdown",
   "metadata": {},
   "source": [
    "### Creating ndarrays\n",
    "**TABLE: Array creation functions**"
   ]
  },
  {
   "cell_type": "markdown",
   "metadata": {},
   "source": [
    "\n",
    "| Function                  | Description |\n",
    "| :---                  |    :----    |\n",
    "| array  | Convert input data (list, tuple, array, or other sequence type) to an ndarray either by inferring a dtype or explicitly specifying a dtype; copies the input data by default| \n",
    "| asarray | Convert input to ndarray, but do not copy if the input is already an ndarray|\n",
    "| arange            | Like the built-in range but returns an ndarray instead of a list|\n",
    "| ones, ones_like | Produce an array of all 1s with the given shape and dtype; ones_like takes another array and produces a ones array of the same shape and dtype|\n",
    "| zeros, zeros_like | Like ones and ones_like but producing arrays of 0s instead|\n",
    "| empty, empty_like | Create new arrays by allocating new memory, but do not populate with any values like ones and zeros| \n",
    "| full, full_like  | Produce an array of the given shape and dtype with all values set to the indicated “fill value” full_like takes another array and produces a filled array of the same shape and dtype| \n",
    "| eye, identity  | Create a square N × N identity matrix (1s on the diagonal and 0s elsewhere)| "
   ]
  },
  {
   "cell_type": "code",
   "execution_count": 19,
   "metadata": {
    "ExecuteTime": {
     "end_time": "2020-12-02T16:53:54.182031Z",
     "start_time": "2020-12-02T16:53:54.174053Z"
    }
   },
   "outputs": [
    {
     "data": {
      "text/plain": [
       "array([6. , 7.5, 8. , 0. , 1. ])"
      ]
     },
     "execution_count": 19,
     "metadata": {},
     "output_type": "execute_result"
    }
   ],
   "source": [
    "# Create an array using the array function\n",
    "data1 = [6, 7.5, 8, 0, 1]\n",
    "arr1 = np.array(data1)\n",
    "arr1"
   ]
  },
  {
   "cell_type": "code",
   "execution_count": 20,
   "metadata": {
    "ExecuteTime": {
     "end_time": "2020-12-02T16:54:23.589514Z",
     "start_time": "2020-12-02T16:54:23.584528Z"
    }
   },
   "outputs": [
    {
     "data": {
      "text/plain": [
       "dtype('float64')"
      ]
     },
     "execution_count": 20,
     "metadata": {},
     "output_type": "execute_result"
    }
   ],
   "source": [
    "# Unless explicitly specified np.array tries to infer a good data type for the array that it creates\n",
    "\n",
    "# Check the type of arr1\n",
    "arr1.dtype"
   ]
  },
  {
   "cell_type": "code",
   "execution_count": 21,
   "metadata": {
    "ExecuteTime": {
     "end_time": "2020-12-02T16:54:31.114046Z",
     "start_time": "2020-12-02T16:54:31.106065Z"
    }
   },
   "outputs": [
    {
     "data": {
      "text/plain": [
       "array([0., 0., 0., 0., 0., 0., 0., 0., 0., 0.])"
      ]
     },
     "execution_count": 21,
     "metadata": {},
     "output_type": "execute_result"
    }
   ],
   "source": [
    "# Functions zeros and ones create arrays of 0s or 1s, respectively, with a given length or shape\n",
    "np.zeros(10)"
   ]
  },
  {
   "cell_type": "code",
   "execution_count": 22,
   "metadata": {
    "ExecuteTime": {
     "end_time": "2020-12-02T16:54:35.098151Z",
     "start_time": "2020-12-02T16:54:35.091169Z"
    }
   },
   "outputs": [
    {
     "data": {
      "text/plain": [
       "array([[1., 1., 1., 1.],\n",
       "       [1., 1., 1., 1.],\n",
       "       [1., 1., 1., 1.]])"
      ]
     },
     "execution_count": 22,
     "metadata": {},
     "output_type": "execute_result"
    }
   ],
   "source": [
    "# Create a higher dimensional array using ones fucntion & passing a tuple for the shape\n",
    "np.ones((3,4))"
   ]
  },
  {
   "cell_type": "code",
   "execution_count": 13,
   "metadata": {
    "ExecuteTime": {
     "end_time": "2020-11-26T08:14:20.917826Z",
     "start_time": "2020-11-26T08:14:20.904829Z"
    }
   },
   "outputs": [
    {
     "data": {
      "text/plain": [
       "array([ 0,  1,  2,  3,  4,  5,  6,  7,  8,  9, 10, 11, 12, 13, 14, 15, 16,\n",
       "       17, 18, 19])"
      ]
     },
     "execution_count": 13,
     "metadata": {},
     "output_type": "execute_result"
    }
   ],
   "source": [
    "# The function arange is an array-valued version of the built-in Python range function\n",
    "np.arange(20)"
   ]
  },
  {
   "cell_type": "markdown",
   "metadata": {},
   "source": [
    "### Data Types for ndarrays\n",
    "- **dtype** is a special object containing the information that the **ndarray** needs, to interpret a chunk of memory as a particular type of data.\n",
    "- The numerical **dtypes** are named as: a type name, like float or int, followed by a number indicating the number of bits per element.\n",
    "- Important is the general kind of data you’re dealing with, whether floating point, complex, integer, boolean, string, or general Python object.\n",
    "\n",
    "**TABLE: NumPy data types**"
   ]
  },
  {
   "cell_type": "markdown",
   "metadata": {},
   "source": [
    "| Type | Type code | Description |\n",
    "| :-- |    :------  | :----       |\n",
    "|int8, uint8| i1, u1| Signed and unsigned 8-bit (1 byte) integer types|\n",
    "|int16, uint16| i2, u2| Signed and unsigned 16-bit integer types|\n",
    "|int32, uint32| i4, u4| Signed and unsigned 32-bit integer types|\n",
    "|int64, uint64| i8, u8| Signed and unsigned 64-bit integer types|\n",
    "|float16| f2| Half-precision floating point|\n",
    "|float32| f4 or f| Standard single-precision floating point; compatible with C float|\n",
    "|float64| f8 or d| Standard double-precision floating point; compatible with C double and Python float object|\n",
    "|float128| f16 or g| Extended-precision floating point|\n",
    "|complex64, complex128, complex256| c8, c16, c32 | Complex numbers represented by two 32, 64, or 128 floats, respectively|\n",
    "|bool| ?| Boolean type storing True and False values|\n",
    "|object| 0 | Python object type; a value can be any Python object|\n",
    "|string_| S | Fixed-length ASCII string type (1 byte per character); for example, to create a string dtype with length 10, use 'S10'|\n",
    "|unicode_| U |Fixed-length Unicode type (number of bytes platform specific); same specification semantics as string_ (e.g., 'U10')|"
   ]
  },
  {
   "cell_type": "code",
   "execution_count": 23,
   "metadata": {
    "ExecuteTime": {
     "end_time": "2020-12-02T16:55:50.599345Z",
     "start_time": "2020-12-02T16:55:50.593362Z"
    }
   },
   "outputs": [
    {
     "data": {
      "text/plain": [
       "dtype('float64')"
      ]
     },
     "execution_count": 23,
     "metadata": {},
     "output_type": "execute_result"
    }
   ],
   "source": [
    "# Create an array of type float64\n",
    "arr1 = np.array([1, 2, 3], dtype=np.float64)\n",
    "arr1.dtype"
   ]
  },
  {
   "cell_type": "code",
   "execution_count": 26,
   "metadata": {
    "ExecuteTime": {
     "end_time": "2020-12-02T16:56:43.614271Z",
     "start_time": "2020-12-02T16:56:43.607292Z"
    }
   },
   "outputs": [
    {
     "data": {
      "text/plain": [
       "dtype('int32')"
      ]
     },
     "execution_count": 26,
     "metadata": {},
     "output_type": "execute_result"
    }
   ],
   "source": [
    "# Create an array of int32 type from a list\n",
    "arr = np.array([1, 2, 3, 4, 5])\n",
    "arr.dtype"
   ]
  },
  {
   "cell_type": "code",
   "execution_count": 27,
   "metadata": {
    "ExecuteTime": {
     "end_time": "2020-12-02T16:57:11.275538Z",
     "start_time": "2020-12-02T16:57:11.270584Z"
    }
   },
   "outputs": [
    {
     "data": {
      "text/plain": [
       "dtype('float64')"
      ]
     },
     "execution_count": 27,
     "metadata": {},
     "output_type": "execute_result"
    }
   ],
   "source": [
    "# You can use astype method to cast an array from one dtype to another\n",
    "float_arr = arr.astype(np.float64)\n",
    "float_arr.dtype"
   ]
  },
  {
   "cell_type": "code",
   "execution_count": 28,
   "metadata": {
    "ExecuteTime": {
     "end_time": "2020-12-02T16:57:25.456243Z",
     "start_time": "2020-12-02T16:57:25.451230Z"
    }
   },
   "outputs": [
    {
     "data": {
      "text/plain": [
       "array([ 3.7, -1.2, -2.6,  0.5, 12.9, 10.1])"
      ]
     },
     "execution_count": 28,
     "metadata": {},
     "output_type": "execute_result"
    }
   ],
   "source": [
    "# Create an array with float numbers\n",
    "arr = np.array([3.7, -1.2, -2.6, 0.5, 12.9, 10.1])\n",
    "arr"
   ]
  },
  {
   "cell_type": "code",
   "execution_count": 29,
   "metadata": {
    "ExecuteTime": {
     "end_time": "2020-12-02T16:57:28.788514Z",
     "start_time": "2020-12-02T16:57:28.777510Z"
    }
   },
   "outputs": [
    {
     "data": {
      "text/plain": [
       "array([ 3, -1, -2,  0, 12, 10])"
      ]
     },
     "execution_count": 29,
     "metadata": {},
     "output_type": "execute_result"
    }
   ],
   "source": [
    "# Casting floating-point to integer => decimal part will be truncated\n",
    "arr.astype(np.int32)"
   ]
  },
  {
   "cell_type": "markdown",
   "metadata": {},
   "source": [
    "**REMEBER**: Calling **astype** always creates a new array (a copy of the data), even if the new dtype is the same as the old dtype."
   ]
  },
  {
   "cell_type": "markdown",
   "metadata": {},
   "source": [
    "### Arithmetic with NumPy Arrays\n",
    "- Arrays are important because they enable you to express batch operations on data without writing any for loops. \n",
    "- NumPy users call this **vectorization**. \n",
    "- Any arithmetic operations between equal-size arrays applies the operation **element-wise**.\n",
    "- Arithmetic operations with scalars propagate the scalar argument to each element in the array.\n",
    "- Comparisons between arrays of the same size yield **boolean arrays**."
   ]
  },
  {
   "cell_type": "code",
   "execution_count": 30,
   "metadata": {
    "ExecuteTime": {
     "end_time": "2020-12-02T16:59:28.397971Z",
     "start_time": "2020-12-02T16:59:28.390990Z"
    }
   },
   "outputs": [
    {
     "data": {
      "text/plain": [
       "array([[1., 2., 3.],\n",
       "       [4., 5., 6.]])"
      ]
     },
     "execution_count": 30,
     "metadata": {},
     "output_type": "execute_result"
    }
   ],
   "source": [
    "# Create a 2x3 array\n",
    "arr = np.array([[1., 2., 3.], [4., 5., 6.]])\n",
    "arr"
   ]
  },
  {
   "cell_type": "code",
   "execution_count": 31,
   "metadata": {
    "ExecuteTime": {
     "end_time": "2020-12-02T16:59:34.834489Z",
     "start_time": "2020-12-02T16:59:34.828508Z"
    }
   },
   "outputs": [
    {
     "data": {
      "text/plain": [
       "array([[ 1.,  4.,  9.],\n",
       "       [16., 25., 36.]])"
      ]
     },
     "execution_count": 31,
     "metadata": {},
     "output_type": "execute_result"
    }
   ],
   "source": [
    "# Multiplication\n",
    "arr * arr"
   ]
  },
  {
   "cell_type": "code",
   "execution_count": 32,
   "metadata": {
    "ExecuteTime": {
     "end_time": "2020-12-02T16:59:46.453877Z",
     "start_time": "2020-12-02T16:59:46.447895Z"
    }
   },
   "outputs": [
    {
     "data": {
      "text/plain": [
       "array([[ 6., 12., 18.],\n",
       "       [24., 30., 36.]])"
      ]
     },
     "execution_count": 32,
     "metadata": {},
     "output_type": "execute_result"
    }
   ],
   "source": [
    "# Multiplication with a scalar\n",
    "arr * 6"
   ]
  },
  {
   "cell_type": "code",
   "execution_count": 33,
   "metadata": {
    "ExecuteTime": {
     "end_time": "2020-12-02T17:00:03.141378Z",
     "start_time": "2020-12-02T17:00:03.136392Z"
    }
   },
   "outputs": [
    {
     "data": {
      "text/plain": [
       "array([[False,  True, False],\n",
       "       [ True, False,  True]])"
      ]
     },
     "execution_count": 33,
     "metadata": {},
     "output_type": "execute_result"
    }
   ],
   "source": [
    "# Create a second array\n",
    "arr2 = np.array([[0., 4., 1.], [7., 2., 12.]])\n",
    "\n",
    "# Compare arr and arr2\n",
    "arr2 > arr"
   ]
  },
  {
   "cell_type": "markdown",
   "metadata": {},
   "source": [
    "### Basic Indexing and Slicing\n",
    "- Array **slices** are **views** on the original array.\n",
    "- This means that the data is **NOT COPIED**, and any modifications to the view will be reflected in the source array."
   ]
  },
  {
   "cell_type": "code",
   "execution_count": 34,
   "metadata": {
    "ExecuteTime": {
     "end_time": "2020-12-02T17:01:18.186455Z",
     "start_time": "2020-12-02T17:01:18.179476Z"
    }
   },
   "outputs": [
    {
     "data": {
      "text/plain": [
       "array([0, 1, 2, 3, 4, 5, 6, 7, 8, 9])"
      ]
     },
     "execution_count": 34,
     "metadata": {},
     "output_type": "execute_result"
    }
   ],
   "source": [
    "# One-dimensional arrays on the surface act similarly to Python lists\n",
    "\n",
    "# Create array\n",
    "arr = np.arange(10)\n",
    "arr"
   ]
  },
  {
   "cell_type": "code",
   "execution_count": 35,
   "metadata": {
    "ExecuteTime": {
     "end_time": "2020-12-02T17:01:26.329493Z",
     "start_time": "2020-12-02T17:01:26.322510Z"
    }
   },
   "outputs": [
    {
     "data": {
      "text/plain": [
       "5"
      ]
     },
     "execution_count": 35,
     "metadata": {},
     "output_type": "execute_result"
    }
   ],
   "source": [
    "# Select element at index = 5\n",
    "arr[5]"
   ]
  },
  {
   "cell_type": "code",
   "execution_count": 36,
   "metadata": {
    "ExecuteTime": {
     "end_time": "2020-12-02T17:02:23.922794Z",
     "start_time": "2020-12-02T17:02:23.917832Z"
    }
   },
   "outputs": [
    {
     "data": {
      "text/plain": [
       "array([ 0,  1,  2,  3,  4, 12, 12, 12,  8,  9])"
      ]
     },
     "execution_count": 36,
     "metadata": {},
     "output_type": "execute_result"
    }
   ],
   "source": [
    "# Assigning a value to a slice will propagate the value to the entire selection\n",
    "arr[5:8] = 12\n",
    "arr"
   ]
  },
  {
   "cell_type": "code",
   "execution_count": 37,
   "metadata": {
    "ExecuteTime": {
     "end_time": "2020-12-02T17:02:44.110741Z",
     "start_time": "2020-12-02T17:02:44.104757Z"
    }
   },
   "outputs": [
    {
     "data": {
      "text/plain": [
       "array([12, 12, 12])"
      ]
     },
     "execution_count": 37,
     "metadata": {},
     "output_type": "execute_result"
    }
   ],
   "source": [
    "# Create a slice of array arr\n",
    "arr_slice = arr[5:8]\n",
    "arr_slice"
   ]
  },
  {
   "cell_type": "code",
   "execution_count": 38,
   "metadata": {
    "ExecuteTime": {
     "end_time": "2020-12-02T17:02:51.936254Z",
     "start_time": "2020-12-02T17:02:51.931270Z"
    }
   },
   "outputs": [],
   "source": [
    "# Change values in arr_slice\n",
    "arr_slice[1] = 12345"
   ]
  },
  {
   "cell_type": "code",
   "execution_count": 39,
   "metadata": {
    "ExecuteTime": {
     "end_time": "2020-12-02T17:03:00.634567Z",
     "start_time": "2020-12-02T17:03:00.629549Z"
    }
   },
   "outputs": [
    {
     "data": {
      "text/plain": [
       "array([    0,     1,     2,     3,     4,    12, 12345,    12,     8,\n",
       "           9])"
      ]
     },
     "execution_count": 39,
     "metadata": {},
     "output_type": "execute_result"
    }
   ],
   "source": [
    "# Changes to arr_slice are reflected in the original array arr\n",
    "arr"
   ]
  },
  {
   "cell_type": "code",
   "execution_count": 40,
   "metadata": {
    "ExecuteTime": {
     "end_time": "2020-12-02T17:03:28.368019Z",
     "start_time": "2020-12-02T17:03:28.362999Z"
    }
   },
   "outputs": [
    {
     "data": {
      "text/plain": [
       "array([ 0,  1,  2,  3,  4, 64, 64, 64,  8,  9])"
      ]
     },
     "execution_count": 40,
     "metadata": {},
     "output_type": "execute_result"
    }
   ],
   "source": [
    "# The “bare” slice [:] will assign to all values in an array\n",
    "arr_slice[:] = 64\n",
    "arr"
   ]
  },
  {
   "cell_type": "code",
   "execution_count": 41,
   "metadata": {
    "ExecuteTime": {
     "end_time": "2020-12-02T17:03:50.363888Z",
     "start_time": "2020-12-02T17:03:50.357394Z"
    }
   },
   "outputs": [
    {
     "data": {
      "text/plain": [
       "array([[1, 2, 3],\n",
       "       [4, 5, 6],\n",
       "       [7, 8, 9]])"
      ]
     },
     "execution_count": 41,
     "metadata": {},
     "output_type": "execute_result"
    }
   ],
   "source": [
    "# Indexing & slicing for higher dimensional arrays\n",
    "\n",
    "# Create a 3x3 array\n",
    "arr2d = np.array([[1, 2, 3], [4, 5, 6], [7, 8, 9]])\n",
    "arr2d"
   ]
  },
  {
   "cell_type": "code",
   "execution_count": 42,
   "metadata": {
    "ExecuteTime": {
     "end_time": "2020-12-02T17:04:00.733264Z",
     "start_time": "2020-12-02T17:04:00.728312Z"
    }
   },
   "outputs": [
    {
     "data": {
      "text/plain": [
       "array([7, 8, 9])"
      ]
     },
     "execution_count": 42,
     "metadata": {},
     "output_type": "execute_result"
    }
   ],
   "source": [
    "# Select element at index 2\n",
    "arr2d[2]"
   ]
  },
  {
   "cell_type": "code",
   "execution_count": 43,
   "metadata": {
    "ExecuteTime": {
     "end_time": "2020-12-02T17:04:28.864756Z",
     "start_time": "2020-12-02T17:04:28.859803Z"
    }
   },
   "outputs": [
    {
     "data": {
      "text/plain": [
       "3"
      ]
     },
     "execution_count": 43,
     "metadata": {},
     "output_type": "execute_result"
    }
   ],
   "source": [
    "# Individual elements can be accessed recursively\n",
    "arr2d[0][2]"
   ]
  },
  {
   "cell_type": "code",
   "execution_count": 44,
   "metadata": {
    "ExecuteTime": {
     "end_time": "2020-12-02T17:04:46.337164Z",
     "start_time": "2020-12-02T17:04:46.332207Z"
    }
   },
   "outputs": [
    {
     "data": {
      "text/plain": [
       "3"
      ]
     },
     "execution_count": 44,
     "metadata": {},
     "output_type": "execute_result"
    }
   ],
   "source": [
    "# Or you can pass a comma-separated list of indices to select individual elements\n",
    "arr2d[0, 2]"
   ]
  },
  {
   "cell_type": "markdown",
   "metadata": {},
   "source": [
    "#### Indexing with slices"
   ]
  },
  {
   "cell_type": "code",
   "execution_count": 45,
   "metadata": {
    "ExecuteTime": {
     "end_time": "2020-12-02T17:04:57.479399Z",
     "start_time": "2020-12-02T17:04:57.474380Z"
    }
   },
   "outputs": [
    {
     "data": {
      "text/plain": [
       "array([[1, 2, 3],\n",
       "       [4, 5, 6],\n",
       "       [7, 8, 9]])"
      ]
     },
     "execution_count": 45,
     "metadata": {},
     "output_type": "execute_result"
    }
   ],
   "source": [
    "# Consider a two-dimensional array\n",
    "arr2d"
   ]
  },
  {
   "cell_type": "code",
   "execution_count": 46,
   "metadata": {
    "ExecuteTime": {
     "end_time": "2020-12-02T17:05:13.798073Z",
     "start_time": "2020-12-02T17:05:13.793086Z"
    }
   },
   "outputs": [
    {
     "data": {
      "text/plain": [
       "array([[1, 2, 3],\n",
       "       [4, 5, 6]])"
      ]
     },
     "execution_count": 46,
     "metadata": {},
     "output_type": "execute_result"
    }
   ],
   "source": [
    "# Using arr2d[:2] means “select the first two rows of arr2d”\n",
    "arr2d[:2]"
   ]
  },
  {
   "cell_type": "code",
   "execution_count": 47,
   "metadata": {
    "ExecuteTime": {
     "end_time": "2020-12-02T17:05:27.082012Z",
     "start_time": "2020-12-02T17:05:27.073036Z"
    }
   },
   "outputs": [
    {
     "data": {
      "text/plain": [
       "array([[2, 3],\n",
       "       [5, 6]])"
      ]
     },
     "execution_count": 47,
     "metadata": {},
     "output_type": "execute_result"
    }
   ],
   "source": [
    "# You can pass multiple slices just like you can pass multiple indexes\n",
    "arr2d[:2, 1:]"
   ]
  },
  {
   "cell_type": "markdown",
   "metadata": {},
   "source": [
    "**REMEMBER**: By mixing integer indexes and slices, you get lower dimensional slices."
   ]
  },
  {
   "cell_type": "code",
   "execution_count": 48,
   "metadata": {
    "ExecuteTime": {
     "end_time": "2020-12-02T17:05:49.081691Z",
     "start_time": "2020-12-02T17:05:49.075740Z"
    }
   },
   "outputs": [
    {
     "data": {
      "text/plain": [
       "array([4, 5])"
      ]
     },
     "execution_count": 48,
     "metadata": {},
     "output_type": "execute_result"
    }
   ],
   "source": [
    "# Select the second row but only the first two columns\n",
    "arr2d[1, :2]"
   ]
  },
  {
   "cell_type": "code",
   "execution_count": 49,
   "metadata": {
    "ExecuteTime": {
     "end_time": "2020-12-02T17:06:11.693794Z",
     "start_time": "2020-12-02T17:06:11.685819Z"
    }
   },
   "outputs": [
    {
     "data": {
      "text/plain": [
       "array([3, 6])"
      ]
     },
     "execution_count": 49,
     "metadata": {},
     "output_type": "execute_result"
    }
   ],
   "source": [
    "# Select the third column but only the first two rows\n",
    "arr2d[:2, 2]"
   ]
  },
  {
   "cell_type": "code",
   "execution_count": 50,
   "metadata": {
    "ExecuteTime": {
     "end_time": "2020-12-02T17:06:16.382207Z",
     "start_time": "2020-12-02T17:06:16.376251Z"
    }
   },
   "outputs": [
    {
     "data": {
      "text/plain": [
       "array([[1],\n",
       "       [4],\n",
       "       [7]])"
      ]
     },
     "execution_count": 50,
     "metadata": {},
     "output_type": "execute_result"
    }
   ],
   "source": [
    "# A colon by itself means to take the entire axis\n",
    "arr2d[:, :1]"
   ]
  },
  {
   "cell_type": "code",
   "execution_count": 42,
   "metadata": {
    "ExecuteTime": {
     "end_time": "2020-11-26T08:23:28.324072Z",
     "start_time": "2020-11-26T08:23:28.304158Z"
    }
   },
   "outputs": [
    {
     "data": {
      "text/plain": [
       "array([[1, 0, 0],\n",
       "       [4, 0, 0],\n",
       "       [7, 8, 9]])"
      ]
     },
     "execution_count": 42,
     "metadata": {},
     "output_type": "execute_result"
    }
   ],
   "source": [
    "# Assigning to a slice expression assigns to the whole selection\n",
    "arr2d[:2, 1:] = 0\n",
    "arr2d"
   ]
  },
  {
   "cell_type": "markdown",
   "metadata": {},
   "source": [
    "### Boolean Indexing"
   ]
  },
  {
   "cell_type": "code",
   "execution_count": 51,
   "metadata": {
    "ExecuteTime": {
     "end_time": "2020-12-02T17:06:53.700738Z",
     "start_time": "2020-12-02T17:06:53.694719Z"
    }
   },
   "outputs": [
    {
     "data": {
      "text/plain": [
       "array(['Bob', 'Joe', 'Will', 'Bob', 'Will', 'Joe', 'Joe'], dtype='<U4')"
      ]
     },
     "execution_count": 51,
     "metadata": {},
     "output_type": "execute_result"
    }
   ],
   "source": [
    "# Array of names containing duplicates\n",
    "names = np.array(['Bob', 'Joe', 'Will', 'Bob', 'Will', 'Joe', 'Joe'])\n",
    "names"
   ]
  },
  {
   "cell_type": "code",
   "execution_count": 52,
   "metadata": {
    "ExecuteTime": {
     "end_time": "2020-12-02T17:07:12.815237Z",
     "start_time": "2020-12-02T17:07:12.810242Z"
    }
   },
   "outputs": [
    {
     "data": {
      "text/plain": [
       "array([[-1.13376652,  1.21843774, -0.31865029, -0.16731577],\n",
       "       [ 0.71852635,  1.05648783, -0.47383525,  1.62662825],\n",
       "       [ 1.63372618, -0.29582189, -1.79451562,  0.08176282],\n",
       "       [-1.1930565 , -3.00144687,  0.82905914,  1.30823041],\n",
       "       [-0.54960022, -1.04723964,  0.69593336,  0.96723795],\n",
       "       [-0.38470732,  1.00616724,  1.36916112,  0.64926103],\n",
       "       [-0.5207007 ,  0.88877167, -0.82022371,  1.66098834]])"
      ]
     },
     "execution_count": 52,
     "metadata": {},
     "output_type": "execute_result"
    }
   ],
   "source": [
    "# Use randn function in numpy.random to generate some random normally distributed data\n",
    "data = np.random.randn(7, 4)\n",
    "data"
   ]
  },
  {
   "cell_type": "markdown",
   "metadata": {},
   "source": [
    "- Suppose each name corresponds to a row in the data array and we wanted to select all the rows with corresponding name 'Bob'. \n",
    "- Like arithmetic operations, comparisons (such as ==) with arrays are also vectorized. \n",
    "- Comparing names with the string 'Bob' yields a boolean array.\n",
    "- The boolean array must be of the same length as the array axis it’s indexing.\n",
    "- Selecting data from an array by boolean indexing always creates a copy of the data, even if the returned array is unchanged."
   ]
  },
  {
   "cell_type": "code",
   "execution_count": 53,
   "metadata": {
    "ExecuteTime": {
     "end_time": "2020-12-02T17:07:40.363893Z",
     "start_time": "2020-12-02T17:07:40.355913Z"
    }
   },
   "outputs": [
    {
     "data": {
      "text/plain": [
       "array([ True, False, False,  True, False, False, False])"
      ]
     },
     "execution_count": 53,
     "metadata": {},
     "output_type": "execute_result"
    }
   ],
   "source": [
    "# Compare the array names with the string 'Bob'\n",
    "names == 'Bob'"
   ]
  },
  {
   "cell_type": "code",
   "execution_count": 54,
   "metadata": {
    "ExecuteTime": {
     "end_time": "2020-12-02T17:08:19.483212Z",
     "start_time": "2020-12-02T17:08:19.475233Z"
    }
   },
   "outputs": [
    {
     "data": {
      "text/plain": [
       "array([[-1.13376652,  1.21843774, -0.31865029, -0.16731577],\n",
       "       [-1.1930565 , -3.00144687,  0.82905914,  1.30823041]])"
      ]
     },
     "execution_count": 54,
     "metadata": {},
     "output_type": "execute_result"
    }
   ],
   "source": [
    "# This boolean array can be passed when indexing the array data\n",
    "data[names == 'Bob']"
   ]
  },
  {
   "cell_type": "code",
   "execution_count": 55,
   "metadata": {
    "ExecuteTime": {
     "end_time": "2020-12-02T17:08:45.685942Z",
     "start_time": "2020-12-02T17:08:45.678965Z"
    }
   },
   "outputs": [
    {
     "data": {
      "text/plain": [
       "array([[ 0.71852635,  1.05648783, -0.47383525,  1.62662825],\n",
       "       [ 1.63372618, -0.29582189, -1.79451562,  0.08176282],\n",
       "       [-0.54960022, -1.04723964,  0.69593336,  0.96723795],\n",
       "       [-0.38470732,  1.00616724,  1.36916112,  0.64926103],\n",
       "       [-0.5207007 ,  0.88877167, -0.82022371,  1.66098834]])"
      ]
     },
     "execution_count": 55,
     "metadata": {},
     "output_type": "execute_result"
    }
   ],
   "source": [
    "# To select everything but 'Bob', you can either use != or negate the condition using ~\n",
    "# The ~ operator can be useful when you want to invert a general condition\n",
    "data[~(names == 'Bob')]"
   ]
  },
  {
   "cell_type": "code",
   "execution_count": 50,
   "metadata": {
    "ExecuteTime": {
     "end_time": "2020-11-26T08:43:59.198569Z",
     "start_time": "2020-11-26T08:43:59.187588Z"
    }
   },
   "outputs": [
    {
     "data": {
      "text/plain": [
       "array([ True, False,  True,  True,  True, False, False])"
      ]
     },
     "execution_count": 50,
     "metadata": {},
     "output_type": "execute_result"
    }
   ],
   "source": [
    "# Selecting two of the three names to combine multiple boolean conditions, \n",
    "# use boolean arithmetic operators like & (and) and | (or)\n",
    "\n",
    "mask = (names == 'Bob') | (names == 'Will')\n",
    "mask"
   ]
  },
  {
   "cell_type": "markdown",
   "metadata": {},
   "source": [
    "**REMEMBER**: The Python keywords and and or do not work with boolean arrays. Use & (and) and | (or) instead."
   ]
  },
  {
   "cell_type": "code",
   "execution_count": 56,
   "metadata": {
    "ExecuteTime": {
     "end_time": "2020-12-02T17:09:40.327312Z",
     "start_time": "2020-12-02T17:09:40.322324Z"
    }
   },
   "outputs": [
    {
     "data": {
      "text/plain": [
       "array([[0.        , 1.21843774, 0.        , 0.        ],\n",
       "       [0.71852635, 1.05648783, 0.        , 1.62662825],\n",
       "       [1.63372618, 0.        , 0.        , 0.08176282],\n",
       "       [0.        , 0.        , 0.82905914, 1.30823041],\n",
       "       [0.        , 0.        , 0.69593336, 0.96723795],\n",
       "       [0.        , 1.00616724, 1.36916112, 0.64926103],\n",
       "       [0.        , 0.88877167, 0.        , 1.66098834]])"
      ]
     },
     "execution_count": 56,
     "metadata": {},
     "output_type": "execute_result"
    }
   ],
   "source": [
    "# Set all of the negative values in data to 0\n",
    "data[data < 0] = 0\n",
    "data"
   ]
  },
  {
   "cell_type": "code",
   "execution_count": 58,
   "metadata": {
    "ExecuteTime": {
     "end_time": "2020-12-02T17:10:06.848253Z",
     "start_time": "2020-12-02T17:10:06.844267Z"
    }
   },
   "outputs": [
    {
     "data": {
      "text/plain": [
       "array([ True, False,  True,  True,  True, False, False])"
      ]
     },
     "execution_count": 58,
     "metadata": {},
     "output_type": "execute_result"
    }
   ],
   "source": [
    "names != 'Joe'"
   ]
  },
  {
   "cell_type": "code",
   "execution_count": 57,
   "metadata": {
    "ExecuteTime": {
     "end_time": "2020-12-02T17:09:48.775654Z",
     "start_time": "2020-12-02T17:09:48.770639Z"
    }
   },
   "outputs": [
    {
     "data": {
      "text/plain": [
       "array([[7.        , 7.        , 7.        , 7.        ],\n",
       "       [0.71852635, 1.05648783, 0.        , 1.62662825],\n",
       "       [7.        , 7.        , 7.        , 7.        ],\n",
       "       [7.        , 7.        , 7.        , 7.        ],\n",
       "       [7.        , 7.        , 7.        , 7.        ],\n",
       "       [0.        , 1.00616724, 1.36916112, 0.64926103],\n",
       "       [0.        , 0.88877167, 0.        , 1.66098834]])"
      ]
     },
     "execution_count": 57,
     "metadata": {},
     "output_type": "execute_result"
    }
   ],
   "source": [
    "# Set whole rows or columns using a one-dimensional boolean array\n",
    "data[names != 'Joe'] = 7\n",
    "data"
   ]
  },
  {
   "cell_type": "markdown",
   "metadata": {},
   "source": [
    "### Fancy Indexing\n",
    "- **Fancy indexing** is a term adopted by NumPy to describe indexing using integer arrays.\n",
    "- Fancy indexing, unlike slicing, always copies the data into a new array.\n",
    "- The result of fancy indexing is always one-dimensional."
   ]
  },
  {
   "cell_type": "code",
   "execution_count": 54,
   "metadata": {
    "ExecuteTime": {
     "end_time": "2020-11-26T08:52:06.968437Z",
     "start_time": "2020-11-26T08:52:06.952450Z"
    }
   },
   "outputs": [
    {
     "data": {
      "text/plain": [
       "array([[0., 0., 0., 0.],\n",
       "       [1., 1., 1., 1.],\n",
       "       [2., 2., 2., 2.],\n",
       "       [3., 3., 3., 3.],\n",
       "       [4., 4., 4., 4.],\n",
       "       [5., 5., 5., 5.],\n",
       "       [6., 6., 6., 6.],\n",
       "       [7., 7., 7., 7.]])"
      ]
     },
     "execution_count": 54,
     "metadata": {},
     "output_type": "execute_result"
    }
   ],
   "source": [
    "# Create an 8x4 array\n",
    "arr = np.empty((8, 4))\n",
    "\n",
    "# Use a for loop to assign values in the array\n",
    "for i in range(8):\n",
    "    arr[i] = i\n",
    "    \n",
    "arr"
   ]
  },
  {
   "cell_type": "code",
   "execution_count": 55,
   "metadata": {
    "ExecuteTime": {
     "end_time": "2020-11-26T08:53:04.645641Z",
     "start_time": "2020-11-26T08:53:04.631679Z"
    }
   },
   "outputs": [
    {
     "data": {
      "text/plain": [
       "array([[4., 4., 4., 4.],\n",
       "       [3., 3., 3., 3.],\n",
       "       [0., 0., 0., 0.],\n",
       "       [6., 6., 6., 6.]])"
      ]
     },
     "execution_count": 55,
     "metadata": {},
     "output_type": "execute_result"
    }
   ],
   "source": [
    "# To select a subset of the rows in a particular order, you can simply pass a list or\n",
    "# ndarray of integers specifying the desired order\n",
    "\n",
    "arr[[4,3,0,6]]"
   ]
  },
  {
   "cell_type": "code",
   "execution_count": 57,
   "metadata": {
    "ExecuteTime": {
     "end_time": "2020-11-26T08:57:09.070554Z",
     "start_time": "2020-11-26T08:57:09.050608Z"
    }
   },
   "outputs": [
    {
     "data": {
      "text/plain": [
       "array([[ 0,  1,  2,  3],\n",
       "       [ 4,  5,  6,  7],\n",
       "       [ 8,  9, 10, 11],\n",
       "       [12, 13, 14, 15],\n",
       "       [16, 17, 18, 19],\n",
       "       [20, 21, 22, 23],\n",
       "       [24, 25, 26, 27],\n",
       "       [28, 29, 30, 31]])"
      ]
     },
     "execution_count": 57,
     "metadata": {},
     "output_type": "execute_result"
    }
   ],
   "source": [
    "# Create a second array\n",
    "arr2 = np.arange(32).reshape((8,4))\n",
    "arr2"
   ]
  },
  {
   "cell_type": "code",
   "execution_count": 65,
   "metadata": {
    "ExecuteTime": {
     "end_time": "2020-11-26T09:01:04.257622Z",
     "start_time": "2020-11-26T09:01:04.236679Z"
    }
   },
   "outputs": [
    {
     "data": {
      "text/plain": [
       "array([ 4, 23, 29, 10])"
      ]
     },
     "execution_count": 65,
     "metadata": {},
     "output_type": "execute_result"
    }
   ],
   "source": [
    "# Passing multiple index arrays selects a one-dimensional array of elements corresponding to each tuple of indices\n",
    "arr2[[1, 5, 7, 2], [0, 3, 1, 2]]"
   ]
  },
  {
   "cell_type": "markdown",
   "metadata": {},
   "source": [
    "### Transposing Arrays and Swapping Axes\n",
    "- **Transposing** is a special form or **reshaping** which return a view of the data without copying anything.\n",
    "- Arrays have the **transpose** method and the special **.T** attribute.\n",
    "- This method is used for matrix computations, for example when computing the inner matrix product using **np.dot**.\n",
    "- For higher-dimensional arrays, **transpose** will accept a tuple of axis numbersto permute the axes.\n",
    "- Simple transposing with **.T** is a special case of swapping axes.\n",
    "- ndarray has the method **swapaxes** which takes a pair of axis numbers and switches the indicated axes to rearrange the data.\n",
    "- **swapaxes** return a view of the data without making a copy."
   ]
  },
  {
   "cell_type": "code",
   "execution_count": 59,
   "metadata": {
    "ExecuteTime": {
     "end_time": "2020-12-02T17:12:14.797677Z",
     "start_time": "2020-12-02T17:12:14.791691Z"
    }
   },
   "outputs": [
    {
     "data": {
      "text/plain": [
       "array([[ 0,  1,  2,  3,  4],\n",
       "       [ 5,  6,  7,  8,  9],\n",
       "       [10, 11, 12, 13, 14]])"
      ]
     },
     "execution_count": 59,
     "metadata": {},
     "output_type": "execute_result"
    }
   ],
   "source": [
    "# Create a 3x5 array using arrange and reshape\n",
    "arr = np.arange(15).reshape(3, 5)\n",
    "arr"
   ]
  },
  {
   "cell_type": "code",
   "execution_count": 60,
   "metadata": {
    "ExecuteTime": {
     "end_time": "2020-12-02T17:12:26.027525Z",
     "start_time": "2020-12-02T17:12:26.021543Z"
    }
   },
   "outputs": [
    {
     "data": {
      "text/plain": [
       "array([[ 0,  5, 10],\n",
       "       [ 1,  6, 11],\n",
       "       [ 2,  7, 12],\n",
       "       [ 3,  8, 13],\n",
       "       [ 4,  9, 14]])"
      ]
     },
     "execution_count": 60,
     "metadata": {},
     "output_type": "execute_result"
    }
   ],
   "source": [
    "# Calculate the transpose of arr => in an array 5x3\n",
    "arr.T"
   ]
  },
  {
   "cell_type": "code",
   "execution_count": 61,
   "metadata": {
    "ExecuteTime": {
     "end_time": "2020-12-02T17:12:49.559274Z",
     "start_time": "2020-12-02T17:12:49.552268Z"
    }
   },
   "outputs": [
    {
     "data": {
      "text/plain": [
       "array([[ 0.06080748, -1.01204957,  1.22720434],\n",
       "       [-0.26698262, -0.89684727,  1.03009745],\n",
       "       [-0.24847478, -0.07475732,  0.4531686 ],\n",
       "       [-0.62208077, -0.03490241,  1.78437271],\n",
       "       [-0.54095462,  0.54156417, -0.61224367],\n",
       "       [ 1.22846001, -0.06063797,  0.71554158]])"
      ]
     },
     "execution_count": 61,
     "metadata": {},
     "output_type": "execute_result"
    }
   ],
   "source": [
    "# Create another array 6x3\n",
    "arr2 = np.random.randn(6, 3)\n",
    "arr2"
   ]
  },
  {
   "cell_type": "code",
   "execution_count": 62,
   "metadata": {
    "ExecuteTime": {
     "end_time": "2020-12-02T17:12:54.925258Z",
     "start_time": "2020-12-02T17:12:54.911295Z"
    }
   },
   "outputs": [
    {
     "data": {
      "text/plain": [
       "array([[ 2.32544737, -0.14926309, -0.21280958],\n",
       "       [-0.14926309,  2.13235491, -2.63694652],\n",
       "       [-0.21280958, -2.63694652,  6.84332109]])"
      ]
     },
     "execution_count": 62,
     "metadata": {},
     "output_type": "execute_result"
    }
   ],
   "source": [
    "# Calculate inner matrix product using np.dot\n",
    "np.dot(arr2.T, arr2)"
   ]
  },
  {
   "cell_type": "code",
   "execution_count": 63,
   "metadata": {
    "ExecuteTime": {
     "end_time": "2020-12-02T17:13:28.301694Z",
     "start_time": "2020-12-02T17:13:28.294683Z"
    }
   },
   "outputs": [
    {
     "data": {
      "text/plain": [
       "array([[[ 0,  1,  2,  3],\n",
       "        [ 4,  5,  6,  7]],\n",
       "\n",
       "       [[ 8,  9, 10, 11],\n",
       "        [12, 13, 14, 15]]])"
      ]
     },
     "execution_count": 63,
     "metadata": {},
     "output_type": "execute_result"
    }
   ],
   "source": [
    "# Create a higher dimensional array\n",
    "arr3 = np.arange(16).reshape(2, 2, 4)\n",
    "arr3"
   ]
  },
  {
   "cell_type": "code",
   "execution_count": 64,
   "metadata": {
    "ExecuteTime": {
     "end_time": "2020-12-02T17:14:00.510709Z",
     "start_time": "2020-12-02T17:14:00.504691Z"
    }
   },
   "outputs": [
    {
     "data": {
      "text/plain": [
       "array([[[ 0,  1,  2,  3],\n",
       "        [ 8,  9, 10, 11]],\n",
       "\n",
       "       [[ 4,  5,  6,  7],\n",
       "        [12, 13, 14, 15]]])"
      ]
     },
     "execution_count": 64,
     "metadata": {},
     "output_type": "execute_result"
    }
   ],
   "source": [
    "# Use transpose method \n",
    "arr3.transpose((1, 0, 2))\n",
    "\n",
    "# Here the axes have been reordered with the second axis first, the first axis second,\n",
    "# and the last axis unchanged"
   ]
  },
  {
   "cell_type": "code",
   "execution_count": 65,
   "metadata": {
    "ExecuteTime": {
     "end_time": "2020-12-02T17:14:35.248000Z",
     "start_time": "2020-12-02T17:14:35.243047Z"
    }
   },
   "outputs": [
    {
     "name": "stdout",
     "output_type": "stream",
     "text": [
      "Original:\n",
      " [[[ 0  1  2  3]\n",
      "  [ 4  5  6  7]]\n",
      "\n",
      " [[ 8  9 10 11]\n",
      "  [12 13 14 15]]]\n",
      "\n",
      "\n",
      "Swapped:\n",
      " [[[ 0  4]\n",
      "  [ 1  5]\n",
      "  [ 2  6]\n",
      "  [ 3  7]]\n",
      "\n",
      " [[ 8 12]\n",
      "  [ 9 13]\n",
      "  [10 14]\n",
      "  [11 15]]]\n"
     ]
    }
   ],
   "source": [
    "# Use swapaxes for arr3\n",
    "print('Original:\\n', arr3) \n",
    "print('\\n\\nSwapped:\\n', arr3.swapaxes(1, 2))"
   ]
  },
  {
   "cell_type": "markdown",
   "metadata": {},
   "source": [
    "## Universal Functions: Fast Element-Wise Array Functions\n",
    "- **Universal function** (**ufunc**) = a function that performs element-wise operations on data in ndarrays.\n",
    "- Many **ufuncs** are simple element-wise transformations, like **sqrt** or **exp** and are referred to as **unary ufuncs**.\n",
    "- Others, such as **add** or **maximum**, take two arrays (thus, **binary ufuncs**) and return a single array as the result."
   ]
  },
  {
   "cell_type": "code",
   "execution_count": 66,
   "metadata": {
    "ExecuteTime": {
     "end_time": "2020-12-02T17:15:52.491261Z",
     "start_time": "2020-12-02T17:15:52.485275Z"
    }
   },
   "outputs": [
    {
     "data": {
      "text/plain": [
       "array([0, 1, 2, 3, 4, 5, 6, 7, 8, 9])"
      ]
     },
     "execution_count": 66,
     "metadata": {},
     "output_type": "execute_result"
    }
   ],
   "source": [
    "# Create a 1D array\n",
    "arr = np.arange(10)\n",
    "arr"
   ]
  },
  {
   "cell_type": "code",
   "execution_count": 67,
   "metadata": {
    "ExecuteTime": {
     "end_time": "2020-12-02T17:16:04.138601Z",
     "start_time": "2020-12-02T17:16:04.132617Z"
    }
   },
   "outputs": [
    {
     "data": {
      "text/plain": [
       "array([0.        , 1.        , 1.41421356, 1.73205081, 2.        ,\n",
       "       2.23606798, 2.44948974, 2.64575131, 2.82842712, 3.        ])"
      ]
     },
     "execution_count": 67,
     "metadata": {},
     "output_type": "execute_result"
    }
   ],
   "source": [
    "# Use sqrt function to calculate the square root element-wise\n",
    "np.sqrt(arr)"
   ]
  },
  {
   "cell_type": "code",
   "execution_count": 68,
   "metadata": {
    "ExecuteTime": {
     "end_time": "2020-12-02T17:16:12.182836Z",
     "start_time": "2020-12-02T17:16:12.178817Z"
    }
   },
   "outputs": [
    {
     "name": "stdout",
     "output_type": "stream",
     "text": [
      "[ 0.24327452 -0.56143308  1.0269099   0.57835369 -0.79560507  0.42050112\n",
      "  1.92063911  0.82684889]\n",
      "[-0.85213974  1.05673973 -1.2970065  -0.91443462 -1.00559035 -3.03417276\n",
      " -0.63545818  0.73268106]\n"
     ]
    }
   ],
   "source": [
    "# Create 2 arrays with random numbers\n",
    "x = np.random.randn(8)\n",
    "y = np.random.randn(8)\n",
    "\n",
    "# Print x and y\n",
    "print(x)\n",
    "print(y)"
   ]
  },
  {
   "cell_type": "code",
   "execution_count": 69,
   "metadata": {
    "ExecuteTime": {
     "end_time": "2020-12-02T17:16:18.778771Z",
     "start_time": "2020-12-02T17:16:18.773760Z"
    }
   },
   "outputs": [
    {
     "data": {
      "text/plain": [
       "array([ 0.24327452,  1.05673973,  1.0269099 ,  0.57835369, -0.79560507,\n",
       "        0.42050112,  1.92063911,  0.82684889])"
      ]
     },
     "execution_count": 69,
     "metadata": {},
     "output_type": "execute_result"
    }
   ],
   "source": [
    "# Use np.numpy.maximum to compute the element-wise maximum of the elements in x and y\n",
    "np.maximum(x, y)"
   ]
  },
  {
   "cell_type": "markdown",
   "metadata": {},
   "source": [
    "- While not common, a **ufunc** can return multiple arrays. \n",
    "- **modf** is one example and it returns the fractional and integral parts of a floating-point array."
   ]
  },
  {
   "cell_type": "code",
   "execution_count": 70,
   "metadata": {
    "ExecuteTime": {
     "end_time": "2020-12-02T17:16:50.806396Z",
     "start_time": "2020-12-02T17:16:50.801441Z"
    }
   },
   "outputs": [
    {
     "data": {
      "text/plain": [
       "array([ 1.21218926,  5.11459896, -4.68241572, 10.44635871, -8.19780273,\n",
       "       -2.68883439,  3.89457075])"
      ]
     },
     "execution_count": 70,
     "metadata": {},
     "output_type": "execute_result"
    }
   ],
   "source": [
    "# Create an array\n",
    "arr = np.random.randn(7) * 5\n",
    "arr"
   ]
  },
  {
   "cell_type": "code",
   "execution_count": 71,
   "metadata": {
    "ExecuteTime": {
     "end_time": "2020-12-02T17:17:00.190777Z",
     "start_time": "2020-12-02T17:17:00.185758Z"
    }
   },
   "outputs": [
    {
     "data": {
      "text/plain": [
       "(array([ 0.21218926,  0.11459896, -0.68241572,  0.44635871, -0.19780273,\n",
       "        -0.68883439,  0.89457075]), array([ 1.,  5., -4., 10., -8., -2.,  3.]))"
      ]
     },
     "execution_count": 71,
     "metadata": {},
     "output_type": "execute_result"
    }
   ],
   "source": [
    "# Use the np.modf function\n",
    "np.modf(arr)"
   ]
  },
  {
   "cell_type": "markdown",
   "metadata": {},
   "source": [
    "- **Ufuncs** accept an optional out argument that allows them to operate in-place on arrays."
   ]
  },
  {
   "cell_type": "code",
   "execution_count": 72,
   "metadata": {
    "ExecuteTime": {
     "end_time": "2020-12-02T17:17:37.984784Z",
     "start_time": "2020-12-02T17:17:37.977768Z"
    }
   },
   "outputs": [
    {
     "name": "stderr",
     "output_type": "stream",
     "text": [
      "c:\\users\\alexandra neagu\\appdata\\local\\programs\\python\\python37\\lib\\site-packages\\ipykernel_launcher.py:2: RuntimeWarning:\n",
      "\n",
      "invalid value encountered in sqrt\n",
      "\n"
     ]
    },
    {
     "data": {
      "text/plain": [
       "array([ 1.21218926,  5.11459896, -4.68241572, 10.44635871, -8.19780273,\n",
       "       -2.68883439,  3.89457075])"
      ]
     },
     "execution_count": 72,
     "metadata": {},
     "output_type": "execute_result"
    }
   ],
   "source": [
    "# Use an out argument\n",
    "np.sqrt(arr)\n",
    "arr"
   ]
  },
  {
   "cell_type": "markdown",
   "metadata": {},
   "source": [
    "**TABLE: Unary ufuncs**"
   ]
  },
  {
   "cell_type": "markdown",
   "metadata": {},
   "source": [
    "|Function| Description     |\n",
    "| :----- |    :----------  |\n",
    "|abs, fabs| Compute the absolute value element-wise for integer, floating-point, or complex values|\n",
    "|sqrt| Compute the square root of each element (equivalent to arr ** 0.5)|\n",
    "|square| Compute the square of each element (equivalent to arr ** 2)|\n",
    "|exp| Compute the exponent e^x of each element|\n",
    "|log, log10,log2, log1p|Natural logarithm (base e), log base 10, log base 2, and log(1 + x), respectively|\n",
    "|sign| Compute the sign of each element: 1 (positive), 0 (zero), or –1 (negative)|\n",
    "|ceil| Compute the ceiling of each element (i.e., the smallest integer greater than or equal to that number)|\n",
    "|floor| Compute the floor of each element (i.e., the largest integer less than or equal to each element)\n",
    "|rint| Round elements to the nearest integer, preserving the dtype\n",
    "|modf| Return fractional and integral parts of array as a separate array\n",
    "|isnan| Return boolean array indicating whether each value is NaN (Not a Number)\n",
    "|isfinite, isinf| Return boolean array indicating whether each element is finite (non-inf, non-NaN) or infinite, respectively\n",
    "|cos, cosh, sin, sinh, tan, tanh| Regular and hyperbolic trigonometric functions\n",
    "|arccos, arccosh, arcsin, arcsinh, arctan, arctanh| Inverse trigonometric functions\n",
    "|logical_not| Compute truth value of not x element-wise (equivalent to ~arr)"
   ]
  },
  {
   "cell_type": "markdown",
   "metadata": {},
   "source": [
    "**TABLE: Binary universal functions**"
   ]
  },
  {
   "cell_type": "markdown",
   "metadata": {},
   "source": [
    "|Function |Description|\n",
    "| :--- |    :----------  |\n",
    "|add| Add corresponding elements in arrays\n",
    "|subtract| Subtract elements in second array from first array\n",
    "|multiply| Multiply array elements\n",
    "|divide, floor_divide| Divide or oor divide (truncating the remainder)\n",
    "|power| Raise elements in first array to powers indicated in second array\n",
    "|maximum, fmax| Element-wise maximum; fmax ignores NaN\n",
    "|minimum, fmin| Element-wise minimum; fmin ignores NaN\n",
    "|mod| Element-wise modulus (remainder of division)\n",
    "|copysign| Copy sign of values in second argument to values in first argument\n",
    "|greater, greater_equal, less, less_equal, equal, not_equal| Perform element-wise comparison, yielding boolean array (equivalent to infix operators >, >=, <, <=, ==, !=)\n",
    "|logical_and, logical_or, logical_xor |Compute element-wise truth value of logical operation (equivalent to infix operators & |, ^)"
   ]
  },
  {
   "cell_type": "markdown",
   "metadata": {},
   "source": [
    "## Array-Oriented Programming with Arrays\n",
    "- **Vectorization** = the practice of replacing explicit loops with array expressions.\n",
    "- Vectorized array operations will often be one or two (or more) orders of magnitude faster than their pure Python equivalents, with the biggest impact in any kind of numerical computations."
   ]
  },
  {
   "cell_type": "code",
   "execution_count": 76,
   "metadata": {
    "ExecuteTime": {
     "end_time": "2020-12-02T17:19:43.701020Z",
     "start_time": "2020-12-02T17:19:43.697029Z"
    }
   },
   "outputs": [],
   "source": [
    "# EXAMPLE: evaluate the function sqrt(x^2 + y^2) across a regular grid of values\n",
    "\n",
    "# Create an array with 1000 equally spaced points\n",
    "points = np.arange(-5, 5, 0.01)\n"
   ]
  },
  {
   "cell_type": "code",
   "execution_count": 74,
   "metadata": {
    "ExecuteTime": {
     "end_time": "2020-12-02T17:19:29.265441Z",
     "start_time": "2020-12-02T17:19:29.253442Z"
    }
   },
   "outputs": [
    {
     "data": {
      "text/plain": [
       "array([[-5.  , -5.  , -5.  , ..., -5.  , -5.  , -5.  ],\n",
       "       [-4.99, -4.99, -4.99, ..., -4.99, -4.99, -4.99],\n",
       "       [-4.98, -4.98, -4.98, ..., -4.98, -4.98, -4.98],\n",
       "       ...,\n",
       "       [ 4.97,  4.97,  4.97, ...,  4.97,  4.97,  4.97],\n",
       "       [ 4.98,  4.98,  4.98, ...,  4.98,  4.98,  4.98],\n",
       "       [ 4.99,  4.99,  4.99, ...,  4.99,  4.99,  4.99]])"
      ]
     },
     "execution_count": 74,
     "metadata": {},
     "output_type": "execute_result"
    }
   ],
   "source": [
    "# np.meshgrid function takes two 1D arrays and produces two 2D matrices \n",
    "# corresponding to all pairs of (x, y) in the two arrays\n",
    "\n",
    "xs, ys = np.meshgrid(points, points)\n",
    "ys"
   ]
  },
  {
   "cell_type": "code",
   "execution_count": 77,
   "metadata": {
    "ExecuteTime": {
     "end_time": "2020-12-02T17:20:28.030258Z",
     "start_time": "2020-12-02T17:20:27.990365Z"
    }
   },
   "outputs": [
    {
     "data": {
      "text/plain": [
       "array([[7.07106781, 7.06400028, 7.05693985, ..., 7.04988652, 7.05693985,\n",
       "        7.06400028],\n",
       "       [7.06400028, 7.05692568, 7.04985815, ..., 7.04279774, 7.04985815,\n",
       "        7.05692568],\n",
       "       [7.05693985, 7.04985815, 7.04278354, ..., 7.03571603, 7.04278354,\n",
       "        7.04985815],\n",
       "       ...,\n",
       "       [7.04988652, 7.04279774, 7.03571603, ..., 7.0286414 , 7.03571603,\n",
       "        7.04279774],\n",
       "       [7.05693985, 7.04985815, 7.04278354, ..., 7.03571603, 7.04278354,\n",
       "        7.04985815],\n",
       "       [7.06400028, 7.05692568, 7.04985815, ..., 7.04279774, 7.04985815,\n",
       "        7.05692568]])"
      ]
     },
     "execution_count": 77,
     "metadata": {},
     "output_type": "execute_result"
    }
   ],
   "source": [
    "# Evaluating the function is a matter of writing the same expression you would write with two points\n",
    "z = np.sqrt(xs ** 2 + ys ** 2)\n",
    "z"
   ]
  },
  {
   "cell_type": "code",
   "execution_count": 78,
   "metadata": {
    "ExecuteTime": {
     "end_time": "2020-12-02T17:20:38.904624Z",
     "start_time": "2020-12-02T17:20:37.455954Z"
    }
   },
   "outputs": [
    {
     "data": {
      "text/plain": [
       "Text(0.5, 1.0, 'Image plot of $\\\\sqrt{x^2 + y^2}$ for a grid of values')"
      ]
     },
     "execution_count": 78,
     "metadata": {},
     "output_type": "execute_result"
    },
    {
     "data": {
      "image/png": "[encoded data removed]",
      "text/plain": [
       "<Figure size 432x288 with 2 Axes>"
      ]
     },
     "metadata": {
      "needs_background": "light"
     },
     "output_type": "display_data"
    }
   ],
   "source": [
    "# Import matplotlib library to plot z\n",
    "import matplotlib.pyplot as plt\n",
    "%matplotlib inline\n",
    "\n",
    "# Use the matplotlib function imshow() to create an image from the array z \n",
    "plt.imshow(z, cmap=plt.cm.gray); plt.colorbar()\n",
    "\n",
    "# Set the title of the plot\n",
    "plt.title(\"Image plot of $\\sqrt{x^2 + y^2}$ for a grid of values\")"
   ]
  },
  {
   "cell_type": "markdown",
   "metadata": {},
   "source": [
    "## Expressing Conditional Logic as Array Operations\n",
    "- The **np.where** function is a vectorized version of the ternary expression:\n",
    "        x if condition else y  <=>  np.where(cond, x, y)\n",
    "- The second and third arguments to **np.where** don’t need to be arrays; one or both of them can be scalars.\n",
    "- A typical use of **where** in data analysis is to produce a new array of values based on another array."
   ]
  },
  {
   "cell_type": "code",
   "execution_count": 79,
   "metadata": {
    "ExecuteTime": {
     "end_time": "2020-12-02T17:22:17.783985Z",
     "start_time": "2020-12-02T17:22:17.778004Z"
    }
   },
   "outputs": [],
   "source": [
    "# Consider a boolean array and two arrays of values\n",
    "xarr = np.array([1.1, 1.2, 1.3, 1.4, 1.5])\n",
    "\n",
    "yarr = np.array([2.1, 2.2, 2.3, 2.4, 2.5])\n",
    "\n",
    "cond = np.array([True, False, True, True, False])"
   ]
  },
  {
   "cell_type": "code",
   "execution_count": 80,
   "metadata": {
    "ExecuteTime": {
     "end_time": "2020-12-02T17:22:42.488865Z",
     "start_time": "2020-12-02T17:22:42.482882Z"
    }
   },
   "outputs": [
    {
     "data": {
      "text/plain": [
       "array([1.1, 2.2, 1.3, 1.4, 2.5])"
      ]
     },
     "execution_count": 80,
     "metadata": {},
     "output_type": "execute_result"
    }
   ],
   "source": [
    "# Suppose we wanted to take a value from xarr whenever the corresponding value in cond is True\n",
    "result = np.where(cond, xarr, yarr)\n",
    "result"
   ]
  },
  {
   "cell_type": "code",
   "execution_count": 81,
   "metadata": {
    "ExecuteTime": {
     "end_time": "2020-12-02T17:22:54.987472Z",
     "start_time": "2020-12-02T17:22:54.980508Z"
    }
   },
   "outputs": [
    {
     "data": {
      "text/plain": [
       "array([[ 0.41368144,  0.31364964,  0.90367613, -0.62183684],\n",
       "       [-0.38356211,  0.86711575,  0.2111565 , -0.31093582],\n",
       "       [-0.68690385,  0.46230279,  0.02718682, -0.72747168],\n",
       "       [-0.18948662,  0.90847503,  0.43366901,  2.51299274]])"
      ]
     },
     "execution_count": 81,
     "metadata": {},
     "output_type": "execute_result"
    }
   ],
   "source": [
    "# Array of randomly generated data\n",
    "arr = np.random.randn(4, 4)\n",
    "arr"
   ]
  },
  {
   "cell_type": "code",
   "execution_count": 82,
   "metadata": {
    "ExecuteTime": {
     "end_time": "2020-12-02T17:23:12.507897Z",
     "start_time": "2020-12-02T17:23:12.502881Z"
    }
   },
   "outputs": [
    {
     "data": {
      "text/plain": [
       "array([[ 2,  2,  2, -2],\n",
       "       [-2,  2,  2, -2],\n",
       "       [-2,  2,  2, -2],\n",
       "       [-2,  2,  2,  2]])"
      ]
     },
     "execution_count": 82,
     "metadata": {},
     "output_type": "execute_result"
    }
   ],
   "source": [
    "# Replace all positive values with 2 and all negative values with –2\n",
    "np.where(arr > 0, 2, -2)"
   ]
  },
  {
   "cell_type": "code",
   "execution_count": 83,
   "metadata": {
    "ExecuteTime": {
     "end_time": "2020-12-02T17:23:35.599259Z",
     "start_time": "2020-12-02T17:23:35.592313Z"
    }
   },
   "outputs": [
    {
     "data": {
      "text/plain": [
       "array([[ 2.        ,  2.        ,  2.        , -0.62183684],\n",
       "       [-0.38356211,  2.        ,  2.        , -0.31093582],\n",
       "       [-0.68690385,  2.        ,  2.        , -0.72747168],\n",
       "       [-0.18948662,  2.        ,  2.        ,  2.        ]])"
      ]
     },
     "execution_count": 83,
     "metadata": {},
     "output_type": "execute_result"
    }
   ],
   "source": [
    "# Replace all positive values in arr with the constant 2\n",
    "np.where(arr > 0, 2, arr)"
   ]
  },
  {
   "cell_type": "markdown",
   "metadata": {},
   "source": [
    "## Mathematical and Statistical Methods\n",
    "- Compute statistics about an entire array or about the data along an axis.\n",
    "- You can call the array instance method **arr.mean()** or using the top-level NumPy function **np.mean(arr)**.\n",
    "\n",
    "**TABLE: Basic array statistical methods**"
   ]
  },
  {
   "cell_type": "markdown",
   "metadata": {},
   "source": [
    "|Method| Description\n",
    "| :--- |    :----------  |\n",
    "|sum| Sum of all the elements in the array or along an axis; zero-length arrays have sum 0\n",
    "|mean| Arithmetic mean; zero-length arrays have NaN mean\n",
    "|std, var| Standard deviation and variance, respectively, with optional degrees of freedom adjustment (default denominator n)\n",
    "|min, max| Minimum and maximum\n",
    "|argmin, argmax| Indices of minimum and maximum elements, respectively\n",
    "|cumsum| Cumulative sum of elements starting from 0\n",
    "|cumprod| Cumulative product of elements starting from 1"
   ]
  },
  {
   "cell_type": "code",
   "execution_count": 84,
   "metadata": {
    "ExecuteTime": {
     "end_time": "2020-12-02T17:24:35.831866Z",
     "start_time": "2020-12-02T17:24:35.825914Z"
    }
   },
   "outputs": [
    {
     "data": {
      "text/plain": [
       "array([[-0.50962074,  0.0514672 ,  0.16060592, -0.48597365],\n",
       "       [-1.73541255,  0.44781154,  0.41641309, -0.99011225],\n",
       "       [-0.35122744,  0.16110876, -0.35685217,  1.81353562],\n",
       "       [-0.84784587, -0.57916465,  1.04870243, -0.22231951],\n",
       "       [ 0.90453112,  1.24558325,  0.65592469,  0.82736357]])"
      ]
     },
     "execution_count": 84,
     "metadata": {},
     "output_type": "execute_result"
    }
   ],
   "source": [
    "# Generate some normally distributed random data\n",
    "arr = np.random.randn(5, 4)\n",
    "arr"
   ]
  },
  {
   "cell_type": "code",
   "execution_count": 85,
   "metadata": {
    "ExecuteTime": {
     "end_time": "2020-12-02T17:25:02.626848Z",
     "start_time": "2020-12-02T17:25:02.621863Z"
    }
   },
   "outputs": [
    {
     "data": {
      "text/plain": [
       "0.08272591752733616"
      ]
     },
     "execution_count": 85,
     "metadata": {},
     "output_type": "execute_result"
    }
   ],
   "source": [
    "# Compute mean\n",
    "arr.mean()"
   ]
  },
  {
   "cell_type": "code",
   "execution_count": 86,
   "metadata": {
    "ExecuteTime": {
     "end_time": "2020-12-02T17:25:07.788884Z",
     "start_time": "2020-12-02T17:25:07.782899Z"
    }
   },
   "outputs": [
    {
     "data": {
      "text/plain": [
       "1.6545183505467231"
      ]
     },
     "execution_count": 86,
     "metadata": {},
     "output_type": "execute_result"
    }
   ],
   "source": [
    "# Compute sum\n",
    "np.sum(arr)"
   ]
  },
  {
   "cell_type": "code",
   "execution_count": 87,
   "metadata": {
    "ExecuteTime": {
     "end_time": "2020-12-02T17:25:19.686715Z",
     "start_time": "2020-12-02T17:25:19.680706Z"
    }
   },
   "outputs": [
    {
     "data": {
      "text/plain": [
       "array([-0.19588032, -0.46532504,  0.31664119, -0.1501569 ,  0.90835066])"
      ]
     },
     "execution_count": 87,
     "metadata": {},
     "output_type": "execute_result"
    }
   ],
   "source": [
    "# You can compute statistics over a given axis\n",
    "arr.mean(axis=1)\n",
    "\n",
    "# arr.mean(1) means “compute mean across the columns”"
   ]
  },
  {
   "cell_type": "code",
   "execution_count": 88,
   "metadata": {
    "ExecuteTime": {
     "end_time": "2020-12-02T17:25:34.685174Z",
     "start_time": "2020-12-02T17:25:34.679190Z"
    }
   },
   "outputs": [
    {
     "data": {
      "text/plain": [
       "array([-2.53957548,  1.3268061 ,  1.92479395,  0.94249378])"
      ]
     },
     "execution_count": 88,
     "metadata": {},
     "output_type": "execute_result"
    }
   ],
   "source": [
    "# You can compute statistics over a given axis\n",
    "arr.sum(axis=0)\n",
    "\n",
    "# arr.sum(0) means “compute sum down the rows”"
   ]
  },
  {
   "cell_type": "code",
   "execution_count": 89,
   "metadata": {
    "ExecuteTime": {
     "end_time": "2020-12-02T17:25:58.952377Z",
     "start_time": "2020-12-02T17:25:58.945397Z"
    }
   },
   "outputs": [
    {
     "data": {
      "text/plain": [
       "array([ 0,  1,  3,  6, 10, 15, 21, 28], dtype=int32)"
      ]
     },
     "execution_count": 89,
     "metadata": {},
     "output_type": "execute_result"
    }
   ],
   "source": [
    "# Other methods like cumsum and cumprod do not aggregate, instead producing an array\n",
    "# of the intermediate results\n",
    "\n",
    "arr = np.array([0, 1, 2, 3, 4, 5, 6, 7])\n",
    "arr.cumsum()"
   ]
  },
  {
   "cell_type": "markdown",
   "metadata": {},
   "source": [
    "### Methods for Boolean Arrays\n",
    "- Boolean values are coerced to 1 (True) and 0 (False) in the preceding methods.\n",
    "- **sum** is often used as a means of counting True values in a boolean array.\n",
    "- **any** tests whether one or more values in an array is True.\n",
    "- **all** checks if every value is True."
   ]
  },
  {
   "cell_type": "code",
   "execution_count": 90,
   "metadata": {
    "ExecuteTime": {
     "end_time": "2020-12-02T17:27:04.074615Z",
     "start_time": "2020-12-02T17:27:04.068635Z"
    }
   },
   "outputs": [
    {
     "data": {
      "text/plain": [
       "44"
      ]
     },
     "execution_count": 90,
     "metadata": {},
     "output_type": "execute_result"
    }
   ],
   "source": [
    "# Create random data\n",
    "arr = np.random.randn(100)\n",
    "\n",
    "# Count the number of positive values\n",
    "(arr > 0).sum()"
   ]
  },
  {
   "cell_type": "code",
   "execution_count": 92,
   "metadata": {
    "ExecuteTime": {
     "end_time": "2020-12-02T17:27:35.823893Z",
     "start_time": "2020-12-02T17:27:35.815915Z"
    }
   },
   "outputs": [
    {
     "data": {
      "text/plain": [
       "array([False, False,  True, False])"
      ]
     },
     "execution_count": 92,
     "metadata": {},
     "output_type": "execute_result"
    }
   ],
   "source": [
    "# Create boolean array\n",
    "bools = np.array([False, False, True, False])\n",
    "bools"
   ]
  },
  {
   "cell_type": "code",
   "execution_count": 93,
   "metadata": {
    "ExecuteTime": {
     "end_time": "2020-12-02T17:27:38.602555Z",
     "start_time": "2020-12-02T17:27:38.596572Z"
    }
   },
   "outputs": [
    {
     "data": {
      "text/plain": [
       "True"
      ]
     },
     "execution_count": 93,
     "metadata": {},
     "output_type": "execute_result"
    }
   ],
   "source": [
    "# Test any  method\n",
    "bools.any()"
   ]
  },
  {
   "cell_type": "code",
   "execution_count": 94,
   "metadata": {
    "ExecuteTime": {
     "end_time": "2020-12-02T17:27:43.663903Z",
     "start_time": "2020-12-02T17:27:43.657904Z"
    }
   },
   "outputs": [
    {
     "data": {
      "text/plain": [
       "False"
      ]
     },
     "execution_count": 94,
     "metadata": {},
     "output_type": "execute_result"
    }
   ],
   "source": [
    "# Test all  method\n",
    "bools.all()"
   ]
  },
  {
   "cell_type": "markdown",
   "metadata": {},
   "source": [
    "### Sorting\n",
    "- NumPy arrays can be sorted in-place with the **sort** method.\n",
    "- You can sort each one-dimensional section of values in a multidimensional array in-place along an axis by passing the axis number to sort.\n",
    "- The top-level method **np.sort** returns a sorted copy of an array instead of modifying the array in-place."
   ]
  },
  {
   "cell_type": "code",
   "execution_count": 95,
   "metadata": {
    "ExecuteTime": {
     "end_time": "2020-12-02T17:27:56.961296Z",
     "start_time": "2020-12-02T17:27:56.954772Z"
    }
   },
   "outputs": [
    {
     "data": {
      "text/plain": [
       "array([-0.97494974, -0.70164949,  0.28688318, -1.63213833,  0.77888429,\n",
       "        0.03843283])"
      ]
     },
     "execution_count": 95,
     "metadata": {},
     "output_type": "execute_result"
    }
   ],
   "source": [
    "# Create random data\n",
    "arr = np.random.randn(6)\n",
    "arr"
   ]
  },
  {
   "cell_type": "code",
   "execution_count": 96,
   "metadata": {
    "ExecuteTime": {
     "end_time": "2020-12-02T17:27:59.456964Z",
     "start_time": "2020-12-02T17:27:59.446992Z"
    }
   },
   "outputs": [
    {
     "data": {
      "text/plain": [
       "array([-1.63213833, -0.97494974, -0.70164949,  0.03843283,  0.28688318,\n",
       "        0.77888429])"
      ]
     },
     "execution_count": 96,
     "metadata": {},
     "output_type": "execute_result"
    }
   ],
   "source": [
    "# Sort arr\n",
    "arr.sort()\n",
    "arr"
   ]
  },
  {
   "cell_type": "code",
   "execution_count": 97,
   "metadata": {
    "ExecuteTime": {
     "end_time": "2020-12-02T17:28:09.628848Z",
     "start_time": "2020-12-02T17:28:09.624862Z"
    }
   },
   "outputs": [
    {
     "data": {
      "text/plain": [
       "array([[ 0.08493753, -1.26438104,  0.08852214],\n",
       "       [ 0.22720518,  1.13533938, -1.70028276],\n",
       "       [-1.2838696 ,  1.61789496, -0.73089977],\n",
       "       [-0.37576841, -0.35848769, -1.2737241 ],\n",
       "       [-1.58394675,  1.00161662, -1.29250416]])"
      ]
     },
     "execution_count": 97,
     "metadata": {},
     "output_type": "execute_result"
    }
   ],
   "source": [
    "# Create multidimensional array\n",
    "arr = np.random.randn(5, 3)\n",
    "arr"
   ]
  },
  {
   "cell_type": "code",
   "execution_count": 98,
   "metadata": {
    "ExecuteTime": {
     "end_time": "2020-12-02T17:28:18.536113Z",
     "start_time": "2020-12-02T17:28:18.530130Z"
    }
   },
   "outputs": [
    {
     "data": {
      "text/plain": [
       "array([[-1.26438104,  0.08493753,  0.08852214],\n",
       "       [-1.70028276,  0.22720518,  1.13533938],\n",
       "       [-1.2838696 , -0.73089977,  1.61789496],\n",
       "       [-1.2737241 , -0.37576841, -0.35848769],\n",
       "       [-1.58394675, -1.29250416,  1.00161662]])"
      ]
     },
     "execution_count": 98,
     "metadata": {},
     "output_type": "execute_result"
    }
   ],
   "source": [
    "# Sort by columns\n",
    "arr.sort(1)\n",
    "arr"
   ]
  },
  {
   "cell_type": "markdown",
   "metadata": {},
   "source": [
    "### Unique and Other Set Logic\n",
    "- NumPy has some basic set operations for one-dimensional ndarrays.\n",
    "- A commonly used one is **np.unique**, which returns the sorted unique values in an array."
   ]
  },
  {
   "cell_type": "code",
   "execution_count": 99,
   "metadata": {
    "ExecuteTime": {
     "end_time": "2020-12-02T17:28:44.028074Z",
     "start_time": "2020-12-02T17:28:44.022099Z"
    }
   },
   "outputs": [
    {
     "data": {
      "text/plain": [
       "array([1, 2, 3, 4])"
      ]
     },
     "execution_count": 99,
     "metadata": {},
     "output_type": "execute_result"
    }
   ],
   "source": [
    "# Create a 1D array of integers\n",
    "ints = np.array([3, 3, 3, 2, 2, 1, 1, 4, 4])\n",
    "\n",
    "# Select only unique elements\n",
    "np.unique(ints)"
   ]
  },
  {
   "cell_type": "markdown",
   "metadata": {},
   "source": [
    "**TABLE: Array set operations**"
   ]
  },
  {
   "cell_type": "markdown",
   "metadata": {},
   "source": [
    "|Method| Description\n",
    "| :--- |    :----------  |\n",
    "|unique(x)| Compute the sorted, unique elements in x\n",
    "|intersect1d(x, y)| Compute the sorted, common elements in x and y\n",
    "|union1d(x, y)| Compute the sorted union of elements\n",
    "|in1d(x, y)| Compute a boolean array indicating whether each element of x is contained in y\n",
    "|setdiff1d(x, y)| Set difference, elements in x that are not in y\n",
    "|setxor1d(x, y)| Set symmetric differences; elements that are in either of the arrays, but not both"
   ]
  },
  {
   "cell_type": "markdown",
   "metadata": {},
   "source": [
    "## File Input and Output with Arrays\n",
    "- **np.save** and **np.load** are the two workhorse functions for efficiently saving and loading array data on disk.\n",
    "- Arrays are saved by default in an uncompressed raw binary format with file extension *.npy*\n",
    "- If the file path does not already end in *.npy*, the extension will be appended.\n",
    "- You save multiple arrays in an uncompressed archive using **np.savez** and passing the arrays as keyword arguments.\n",
    "- If your data compresses well, you may wish to use **numpy.savez_compressed**."
   ]
  },
  {
   "cell_type": "markdown",
   "metadata": {},
   "source": [
    "## Linear Algebra\n",
    "- Linear algebra, like matrix multiplication, decompositions, determinants, and other square matrix math, is an important part of any array library.\n",
    "- Multiplying two two-dimensional arrays with * is an element-wise product instead of a **matrix dot product**.\n",
    "- For matrix multiplication there is a function **dot**, both an array method and a function in the numpy namespace,"
   ]
  },
  {
   "cell_type": "code",
   "execution_count": 100,
   "metadata": {
    "ExecuteTime": {
     "end_time": "2020-12-02T17:30:08.560022Z",
     "start_time": "2020-12-02T17:30:08.552047Z"
    }
   },
   "outputs": [
    {
     "name": "stdout",
     "output_type": "stream",
     "text": [
      "[[1. 2. 3.]\n",
      " [4. 5. 6.]] \n",
      "\n",
      "\n",
      " [[ 6. 23.]\n",
      " [-1.  7.]\n",
      " [ 8.  9.]]\n"
     ]
    }
   ],
   "source": [
    "# Create two matrices\n",
    "x = np.array([[1., 2., 3.], [4., 5., 6.]])\n",
    "y = np.array([[6., 23.], [-1, 7], [8, 9]])\n",
    "\n",
    "# Print x and y\n",
    "print(x, '\\n\\n\\n', y)"
   ]
  },
  {
   "cell_type": "code",
   "execution_count": 101,
   "metadata": {
    "ExecuteTime": {
     "end_time": "2020-12-02T17:30:23.676219Z",
     "start_time": "2020-12-02T17:30:23.671201Z"
    }
   },
   "outputs": [
    {
     "data": {
      "text/plain": [
       "array([[ 28.,  64.],\n",
       "       [ 67., 181.]])"
      ]
     },
     "execution_count": 101,
     "metadata": {},
     "output_type": "execute_result"
    }
   ],
   "source": [
    "# Matrix multiplication\n",
    "x.dot(y)"
   ]
  },
  {
   "cell_type": "code",
   "execution_count": 102,
   "metadata": {
    "ExecuteTime": {
     "end_time": "2020-12-02T17:30:41.424041Z",
     "start_time": "2020-12-02T17:30:41.418059Z"
    }
   },
   "outputs": [
    {
     "data": {
      "text/plain": [
       "array([[ 28.,  64.],\n",
       "       [ 67., 181.]])"
      ]
     },
     "execution_count": 102,
     "metadata": {},
     "output_type": "execute_result"
    }
   ],
   "source": [
    "# The @ symbol (as of Python 3.5) also works as an infix operator that performs matrix multiplication\n",
    "x @ y"
   ]
  },
  {
   "cell_type": "markdown",
   "metadata": {},
   "source": [
    "**TABLE: Commonly used numpy.linalg functions**"
   ]
  },
  {
   "cell_type": "markdown",
   "metadata": {},
   "source": [
    "|Function| Description\n",
    "| :--- |    :----------  |\n",
    "|diag| Return the diagonal (or off-diagonal) elements of a square matrix as a 1D array, or convert a 1D array into a square matrix with zeros on the off-diagonal\n",
    "|dot |Matrix multiplication\n",
    "|trace |Compute the sum of the diagonal elements\n",
    "|det |Compute the matrix determinant\n",
    "|eig| Compute the eigenvalues and eigenvectors of a square matrix\n",
    "|inv| Compute the inverse of a square matrix\n",
    "|pinv| Compute the Moore-Penrose pseudo-inverse of a matrix\n",
    "|qr| Compute the QR decomposition\n",
    "|svd| Compute the singular value decomposition (SVD)\n",
    "|solve| Solve the linear system Ax = b for x, where A is a square matrix\n",
    "|lstsq| Compute the least-squares solution to Ax = b"
   ]
  },
  {
   "cell_type": "code",
   "execution_count": 103,
   "metadata": {
    "ExecuteTime": {
     "end_time": "2020-12-02T17:31:48.873533Z",
     "start_time": "2020-12-02T17:31:48.868545Z"
    }
   },
   "outputs": [],
   "source": [
    "# Import inv and qr functions from numpy.linalg\n",
    "from numpy.linalg import inv, qr"
   ]
  },
  {
   "cell_type": "code",
   "execution_count": 104,
   "metadata": {
    "ExecuteTime": {
     "end_time": "2020-12-02T17:31:51.598962Z",
     "start_time": "2020-12-02T17:31:51.591981Z"
    }
   },
   "outputs": [
    {
     "data": {
      "text/plain": [
       "array([[-0.03255713,  1.72573991,  0.48636714,  2.1357183 , -0.9049894 ],\n",
       "       [ 1.37746684, -0.24820583, -1.39489035, -1.61725599,  0.00232245],\n",
       "       [ 0.30190126,  0.06036207,  0.04324501, -0.46628079,  0.39860055],\n",
       "       [-1.04005358,  0.45459487, -0.66880008,  1.72344552, -0.31960732],\n",
       "       [-1.06471741, -0.37106175,  0.74763329, -0.04178393,  1.95872062]])"
      ]
     },
     "execution_count": 104,
     "metadata": {},
     "output_type": "execute_result"
    }
   ],
   "source": [
    "# Create a 5x5 matric with random data\n",
    "X = np.random.randn(5, 5)\n",
    "X"
   ]
  },
  {
   "cell_type": "code",
   "execution_count": 105,
   "metadata": {
    "ExecuteTime": {
     "end_time": "2020-12-02T17:32:08.712920Z",
     "start_time": "2020-12-02T17:32:08.699954Z"
    }
   },
   "outputs": [
    {
     "data": {
      "text/plain": [
       "array([[  3.24489629,   4.80328432, -16.85011079,  -3.96897003,\n",
       "          4.27492973],\n",
       "       [ -2.36368152,  -4.09260929,  16.72850937,   3.51961664,\n",
       "         -3.91719965],\n",
       "       [  0.24674886,  -0.19641843,  -0.99353031,  -0.75420417,\n",
       "          0.19335776],\n",
       "       [  2.91556267,   4.2731674 , -16.07076698,  -3.27198505,\n",
       "          4.07852723],\n",
       "       [  1.2840891 ,   2.00178032,  -5.95388633,  -1.27260857,\n",
       "          2.10541786]])"
      ]
     },
     "execution_count": 105,
     "metadata": {},
     "output_type": "execute_result"
    }
   ],
   "source": [
    "# Compute the inverse of a square matrix\n",
    "inv(X)"
   ]
  },
  {
   "cell_type": "code",
   "execution_count": 106,
   "metadata": {
    "ExecuteTime": {
     "end_time": "2020-12-02T17:32:47.412001Z",
     "start_time": "2020-12-02T17:32:47.399038Z"
    }
   },
   "outputs": [
    {
     "data": {
      "text/plain": [
       "array([[ 2.05059842, -0.22314665, -0.98733348, -2.0413591 , -0.78029625],\n",
       "       [ 0.        , -1.82701309, -0.21149388, -2.40962282,  1.41461003],\n",
       "       [ 0.        ,  0.        , -1.47337512,  0.29492053, -0.52991782],\n",
       "       [ 0.        ,  0.        ,  0.        ,  0.55301941, -1.41584834],\n",
       "       [ 0.        ,  0.        ,  0.        ,  0.        ,  0.14562184]])"
      ]
     },
     "execution_count": 106,
     "metadata": {},
     "output_type": "execute_result"
    }
   ],
   "source": [
    "# Compute the QR decomposition\n",
    "# QR decomposition = is a decomposition of a matrix A into a product A = QR of an orthogonal matrix Q \n",
    "# and an upper triangular matrix R\n",
    "\n",
    "q, r = qr(X)\n",
    "r"
   ]
  },
  {
   "cell_type": "markdown",
   "metadata": {},
   "source": [
    "## Pseudorandom Number Generation\n",
    "- **numpy.random** module supplements the built-in Python random with functions for efficiently generating whole arrays of sample values from many kinds of probability distributions.\n",
    "- Compared to the built-in random the **numpy.random** is well over an order of magnitude faster for generating very large samples.\n",
    "- We say that these are **pseudorandom** numbers because they are generated by an algorithm with deterministic behavior based on the **seed** of the random number generator.\n",
    "- # The data generation functions in numpy.random use a global random seed. \n",
    "- To avoid global state, you can use **numpy.random.RandomState** to create a random number generator isolated from others."
   ]
  },
  {
   "cell_type": "code",
   "execution_count": 107,
   "metadata": {
    "ExecuteTime": {
     "end_time": "2020-12-02T17:34:15.214304Z",
     "start_time": "2020-12-02T17:34:15.209282Z"
    }
   },
   "outputs": [
    {
     "data": {
      "text/plain": [
       "array([[-3.65365680e-01, -4.53942962e-04,  1.45369533e+00,\n",
       "         5.72973015e-01],\n",
       "       [ 6.17936785e-01,  6.98883303e-01, -1.28642583e+00,\n",
       "         2.87653354e-01],\n",
       "       [-5.00853172e-01, -4.62146333e-01,  5.18471618e-01,\n",
       "        -7.23797942e-01],\n",
       "       [-1.10355977e-01, -1.49854215e+00,  9.78885191e-01,\n",
       "         4.93599867e-01]])"
      ]
     },
     "execution_count": 107,
     "metadata": {},
     "output_type": "execute_result"
    }
   ],
   "source": [
    "# EXAMPLE: You can generate a 4 × 4 array of samples from the standard normal distribution using normal\n",
    "samples = np.random.normal(size=(4, 4))\n",
    "samples"
   ]
  },
  {
   "cell_type": "code",
   "execution_count": 50,
   "metadata": {
    "ExecuteTime": {
     "end_time": "2020-11-28T12:55:20.080217Z",
     "start_time": "2020-11-28T12:55:20.064236Z"
    }
   },
   "outputs": [],
   "source": [
    "# You can change NumPy’s random number generation seed using np.random.seed\n",
    "np.random.seed(1234)"
   ]
  },
  {
   "cell_type": "code",
   "execution_count": 51,
   "metadata": {
    "ExecuteTime": {
     "end_time": "2020-11-28T12:57:15.987211Z",
     "start_time": "2020-11-28T12:57:15.969260Z"
    }
   },
   "outputs": [
    {
     "data": {
      "text/plain": [
       "array([0.19151945, 0.62210877, 0.43772774, 0.78535858, 0.77997581,\n",
       "       0.27259261, 0.27646426, 0.80187218, 0.95813935, 0.87593263])"
      ]
     },
     "execution_count": 51,
     "metadata": {},
     "output_type": "execute_result"
    }
   ],
   "source": [
    "# Use numpy.random.RandomState to create a random number generator isolated from others\n",
    "rng = np.random.RandomState(1234)\n",
    "rng.rand(10)"
   ]
  },
  {
   "cell_type": "markdown",
   "metadata": {},
   "source": [
    "**TABLE: Partial list of numpy.random functions**"
   ]
  },
  {
   "cell_type": "markdown",
   "metadata": {},
   "source": [
    "|Function| Description\n",
    "| :--- |    :----------  |\n",
    "|seed| Seed the random number generator\n",
    "|permutation| Return a random permutation of a sequence, or return a permuted range\n",
    "|shuffle| Randomly permute a sequence in-place\n",
    "|rand| Draw samples from a uniform distribution\n",
    "|randint| Draw random integers from a given low-to-high range\n",
    "|randn| Draw samples from a normal distribution with mean 0 and standard deviation 1 (MATLAB-like interface)\n",
    "|binomial| Draw samples from a binomial distribution\n",
    "|normal| Draw samples from a normal (Gaussian) distribution\n",
    "|beta| Draw samples from a beta distribution\n",
    "|chisquare| Draw samples from a chi-square distribution\n",
    "|gamma| Draw samples from a gamma distribution\n",
    "|uniform| Draw samples from a uniform [0, 1) distribution"
   ]
  },
  {
   "cell_type": "markdown",
   "metadata": {},
   "source": [
    "## Example: Random Walks\n",
    "- The simulation of **random walks** provides an illustrative application of utilizing array operations. \n",
    "- **Random walk** = a mathematical object, known as a stochastic or random process, that describes a path that consists of a succession of random steps on some mathematical space such as the integers.\n",
    "- Let’s first consider a simple random walk starting at 0 with steps of 1 and –1 occurring with equal probability."
   ]
  },
  {
   "cell_type": "code",
   "execution_count": 52,
   "metadata": {
    "ExecuteTime": {
     "end_time": "2020-11-28T13:07:58.921796Z",
     "start_time": "2020-11-28T13:07:58.901841Z"
    }
   },
   "outputs": [],
   "source": [
    "# Pure Python way to implement a single random walk with 1,000 steps using\n",
    "# the built-in random module\n",
    "\n",
    "import random\n",
    "\n",
    "position = 0\n",
    "walk = [position]\n",
    "steps = 1000\n",
    "for i in range(steps):\n",
    "    step = 1 if random.randint(0, 1) else -1\n",
    "    position += step\n",
    "    walk.append(position)"
   ]
  },
  {
   "cell_type": "code",
   "execution_count": 53,
   "metadata": {
    "ExecuteTime": {
     "end_time": "2020-11-28T13:08:01.225487Z",
     "start_time": "2020-11-28T13:08:01.087848Z"
    }
   },
   "outputs": [
    {
     "data": {
      "text/plain": [
       "[<matplotlib.lines.Line2D at 0x1dd50282d88>]"
      ]
     },
     "execution_count": 53,
     "metadata": {},
     "output_type": "execute_result"
    },
    {
     "data": {
      "image/png": "[encoded data removed]",
      "text/plain": [
       "<Figure size 432x288 with 1 Axes>"
      ]
     },
     "metadata": {
      "needs_background": "light"
     },
     "output_type": "display_data"
    }
   ],
   "source": [
    "# Plot the first 100 values of these random walks\n",
    "plt.plot(walk[:100])"
   ]
  },
  {
   "cell_type": "code",
   "execution_count": 109,
   "metadata": {
    "ExecuteTime": {
     "end_time": "2020-12-02T17:37:36.009936Z",
     "start_time": "2020-12-02T17:37:35.837081Z"
    }
   },
   "outputs": [
    {
     "data": {
      "text/plain": [
       "[<matplotlib.lines.Line2D at 0x10df10d2188>]"
      ]
     },
     "execution_count": 109,
     "metadata": {},
     "output_type": "execute_result"
    },
    {
     "data": {
      "image/png": "[encoded data removed]",
      "text/plain": [
       "<Figure size 432x288 with 1 Axes>"
      ]
     },
     "metadata": {
      "needs_background": "light"
     },
     "output_type": "display_data"
    }
   ],
   "source": [
    "# Use np.random module to implement a single random walk with 1,000 steps\n",
    "\n",
    "# Set the number of steps\n",
    "nsteps = 1000\n",
    "\n",
    "# Return random integers from the \"discrete uniform\" distribution in the interval [0,2)\n",
    "draws = np.random.randint(0, 2, size=nsteps)\n",
    "\n",
    "# Use np.where to set the steps\n",
    "steps = np.where(draws > 0, 1, -1)\n",
    "\n",
    "# Compute the cumulative sum\n",
    "walk = steps.cumsum()\n",
    "\n",
    "# Plot the first 100 values of these random walks\n",
    "plt.plot(walk)"
   ]
  },
  {
   "cell_type": "code",
   "execution_count": 110,
   "metadata": {
    "ExecuteTime": {
     "end_time": "2020-12-02T17:37:59.322171Z",
     "start_time": "2020-12-02T17:37:59.317186Z"
    }
   },
   "outputs": [
    {
     "name": "stdout",
     "output_type": "stream",
     "text": [
      "Min: -35  and Max: 13\n"
     ]
    }
   ],
   "source": [
    "# Now we can start calculating statistics like min and max\n",
    "print('Min:', walk.min(), ' and Max:', walk.max())"
   ]
  },
  {
   "cell_type": "code",
   "execution_count": 111,
   "metadata": {
    "ExecuteTime": {
     "end_time": "2020-12-02T17:38:28.980163Z",
     "start_time": "2020-12-02T17:38:28.974178Z"
    }
   },
   "outputs": [
    {
     "data": {
      "text/plain": [
       "27"
      ]
     },
     "execution_count": 111,
     "metadata": {},
     "output_type": "execute_result"
    }
   ],
   "source": [
    "# Get the first crossing time = the step at which the random walk reaches a particular value\n",
    "\n",
    "# Here we might want to know how long it took the random walk to get at least \n",
    "# 10 steps away from the origin 0 in either direction\n",
    "\n",
    "(np.abs(walk) >= 10).argmax()"
   ]
  },
  {
   "cell_type": "markdown",
   "metadata": {},
   "source": [
    "### Simulating Many Random Walks at Once\n",
    "- If your goal was to simulate many random walks, say 5,000 of them, you can generate all of the random walks with minor modifications to the preceding code. \n",
    "- If passed a 2-tuple, the **numpy.random** functions will generate a two-dimensional array of draws, and we can compute the cumulative sum across the rows to compute all 5,000 random walks in one shot."
   ]
  },
  {
   "cell_type": "code",
   "execution_count": 74,
   "metadata": {
    "ExecuteTime": {
     "end_time": "2020-11-28T13:23:19.641333Z",
     "start_time": "2020-11-28T13:23:19.558117Z"
    }
   },
   "outputs": [
    {
     "data": {
      "text/plain": [
       "array([[  1,   0,   1, ...,  46,  45,  44],\n",
       "       [  1,   0,  -1, ...,   6,   7,   8],\n",
       "       [ -1,  -2,  -3, ..., -56, -55, -54],\n",
       "       ...,\n",
       "       [ -1,  -2,  -1, ..., -18, -19, -18],\n",
       "       [  1,   0,  -1, ...,  24,  23,  22],\n",
       "       [ -1,   0,   1, ...,  14,  15,  16]], dtype=int32)"
      ]
     },
     "execution_count": 74,
     "metadata": {},
     "output_type": "execute_result"
    }
   ],
   "source": [
    "# Set the number of walks\n",
    "nwalks = 5000\n",
    "\n",
    "# Set the number of steps for each walk\n",
    "nsteps = 1000\n",
    "\n",
    "# Generate a two-dimensional array of draws\n",
    "draws = np.random.randint(0, 2, size=(nwalks, nsteps)) # 0 or 1\n",
    "\n",
    "# Use where function to set the steps to either 1 or -1\n",
    "steps = np.where(draws > 0, 1, -1)\n",
    "\n",
    "# Simulate the walks using the cumsum function for each row\n",
    "walks = steps.cumsum(1)\n",
    "\n",
    "# Show output\n",
    "walks"
   ]
  },
  {
   "cell_type": "code",
   "execution_count": 75,
   "metadata": {
    "ExecuteTime": {
     "end_time": "2020-11-28T13:25:27.206867Z",
     "start_time": "2020-11-28T13:25:27.191900Z"
    }
   },
   "outputs": [
    {
     "name": "stdout",
     "output_type": "stream",
     "text": [
      "Min: -128  and Max: 122\n"
     ]
    }
   ],
   "source": [
    "# We can compute the overall min and max\n",
    "print('Min:', walks.min(), ' and Max:', walks.max())"
   ]
  },
  {
   "cell_type": "code",
   "execution_count": 76,
   "metadata": {
    "ExecuteTime": {
     "end_time": "2020-11-28T13:27:47.055715Z",
     "start_time": "2020-11-28T13:27:47.034740Z"
    }
   },
   "outputs": [
    {
     "data": {
      "text/plain": [
       "3367"
      ]
     },
     "execution_count": 76,
     "metadata": {},
     "output_type": "execute_result"
    }
   ],
   "source": [
    "# Check how many of the 5000 walks crossed 30 or -30\n",
    "\n",
    "# Use any method to check which walks crossed 30 or -30\n",
    "hits30 = (np.abs(walks) >= 30).any(1)\n",
    "\n",
    "# Count how many walks crossed 30 or -30\n",
    "hits30.sum()"
   ]
  },
  {
   "cell_type": "markdown",
   "metadata": {},
   "source": [
    "## Book Progress"
   ]
  },
  {
   "cell_type": "code",
   "execution_count": 11,
   "metadata": {
    "ExecuteTime": {
     "end_time": "2020-12-02T15:53:12.925524Z",
     "start_time": "2020-12-02T15:53:12.900579Z"
    },
    "code_folding": [
     0
    ]
   },
   "outputs": [
    {
     "data": {
      "application/vnd.plotly.v1+json": {
       "config": {
        "plotlyServerURL": "https://plot.ly"
       },
       "data": [
        {
         "delta": {
          "reference": 384
         },
         "domain": {
          "x": [
           0.1,
           1
          ],
          "y": [
           0.2,
           0.9
          ]
         },
         "gauge": {
          "shape": "bullet"
         },
         "mode": "number+gauge+delta",
         "title": {
          "text": "Book Pages"
         },
         "type": "indicator",
         "value": 509
        }
       ],
       "layout": {
        "template": {
         "data": {
          "bar": [
           {
            "error_x": {
             "color": "#2a3f5f"
            },
            "error_y": {
             "color": "#2a3f5f"
            },
            "marker": {
             "line": {
              "color": "#E5ECF6",
              "width": 0.5
             }
            },
            "type": "bar"
           }
          ],
          "barpolar": [
           {
            "marker": {
             "line": {
              "color": "#E5ECF6",
              "width": 0.5
             }
            },
            "type": "barpolar"
           }
          ],
          "carpet": [
           {
            "aaxis": {
             "endlinecolor": "#2a3f5f",
             "gridcolor": "white",
             "linecolor": "white",
             "minorgridcolor": "white",
             "startlinecolor": "#2a3f5f"
            },
            "baxis": {
             "endlinecolor": "#2a3f5f",
             "gridcolor": "white",
             "linecolor": "white",
             "minorgridcolor": "white",
             "startlinecolor": "#2a3f5f"
            },
            "type": "carpet"
           }
          ],
          "choropleth": [
           {
            "colorbar": {
             "outlinewidth": 0,
             "ticks": ""
            },
            "type": "choropleth"
           }
          ],
          "contour": [
           {
            "colorbar": {
             "outlinewidth": 0,
             "ticks": ""
            },
            "colorscale": [
             [
              0,
              "#0d0887"
             ],
             [
              0.1111111111111111,
              "#46039f"
             ],
             [
              0.2222222222222222,
              "#7201a8"
             ],
             [
              0.3333333333333333,
              "#9c179e"
             ],
             [
              0.4444444444444444,
              "#bd3786"
             ],
             [
              0.5555555555555556,
              "#d8576b"
             ],
             [
              0.6666666666666666,
              "#ed7953"
             ],
             [
              0.7777777777777778,
              "#fb9f3a"
             ],
             [
              0.8888888888888888,
              "#fdca26"
             ],
             [
              1,
              "#f0f921"
             ]
            ],
            "type": "contour"
           }
          ],
          "contourcarpet": [
           {
            "colorbar": {
             "outlinewidth": 0,
             "ticks": ""
            },
            "type": "contourcarpet"
           }
          ],
          "heatmap": [
           {
            "colorbar": {
             "outlinewidth": 0,
             "ticks": ""
            },
            "colorscale": [
             [
              0,
              "#0d0887"
             ],
             [
              0.1111111111111111,
              "#46039f"
             ],
             [
              0.2222222222222222,
              "#7201a8"
             ],
             [
              0.3333333333333333,
              "#9c179e"
             ],
             [
              0.4444444444444444,
              "#bd3786"
             ],
             [
              0.5555555555555556,
              "#d8576b"
             ],
             [
              0.6666666666666666,
              "#ed7953"
             ],
             [
              0.7777777777777778,
              "#fb9f3a"
             ],
             [
              0.8888888888888888,
              "#fdca26"
             ],
             [
              1,
              "#f0f921"
             ]
            ],
            "type": "heatmap"
           }
          ],
          "heatmapgl": [
           {
            "colorbar": {
             "outlinewidth": 0,
             "ticks": ""
            },
            "colorscale": [
             [
              0,
              "#0d0887"
             ],
             [
              0.1111111111111111,
              "#46039f"
             ],
             [
              0.2222222222222222,
              "#7201a8"
             ],
             [
              0.3333333333333333,
              "#9c179e"
             ],
             [
              0.4444444444444444,
              "#bd3786"
             ],
             [
              0.5555555555555556,
              "#d8576b"
             ],
             [
              0.6666666666666666,
              "#ed7953"
             ],
             [
              0.7777777777777778,
              "#fb9f3a"
             ],
             [
              0.8888888888888888,
              "#fdca26"
             ],
             [
              1,
              "#f0f921"
             ]
            ],
            "type": "heatmapgl"
           }
          ],
          "histogram": [
           {
            "marker": {
             "colorbar": {
              "outlinewidth": 0,
              "ticks": ""
             }
            },
            "type": "histogram"
           }
          ],
          "histogram2d": [
           {
            "colorbar": {
             "outlinewidth": 0,
             "ticks": ""
            },
            "colorscale": [
             [
              0,
              "#0d0887"
             ],
             [
              0.1111111111111111,
              "#46039f"
             ],
             [
              0.2222222222222222,
              "#7201a8"
             ],
             [
              0.3333333333333333,
              "#9c179e"
             ],
             [
              0.4444444444444444,
              "#bd3786"
             ],
             [
              0.5555555555555556,
              "#d8576b"
             ],
             [
              0.6666666666666666,
              "#ed7953"
             ],
             [
              0.7777777777777778,
              "#fb9f3a"
             ],
             [
              0.8888888888888888,
              "#fdca26"
             ],
             [
              1,
              "#f0f921"
             ]
            ],
            "type": "histogram2d"
           }
          ],
          "histogram2dcontour": [
           {
            "colorbar": {
             "outlinewidth": 0,
             "ticks": ""
            },
            "colorscale": [
             [
              0,
              "#0d0887"
             ],
             [
              0.1111111111111111,
              "#46039f"
             ],
             [
              0.2222222222222222,
              "#7201a8"
             ],
             [
              0.3333333333333333,
              "#9c179e"
             ],
             [
              0.4444444444444444,
              "#bd3786"
             ],
             [
              0.5555555555555556,
              "#d8576b"
             ],
             [
              0.6666666666666666,
              "#ed7953"
             ],
             [
              0.7777777777777778,
              "#fb9f3a"
             ],
             [
              0.8888888888888888,
              "#fdca26"
             ],
             [
              1,
              "#f0f921"
             ]
            ],
            "type": "histogram2dcontour"
           }
          ],
          "mesh3d": [
           {
            "colorbar": {
             "outlinewidth": 0,
             "ticks": ""
            },
            "type": "mesh3d"
           }
          ],
          "parcoords": [
           {
            "line": {
             "colorbar": {
              "outlinewidth": 0,
              "ticks": ""
             }
            },
            "type": "parcoords"
           }
          ],
          "pie": [
           {
            "automargin": true,
            "type": "pie"
           }
          ],
          "scatter": [
           {
            "marker": {
             "colorbar": {
              "outlinewidth": 0,
              "ticks": ""
             }
            },
            "type": "scatter"
           }
          ],
          "scatter3d": [
           {
            "line": {
             "colorbar": {
              "outlinewidth": 0,
              "ticks": ""
             }
            },
            "marker": {
             "colorbar": {
              "outlinewidth": 0,
              "ticks": ""
             }
            },
            "type": "scatter3d"
           }
          ],
          "scattercarpet": [
           {
            "marker": {
             "colorbar": {
              "outlinewidth": 0,
              "ticks": ""
             }
            },
            "type": "scattercarpet"
           }
          ],
          "scattergeo": [
           {
            "marker": {
             "colorbar": {
              "outlinewidth": 0,
              "ticks": ""
             }
            },
            "type": "scattergeo"
           }
          ],
          "scattergl": [
           {
            "marker": {
             "colorbar": {
              "outlinewidth": 0,
              "ticks": ""
             }
            },
            "type": "scattergl"
           }
          ],
          "scattermapbox": [
           {
            "marker": {
             "colorbar": {
              "outlinewidth": 0,
              "ticks": ""
             }
            },
            "type": "scattermapbox"
           }
          ],
          "scatterpolar": [
           {
            "marker": {
             "colorbar": {
              "outlinewidth": 0,
              "ticks": ""
             }
            },
            "type": "scatterpolar"
           }
          ],
          "scatterpolargl": [
           {
            "marker": {
             "colorbar": {
              "outlinewidth": 0,
              "ticks": ""
             }
            },
            "type": "scatterpolargl"
           }
          ],
          "scatterternary": [
           {
            "marker": {
             "colorbar": {
              "outlinewidth": 0,
              "ticks": ""
             }
            },
            "type": "scatterternary"
           }
          ],
          "surface": [
           {
            "colorbar": {
             "outlinewidth": 0,
             "ticks": ""
            },
            "colorscale": [
             [
              0,
              "#0d0887"
             ],
             [
              0.1111111111111111,
              "#46039f"
             ],
             [
              0.2222222222222222,
              "#7201a8"
             ],
             [
              0.3333333333333333,
              "#9c179e"
             ],
             [
              0.4444444444444444,
              "#bd3786"
             ],
             [
              0.5555555555555556,
              "#d8576b"
             ],
             [
              0.6666666666666666,
              "#ed7953"
             ],
             [
              0.7777777777777778,
              "#fb9f3a"
             ],
             [
              0.8888888888888888,
              "#fdca26"
             ],
             [
              1,
              "#f0f921"
             ]
            ],
            "type": "surface"
           }
          ],
          "table": [
           {
            "cells": {
             "fill": {
              "color": "#EBF0F8"
             },
             "line": {
              "color": "white"
             }
            },
            "header": {
             "fill": {
              "color": "#C8D4E3"
             },
             "line": {
              "color": "white"
             }
            },
            "type": "table"
           }
          ]
         },
         "layout": {
          "annotationdefaults": {
           "arrowcolor": "#2a3f5f",
           "arrowhead": 0,
           "arrowwidth": 1
          },
          "coloraxis": {
           "colorbar": {
            "outlinewidth": 0,
            "ticks": ""
           }
          },
          "colorscale": {
           "diverging": [
            [
             0,
             "#8e0152"
            ],
            [
             0.1,
             "#c51b7d"
            ],
            [
             0.2,
             "#de77ae"
            ],
            [
             0.3,
             "#f1b6da"
            ],
            [
             0.4,
             "#fde0ef"
            ],
            [
             0.5,
             "#f7f7f7"
            ],
            [
             0.6,
             "#e6f5d0"
            ],
            [
             0.7,
             "#b8e186"
            ],
            [
             0.8,
             "#7fbc41"
            ],
            [
             0.9,
             "#4d9221"
            ],
            [
             1,
             "#276419"
            ]
           ],
           "sequential": [
            [
             0,
             "#0d0887"
            ],
            [
             0.1111111111111111,
             "#46039f"
            ],
            [
             0.2222222222222222,
             "#7201a8"
            ],
            [
             0.3333333333333333,
             "#9c179e"
            ],
            [
             0.4444444444444444,
             "#bd3786"
            ],
            [
             0.5555555555555556,
             "#d8576b"
            ],
            [
             0.6666666666666666,
             "#ed7953"
            ],
            [
             0.7777777777777778,
             "#fb9f3a"
            ],
            [
             0.8888888888888888,
             "#fdca26"
            ],
            [
             1,
             "#f0f921"
            ]
           ],
           "sequentialminus": [
            [
             0,
             "#0d0887"
            ],
            [
             0.1111111111111111,
             "#46039f"
            ],
            [
             0.2222222222222222,
             "#7201a8"
            ],
            [
             0.3333333333333333,
             "#9c179e"
            ],
            [
             0.4444444444444444,
             "#bd3786"
            ],
            [
             0.5555555555555556,
             "#d8576b"
            ],
            [
             0.6666666666666666,
             "#ed7953"
            ],
            [
             0.7777777777777778,
             "#fb9f3a"
            ],
            [
             0.8888888888888888,
             "#fdca26"
            ],
            [
             1,
             "#f0f921"
            ]
           ]
          },
          "colorway": [
           "#636efa",
           "#EF553B",
           "#00cc96",
           "#ab63fa",
           "#FFA15A",
           "#19d3f3",
           "#FF6692",
           "#B6E880",
           "#FF97FF",
           "#FECB52"
          ],
          "font": {
           "color": "#2a3f5f"
          },
          "geo": {
           "bgcolor": "white",
           "lakecolor": "white",
           "landcolor": "#E5ECF6",
           "showlakes": true,
           "showland": true,
           "subunitcolor": "white"
          },
          "hoverlabel": {
           "align": "left"
          },
          "hovermode": "closest",
          "mapbox": {
           "style": "light"
          },
          "paper_bgcolor": "white",
          "plot_bgcolor": "#E5ECF6",
          "polar": {
           "angularaxis": {
            "gridcolor": "white",
            "linecolor": "white",
            "ticks": ""
           },
           "bgcolor": "#E5ECF6",
           "radialaxis": {
            "gridcolor": "white",
            "linecolor": "white",
            "ticks": ""
           }
          },
          "scene": {
           "xaxis": {
            "backgroundcolor": "#E5ECF6",
            "gridcolor": "white",
            "gridwidth": 2,
            "linecolor": "white",
            "showbackground": true,
            "ticks": "",
            "zerolinecolor": "white"
           },
           "yaxis": {
            "backgroundcolor": "#E5ECF6",
            "gridcolor": "white",
            "gridwidth": 2,
            "linecolor": "white",
            "showbackground": true,
            "ticks": "",
            "zerolinecolor": "white"
           },
           "zaxis": {
            "backgroundcolor": "#E5ECF6",
            "gridcolor": "white",
            "gridwidth": 2,
            "linecolor": "white",
            "showbackground": true,
            "ticks": "",
            "zerolinecolor": "white"
           }
          },
          "shapedefaults": {
           "line": {
            "color": "#2a3f5f"
           }
          },
          "ternary": {
           "aaxis": {
            "gridcolor": "white",
            "linecolor": "white",
            "ticks": ""
           },
           "baxis": {
            "gridcolor": "white",
            "linecolor": "white",
            "ticks": ""
           },
           "bgcolor": "#E5ECF6",
           "caxis": {
            "gridcolor": "white",
            "linecolor": "white",
            "ticks": ""
           }
          },
          "title": {
           "x": 0.05
          },
          "xaxis": {
           "automargin": true,
           "gridcolor": "white",
           "linecolor": "white",
           "ticks": "",
           "title": {
            "standoff": 15
           },
           "zerolinecolor": "white",
           "zerolinewidth": 2
          },
          "yaxis": {
           "automargin": true,
           "gridcolor": "white",
           "linecolor": "white",
           "ticks": "",
           "title": {
            "standoff": 15
           },
           "zerolinecolor": "white",
           "zerolinewidth": 2
          }
         }
        }
       }
      },
      "text/html": [
       "<div>                            <div id=\"7a37d525-8ac5-4642-9d46-51fb04cc4142\" class=\"plotly-graph-div\" style=\"height:525px; width:100%;\"></div>            <script type=\"text/javascript\">                require([\"plotly\"], function(Plotly) {                    window.PLOTLYENV=window.PLOTLYENV || {};                                    if (document.getElementById(\"7a37d525-8ac5-4642-9d46-51fb04cc4142\")) {                    Plotly.newPlot(                        \"7a37d525-8ac5-4642-9d46-51fb04cc4142\",                        [{\"delta\": {\"reference\": 384}, \"domain\": {\"x\": [0.1, 1], \"y\": [0.2, 0.9]}, \"gauge\": {\"shape\": \"bullet\"}, \"mode\": \"number+gauge+delta\", \"title\": {\"text\": \"Book Pages\"}, \"type\": \"indicator\", \"value\": 509}],                        {\"template\": {\"data\": {\"bar\": [{\"error_x\": {\"color\": \"#2a3f5f\"}, \"error_y\": {\"color\": \"#2a3f5f\"}, \"marker\": {\"line\": {\"color\": \"#E5ECF6\", \"width\": 0.5}}, \"type\": \"bar\"}], \"barpolar\": [{\"marker\": {\"line\": {\"color\": \"#E5ECF6\", \"width\": 0.5}}, \"type\": \"barpolar\"}], \"carpet\": [{\"aaxis\": {\"endlinecolor\": \"#2a3f5f\", \"gridcolor\": \"white\", \"linecolor\": \"white\", \"minorgridcolor\": \"white\", \"startlinecolor\": \"#2a3f5f\"}, \"baxis\": {\"endlinecolor\": \"#2a3f5f\", \"gridcolor\": \"white\", \"linecolor\": \"white\", \"minorgridcolor\": \"white\", \"startlinecolor\": \"#2a3f5f\"}, \"type\": \"carpet\"}], \"choropleth\": [{\"colorbar\": {\"outlinewidth\": 0, \"ticks\": \"\"}, \"type\": \"choropleth\"}], \"contour\": [{\"colorbar\": {\"outlinewidth\": 0, \"ticks\": \"\"}, \"colorscale\": [[0.0, \"#0d0887\"], [0.1111111111111111, \"#46039f\"], [0.2222222222222222, \"#7201a8\"], [0.3333333333333333, \"#9c179e\"], [0.4444444444444444, \"#bd3786\"], [0.5555555555555556, \"#d8576b\"], [0.6666666666666666, \"#ed7953\"], [0.7777777777777778, \"#fb9f3a\"], [0.8888888888888888, \"#fdca26\"], [1.0, \"#f0f921\"]], \"type\": \"contour\"}], \"contourcarpet\": [{\"colorbar\": {\"outlinewidth\": 0, \"ticks\": \"\"}, \"type\": \"contourcarpet\"}], \"heatmap\": [{\"colorbar\": {\"outlinewidth\": 0, \"ticks\": \"\"}, \"colorscale\": [[0.0, \"#0d0887\"], [0.1111111111111111, \"#46039f\"], [0.2222222222222222, \"#7201a8\"], [0.3333333333333333, \"#9c179e\"], [0.4444444444444444, \"#bd3786\"], [0.5555555555555556, \"#d8576b\"], [0.6666666666666666, \"#ed7953\"], [0.7777777777777778, \"#fb9f3a\"], [0.8888888888888888, \"#fdca26\"], [1.0, \"#f0f921\"]], \"type\": \"heatmap\"}], \"heatmapgl\": [{\"colorbar\": {\"outlinewidth\": 0, \"ticks\": \"\"}, \"colorscale\": [[0.0, \"#0d0887\"], [0.1111111111111111, \"#46039f\"], [0.2222222222222222, \"#7201a8\"], [0.3333333333333333, \"#9c179e\"], [0.4444444444444444, \"#bd3786\"], [0.5555555555555556, \"#d8576b\"], [0.6666666666666666, \"#ed7953\"], [0.7777777777777778, \"#fb9f3a\"], [0.8888888888888888, \"#fdca26\"], [1.0, \"#f0f921\"]], \"type\": \"heatmapgl\"}], \"histogram\": [{\"marker\": {\"colorbar\": {\"outlinewidth\": 0, \"ticks\": \"\"}}, \"type\": \"histogram\"}], \"histogram2d\": [{\"colorbar\": {\"outlinewidth\": 0, \"ticks\": \"\"}, \"colorscale\": [[0.0, \"#0d0887\"], [0.1111111111111111, \"#46039f\"], [0.2222222222222222, \"#7201a8\"], [0.3333333333333333, \"#9c179e\"], [0.4444444444444444, \"#bd3786\"], [0.5555555555555556, \"#d8576b\"], [0.6666666666666666, \"#ed7953\"], [0.7777777777777778, \"#fb9f3a\"], [0.8888888888888888, \"#fdca26\"], [1.0, \"#f0f921\"]], \"type\": \"histogram2d\"}], \"histogram2dcontour\": [{\"colorbar\": {\"outlinewidth\": 0, \"ticks\": \"\"}, \"colorscale\": [[0.0, \"#0d0887\"], [0.1111111111111111, \"#46039f\"], [0.2222222222222222, \"#7201a8\"], [0.3333333333333333, \"#9c179e\"], [0.4444444444444444, \"#bd3786\"], [0.5555555555555556, \"#d8576b\"], [0.6666666666666666, \"#ed7953\"], [0.7777777777777778, \"#fb9f3a\"], [0.8888888888888888, \"#fdca26\"], [1.0, \"#f0f921\"]], \"type\": \"histogram2dcontour\"}], \"mesh3d\": [{\"colorbar\": {\"outlinewidth\": 0, \"ticks\": \"\"}, \"type\": \"mesh3d\"}], \"parcoords\": [{\"line\": {\"colorbar\": {\"outlinewidth\": 0, \"ticks\": \"\"}}, \"type\": \"parcoords\"}], \"pie\": [{\"automargin\": true, \"type\": \"pie\"}], \"scatter\": [{\"marker\": {\"colorbar\": {\"outlinewidth\": 0, \"ticks\": \"\"}}, \"type\": \"scatter\"}], \"scatter3d\": [{\"line\": {\"colorbar\": {\"outlinewidth\": 0, \"ticks\": \"\"}}, \"marker\": {\"colorbar\": {\"outlinewidth\": 0, \"ticks\": \"\"}}, \"type\": \"scatter3d\"}], \"scattercarpet\": [{\"marker\": {\"colorbar\": {\"outlinewidth\": 0, \"ticks\": \"\"}}, \"type\": \"scattercarpet\"}], \"scattergeo\": [{\"marker\": {\"colorbar\": {\"outlinewidth\": 0, \"ticks\": \"\"}}, \"type\": \"scattergeo\"}], \"scattergl\": [{\"marker\": {\"colorbar\": {\"outlinewidth\": 0, \"ticks\": \"\"}}, \"type\": \"scattergl\"}], \"scattermapbox\": [{\"marker\": {\"colorbar\": {\"outlinewidth\": 0, \"ticks\": \"\"}}, \"type\": \"scattermapbox\"}], \"scatterpolar\": [{\"marker\": {\"colorbar\": {\"outlinewidth\": 0, \"ticks\": \"\"}}, \"type\": \"scatterpolar\"}], \"scatterpolargl\": [{\"marker\": {\"colorbar\": {\"outlinewidth\": 0, \"ticks\": \"\"}}, \"type\": \"scatterpolargl\"}], \"scatterternary\": [{\"marker\": {\"colorbar\": {\"outlinewidth\": 0, \"ticks\": \"\"}}, \"type\": \"scatterternary\"}], \"surface\": [{\"colorbar\": {\"outlinewidth\": 0, \"ticks\": \"\"}, \"colorscale\": [[0.0, \"#0d0887\"], [0.1111111111111111, \"#46039f\"], [0.2222222222222222, \"#7201a8\"], [0.3333333333333333, \"#9c179e\"], [0.4444444444444444, \"#bd3786\"], [0.5555555555555556, \"#d8576b\"], [0.6666666666666666, \"#ed7953\"], [0.7777777777777778, \"#fb9f3a\"], [0.8888888888888888, \"#fdca26\"], [1.0, \"#f0f921\"]], \"type\": \"surface\"}], \"table\": [{\"cells\": {\"fill\": {\"color\": \"#EBF0F8\"}, \"line\": {\"color\": \"white\"}}, \"header\": {\"fill\": {\"color\": \"#C8D4E3\"}, \"line\": {\"color\": \"white\"}}, \"type\": \"table\"}]}, \"layout\": {\"annotationdefaults\": {\"arrowcolor\": \"#2a3f5f\", \"arrowhead\": 0, \"arrowwidth\": 1}, \"coloraxis\": {\"colorbar\": {\"outlinewidth\": 0, \"ticks\": \"\"}}, \"colorscale\": {\"diverging\": [[0, \"#8e0152\"], [0.1, \"#c51b7d\"], [0.2, \"#de77ae\"], [0.3, \"#f1b6da\"], [0.4, \"#fde0ef\"], [0.5, \"#f7f7f7\"], [0.6, \"#e6f5d0\"], [0.7, \"#b8e186\"], [0.8, \"#7fbc41\"], [0.9, \"#4d9221\"], [1, \"#276419\"]], \"sequential\": [[0.0, \"#0d0887\"], [0.1111111111111111, \"#46039f\"], [0.2222222222222222, \"#7201a8\"], [0.3333333333333333, \"#9c179e\"], [0.4444444444444444, \"#bd3786\"], [0.5555555555555556, \"#d8576b\"], [0.6666666666666666, \"#ed7953\"], [0.7777777777777778, \"#fb9f3a\"], [0.8888888888888888, \"#fdca26\"], [1.0, \"#f0f921\"]], \"sequentialminus\": [[0.0, \"#0d0887\"], [0.1111111111111111, \"#46039f\"], [0.2222222222222222, \"#7201a8\"], [0.3333333333333333, \"#9c179e\"], [0.4444444444444444, \"#bd3786\"], [0.5555555555555556, \"#d8576b\"], [0.6666666666666666, \"#ed7953\"], [0.7777777777777778, \"#fb9f3a\"], [0.8888888888888888, \"#fdca26\"], [1.0, \"#f0f921\"]]}, \"colorway\": [\"#636efa\", \"#EF553B\", \"#00cc96\", \"#ab63fa\", \"#FFA15A\", \"#19d3f3\", \"#FF6692\", \"#B6E880\", \"#FF97FF\", \"#FECB52\"], \"font\": {\"color\": \"#2a3f5f\"}, \"geo\": {\"bgcolor\": \"white\", \"lakecolor\": \"white\", \"landcolor\": \"#E5ECF6\", \"showlakes\": true, \"showland\": true, \"subunitcolor\": \"white\"}, \"hoverlabel\": {\"align\": \"left\"}, \"hovermode\": \"closest\", \"mapbox\": {\"style\": \"light\"}, \"paper_bgcolor\": \"white\", \"plot_bgcolor\": \"#E5ECF6\", \"polar\": {\"angularaxis\": {\"gridcolor\": \"white\", \"linecolor\": \"white\", \"ticks\": \"\"}, \"bgcolor\": \"#E5ECF6\", \"radialaxis\": {\"gridcolor\": \"white\", \"linecolor\": \"white\", \"ticks\": \"\"}}, \"scene\": {\"xaxis\": {\"backgroundcolor\": \"#E5ECF6\", \"gridcolor\": \"white\", \"gridwidth\": 2, \"linecolor\": \"white\", \"showbackground\": true, \"ticks\": \"\", \"zerolinecolor\": \"white\"}, \"yaxis\": {\"backgroundcolor\": \"#E5ECF6\", \"gridcolor\": \"white\", \"gridwidth\": 2, \"linecolor\": \"white\", \"showbackground\": true, \"ticks\": \"\", \"zerolinecolor\": \"white\"}, \"zaxis\": {\"backgroundcolor\": \"#E5ECF6\", \"gridcolor\": \"white\", \"gridwidth\": 2, \"linecolor\": \"white\", \"showbackground\": true, \"ticks\": \"\", \"zerolinecolor\": \"white\"}}, \"shapedefaults\": {\"line\": {\"color\": \"#2a3f5f\"}}, \"ternary\": {\"aaxis\": {\"gridcolor\": \"white\", \"linecolor\": \"white\", \"ticks\": \"\"}, \"baxis\": {\"gridcolor\": \"white\", \"linecolor\": \"white\", \"ticks\": \"\"}, \"bgcolor\": \"#E5ECF6\", \"caxis\": {\"gridcolor\": \"white\", \"linecolor\": \"white\", \"ticks\": \"\"}}, \"title\": {\"x\": 0.05}, \"xaxis\": {\"automargin\": true, \"gridcolor\": \"white\", \"linecolor\": \"white\", \"ticks\": \"\", \"title\": {\"standoff\": 15}, \"zerolinecolor\": \"white\", \"zerolinewidth\": 2}, \"yaxis\": {\"automargin\": true, \"gridcolor\": \"white\", \"linecolor\": \"white\", \"ticks\": \"\", \"title\": {\"standoff\": 15}, \"zerolinecolor\": \"white\", \"zerolinewidth\": 2}}}},                        {\"responsive\": true}                    ).then(function(){\n",
       "                            \n",
       "var gd = document.getElementById('7a37d525-8ac5-4642-9d46-51fb04cc4142');\n",
       "var x = new MutationObserver(function (mutations, observer) {{\n",
       "        var display = window.getComputedStyle(gd).display;\n",
       "        if (!display || display === 'none') {{\n",
       "            console.log([gd, 'removed!']);\n",
       "            Plotly.purge(gd);\n",
       "            observer.disconnect();\n",
       "        }}\n",
       "}});\n",
       "\n",
       "// Listen for the removal of the full notebook cells\n",
       "var notebookContainer = gd.closest('#notebook-container');\n",
       "if (notebookContainer) {{\n",
       "    x.observe(notebookContainer, {childList: true});\n",
       "}}\n",
       "\n",
       "// Listen for the clearing of the current output cell\n",
       "var outputEl = gd.closest('.output');\n",
       "if (outputEl) {{\n",
       "    x.observe(outputEl, {childList: true});\n",
       "}}\n",
       "\n",
       "                        })                };                });            </script>        </div>"
      ]
     },
     "metadata": {},
     "output_type": "display_data"
    }
   ],
   "source": [
    "# Plot book progress\n",
    "\n",
    "import plotly.graph_objects as go\n",
    "\n",
    "fig = go.Figure(go.Indicator(\n",
    "    mode = \"number+gauge+delta\",\n",
    "    gauge = {'shape': \"bullet\"},\n",
    "    delta = {'reference': 384},\n",
    "    value = 509,\n",
    "    domain = {'x': [0.1, 1], 'y': [0.2, 0.9]},\n",
    "    title = {'text': \"Book Pages\"}))\n",
    "\n",
    "fig.show()"
   ]
  },
  {
   "cell_type": "code",
   "execution_count": null,
   "metadata": {},
   "outputs": [],
   "source": []
  }
 ],
 "metadata": {
  "kernelspec": {
   "display_name": "Python 3",
   "language": "python",
   "name": "python3"
  },
  "language_info": {
   "codemirror_mode": {
    "name": "ipython",
    "version": 3
   },
   "file_extension": ".py",
   "mimetype": "text/x-python",
   "name": "python",
   "nbconvert_exporter": "python",
   "pygments_lexer": "ipython3",
   "version": "3.7.5"
  },
  "toc": {
   "base_numbering": 1,
   "nav_menu": {},
   "number_sections": true,
   "sideBar": true,
   "skip_h1_title": true,
   "title_cell": "Table of Contents",
   "title_sidebar": "Contents",
   "toc_cell": false,
   "toc_position": {
    "height": "100px",
    "left": "146px",
    "top": "145px",
    "width": "257px"
   },
   "toc_section_display": true,
   "toc_window_display": true
  },
  "varInspector": {
   "cols": {
    "lenName": 16,
    "lenType": 16,
    "lenVar": 40
   },
   "kernels_config": {
    "python": {
     "delete_cmd_postfix": "",
     "delete_cmd_prefix": "del ",
     "library": "var_list.py",
     "varRefreshCmd": "print(var_dic_list())"
    },
    "r": {
     "delete_cmd_postfix": ") ",
     "delete_cmd_prefix": "rm(",
     "library": "var_list.r",
     "varRefreshCmd": "cat(var_dic_list()) "
    }
   },
   "types_to_exclude": [
    "module",
    "function",
    "builtin_function_or_method",
    "instance",
    "_Feature"
   ],
   "window_display": false
  }
 },
 "nbformat": 4,
 "nbformat_minor": 2
}
