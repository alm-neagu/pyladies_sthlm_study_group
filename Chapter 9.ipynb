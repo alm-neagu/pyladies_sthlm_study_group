{
 "cells": [
  {
   "cell_type": "markdown",
   "metadata": {},
   "source": [
    "# CHAPTER 9\n",
    "# Plotting and Visualization\n",
    "- Making informative visualizations is one of the most important tasks in data analysis. \n",
    "- It may be a part of the exploratory process - for example, to help identify outliers or needed data transformations, or as a way of generating ideas for models.\n",
    "- This chapter will focus on [**matplotlib**](https://matplotlib.org/) and [**seaborn**](http://seaborn.pydata.org/).\n",
    "- The matplotlib gallery and documentation are the best resource for learning advanced features.\n",
    "- To use interactive plotting in the Jupyter notebook you need to run the following statement:\n",
    "        %matplotlib notebook"
   ]
  },
  {
   "cell_type": "markdown",
   "metadata": {},
   "source": [
    "## A Brief matplotlib API Primer"
   ]
  },
  {
   "cell_type": "code",
   "execution_count": null,
   "metadata": {
    "ExecuteTime": {
     "end_time": "2021-02-02T08:33:02.849502Z",
     "start_time": "2021-02-02T08:33:01.816485Z"
    }
   },
   "outputs": [],
   "source": [
    "# Import libraries\n",
    "import matplotlib.pyplot as plt\n",
    "import numpy as np\n",
    "from numpy.random import randn\n",
    "import pandas as pd\n",
    "import seaborn as sns\n",
    "%matplotlib notebook"
   ]
  },
  {
   "cell_type": "code",
   "execution_count": null,
   "metadata": {
    "ExecuteTime": {
     "end_time": "2021-02-02T08:33:16.279910Z",
     "start_time": "2021-02-02T08:33:16.239975Z"
    }
   },
   "outputs": [],
   "source": [
    "# Create dummy data for a line plot\n",
    "data = np.arange(10)\n",
    "\n",
    "plt.plot(data)"
   ]
  },
  {
   "cell_type": "markdown",
   "metadata": {},
   "source": [
    "### Figures and Subplots\n",
    "- Plots in **matplotlib** reside within a **Figure** object. \n",
    "- You can create a new figure with **plt.figure**.\n",
    "- **plt.figure** has a number of options: **figsize** will guarantee the figure has a certain size and aspect ratio if saved to disk.\n",
    "- You can’t make a plot with a blank figure. You have to create one or more subplots using **add_subplot**.\n",
    "- In **Jupyter notebooks** plots reset after each cell is evaluated, so for more complex plots you must put all of the plotting commands in a single notebook cell.\n",
    "- When you issue a plotting command like **plt.plot**, matplotlib draws on the last figure and subplot used (creating one if necessary), thus hiding the figure and subplot creation."
   ]
  },
  {
   "cell_type": "code",
   "execution_count": null,
   "metadata": {
    "ExecuteTime": {
     "end_time": "2021-02-02T08:33:16.343814Z",
     "start_time": "2021-02-02T08:33:16.281466Z"
    }
   },
   "outputs": [],
   "source": [
    "# Create a new empty Figure object\n",
    "fig = plt.figure()\n",
    "\n",
    "# Create subplots for a 2x2 Figure (contains 4 subplots)\n",
    "ax1 = fig.add_subplot(2, 2, 1) # first subplot\n",
    "ax2 = fig.add_subplot(2, 2, 2) # second subplot\n",
    "ax3 = fig.add_subplot(2, 2, 3) # thirsd subplot"
   ]
  },
  {
   "cell_type": "code",
   "execution_count": null,
   "metadata": {
    "ExecuteTime": {
     "end_time": "2021-02-02T08:33:16.359403Z",
     "start_time": "2021-02-02T08:33:16.346464Z"
    }
   },
   "outputs": [],
   "source": [
    "# Running the plt.plot command matplotlib draws on the last figure and subplot used\n",
    "# In our case this is subplot 3 from above\n",
    "plt.plot(np.random.randn(50).cumsum(), 'k--')"
   ]
  },
  {
   "cell_type": "markdown",
   "metadata": {},
   "source": [
    "- The **'k--'** is a style option instructing matplotlib to plot a black **dashed** line. \n",
    "- The objects returned by **fig.add_subplot** are **AxesSubplot objects**, on which you can directly plot on the other empty subplots by calling each one’s instance method."
   ]
  },
  {
   "cell_type": "code",
   "execution_count": null,
   "metadata": {
    "ExecuteTime": {
     "end_time": "2021-02-02T08:33:16.390733Z",
     "start_time": "2021-02-02T08:33:16.361177Z"
    }
   },
   "outputs": [],
   "source": [
    "# Plot a histogram in the first AxesSubplot object from above\n",
    "ax1.hist(np.random.randn(100), bins=20, color='k', alpha=0.3)\n",
    "\n",
    "# Plot a scatter plot in the second AxesSubplot object from above\n",
    "ax2.scatter(np.arange(30), np.arange(30) + 3 * np.random.randn(30))"
   ]
  },
  {
   "cell_type": "markdown",
   "metadata": {},
   "source": [
    "- Creating a figure with a grid of subplots is a very common task, so matplotlib includes a convenience method, **plt.subplots**, that creates a new figure and returns a NumPy array containing the created subplot objects.\n",
    "- This is very useful, as the axes array can be easily indexed like a two-dimensional array; for example, axes[0, 1]. \n",
    "- You can also indicate that subplots should have the same x- or y-axis using **sharex** and **sharey**, respectively."
   ]
  },
  {
   "cell_type": "code",
   "execution_count": null,
   "metadata": {
    "ExecuteTime": {
     "end_time": "2021-02-02T08:33:16.532415Z",
     "start_time": "2021-02-02T08:33:16.391771Z"
    }
   },
   "outputs": [],
   "source": [
    "# Create a grid of subplots\n",
    "fig, axes = plt.subplots(2, 3)\n",
    "axes"
   ]
  },
  {
   "cell_type": "markdown",
   "metadata": {},
   "source": [
    "**TABLE**: pyplot.subplots options"
   ]
  },
  {
   "cell_type": "markdown",
   "metadata": {},
   "source": [
    "| Argument                  | Description |\n",
    "| :---                  |    :----    |\n",
    "|nrows| Number of rows of subplots\n",
    "|ncols| Number of columns of subplots\n",
    "|sharex| All subplots should use the same x-axis ticks (adjusting the xlim will affect all subplots)\n",
    "|sharey| All subplots should use the same y-axis ticks (adjusting the ylim will affect all subplots)\n",
    "|subplot_kw| Dict of keywords passed to add_subplot call used to create each subplot\n",
    "|**fig_kw| Additional keywords to subplots are used when creating the figure, such as plt.subplots(2, 2, figsize=(8, 6))"
   ]
  },
  {
   "cell_type": "markdown",
   "metadata": {},
   "source": [
    "### Adjusting the spacing around subplots\n",
    "- By default **matplotlib** leaves a certain amount of **padding** around the outside of the subplots and spacing between subplots. \n",
    "- This spacing is all specified relative to the **height and width** of the plot, so that if you resize the plot either programmatically or manually using the GUI window, the plot will dynamically adjust itself. \n",
    "- You can change the spacing using the **subplots_adjust** method on Figure objects, also available as a top-level function:\n",
    "        subplots_adjust(left=None, bottom=None, right=None, top=None, wspace=None, hspace=None)\n",
    "- **wspace and hspace** controls the percent of the figure width and figure height, respectively, to use as spacing between subplots."
   ]
  },
  {
   "cell_type": "code",
   "execution_count": null,
   "metadata": {
    "ExecuteTime": {
     "end_time": "2021-02-02T08:33:16.750700Z",
     "start_time": "2021-02-02T08:33:16.535379Z"
    }
   },
   "outputs": [],
   "source": [
    "# Create a grid of 4 subplots\n",
    "fig, axes = plt.subplots(2, 2, sharex=True, sharey=True)\n",
    "for i in range(2):\n",
    "    for j in range(2):\n",
    "        axes[i, j].hist(np.random.randn(500), bins=50, color='k', alpha=0.5)\n",
    "\n",
    "# Adjust the spacing all the way to zero\n",
    "plt.subplots_adjust(wspace=0, hspace=0)"
   ]
  },
  {
   "cell_type": "markdown",
   "metadata": {},
   "source": [
    "### Colors, Markers, and Line Styles\n",
    "- Matplotlib’s main **plot** function accepts arrays of x and y coordinates and optionally a string abbreviation indicating color and line style.\n",
    "- There are a number of **color abbreviations** provided for commonly used colors, but you can use any color on the spectrum by specifying its hex code.\n",
    "        ax.plot(x, y, 'g--')  # plot x vs y with green dashes\n",
    "        ax.plot(x, y, linestyle='--', color='g')  # specify linestyle & color separately\n",
    "- Line plots can additionally have **markers** to highlight the actual data points. The marker can be part of the **style string**, which must have color followed by marker type and line style"
   ]
  },
  {
   "cell_type": "code",
   "execution_count": null,
   "metadata": {
    "ExecuteTime": {
     "end_time": "2021-02-02T08:33:16.798208Z",
     "start_time": "2021-02-02T08:33:16.751842Z"
    }
   },
   "outputs": [],
   "source": [
    "# Line plot with markers 'k' = black color, 'o' = whole circle markers, '--' = dashed line\n",
    "\n",
    "# Create a new Figure object\n",
    "plt.figure()\n",
    "#plt.plot(randn(30).cumsum(), 'ko--')\n",
    "plt.plot(randn(30).cumsum(), color='k', linestyle='dashed', marker='o')"
   ]
  },
  {
   "cell_type": "code",
   "execution_count": null,
   "metadata": {
    "ExecuteTime": {
     "end_time": "2021-02-02T08:33:16.845645Z",
     "start_time": "2021-02-02T08:33:16.800019Z"
    }
   },
   "outputs": [],
   "source": [
    "# By default points are linearly interpolated by default\n",
    "# This can be altered with the drawstyle option\n",
    "\n",
    "# Create an array\n",
    "data = np.random.randn(30).cumsum()\n",
    "\n",
    "# Create a new Figure object\n",
    "plt.figure()\n",
    "\n",
    "# Line plot with default linearly interpolated points\n",
    "plt.plot(data, 'k--', label='Default')\n",
    "\n",
    "# Line plot with step-wise interpolated points\n",
    "plt.plot(data, 'k-', drawstyle='steps-post', label='steps-post')\n",
    "\n",
    "# Add a legend\n",
    "plt.legend(loc='best')"
   ]
  },
  {
   "cell_type": "markdown",
   "metadata": {},
   "source": [
    "### Ticks, Labels, and Legends\n",
    "#### Setting the title, axis labels, ticks, and ticklabels"
   ]
  },
  {
   "cell_type": "code",
   "execution_count": null,
   "metadata": {
    "ExecuteTime": {
     "end_time": "2021-02-02T08:33:16.892162Z",
     "start_time": "2021-02-02T08:33:16.846730Z"
    }
   },
   "outputs": [],
   "source": [
    "# Create a new Figure ogject and plot of a random walk\n",
    "fig = plt.figure()\n",
    "ax = fig.add_subplot(1, 1, 1)\n",
    "ax.plot(np.random.randn(1000).cumsum())"
   ]
  },
  {
   "cell_type": "code",
   "execution_count": null,
   "metadata": {
    "ExecuteTime": {
     "end_time": "2021-02-02T08:33:16.907772Z",
     "start_time": "2021-02-02T08:33:16.893126Z"
    }
   },
   "outputs": [],
   "source": [
    "# To change the x-axis ticks, it’s easiest to use set_xticks and set_xticklabels\n",
    "ticks = ax.set_xticks([0, 250, 500, 750, 1000])\n",
    "\n",
    "# Set the labels for the ticks\n",
    "# The rotation option sets the x tick labels at a 30-degree rotation\n",
    "labels = ax.set_xticklabels(['one', 'two', 'three', 'four', 'five'],\n",
    "                            rotation=30, fontsize='small')\n",
    "\n",
    "# Set the plot title\n",
    "ax.set_title('My first matplotlib plot')\n",
    "\n",
    "# Set the x-axis label\n",
    "ax.set_xlabel('Stages')"
   ]
  },
  {
   "cell_type": "markdown",
   "metadata": {},
   "source": [
    "### Adding legends\n",
    "- Legends are another critical element for identifying plot elements. \n",
    "- The easiest is to pass the **label** argument when adding each piece of the plot.\n",
    "- The legend method has several other choices for the location **loc** argument.\n",
    "- The **loc** tells matplotlib where to place the plot. \n",
    "- If you choose **'best'** is a good option, as it will choose a location that is most out of the way. \n",
    "- To exclude one or more elements from the legend, pass no label or **label='_nolegend_'**."
   ]
  },
  {
   "cell_type": "code",
   "execution_count": null,
   "metadata": {
    "ExecuteTime": {
     "end_time": "2021-02-02T08:33:16.971209Z",
     "start_time": "2021-02-02T08:33:16.908770Z"
    }
   },
   "outputs": [],
   "source": [
    "# Create a new Figure object\n",
    "fig = plt.figure(); ax = fig.add_subplot(1, 1, 1)\n",
    "\n",
    "# Line plot continous line, black with label 'one'\n",
    "ax.plot(randn(1000).cumsum(), 'k', label='one')\n",
    "\n",
    "# Line plot dashed line, red with label 'two'\n",
    "ax.plot(randn(1000).cumsum(), 'r--', label='two')\n",
    "\n",
    "# Line plot dotted, green with label '3'\n",
    "ax.plot(randn(1000).cumsum(), 'g.', label='three')\n",
    "\n",
    "# Create the legend\n",
    "ax.legend(loc='best')"
   ]
  },
  {
   "cell_type": "markdown",
   "metadata": {},
   "source": [
    "### Annotations and Drawing on a Subplot\n",
    "- Plot **annotations** could consist of text, arrows, or other shapes. \n",
    "- You can add **annotations** and text using the **text**, **arrow**, and **annotate** functions. \n",
    "- **text** draws text at given coordinates (x, y) on the plot with optional custom styling:\n",
    "        ax.text(x, y, 'Hello world!', family='monospace', fontsize=10)"
   ]
  },
  {
   "cell_type": "markdown",
   "metadata": {},
   "source": [
    "**EXAMPLE**: - plot the closing S&P 500 index price since 2007 (obtained from Yahoo! Finance) and annotate it with some of the important dates from the 2008–2009 financial crisis."
   ]
  },
  {
   "cell_type": "code",
   "execution_count": null,
   "metadata": {
    "ExecuteTime": {
     "end_time": "2021-02-02T08:33:16.986690Z",
     "start_time": "2021-02-02T08:33:16.973217Z"
    }
   },
   "outputs": [],
   "source": [
    "# Import the datetime module\n",
    "from datetime import datetime"
   ]
  },
  {
   "cell_type": "code",
   "execution_count": null,
   "metadata": {
    "ExecuteTime": {
     "end_time": "2021-02-02T08:33:17.034050Z",
     "start_time": "2021-02-02T08:33:16.987690Z"
    }
   },
   "outputs": [],
   "source": [
    "# Import the data\n",
    "data = pd.read_csv('examples/spx.csv', index_col=0, parse_dates=True)\n",
    "spx = data['SPX']\n",
    "spx"
   ]
  },
  {
   "cell_type": "code",
   "execution_count": null,
   "metadata": {
    "ExecuteTime": {
     "end_time": "2021-02-02T08:33:17.142500Z",
     "start_time": "2021-02-02T08:33:17.037417Z"
    }
   },
   "outputs": [],
   "source": [
    "# Create a new Figure object with a subplot\n",
    "fig = plt.figure(); ax = fig.add_subplot(1, 1, 1)\n",
    "\n",
    "# Default line plot of spx index vs time\n",
    "spx.plot(ax=ax, style='k-')\n",
    "\n",
    "# Create the labels for important financial moments\n",
    "crisis_data = [(datetime(2007, 10, 11), 'Peak of bull market'),\n",
    "               (datetime(2008, 3, 12), 'Bear Stearns Fails'),\n",
    "               (datetime(2008, 9, 15), 'Lehman Bankruptcy')]\n",
    "\n",
    "# Annotate the points created in crisis_data\n",
    "for date, label in crisis_data:\n",
    "    ax.annotate(label, xy=(date, spx.asof(date) + 75),\n",
    "                xytext=(date, spx.asof(date) + 225),\n",
    "                arrowprops=dict(facecolor='black', headwidth=4, width=2,headlength=4),\n",
    "                horizontalalignment='left', verticalalignment='top')\n",
    "    \n",
    "# Zoom in on 2007-2010\n",
    "ax.set_xlim(['1/1/2007', '1/1/2011'])\n",
    "ax.set_ylim([600, 1800])\n",
    "\n",
    "# Set the title\n",
    "ax.set_title('Important dates in the 2008-2009 financial crisis')"
   ]
  },
  {
   "cell_type": "markdown",
   "metadata": {
    "ExecuteTime": {
     "end_time": "2021-01-28T08:16:16.575043Z",
     "start_time": "2021-01-28T08:16:16.527280Z"
    }
   },
   "source": [
    "- **matplotlib** has objects that represent many common shapes, referred to as **patches**. \n",
    "- Some of these, like **Rectangle** and **Circle**, are found in **matplotlib.pyplot**, but the full set is located in **matplotlib.patches**.\n",
    "- To add a shape to a plot, you create the **patch object shp** and add it to a subplot by calling **ax.add_patch(shp)**."
   ]
  },
  {
   "cell_type": "code",
   "execution_count": null,
   "metadata": {
    "ExecuteTime": {
     "end_time": "2021-02-02T08:33:17.190068Z",
     "start_time": "2021-02-02T08:33:17.144442Z"
    }
   },
   "outputs": [],
   "source": [
    "# Create a new Figure object & add a subplot\n",
    "fig = plt.figure(); ax = fig.add_subplot(1, 1, 1)\n",
    "\n",
    "# Create 3 patch objects with different shapes & colors\n",
    "rect = plt.Rectangle((0.2, 0.75), 0.4, 0.15, color='k', alpha=0.3)\n",
    "circ = plt.Circle((0.7, 0.2), 0.15, color='b', alpha=0.3)\n",
    "pgon = plt.Polygon([[0.15, 0.15], [0.35, 0.4], [0.2, 0.6]], color='g', alpha=0.5)\n",
    "\n",
    "# Add the shapes to the plot\n",
    "ax.add_patch(rect)\n",
    "ax.add_patch(circ)\n",
    "ax.add_patch(pgon)"
   ]
  },
  {
   "cell_type": "markdown",
   "metadata": {},
   "source": [
    "### Saving Plots to File\n",
    "- You can save the active figure to file using **plt.savefig**.\n",
    "- The file type is inferred from the file extension.\n",
    "- Common parameters are **dpi** - which controls the dots-per-inch resolution, and **bbox_inches** - which can trim the whitespace around the actual figure."
   ]
  },
  {
   "cell_type": "code",
   "execution_count": null,
   "metadata": {
    "ExecuteTime": {
     "end_time": "2021-02-02T08:33:17.489280Z",
     "start_time": "2021-02-02T08:33:17.192195Z"
    }
   },
   "outputs": [],
   "source": [
    "# File path\n",
    "pwd = %pwd\n",
    "filepath = pwd + '/examples/output/test.png'\n",
    "\n",
    "# Save the active figure as PNG with minimal whitespace around the plot \n",
    "# and at 400 DPI\n",
    "plt.savefig(filepath, dpi=400, bbox_inches='tight')"
   ]
  },
  {
   "cell_type": "markdown",
   "metadata": {},
   "source": [
    "**TABLE**: Figure.savefig options"
   ]
  },
  {
   "cell_type": "markdown",
   "metadata": {},
   "source": [
    "| Argument                  | Description |\n",
    "| :---                  |    :----    |\n",
    "|fname| String containing a filepath or a Python file-like object. The figure format is inferred from the file extension (e.g., .pdf for PDF or .png for PNG)\n",
    "|dpi| The figure resolution in dots per inch; defaults to 100 out of the box but can be configured\n",
    "|facecolor, edgecolor| The color of the figure background outside of the subplots; 'w' (white), by default\n",
    "|format| The explicit file format to use ('png', 'pdf', 'svg', 'ps', 'eps', ...)\n",
    "|bbox_inches| The portion of the figure to save; if 'tight' is passed, will attempt to trim the empty space around the figure"
   ]
  },
  {
   "cell_type": "markdown",
   "metadata": {},
   "source": [
    "### matplotlib Configuration\n",
    "- **matplotlib** comes configured with color schemes and defaults that are geared primarily toward preparing figures for publication. \n",
    "- Fortunately, nearly all of the default behavior can be customized via an extensive set of **global parameters** governing *figure size, subplot spacing, colors, font sizes, grid styles*, and so on. \n",
    "- One way to modify the configuration programmatically from Python is to use the **rc method**; for example, to set the global default figure size to be 10 × 10, you could enter:\n",
    "        plt.rc('figure', figsize=(10, 10))\n",
    "- The first argument to **rc** is the component you wish to customize, such as *'figure', 'axes', 'xtick', 'ytick', 'grid', 'legend'*, or many others. \n",
    "- After that can follow a sequence of keyword arguments indicating the new parameters. An easy way to write down the options in your program is as a dict:\n",
    "        font_options = {'family' : 'monospace',\n",
    "                        'weight' : 'bold',\n",
    "                        'size' : 'small'}\n",
    "        plt.rc('font', **font_options)\n",
    "- **matplotlib** comes with a configuration file **matplotlibrc** in the **matplotlib/mpl-data** directory. If you customize this file and place it in your home directory titled **.matplotlibrc**, it will be loaded each time you use matplotlib."
   ]
  },
  {
   "cell_type": "markdown",
   "metadata": {},
   "source": [
    "## Plotting with pandas and seaborn\n",
    "- **matplotlib** can be a fairly low-level tool. You assemble a plot from its base components: the data display (i.e., the type of plot: line, bar, box, scatter, contour, etc.), legend, title, tick labels, and other annotations.\n",
    "- **pandas** itself has built-in methods that simplify creating visualizations from DataFrame and Series objects. \n",
    "- Another library is **seaborn** which simplifies creating many common visualization types.\n",
    "- Importing **seaborn** modifies the default matplotlib color schemes and plot styles to improve readability and aesthetics."
   ]
  },
  {
   "cell_type": "markdown",
   "metadata": {},
   "source": [
    "### Line Plots\n",
    "- Series and DataFrame each have a **plot attribute** for making some basic plot types. \n",
    "- By default, **plot()** makes line plots."
   ]
  },
  {
   "cell_type": "code",
   "execution_count": null,
   "metadata": {
    "ExecuteTime": {
     "end_time": "2021-02-02T08:33:17.504516Z",
     "start_time": "2021-02-02T08:33:17.490243Z"
    }
   },
   "outputs": [],
   "source": [
    "# Create a Series object\n",
    "s = pd.Series(np.random.randn(10).cumsum(), index=np.arange(0, 100, 10))\n",
    "s.head()"
   ]
  },
  {
   "cell_type": "code",
   "execution_count": null,
   "metadata": {
    "ExecuteTime": {
     "end_time": "2021-02-02T08:33:17.566895Z",
     "start_time": "2021-02-02T08:33:17.507515Z"
    }
   },
   "outputs": [],
   "source": [
    "# Create a new Figure object\n",
    "fig = plt.figure()\n",
    "\n",
    "# Line plot using pandas plot() attribute for series\n",
    "s.plot()"
   ]
  },
  {
   "cell_type": "markdown",
   "metadata": {},
   "source": [
    "- The Series object’s **index** is passed to matplotlib for plotting on the x-axis, though you can disable this by passing **use_index=False**. \n",
    "- The **x-axis ticks and limits** can be adjusted with the **xticks and xlim options**, and y-axis respectively with **yticks and ylim**.\n",
    "- Most of pandas’s plotting methods accept an optional **ax parameter**, which can be a matplotlib subplot object.\n",
    "- DataFrame’s **plot** method plots each of its columns as a different line on the same subplot, creating a legend automatically.\n",
    "- The plot attribute contains a “family” of methods for different plot types. For example, **df.plot()** is equivalent to **df.plot.line()**.\n",
    "- DataFrame has a number of options allowing some flexibility with how the columns are handled; for example, whether to plot them all on the same subplot or to create separate subplots.\n",
    "- Additional keyword arguments to plot are passed through to the respective **matplotlib** plotting function."
   ]
  },
  {
   "cell_type": "code",
   "execution_count": null,
   "metadata": {
    "ExecuteTime": {
     "end_time": "2021-02-02T08:33:17.598989Z",
     "start_time": "2021-02-02T08:33:17.568882Z"
    }
   },
   "outputs": [],
   "source": [
    "# Create a DataFrame object\n",
    "df = pd.DataFrame(np.random.randn(10, 4).cumsum(0),\n",
    "                  columns=['A', 'B', 'C', 'D'],\n",
    "                  index=np.arange(0, 100, 10))\n",
    "df.head()"
   ]
  },
  {
   "cell_type": "code",
   "execution_count": null,
   "metadata": {
    "ExecuteTime": {
     "end_time": "2021-02-02T08:33:17.662238Z",
     "start_time": "2021-02-02T08:33:17.600089Z"
    }
   },
   "outputs": [],
   "source": [
    "# Line plot using pandas plot() attribute for DataFrame\n",
    "df.plot()"
   ]
  },
  {
   "cell_type": "markdown",
   "metadata": {},
   "source": [
    "**TABLE**: Series.plot method arguments"
   ]
  },
  {
   "cell_type": "markdown",
   "metadata": {},
   "source": [
    "| Argument                  | Description |\n",
    "| :---                  |    :----    |\n",
    "|label| Label for plot legend\n",
    "|ax| matplotlib subplot object to plot on; if nothing passed, uses active matplotlib subplot\n",
    "|style| Style string, like 'ko--', to be passed to matplotlib\n",
    "|alpha| The plot fill opacity (from 0 to 1)\n",
    "|kind| Can be 'area', 'bar', 'barh', 'density', 'hist', 'kde', 'line', 'pie'\n",
    "|logy| Use logarithmic scaling on the y-axis\n",
    "|use_index| Use the object index for tick labels\n",
    "|rot| Rotation of tick labels (0 through 360)\n",
    "|xticks| Values to use for x-axis ticks\n",
    "|yticks| Values to use for y-axis ticks\n",
    "|xlim| x-axis limits (e.g., [0, 10])\n",
    "|ylim| y-axis limits\n",
    "|grid| Display axis grid (on by default)"
   ]
  },
  {
   "cell_type": "markdown",
   "metadata": {},
   "source": [
    "**TABLE**: DataFrame-specific plot arguments"
   ]
  },
  {
   "cell_type": "markdown",
   "metadata": {},
   "source": [
    "| Argument                  | Description |\n",
    "| :---                  |    :----    |\n",
    "|subplots| Plot each DataFrame column in a separate subplot\n",
    "|sharex| If subplots=True, share the same x-axis, linking ticks and limits\n",
    "|sharey| If subplots=True, share the same y-axis\n",
    "|figsize| Size of figure to create as tuple\n",
    "|title| Plot title as string\n",
    "|legend| Add a subplot legend (True by default)\n",
    "|sort_columns| Plot columns in alphabetical order; by default uses existing column order"
   ]
  },
  {
   "cell_type": "markdown",
   "metadata": {},
   "source": [
    "### Bar Plots\n",
    "- The **plot.bar()** and **plot.barh()** make vertical and horizontal bar plots, respectively. \n",
    "- In this case, the Series or DataFrame index will be used as the x (bar) or y (barh) ticks.\n",
    "- With a DataFrame, **bar plots** group the values in each row together in a group in bars, side by side, for each value.\n",
    "- A useful recipe for bar plots is to visualize a Series’s value frequency using value_counts: \n",
    "        s.value_counts().plot.bar()"
   ]
  },
  {
   "cell_type": "code",
   "execution_count": null,
   "metadata": {
    "ExecuteTime": {
     "end_time": "2021-02-02T08:33:17.897950Z",
     "start_time": "2021-02-02T08:33:17.664241Z"
    }
   },
   "outputs": [],
   "source": [
    "# Create new Figure object with 2 subplots\n",
    "fig, axes = plt.subplots(2, 1)\n",
    "\n",
    "# Create a Series\n",
    "data = pd.Series(np.random.rand(16), index=list('abcdefghijklmnop'))\n",
    "\n",
    "# Plot a vertical bar chart with black color and transaprency 0.7\n",
    "data.plot.bar(ax=axes[0], color='k', alpha=0.7)\n",
    "\n",
    "# Plot a horizontal bar chart with black color and transaprency 0.7\n",
    "data.plot.barh(ax=axes[1], color='k', alpha=0.7)"
   ]
  },
  {
   "cell_type": "code",
   "execution_count": null,
   "metadata": {
    "ExecuteTime": {
     "end_time": "2021-02-02T08:33:17.913231Z",
     "start_time": "2021-02-02T08:33:17.898959Z"
    }
   },
   "outputs": [],
   "source": [
    "# Create a DataFrame\n",
    "df = pd.DataFrame(np.random.rand(6, 4),\n",
    "                  index=['one', 'two', 'three', 'four', 'five', 'six'],\n",
    "                  columns=pd.Index(['A', 'B', 'C', 'D'], name='Genus'))\n",
    "df"
   ]
  },
  {
   "cell_type": "code",
   "execution_count": null,
   "metadata": {
    "ExecuteTime": {
     "end_time": "2021-02-02T08:33:17.991035Z",
     "start_time": "2021-02-02T08:33:17.913231Z"
    }
   },
   "outputs": [],
   "source": [
    "# Bar plot with default parameters\n",
    "df.plot.bar()"
   ]
  },
  {
   "cell_type": "code",
   "execution_count": null,
   "metadata": {
    "ExecuteTime": {
     "end_time": "2021-02-02T08:33:18.052176Z",
     "start_time": "2021-02-02T08:33:17.992033Z"
    }
   },
   "outputs": [],
   "source": [
    "# Create a horizontal stacked barplot\n",
    "df.plot.barh(stacked=True, alpha=0.5)"
   ]
  },
  {
   "cell_type": "markdown",
   "metadata": {},
   "source": [
    "**EXAMPLE**: Tipping dataset - make a stacked bar plot showing the percentage of data points for each party size on each day."
   ]
  },
  {
   "cell_type": "code",
   "execution_count": null,
   "metadata": {
    "ExecuteTime": {
     "end_time": "2021-02-02T08:33:18.082744Z",
     "start_time": "2021-02-02T08:33:18.054551Z"
    }
   },
   "outputs": [],
   "source": [
    "# Load the data\n",
    "tips = pd.read_csv('examples/tips.csv')\n",
    "tips.head()"
   ]
  },
  {
   "cell_type": "code",
   "execution_count": null,
   "metadata": {
    "ExecuteTime": {
     "end_time": "2021-02-02T08:33:18.130596Z",
     "start_time": "2021-02-02T08:33:18.083744Z"
    }
   },
   "outputs": [],
   "source": [
    "# Cross-tabulation by day and party size\n",
    "party_counts = pd.crosstab(tips['day'], tips['size'])\n",
    "party_counts"
   ]
  },
  {
   "cell_type": "code",
   "execution_count": null,
   "metadata": {
    "ExecuteTime": {
     "end_time": "2021-02-02T08:33:18.146364Z",
     "start_time": "2021-02-02T08:33:18.132597Z"
    }
   },
   "outputs": [],
   "source": [
    "# Not many 1- and 6-person parties so select only parties of 2,3,4,5 persons\n",
    "party_counts = party_counts.loc[:, 2:5]\n",
    "\n",
    "# Normalize to sum to 1\n",
    "party_pcts = party_counts.div(party_counts.sum(1), axis=0)\n",
    "party_pcts"
   ]
  },
  {
   "cell_type": "code",
   "execution_count": null,
   "metadata": {
    "ExecuteTime": {
     "end_time": "2021-02-02T08:33:18.225743Z",
     "start_time": "2021-02-02T08:33:18.148328Z"
    }
   },
   "outputs": [],
   "source": [
    "# Bar plot for fraction of parties by size on each day\n",
    "party_pcts.plot.bar()"
   ]
  },
  {
   "cell_type": "markdown",
   "metadata": {},
   "source": [
    "- With data that requires aggregation or summarization before making a plot, using the **seaborn** package can make things much simpler. \n",
    "- Let’s look now at the tipping percentage by day with **seaborn**."
   ]
  },
  {
   "cell_type": "code",
   "execution_count": null,
   "metadata": {
    "ExecuteTime": {
     "end_time": "2021-02-02T08:33:18.400154Z",
     "start_time": "2021-02-02T08:33:18.226438Z"
    }
   },
   "outputs": [],
   "source": [
    "# Tipping percentage by day\n",
    "tips['tip_pct'] = tips['tip'] / (tips['total_bill'] - tips['tip'])\n",
    "tips.head()\n",
    "\n",
    "# Create a new Figure object\n",
    "fig = plt.figure()\n",
    "\n",
    "# Use seaborn to plot a barplot\n",
    "sns.barplot(x='tip_pct', y='day', data=tips, orient='h')"
   ]
  },
  {
   "cell_type": "markdown",
   "metadata": {},
   "source": [
    "- Plotting functions in **seaborn** take a **data argument**, which can be a pandas DataFrame. The other arguments refer to column names. \n",
    "- Because there are multiple observations for each value in the day, the bars are the **average** value of tip_pct. \n",
    "- The black lines drawn on the bars represent the 95% confidence interval (this can be con‐ figured through optional arguments).\n",
    "- **seaborn.barplot** has a **hue** option that enables us to split by an additional categorical value."
   ]
  },
  {
   "cell_type": "code",
   "execution_count": null,
   "metadata": {
    "ExecuteTime": {
     "end_time": "2021-02-02T08:33:18.555386Z",
     "start_time": "2021-02-02T08:33:18.401113Z"
    }
   },
   "outputs": [],
   "source": [
    "# Create a new Figure object\n",
    "fig = plt.figure()\n",
    "\n",
    "# Barplot by day and time\n",
    "sns.barplot(x='tip_pct', y='day', hue='time', data=tips, orient='h')"
   ]
  },
  {
   "cell_type": "markdown",
   "metadata": {},
   "source": [
    "### Histograms and Density Plots\n",
    "- A **histogram** is a kind of bar plot that gives a discretized display of value frequency.\n",
    "- The data points are split into discrete, evenly spaced **bins**, and the number of data points in each bin is plotted.\n",
    "- A related plot type is a **density plot**, which is formed by computing an estimate of a **continuous probability distribution** that might have generated the observed data. \n",
    "- The usual procedure is to approximate this distribution as a mixture of **“kernels”** — that is, simpler distributions like the normal distribution. \n",
    "- Thus, density plots are also known as **kernel density estimate** (KDE) plots.\n",
    "- **seaborn** makes histograms and density plots even easier through its **distplot** method, which can plot both a histogram and a continuous density estimate simultaneously."
   ]
  },
  {
   "cell_type": "code",
   "execution_count": null,
   "metadata": {
    "ExecuteTime": {
     "end_time": "2021-02-02T08:33:18.632638Z",
     "start_time": "2021-02-02T08:33:18.558368Z"
    }
   },
   "outputs": [],
   "source": [
    "# Create a new Figure object\n",
    "fig = plt.figure()\n",
    "\n",
    "# Histogram of tip percentages of the total bill\n",
    "tips['tip_pct'].plot.hist(bins=50)"
   ]
  },
  {
   "cell_type": "code",
   "execution_count": null,
   "metadata": {
    "ExecuteTime": {
     "end_time": "2021-02-02T08:33:18.678851Z",
     "start_time": "2021-02-02T08:33:18.633607Z"
    }
   },
   "outputs": [],
   "source": [
    "# Create a new Figure object\n",
    "fig = plt.figure()\n",
    "\n",
    "# Density plot of tip percentages\n",
    "tips['tip_pct'].plot.density()"
   ]
  },
  {
   "cell_type": "code",
   "execution_count": null,
   "metadata": {
    "ExecuteTime": {
     "end_time": "2021-02-02T08:33:18.835244Z",
     "start_time": "2021-02-02T08:33:18.680453Z"
    }
   },
   "outputs": [],
   "source": [
    "# Create a new Figure object\n",
    "fig = plt.figure()\n",
    "\n",
    "# Normal distribution of random numbers\n",
    "comp1 = np.random.normal(0, 1, size=200)\n",
    "\n",
    "# Normal distribution of random numbers\n",
    "comp2 = np.random.normal(10, 2, size=200)\n",
    "\n",
    "# Combine the 2 normaldistributions of random numbers into a Series\n",
    "values = pd.Series(np.concatenate([comp1, comp2]))\n",
    "\n",
    "# Plot a histogram & density plot\n",
    "sns.distplot(values, bins=100, color='k')"
   ]
  },
  {
   "cell_type": "markdown",
   "metadata": {
    "ExecuteTime": {
     "end_time": "2021-02-02T07:35:47.220747Z",
     "start_time": "2021-02-02T07:35:47.205749Z"
    }
   },
   "source": [
    "### Scatter or Point Plots\n",
    "- **Point plots or scatter plots** can be a useful way of examining the relationship between two one-dimensional data series.\n",
    "- seaborn’s **regplot** method makes a scatter plot and fits a linear regression line.\n",
    "- In exploratory data analysis it’s helpful to be able to look at all the scatter plots among a group of variables; this is known as a **pairs plot** or **scatter plot matrix**. \n",
    "- **seaborn** has a convenient **pairplot** function, which supports placing histograms or density estimates of each variable along the diagonal."
   ]
  },
  {
   "cell_type": "code",
   "execution_count": null,
   "metadata": {
    "ExecuteTime": {
     "end_time": "2021-02-02T08:33:18.865637Z",
     "start_time": "2021-02-02T08:33:18.837298Z"
    }
   },
   "outputs": [],
   "source": [
    "# load the macrodata dataset from the statsmodels project\n",
    "macro = pd.read_csv('examples/macrodata.csv')\n",
    "\n",
    "# Select a few columns\n",
    "data = macro[['cpi', 'm1', 'tbilrate', 'unemp']]\n",
    "\n",
    "# Compute log differences\n",
    "trans_data = np.log(data).diff().dropna()\n",
    "trans_data.head()"
   ]
  },
  {
   "cell_type": "code",
   "execution_count": null,
   "metadata": {
    "ExecuteTime": {
     "end_time": "2021-02-02T08:33:19.019078Z",
     "start_time": "2021-02-02T08:33:18.866630Z"
    }
   },
   "outputs": [],
   "source": [
    "# Create a new Figure object\n",
    "fig = plt.figure()\n",
    "\n",
    "# Scatter plot with regression line\n",
    "sns.regplot(x = 'm1', y = 'unemp', data=trans_data)\n",
    "\n",
    "# Add a title\n",
    "plt.title('Changes in log %s versus log %s' % ('m1', 'unemp'))"
   ]
  },
  {
   "cell_type": "code",
   "execution_count": null,
   "metadata": {
    "ExecuteTime": {
     "end_time": "2021-02-02T08:33:20.330682Z",
     "start_time": "2021-02-02T08:33:19.021112Z"
    }
   },
   "outputs": [],
   "source": [
    "# Create a pairs plot\n",
    "sns.pairplot(trans_data, diag_kind='kde', plot_kws={'alpha': 0.2})"
   ]
  },
  {
   "cell_type": "markdown",
   "metadata": {},
   "source": [
    "### Facet Grids and Categorical Data\n",
    "- One way to visualize data with many categorical variables is to use a **facet grid**. \n",
    "- **seaborn has** a useful built-in function **factorplot** that simplifies making many kinds of **faceted plots**."
   ]
  },
  {
   "cell_type": "code",
   "execution_count": null,
   "metadata": {
    "ExecuteTime": {
     "end_time": "2021-02-02T08:33:20.863729Z",
     "start_time": "2021-02-02T08:33:20.331683Z"
    }
   },
   "outputs": [],
   "source": [
    "# Create a faceted plot\n",
    "sns.catplot(x='day', y='tip_pct', hue='time', col='smoker',\n",
    "               kind='bar', data=tips[tips.tip_pct < 1])"
   ]
  },
  {
   "cell_type": "code",
   "execution_count": null,
   "metadata": {
    "ExecuteTime": {
     "end_time": "2021-02-02T08:33:21.384201Z",
     "start_time": "2021-02-02T08:33:20.865234Z"
    }
   },
   "outputs": [],
   "source": [
    "# tip_pct by day; facet by time/smoker\n",
    "sns.catplot(x='day', y='tip_pct', row='time',\n",
    "               col='smoker', kind='bar', data=tips[tips.tip_pct < 1])"
   ]
  },
  {
   "cell_type": "code",
   "execution_count": null,
   "metadata": {
    "ExecuteTime": {
     "end_time": "2021-02-02T08:33:21.494104Z",
     "start_time": "2021-02-02T08:33:21.385297Z"
    }
   },
   "outputs": [],
   "source": [
    "# Box plot of tip_pct by day\n",
    "sns.catplot(x='tip_pct', y='day', kind='box',\n",
    "               data=tips[tips.tip_pct < 0.5])"
   ]
  },
  {
   "cell_type": "markdown",
   "metadata": {},
   "source": [
    "## Other Python Visualization Tools\n",
    "- Check out this link to get an overview of the Python visualization landscape: https://pyviz.org/overviews/index.html"
   ]
  },
  {
   "cell_type": "code",
   "execution_count": null,
   "metadata": {},
   "outputs": [],
   "source": []
  },
  {
   "cell_type": "code",
   "execution_count": null,
   "metadata": {},
   "outputs": [],
   "source": []
  }
 ],
 "metadata": {
  "kernelspec": {
   "display_name": "Python 3",
   "language": "python",
   "name": "python3"
  },
  "language_info": {
   "codemirror_mode": {
    "name": "ipython",
    "version": 3
   },
   "file_extension": ".py",
   "mimetype": "text/x-python",
   "name": "python",
   "nbconvert_exporter": "python",
   "pygments_lexer": "ipython3",
   "version": "3.8.5"
  },
  "toc": {
   "base_numbering": 1,
   "nav_menu": {},
   "number_sections": true,
   "sideBar": false,
   "skip_h1_title": true,
   "title_cell": "Table of Contents",
   "title_sidebar": "Contents",
   "toc_cell": false,
   "toc_position": {
    "height": "47.3125px",
    "left": "1034px",
    "top": "110px",
    "width": "165px"
   },
   "toc_section_display": true,
   "toc_window_display": true
  },
  "varInspector": {
   "cols": {
    "lenName": 16,
    "lenType": 16,
    "lenVar": 40
   },
   "kernels_config": {
    "python": {
     "delete_cmd_postfix": "",
     "delete_cmd_prefix": "del ",
     "library": "var_list.py",
     "varRefreshCmd": "print(var_dic_list())"
    },
    "r": {
     "delete_cmd_postfix": ") ",
     "delete_cmd_prefix": "rm(",
     "library": "var_list.r",
     "varRefreshCmd": "cat(var_dic_list()) "
    }
   },
   "types_to_exclude": [
    "module",
    "function",
    "builtin_function_or_method",
    "instance",
    "_Feature"
   ],
   "window_display": false
  }
 },
 "nbformat": 4,
 "nbformat_minor": 2
}
